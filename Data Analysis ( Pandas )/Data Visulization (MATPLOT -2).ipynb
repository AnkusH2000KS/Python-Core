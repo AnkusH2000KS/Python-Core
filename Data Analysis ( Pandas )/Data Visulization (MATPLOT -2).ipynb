{
 "cells": [
  {
   "cell_type": "raw",
   "id": "85a508be",
   "metadata": {},
   "source": [
    "Class (26-05-2022) From Madrid Software Institute."
   ]
  },
  {
   "cell_type": "markdown",
   "id": "d4506c79",
   "metadata": {},
   "source": [
    "====================================================="
   ]
  },
  {
   "cell_type": "code",
   "execution_count": 1,
   "id": "e80a8d8a",
   "metadata": {},
   "outputs": [],
   "source": [
    "import pandas as pd\n",
    "import numpy as np \n",
    "import seaborn as sns\n",
    "import matplotlib.pyplot as plt\n",
    "import pandas_datareader as pdr"
   ]
  },
  {
   "cell_type": "code",
   "execution_count": 2,
   "id": "52a5275e",
   "metadata": {},
   "outputs": [
    {
     "data": {
      "text/html": [
       "<div>\n",
       "<style scoped>\n",
       "    .dataframe tbody tr th:only-of-type {\n",
       "        vertical-align: middle;\n",
       "    }\n",
       "\n",
       "    .dataframe tbody tr th {\n",
       "        vertical-align: top;\n",
       "    }\n",
       "\n",
       "    .dataframe thead th {\n",
       "        text-align: right;\n",
       "    }\n",
       "</style>\n",
       "<table border=\"1\" class=\"dataframe\">\n",
       "  <thead>\n",
       "    <tr style=\"text-align: right;\">\n",
       "      <th></th>\n",
       "      <th>High</th>\n",
       "      <th>Low</th>\n",
       "      <th>Open</th>\n",
       "      <th>Close</th>\n",
       "      <th>Volume</th>\n",
       "      <th>Adj Close</th>\n",
       "    </tr>\n",
       "    <tr>\n",
       "      <th>Date</th>\n",
       "      <th></th>\n",
       "      <th></th>\n",
       "      <th></th>\n",
       "      <th></th>\n",
       "      <th></th>\n",
       "      <th></th>\n",
       "    </tr>\n",
       "  </thead>\n",
       "  <tbody>\n",
       "    <tr>\n",
       "      <th>2021-12-31</th>\n",
       "      <td>2927.300049</td>\n",
       "      <td>2893.550049</td>\n",
       "      <td>2910.879883</td>\n",
       "      <td>2893.590088</td>\n",
       "      <td>864900</td>\n",
       "      <td>2893.590088</td>\n",
       "    </tr>\n",
       "    <tr>\n",
       "      <th>2022-01-03</th>\n",
       "      <td>2911.000000</td>\n",
       "      <td>2870.050049</td>\n",
       "      <td>2889.510010</td>\n",
       "      <td>2901.489990</td>\n",
       "      <td>1260700</td>\n",
       "      <td>2901.489990</td>\n",
       "    </tr>\n",
       "    <tr>\n",
       "      <th>2022-01-04</th>\n",
       "      <td>2932.199951</td>\n",
       "      <td>2876.322998</td>\n",
       "      <td>2911.010010</td>\n",
       "      <td>2888.330078</td>\n",
       "      <td>1146400</td>\n",
       "      <td>2888.330078</td>\n",
       "    </tr>\n",
       "    <tr>\n",
       "      <th>2022-01-05</th>\n",
       "      <td>2885.959961</td>\n",
       "      <td>2750.469971</td>\n",
       "      <td>2883.620117</td>\n",
       "      <td>2753.070068</td>\n",
       "      <td>2482100</td>\n",
       "      <td>2753.070068</td>\n",
       "    </tr>\n",
       "    <tr>\n",
       "      <th>2022-01-06</th>\n",
       "      <td>2793.719971</td>\n",
       "      <td>2735.270020</td>\n",
       "      <td>2749.949951</td>\n",
       "      <td>2751.020020</td>\n",
       "      <td>1452500</td>\n",
       "      <td>2751.020020</td>\n",
       "    </tr>\n",
       "    <tr>\n",
       "      <th>...</th>\n",
       "      <td>...</td>\n",
       "      <td>...</td>\n",
       "      <td>...</td>\n",
       "      <td>...</td>\n",
       "      <td>...</td>\n",
       "      <td>...</td>\n",
       "    </tr>\n",
       "    <tr>\n",
       "      <th>2022-04-25</th>\n",
       "      <td>2465.560059</td>\n",
       "      <td>2375.385010</td>\n",
       "      <td>2388.590088</td>\n",
       "      <td>2465.000000</td>\n",
       "      <td>1726100</td>\n",
       "      <td>2465.000000</td>\n",
       "    </tr>\n",
       "    <tr>\n",
       "      <th>2022-04-26</th>\n",
       "      <td>2455.000000</td>\n",
       "      <td>2383.237061</td>\n",
       "      <td>2455.000000</td>\n",
       "      <td>2390.120117</td>\n",
       "      <td>2469700</td>\n",
       "      <td>2390.120117</td>\n",
       "    </tr>\n",
       "    <tr>\n",
       "      <th>2022-04-27</th>\n",
       "      <td>2350.000000</td>\n",
       "      <td>2262.485107</td>\n",
       "      <td>2287.459961</td>\n",
       "      <td>2300.409912</td>\n",
       "      <td>3111900</td>\n",
       "      <td>2300.409912</td>\n",
       "    </tr>\n",
       "    <tr>\n",
       "      <th>2022-04-28</th>\n",
       "      <td>2408.770020</td>\n",
       "      <td>2302.877930</td>\n",
       "      <td>2342.300049</td>\n",
       "      <td>2388.229980</td>\n",
       "      <td>1839500</td>\n",
       "      <td>2388.229980</td>\n",
       "    </tr>\n",
       "    <tr>\n",
       "      <th>2022-04-29</th>\n",
       "      <td>2379.199951</td>\n",
       "      <td>2293.879883</td>\n",
       "      <td>2351.560059</td>\n",
       "      <td>2299.330078</td>\n",
       "      <td>1683500</td>\n",
       "      <td>2299.330078</td>\n",
       "    </tr>\n",
       "  </tbody>\n",
       "</table>\n",
       "<p>83 rows × 6 columns</p>\n",
       "</div>"
      ],
      "text/plain": [
       "                   High          Low         Open        Close   Volume  \\\n",
       "Date                                                                      \n",
       "2021-12-31  2927.300049  2893.550049  2910.879883  2893.590088   864900   \n",
       "2022-01-03  2911.000000  2870.050049  2889.510010  2901.489990  1260700   \n",
       "2022-01-04  2932.199951  2876.322998  2911.010010  2888.330078  1146400   \n",
       "2022-01-05  2885.959961  2750.469971  2883.620117  2753.070068  2482100   \n",
       "2022-01-06  2793.719971  2735.270020  2749.949951  2751.020020  1452500   \n",
       "...                 ...          ...          ...          ...      ...   \n",
       "2022-04-25  2465.560059  2375.385010  2388.590088  2465.000000  1726100   \n",
       "2022-04-26  2455.000000  2383.237061  2455.000000  2390.120117  2469700   \n",
       "2022-04-27  2350.000000  2262.485107  2287.459961  2300.409912  3111900   \n",
       "2022-04-28  2408.770020  2302.877930  2342.300049  2388.229980  1839500   \n",
       "2022-04-29  2379.199951  2293.879883  2351.560059  2299.330078  1683500   \n",
       "\n",
       "              Adj Close  \n",
       "Date                     \n",
       "2021-12-31  2893.590088  \n",
       "2022-01-03  2901.489990  \n",
       "2022-01-04  2888.330078  \n",
       "2022-01-05  2753.070068  \n",
       "2022-01-06  2751.020020  \n",
       "...                 ...  \n",
       "2022-04-25  2465.000000  \n",
       "2022-04-26  2390.120117  \n",
       "2022-04-27  2300.409912  \n",
       "2022-04-28  2388.229980  \n",
       "2022-04-29  2299.330078  \n",
       "\n",
       "[83 rows x 6 columns]"
      ]
     },
     "execution_count": 2,
     "metadata": {},
     "output_type": "execute_result"
    }
   ],
   "source": [
    "df = pdr.get_data_yahoo(\"GOOG\",start = '2022-01-01',end = '2022-05-01')\n",
    "df"
   ]
  },
  {
   "cell_type": "code",
   "execution_count": 3,
   "id": "b1b7611a",
   "metadata": {},
   "outputs": [
    {
     "data": {
      "image/png": "[encoded data removed]",
      "text/plain": [
       "<Figure size 432x288 with 1 Axes>"
      ]
     },
     "metadata": {
      "needs_background": "light"
     },
     "output_type": "display_data"
    }
   ],
   "source": [
    "plt.plot(df[\"High\"])\n",
    "plt.xticks(rotation = 90);"
   ]
  },
  {
   "cell_type": "code",
   "execution_count": 4,
   "id": "19113c3c",
   "metadata": {},
   "outputs": [
    {
     "data": {
      "text/html": [
       "<div>\n",
       "<style scoped>\n",
       "    .dataframe tbody tr th:only-of-type {\n",
       "        vertical-align: middle;\n",
       "    }\n",
       "\n",
       "    .dataframe tbody tr th {\n",
       "        vertical-align: top;\n",
       "    }\n",
       "\n",
       "    .dataframe thead th {\n",
       "        text-align: right;\n",
       "    }\n",
       "</style>\n",
       "<table border=\"1\" class=\"dataframe\">\n",
       "  <thead>\n",
       "    <tr style=\"text-align: right;\">\n",
       "      <th></th>\n",
       "      <th>High</th>\n",
       "      <th>Low</th>\n",
       "      <th>Open</th>\n",
       "      <th>Close</th>\n",
       "      <th>Volume</th>\n",
       "      <th>Adj Close</th>\n",
       "    </tr>\n",
       "    <tr>\n",
       "      <th>Date</th>\n",
       "      <th></th>\n",
       "      <th></th>\n",
       "      <th></th>\n",
       "      <th></th>\n",
       "      <th></th>\n",
       "      <th></th>\n",
       "    </tr>\n",
       "  </thead>\n",
       "  <tbody>\n",
       "    <tr>\n",
       "      <th>2021-12-31</th>\n",
       "      <td>1082.000000</td>\n",
       "      <td>1054.589966</td>\n",
       "      <td>1073.439941</td>\n",
       "      <td>1056.780029</td>\n",
       "      <td>13577900</td>\n",
       "      <td>1056.780029</td>\n",
       "    </tr>\n",
       "    <tr>\n",
       "      <th>2022-01-03</th>\n",
       "      <td>1201.069946</td>\n",
       "      <td>1136.040039</td>\n",
       "      <td>1147.750000</td>\n",
       "      <td>1199.780029</td>\n",
       "      <td>34643800</td>\n",
       "      <td>1199.780029</td>\n",
       "    </tr>\n",
       "    <tr>\n",
       "      <th>2022-01-04</th>\n",
       "      <td>1208.000000</td>\n",
       "      <td>1123.050049</td>\n",
       "      <td>1189.550049</td>\n",
       "      <td>1149.589966</td>\n",
       "      <td>33416100</td>\n",
       "      <td>1149.589966</td>\n",
       "    </tr>\n",
       "    <tr>\n",
       "      <th>2022-01-05</th>\n",
       "      <td>1170.339966</td>\n",
       "      <td>1081.010010</td>\n",
       "      <td>1146.650024</td>\n",
       "      <td>1088.119995</td>\n",
       "      <td>26706600</td>\n",
       "      <td>1088.119995</td>\n",
       "    </tr>\n",
       "    <tr>\n",
       "      <th>2022-01-06</th>\n",
       "      <td>1088.000000</td>\n",
       "      <td>1020.500000</td>\n",
       "      <td>1077.000000</td>\n",
       "      <td>1064.699951</td>\n",
       "      <td>30112200</td>\n",
       "      <td>1064.699951</td>\n",
       "    </tr>\n",
       "    <tr>\n",
       "      <th>...</th>\n",
       "      <td>...</td>\n",
       "      <td>...</td>\n",
       "      <td>...</td>\n",
       "      <td>...</td>\n",
       "      <td>...</td>\n",
       "      <td>...</td>\n",
       "    </tr>\n",
       "    <tr>\n",
       "      <th>2022-04-25</th>\n",
       "      <td>1008.619995</td>\n",
       "      <td>975.299988</td>\n",
       "      <td>978.969971</td>\n",
       "      <td>998.020020</td>\n",
       "      <td>22780400</td>\n",
       "      <td>998.020020</td>\n",
       "    </tr>\n",
       "    <tr>\n",
       "      <th>2022-04-26</th>\n",
       "      <td>1000.000000</td>\n",
       "      <td>875.000000</td>\n",
       "      <td>995.429993</td>\n",
       "      <td>876.419983</td>\n",
       "      <td>45377900</td>\n",
       "      <td>876.419983</td>\n",
       "    </tr>\n",
       "    <tr>\n",
       "      <th>2022-04-27</th>\n",
       "      <td>918.000000</td>\n",
       "      <td>877.359985</td>\n",
       "      <td>898.580017</td>\n",
       "      <td>881.510010</td>\n",
       "      <td>25652100</td>\n",
       "      <td>881.510010</td>\n",
       "    </tr>\n",
       "    <tr>\n",
       "      <th>2022-04-28</th>\n",
       "      <td>900.000000</td>\n",
       "      <td>821.700012</td>\n",
       "      <td>899.979980</td>\n",
       "      <td>877.510010</td>\n",
       "      <td>41649500</td>\n",
       "      <td>877.510010</td>\n",
       "    </tr>\n",
       "    <tr>\n",
       "      <th>2022-04-29</th>\n",
       "      <td>934.400024</td>\n",
       "      <td>870.000000</td>\n",
       "      <td>902.250000</td>\n",
       "      <td>870.760010</td>\n",
       "      <td>29313400</td>\n",
       "      <td>870.760010</td>\n",
       "    </tr>\n",
       "  </tbody>\n",
       "</table>\n",
       "<p>83 rows × 6 columns</p>\n",
       "</div>"
      ],
      "text/plain": [
       "                   High          Low         Open        Close    Volume  \\\n",
       "Date                                                                       \n",
       "2021-12-31  1082.000000  1054.589966  1073.439941  1056.780029  13577900   \n",
       "2022-01-03  1201.069946  1136.040039  1147.750000  1199.780029  34643800   \n",
       "2022-01-04  1208.000000  1123.050049  1189.550049  1149.589966  33416100   \n",
       "2022-01-05  1170.339966  1081.010010  1146.650024  1088.119995  26706600   \n",
       "2022-01-06  1088.000000  1020.500000  1077.000000  1064.699951  30112200   \n",
       "...                 ...          ...          ...          ...       ...   \n",
       "2022-04-25  1008.619995   975.299988   978.969971   998.020020  22780400   \n",
       "2022-04-26  1000.000000   875.000000   995.429993   876.419983  45377900   \n",
       "2022-04-27   918.000000   877.359985   898.580017   881.510010  25652100   \n",
       "2022-04-28   900.000000   821.700012   899.979980   877.510010  41649500   \n",
       "2022-04-29   934.400024   870.000000   902.250000   870.760010  29313400   \n",
       "\n",
       "              Adj Close  \n",
       "Date                     \n",
       "2021-12-31  1056.780029  \n",
       "2022-01-03  1199.780029  \n",
       "2022-01-04  1149.589966  \n",
       "2022-01-05  1088.119995  \n",
       "2022-01-06  1064.699951  \n",
       "...                 ...  \n",
       "2022-04-25   998.020020  \n",
       "2022-04-26   876.419983  \n",
       "2022-04-27   881.510010  \n",
       "2022-04-28   877.510010  \n",
       "2022-04-29   870.760010  \n",
       "\n",
       "[83 rows x 6 columns]"
      ]
     },
     "execution_count": 4,
     "metadata": {},
     "output_type": "execute_result"
    }
   ],
   "source": [
    "df1 = pdr.get_data_yahoo(\"TSLA\",start = '2022-01-01',end = '2022-05-01')\n",
    "df1"
   ]
  },
  {
   "cell_type": "code",
   "execution_count": 5,
   "id": "85f01b5f",
   "metadata": {},
   "outputs": [
    {
     "data": {
      "image/png": "[encoded data removed]",
      "text/plain": [
       "<Figure size 432x288 with 1 Axes>"
      ]
     },
     "metadata": {
      "needs_background": "light"
     },
     "output_type": "display_data"
    }
   ],
   "source": [
    "plt.plot(df1[\"High\"])\n",
    "plt.xticks(rotation = 90);"
   ]
  },
  {
   "cell_type": "code",
   "execution_count": null,
   "id": "b5ca1f2a",
   "metadata": {},
   "outputs": [],
   "source": []
  },
  {
   "cell_type": "code",
   "execution_count": 6,
   "id": "1cb72651",
   "metadata": {},
   "outputs": [
    {
     "data": {
      "text/html": [
       "<div>\n",
       "<style scoped>\n",
       "    .dataframe tbody tr th:only-of-type {\n",
       "        vertical-align: middle;\n",
       "    }\n",
       "\n",
       "    .dataframe tbody tr th {\n",
       "        vertical-align: top;\n",
       "    }\n",
       "\n",
       "    .dataframe thead th {\n",
       "        text-align: right;\n",
       "    }\n",
       "</style>\n",
       "<table border=\"1\" class=\"dataframe\">\n",
       "  <thead>\n",
       "    <tr style=\"text-align: right;\">\n",
       "      <th></th>\n",
       "      <th>year</th>\n",
       "      <th>month</th>\n",
       "      <th>passengers</th>\n",
       "    </tr>\n",
       "  </thead>\n",
       "  <tbody>\n",
       "    <tr>\n",
       "      <th>0</th>\n",
       "      <td>1949</td>\n",
       "      <td>Jan</td>\n",
       "      <td>112</td>\n",
       "    </tr>\n",
       "    <tr>\n",
       "      <th>1</th>\n",
       "      <td>1949</td>\n",
       "      <td>Feb</td>\n",
       "      <td>118</td>\n",
       "    </tr>\n",
       "    <tr>\n",
       "      <th>2</th>\n",
       "      <td>1949</td>\n",
       "      <td>Mar</td>\n",
       "      <td>132</td>\n",
       "    </tr>\n",
       "    <tr>\n",
       "      <th>3</th>\n",
       "      <td>1949</td>\n",
       "      <td>Apr</td>\n",
       "      <td>129</td>\n",
       "    </tr>\n",
       "    <tr>\n",
       "      <th>4</th>\n",
       "      <td>1949</td>\n",
       "      <td>May</td>\n",
       "      <td>121</td>\n",
       "    </tr>\n",
       "    <tr>\n",
       "      <th>...</th>\n",
       "      <td>...</td>\n",
       "      <td>...</td>\n",
       "      <td>...</td>\n",
       "    </tr>\n",
       "    <tr>\n",
       "      <th>139</th>\n",
       "      <td>1960</td>\n",
       "      <td>Aug</td>\n",
       "      <td>606</td>\n",
       "    </tr>\n",
       "    <tr>\n",
       "      <th>140</th>\n",
       "      <td>1960</td>\n",
       "      <td>Sep</td>\n",
       "      <td>508</td>\n",
       "    </tr>\n",
       "    <tr>\n",
       "      <th>141</th>\n",
       "      <td>1960</td>\n",
       "      <td>Oct</td>\n",
       "      <td>461</td>\n",
       "    </tr>\n",
       "    <tr>\n",
       "      <th>142</th>\n",
       "      <td>1960</td>\n",
       "      <td>Nov</td>\n",
       "      <td>390</td>\n",
       "    </tr>\n",
       "    <tr>\n",
       "      <th>143</th>\n",
       "      <td>1960</td>\n",
       "      <td>Dec</td>\n",
       "      <td>432</td>\n",
       "    </tr>\n",
       "  </tbody>\n",
       "</table>\n",
       "<p>144 rows × 3 columns</p>\n",
       "</div>"
      ],
      "text/plain": [
       "     year month  passengers\n",
       "0    1949   Jan         112\n",
       "1    1949   Feb         118\n",
       "2    1949   Mar         132\n",
       "3    1949   Apr         129\n",
       "4    1949   May         121\n",
       "..    ...   ...         ...\n",
       "139  1960   Aug         606\n",
       "140  1960   Sep         508\n",
       "141  1960   Oct         461\n",
       "142  1960   Nov         390\n",
       "143  1960   Dec         432\n",
       "\n",
       "[144 rows x 3 columns]"
      ]
     },
     "execution_count": 6,
     "metadata": {},
     "output_type": "execute_result"
    }
   ],
   "source": [
    "df3 = sns.load_dataset(\"flights\")\n",
    "df3"
   ]
  },
  {
   "cell_type": "code",
   "execution_count": 7,
   "id": "c84d61ba",
   "metadata": {},
   "outputs": [
    {
     "data": {
      "image/png": "[encoded data removed]",
      "text/plain": [
       "<Figure size 432x288 with 1 Axes>"
      ]
     },
     "metadata": {
      "needs_background": "light"
     },
     "output_type": "display_data"
    }
   ],
   "source": [
    "sns.lineplot(x = \"month\",y = \"passengers\",data = df3,ci = False);"
   ]
  },
  {
   "cell_type": "code",
   "execution_count": 8,
   "id": "0faaa166",
   "metadata": {},
   "outputs": [
    {
     "data": {
      "image/png": "[encoded data removed]",
      "text/plain": [
       "<Figure size 432x288 with 1 Axes>"
      ]
     },
     "metadata": {
      "needs_background": "light"
     },
     "output_type": "display_data"
    }
   ],
   "source": [
    "sns.lineplot(x = \"month\",y = \"passengers\",data = df3,ci = False);\n",
    "plt.xticks(rotation = 90);"
   ]
  },
  {
   "cell_type": "code",
   "execution_count": 9,
   "id": "cdc2ec54",
   "metadata": {},
   "outputs": [
    {
     "data": {
      "image/png": "[encoded data removed]",
      "text/plain": [
       "<Figure size 432x288 with 1 Axes>"
      ]
     },
     "metadata": {
      "needs_background": "light"
     },
     "output_type": "display_data"
    }
   ],
   "source": [
    "sns.lineplot(x = \"month\",y = \"passengers\",data = df3);\n",
    "plt.xticks(rotation = 90);"
   ]
  },
  {
   "cell_type": "raw",
   "id": "26b714e6",
   "metadata": {},
   "source": [
    "SCATTER PLOT - when we want to study the relation of two contineous plot "
   ]
  },
  {
   "cell_type": "code",
   "execution_count": 10,
   "id": "039cdba5",
   "metadata": {},
   "outputs": [
    {
     "data": {
      "text/html": [
       "<div>\n",
       "<style scoped>\n",
       "    .dataframe tbody tr th:only-of-type {\n",
       "        vertical-align: middle;\n",
       "    }\n",
       "\n",
       "    .dataframe tbody tr th {\n",
       "        vertical-align: top;\n",
       "    }\n",
       "\n",
       "    .dataframe thead th {\n",
       "        text-align: right;\n",
       "    }\n",
       "</style>\n",
       "<table border=\"1\" class=\"dataframe\">\n",
       "  <thead>\n",
       "    <tr style=\"text-align: right;\">\n",
       "      <th></th>\n",
       "      <th>total_bill</th>\n",
       "      <th>tip</th>\n",
       "      <th>sex</th>\n",
       "      <th>smoker</th>\n",
       "      <th>day</th>\n",
       "      <th>time</th>\n",
       "      <th>size</th>\n",
       "    </tr>\n",
       "  </thead>\n",
       "  <tbody>\n",
       "    <tr>\n",
       "      <th>0</th>\n",
       "      <td>16.99</td>\n",
       "      <td>1.01</td>\n",
       "      <td>Female</td>\n",
       "      <td>No</td>\n",
       "      <td>Sun</td>\n",
       "      <td>Dinner</td>\n",
       "      <td>2</td>\n",
       "    </tr>\n",
       "    <tr>\n",
       "      <th>1</th>\n",
       "      <td>10.34</td>\n",
       "      <td>1.66</td>\n",
       "      <td>Male</td>\n",
       "      <td>No</td>\n",
       "      <td>Sun</td>\n",
       "      <td>Dinner</td>\n",
       "      <td>3</td>\n",
       "    </tr>\n",
       "    <tr>\n",
       "      <th>2</th>\n",
       "      <td>21.01</td>\n",
       "      <td>3.50</td>\n",
       "      <td>Male</td>\n",
       "      <td>No</td>\n",
       "      <td>Sun</td>\n",
       "      <td>Dinner</td>\n",
       "      <td>3</td>\n",
       "    </tr>\n",
       "    <tr>\n",
       "      <th>3</th>\n",
       "      <td>23.68</td>\n",
       "      <td>3.31</td>\n",
       "      <td>Male</td>\n",
       "      <td>No</td>\n",
       "      <td>Sun</td>\n",
       "      <td>Dinner</td>\n",
       "      <td>2</td>\n",
       "    </tr>\n",
       "    <tr>\n",
       "      <th>4</th>\n",
       "      <td>24.59</td>\n",
       "      <td>3.61</td>\n",
       "      <td>Female</td>\n",
       "      <td>No</td>\n",
       "      <td>Sun</td>\n",
       "      <td>Dinner</td>\n",
       "      <td>4</td>\n",
       "    </tr>\n",
       "    <tr>\n",
       "      <th>...</th>\n",
       "      <td>...</td>\n",
       "      <td>...</td>\n",
       "      <td>...</td>\n",
       "      <td>...</td>\n",
       "      <td>...</td>\n",
       "      <td>...</td>\n",
       "      <td>...</td>\n",
       "    </tr>\n",
       "    <tr>\n",
       "      <th>239</th>\n",
       "      <td>29.03</td>\n",
       "      <td>5.92</td>\n",
       "      <td>Male</td>\n",
       "      <td>No</td>\n",
       "      <td>Sat</td>\n",
       "      <td>Dinner</td>\n",
       "      <td>3</td>\n",
       "    </tr>\n",
       "    <tr>\n",
       "      <th>240</th>\n",
       "      <td>27.18</td>\n",
       "      <td>2.00</td>\n",
       "      <td>Female</td>\n",
       "      <td>Yes</td>\n",
       "      <td>Sat</td>\n",
       "      <td>Dinner</td>\n",
       "      <td>2</td>\n",
       "    </tr>\n",
       "    <tr>\n",
       "      <th>241</th>\n",
       "      <td>22.67</td>\n",
       "      <td>2.00</td>\n",
       "      <td>Male</td>\n",
       "      <td>Yes</td>\n",
       "      <td>Sat</td>\n",
       "      <td>Dinner</td>\n",
       "      <td>2</td>\n",
       "    </tr>\n",
       "    <tr>\n",
       "      <th>242</th>\n",
       "      <td>17.82</td>\n",
       "      <td>1.75</td>\n",
       "      <td>Male</td>\n",
       "      <td>No</td>\n",
       "      <td>Sat</td>\n",
       "      <td>Dinner</td>\n",
       "      <td>2</td>\n",
       "    </tr>\n",
       "    <tr>\n",
       "      <th>243</th>\n",
       "      <td>18.78</td>\n",
       "      <td>3.00</td>\n",
       "      <td>Female</td>\n",
       "      <td>No</td>\n",
       "      <td>Thur</td>\n",
       "      <td>Dinner</td>\n",
       "      <td>2</td>\n",
       "    </tr>\n",
       "  </tbody>\n",
       "</table>\n",
       "<p>244 rows × 7 columns</p>\n",
       "</div>"
      ],
      "text/plain": [
       "     total_bill   tip     sex smoker   day    time  size\n",
       "0         16.99  1.01  Female     No   Sun  Dinner     2\n",
       "1         10.34  1.66    Male     No   Sun  Dinner     3\n",
       "2         21.01  3.50    Male     No   Sun  Dinner     3\n",
       "3         23.68  3.31    Male     No   Sun  Dinner     2\n",
       "4         24.59  3.61  Female     No   Sun  Dinner     4\n",
       "..          ...   ...     ...    ...   ...     ...   ...\n",
       "239       29.03  5.92    Male     No   Sat  Dinner     3\n",
       "240       27.18  2.00  Female    Yes   Sat  Dinner     2\n",
       "241       22.67  2.00    Male    Yes   Sat  Dinner     2\n",
       "242       17.82  1.75    Male     No   Sat  Dinner     2\n",
       "243       18.78  3.00  Female     No  Thur  Dinner     2\n",
       "\n",
       "[244 rows x 7 columns]"
      ]
     },
     "execution_count": 10,
     "metadata": {},
     "output_type": "execute_result"
    }
   ],
   "source": [
    "tips = sns.load_dataset(\"tips\")\n",
    "tips"
   ]
  },
  {
   "cell_type": "code",
   "execution_count": 11,
   "id": "22d88b58",
   "metadata": {},
   "outputs": [
    {
     "data": {
      "text/plain": [
       "Text(0, 0.5, 'tip')"
      ]
     },
     "execution_count": 11,
     "metadata": {},
     "output_type": "execute_result"
    },
    {
     "data": {
      "image/png": "[encoded data removed]",
      "text/plain": [
       "<Figure size 432x288 with 1 Axes>"
      ]
     },
     "metadata": {
      "needs_background": "light"
     },
     "output_type": "display_data"
    }
   ],
   "source": [
    "plt.plot(tips[\"total_bill\"],tips[\"tip\"],\"ok\")\n",
    "plt.xlabel(\"total_bill\")\n",
    "plt.ylabel(\"tip\")"
   ]
  },
  {
   "cell_type": "code",
   "execution_count": 12,
   "id": "28b2186f",
   "metadata": {},
   "outputs": [
    {
     "data": {
      "text/plain": [
       "Text(0, 0.5, 'tip')"
      ]
     },
     "execution_count": 12,
     "metadata": {},
     "output_type": "execute_result"
    },
    {
     "data": {
      "image/png": "[encoded data removed]",
      "text/plain": [
       "<Figure size 432x288 with 1 Axes>"
      ]
     },
     "metadata": {
      "needs_background": "light"
     },
     "output_type": "display_data"
    }
   ],
   "source": [
    "plt.scatter(tips[\"total_bill\"],tips[\"tip\"])\n",
    "plt.xlabel(\"total_bill\")\n",
    "plt.ylabel(\"tip\")"
   ]
  },
  {
   "cell_type": "code",
   "execution_count": 13,
   "id": "48e5768e",
   "metadata": {},
   "outputs": [
    {
     "data": {
      "image/png": "[encoded data removed]",
      "text/plain": [
       "<Figure size 432x288 with 1 Axes>"
      ]
     },
     "metadata": {
      "needs_background": "light"
     },
     "output_type": "display_data"
    }
   ],
   "source": [
    "plt.hist(tips[\"total_bill\"]);"
   ]
  },
  {
   "cell_type": "code",
   "execution_count": 14,
   "id": "954bb108",
   "metadata": {},
   "outputs": [
    {
     "data": {
      "image/png": "[encoded data removed]",
      "text/plain": [
       "<Figure size 432x288 with 1 Axes>"
      ]
     },
     "metadata": {
      "needs_background": "light"
     },
     "output_type": "display_data"
    }
   ],
   "source": [
    "plt.bar(tips[\"smoker\"],tips[\"tip\"]);"
   ]
  },
  {
   "cell_type": "code",
   "execution_count": 15,
   "id": "54115a5f",
   "metadata": {},
   "outputs": [
    {
     "data": {
      "image/png": "[encoded data removed]",
      "text/plain": [
       "<Figure size 432x288 with 1 Axes>"
      ]
     },
     "metadata": {
      "needs_background": "light"
     },
     "output_type": "display_data"
    }
   ],
   "source": [
    "plt.barh(tips[\"smoker\"],tips[\"tip\"]);"
   ]
  },
  {
   "cell_type": "code",
   "execution_count": 16,
   "id": "c7688e70",
   "metadata": {},
   "outputs": [
    {
     "data": {
      "text/plain": [
       "(Male      157\n",
       " Female     87\n",
       " Name: sex, dtype: int64,\n",
       " No     151\n",
       " Yes     93\n",
       " Name: smoker, dtype: int64)"
      ]
     },
     "execution_count": 16,
     "metadata": {},
     "output_type": "execute_result"
    }
   ],
   "source": [
    "tips[\"sex\"].value_counts(),tips[\"smoker\"].value_counts()"
   ]
  },
  {
   "cell_type": "raw",
   "id": "84ee612d",
   "metadata": {},
   "source": [
    "============================================================="
   ]
  },
  {
   "cell_type": "raw",
   "id": "e0b02bcd",
   "metadata": {},
   "source": [
    "Class (30-05-2022) From Madrid Software Institute."
   ]
  },
  {
   "cell_type": "raw",
   "id": "fa4e475d",
   "metadata": {},
   "source": [
    "=============================================================="
   ]
  },
  {
   "cell_type": "raw",
   "id": "0abd4681",
   "metadata": {},
   "source": [
    "ERROR CHART"
   ]
  },
  {
   "cell_type": "code",
   "execution_count": null,
   "id": "0a653e90",
   "metadata": {},
   "outputs": [],
   "source": []
  }
 ],
 "metadata": {
  "kernelspec": {
   "display_name": "Python 3 (ipykernel)",
   "language": "python",
   "name": "python3"
  },
  "language_info": {
   "codemirror_mode": {
    "name": "ipython",
    "version": 3
   },
   "file_extension": ".py",
   "mimetype": "text/x-python",
   "name": "python",
   "nbconvert_exporter": "python",
   "pygments_lexer": "ipython3",
   "version": "3.10.2"
  }
 },
 "nbformat": 4,
 "nbformat_minor": 5
}
