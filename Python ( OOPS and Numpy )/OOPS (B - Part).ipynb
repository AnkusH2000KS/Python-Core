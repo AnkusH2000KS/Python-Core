{
 "cells": [
  {
   "cell_type": "code",
   "execution_count": 1,
   "id": "88f6eed3",
   "metadata": {},
   "outputs": [
    {
     "name": "stdout",
     "output_type": "stream",
     "text": [
      "<class 'list'>\n"
     ]
    }
   ],
   "source": [
    "l = [1,2,3]\n",
    "print(type(l))"
   ]
  },
  {
   "cell_type": "code",
   "execution_count": 9,
   "id": "fe3331ea",
   "metadata": {},
   "outputs": [
    {
     "data": {
      "text/plain": [
       "'Mercedes'"
      ]
     },
     "execution_count": 9,
     "metadata": {},
     "output_type": "execute_result"
    }
   ],
   "source": [
    "class car:\n",
    "    car_brand = \"Mercedes\"\n",
    "c = car()\n",
    "c.car_brand\n"
   ]
  },
  {
   "cell_type": "code",
   "execution_count": 14,
   "id": "e85027df",
   "metadata": {},
   "outputs": [
    {
     "name": "stdout",
     "output_type": "stream",
     "text": [
      " The Glseries of Blush Red color is having a top speed of 160\n"
     ]
    }
   ],
   "source": [
    "class car:\n",
    "    car_brand = \"Mercedes\"\n",
    "    def __init__(self,name,color,top_speed):\n",
    "        self.name = name\n",
    "        self.color = color\n",
    "        self.top_speed = top_speed\n",
    "    \n",
    "    def Hatchback(self):\n",
    "        print(f\" The {self.name} of {self.color} color is having a top speed of {self.top_speed}\" )\n",
    "c = car(\"Glseries\",\"Blush Red\",\"160\")\n",
    "c.Hatchback()"
   ]
  },
  {
   "cell_type": "code",
   "execution_count": 38,
   "id": "04f1981d",
   "metadata": {},
   "outputs": [
    {
     "name": "stdout",
     "output_type": "stream",
     "text": [
      "The peremeter is : 36\n",
      "The area is : 80\n"
     ]
    }
   ],
   "source": [
    "class shape:\n",
    "    Type = 'rectangle'\n",
    "    def __init__(self,length,width):\n",
    "        self.length = length\n",
    "        self.width = width\n",
    "    def p(self):\n",
    "        print(\"The peremeter is :\",2*(self.length+self.width))\n",
    "    def a(self):\n",
    "        print(\"The area is :\",(self.length*self.width))\n",
    "        \n",
    "    \n",
    "        \n",
    "        \n",
    "A = shape(10,8)\n",
    "A.p()\n",
    "A.a()\n"
   ]
  },
  {
   "cell_type": "code",
   "execution_count": 36,
   "id": "6b8bd439",
   "metadata": {},
   "outputs": [
    {
     "name": "stdout",
     "output_type": "stream",
     "text": [
      "The peremeter is : 36\n",
      "The area is : 80\n"
     ]
    }
   ],
   "source": [
    "class shape:\n",
    "    Type = 'rectangle'\n",
    "    def __init__(self,length,width):\n",
    "        self.length = length\n",
    "        self.width = width\n",
    "    def p(self):\n",
    "        print(\"The peremeter is :\",2*(self.length+self.width))\n",
    "        print(\"The area is :\",(self.length*self.width))\n",
    "        \n",
    "    \n",
    "        \n",
    "        \n",
    "A = shape(10,8)\n",
    "\n",
    "\n"
   ]
  },
  {
   "cell_type": "code",
   "execution_count": 39,
   "id": "100ac2b7",
   "metadata": {},
   "outputs": [
    {
     "name": "stdout",
     "output_type": "stream",
     "text": [
      "Enter length10\n",
      "Enter width2\n",
      "The peremeter is : 24\n",
      "The area is : 20\n"
     ]
    }
   ],
   "source": [
    "class shape:\n",
    "    Type = 'rectangle'\n",
    "    def __init__(self,length,width):\n",
    "        self.length = int(input(\"Enter length\"))\n",
    "        self.width = int(input(\"Enter width\"))\n",
    "    def p(self):\n",
    "        print(\"The peremeter is :\",2*(self.length+self.width))\n",
    "    def a(self):\n",
    "        print(\"The area is :\",(self.length*self.width))\n",
    "        \n",
    "    \n",
    "        \n",
    "        \n",
    "A = shape(10,8)\n",
    "A.p()\n",
    "A.a()\n"
   ]
  },
  {
   "cell_type": "code",
   "execution_count": null,
   "id": "62fe9521",
   "metadata": {},
   "outputs": [],
   "source": []
  },
  {
   "cell_type": "code",
   "execution_count": 7,
   "id": "4b6652e7",
   "metadata": {},
   "outputs": [
    {
     "name": "stdout",
     "output_type": "stream",
     "text": [
      "Enter Wheeler Of Vehicle  :  4\n",
      "Enter Vehicle Type(PETROL/DIESEL/ELECTRIC)  :  PETROL\n",
      "Enter Number of seats in vehicle  :  5\n",
      "This Vehicle has 4 wheeler and its is a PETROL vehicle\n",
      "This vehicle has 5 seating capacity ,so sitting capacity is 5\n"
     ]
    }
   ],
   "source": [
    "class vehicle:\n",
    "    def __init__(self,Wheeler,Type,Seat):\n",
    "        self.Wheeler = int(input(\"Enter Wheeler Of Vehicle  :  \"))\n",
    "        self.Type = str(input(\"Enter Vehicle Type(PETROL/DIESEL/ELECTRIC)  :  \"))\n",
    "        self.Seat = str(input(\"Enter Number of seats in vehicle  :  \"))\n",
    "    def Details(self):\n",
    "        print(f\"This Vehicle has {self.Wheeler} wheeler and its is a {self.Type} vehicle\" )\n",
    "        print(f\"This vehicle has {self.Seat} seating capacity ,so sitting capacity is {self.Seat}\")\n",
    "        \n",
    "    \n",
    "\n",
    "\n",
    "s = vehicle(1,2,3)\n",
    "s.Details()"
   ]
  },
  {
   "cell_type": "code",
   "execution_count": 5,
   "id": "57766606",
   "metadata": {},
   "outputs": [
    {
     "name": "stdout",
     "output_type": "stream",
     "text": [
      "This Vehicle has 2 wheeler and its a PETROL vehicle\n",
      "This vehicle has 2 seating capacity ,so sitting capacity is 2\n"
     ]
    }
   ],
   "source": [
    "class vehicle:\n",
    "    def __init__(self,Wheeler,Type,Seat):\n",
    "        self.Wheeler = Wheeler\n",
    "        self.Type = Type\n",
    "        self.Seat = Seat\n",
    "    def Details(self):\n",
    "        print(f\"This Vehicle has {self.Wheeler} wheeler and its a {self.Type} vehicle\" )\n",
    "        print(f\"This vehicle has {self.Seat} seating capacity ,so sitting capacity is {self.Seat}\")\n",
    "        \n",
    "    \n",
    "\n",
    "\n",
    "s = vehicle(2,\"PETROL\",2)\n",
    "s.Details()"
   ]
  },
  {
   "cell_type": "code",
   "execution_count": 6,
   "id": "05560e3a",
   "metadata": {},
   "outputs": [
    {
     "name": "stdout",
     "output_type": "stream",
     "text": [
      "Enter Wheeler Of Vehicle  :  4\n",
      "Enter Vehicle Fuel Type (PETROL/DIESEL/ELECTRIC)  :  P\n",
      "Enter Number of seats in vehicle  :  7\n",
      "Enter Vehicle Type (CAR/BUS/BIKE)  :  C\n",
      "This Vehicle has 4 wheeler and its is a P vehicle\n",
      "This vehicle has 7 seating capacity ,so sitting capacity is 7\n",
      "sitting capacity is 7 ,Kindly confirm if its a car or bus?  C\n",
      "Confirmed by a user, its a C\n"
     ]
    }
   ],
   "source": [
    "class vehicle:\n",
    "    def __init__(self,Wheeler,Type,Seat,car):\n",
    "        self.Wheeler = int(input(\"Enter Wheeler Of Vehicle  :  \"))\n",
    "        self.Type = str(input(\"Enter Vehicle Fuel Type (PETROL/DIESEL/ELECTRIC)  :  \"))\n",
    "        self.Seat = str(input(\"Enter Number of seats in vehicle  :  \"))\n",
    "        self.car = str(input(\"Enter Vehicle Type (CAR/BUS/BIKE)  :  \" ))\n",
    "    def Details(self):\n",
    "        print(f\"This Vehicle has {self.Wheeler} wheeler and its is a {self.Type} vehicle\" )\n",
    "        print(f\"This vehicle has {self.Seat} seating capacity ,so sitting capacity is {self.Seat}\")\n",
    "        print(f\"sitting capacity is {self.Seat} ,Kindly confirm if its a car or bus?  {self.car}\")\n",
    "        print(f\"Confirmed by a user, its a {self.car}\")\n",
    "\n",
    "s = vehicle(1,2,3,4)\n",
    "s.Details()"
   ]
  },
  {
   "cell_type": "code",
   "execution_count": 7,
   "id": "531d2e02",
   "metadata": {},
   "outputs": [
    {
     "name": "stdout",
     "output_type": "stream",
     "text": [
      "This Vehicle has 2 wheeler and its is a DIESEL vehicle\n",
      "This vehicle has 50 seating capacity ,so sitting capacity is 50\n",
      "sitting capacity is 50 ,Kindly confirm if its a car or bus?  BUS\n",
      "Confirmed by a user, its a BUS\n"
     ]
    }
   ],
   "source": [
    "class vehicle:\n",
    "    def __init__(self,Wheeler,Type,Seat,info):\n",
    "        self.Wheeler = Wheeler\n",
    "        self.Type = Type\n",
    "        self.Seat = Seat\n",
    "        self.info = info\n",
    "    def Details(self):\n",
    "        print(f\"This Vehicle has {self.Wheeler} wheeler and its is a {self.Type} vehicle\" )\n",
    "        print(f\"This vehicle has {self.Seat} seating capacity ,so sitting capacity is {self.Seat}\")\n",
    "        print(f\"sitting capacity is {self.Seat} ,Kindly confirm if its a car or bus?  {self.info}\")\n",
    "        print(f\"Confirmed by a user, its a {self.info}\")\n",
    "\n",
    "s = vehicle(2,\"DIESEL\",50,\"BUS\")\n",
    "s.Details()"
   ]
  },
  {
   "cell_type": "code",
   "execution_count": null,
   "id": "bfdd7e60",
   "metadata": {},
   "outputs": [],
   "source": []
  }
 ],
 "metadata": {
  "kernelspec": {
   "display_name": "Python 3 (ipykernel)",
   "language": "python",
   "name": "python3"
  },
  "language_info": {
   "codemirror_mode": {
    "name": "ipython",
    "version": 3
   },
   "file_extension": ".py",
   "mimetype": "text/x-python",
   "name": "python",
   "nbconvert_exporter": "python",
   "pygments_lexer": "ipython3",
   "version": "3.10.2"
  }
 },
 "nbformat": 4,
 "nbformat_minor": 5
}
