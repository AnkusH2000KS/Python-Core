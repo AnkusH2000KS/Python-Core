{
 "cells": [
  {
   "cell_type": "raw",
   "id": "b0bdada3",
   "metadata": {},
   "source": [
    "## PROPERTIES OF OBJECT ORIENTED PROGRAMMING\n",
    "1. INHERITANCE\n",
    "2. POLYMORPHISM\n",
    "3. DATA ABSTRACTION\n",
    "4. ENCAPSULATION"
   ]
  },
  {
   "cell_type": "raw",
   "id": "c24f0ad4",
   "metadata": {},
   "source": [
    "Polymorphism"
   ]
  },
  {
   "cell_type": "code",
   "execution_count": 4,
   "id": "600c4e78",
   "metadata": {},
   "outputs": [
    {
     "name": "stdout",
     "output_type": "stream",
     "text": [
      "The population of India is 1.3\n",
      "The population of Pakistan is 0.3\n"
     ]
    }
   ],
   "source": [
    "class India:\n",
    "    def popu(self):\n",
    "        print(f\"The population of India is {1.3}\")\n",
    "class Pakistan:\n",
    "    def popu(self):\n",
    "        print(f\"The population of Pakistan is {0.3}\")\n",
    "i = India()\n",
    "p = Pakistan()\n",
    "for country in i,p:\n",
    "    country.popu()\n",
    "    "
   ]
  },
  {
   "cell_type": "raw",
   "id": "e1206ec7",
   "metadata": {},
   "source": [
    "Encapsulation\n",
    "Mangled name is used to access private attribute"
   ]
  },
  {
   "cell_type": "code",
   "execution_count": 23,
   "id": "91fc7859",
   "metadata": {},
   "outputs": [
    {
     "data": {
      "text/plain": [
       "'GTA 5'"
      ]
     },
     "execution_count": 23,
     "metadata": {},
     "output_type": "execute_result"
    }
   ],
   "source": [
    "class laptop:\n",
    "    def __init__(self,photos,playlist,games):\n",
    "        self.__photos = photos  #PRIVATE\n",
    "        self._playlist = playlist  #PROTECTED\n",
    "        self.games = games\n",
    "    def show(self):\n",
    "        pass\n",
    "l = laptop(1,\"song\",\"GTA 5\")\n",
    "l.games"
   ]
  },
  {
   "cell_type": "code",
   "execution_count": 21,
   "id": "bb7b743c",
   "metadata": {},
   "outputs": [
    {
     "data": {
      "text/plain": [
       "'song'"
      ]
     },
     "execution_count": 21,
     "metadata": {},
     "output_type": "execute_result"
    }
   ],
   "source": [
    "class laptop:\n",
    "    def __init__(self,photos,playlist,games):\n",
    "        self.__photos = photos  #PRIVATE\n",
    "        self._playlist = playlist  #PROTECTED\n",
    "        self.games = games\n",
    "    def show(self):\n",
    "        pass\n",
    "l = laptop(1,\"song\",\"GTA 5\")\n",
    "l._playlist\n",
    "    "
   ]
  },
  {
   "cell_type": "code",
   "execution_count": 22,
   "id": "f9570b35",
   "metadata": {},
   "outputs": [
    {
     "data": {
      "text/plain": [
       "1"
      ]
     },
     "execution_count": 22,
     "metadata": {},
     "output_type": "execute_result"
    }
   ],
   "source": [
    "class laptop:\n",
    "    def __init__(self,photos,playlist,games):\n",
    "        self.__photos = photos  #PRIVATE\n",
    "        self._playlist = playlist  #PROTECTED\n",
    "        self.games = games\n",
    "    def show(self):\n",
    "        pass\n",
    "l = laptop(1,\"song\",\"GTA 5\")\n",
    "l._laptop__photos\n",
    "    "
   ]
  },
  {
   "cell_type": "code",
   "execution_count": 26,
   "id": "adbc93df",
   "metadata": {},
   "outputs": [
    {
     "name": "stdout",
     "output_type": "stream",
     "text": [
      "GTA 5\n",
      "song\n",
      "1\n"
     ]
    }
   ],
   "source": [
    "class laptop:\n",
    "    def __init__(self,photos,playlist,games):\n",
    "        self.__photos = photos  #PRIVATE\n",
    "        self._playlist = playlist  #PROTECTED\n",
    "        self.games = games\n",
    "    def show(self):\n",
    "        pass\n",
    "l = laptop(1,\"song\",\"GTA 5\")\n",
    "print(l.games)\n",
    "print(l._playlist)\n",
    "print(l._laptop__photos)"
   ]
  },
  {
   "cell_type": "raw",
   "id": "d49b73ad",
   "metadata": {},
   "source": [
    "Data Abstraction\n",
    "ABC - Abstract Basic Class"
   ]
  },
  {
   "cell_type": "code",
   "execution_count": 29,
   "id": "8d2ccb63",
   "metadata": {},
   "outputs": [],
   "source": [
    "# from abc import ABC, abstractmethod"
   ]
  },
  {
   "cell_type": "code",
   "execution_count": 1,
   "id": "b316d5cd",
   "metadata": {},
   "outputs": [
    {
     "ename": "TypeError",
     "evalue": "Can't instantiate abstract class calc with abstract method add",
     "output_type": "error",
     "traceback": [
      "\u001b[1;31m---------------------------------------------------------------------------\u001b[0m",
      "\u001b[1;31mTypeError\u001b[0m                                 Traceback (most recent call last)",
      "Input \u001b[1;32mIn [1]\u001b[0m, in \u001b[0;36m<cell line: 10>\u001b[1;34m()\u001b[0m\n\u001b[0;32m      8\u001b[0m         \u001b[38;5;28mself\u001b[39m\u001b[38;5;241m.\u001b[39mc \u001b[38;5;241m=\u001b[39m \u001b[38;5;28mself\u001b[39m\u001b[38;5;241m.\u001b[39ma \u001b[38;5;241m+\u001b[39m \u001b[38;5;28mself\u001b[39m\u001b[38;5;241m.\u001b[39mb\n\u001b[0;32m      9\u001b[0m         \u001b[38;5;28mprint\u001b[39m(c)\n\u001b[1;32m---> 10\u001b[0m c \u001b[38;5;241m=\u001b[39m \u001b[43mcalc\u001b[49m\u001b[43m(\u001b[49m\u001b[38;5;241;43m1\u001b[39;49m\u001b[43m,\u001b[49m\u001b[38;5;241;43m2\u001b[39;49m\u001b[43m)\u001b[49m\n",
      "\u001b[1;31mTypeError\u001b[0m: Can't instantiate abstract class calc with abstract method add"
     ]
    }
   ],
   "source": [
    "from abc import ABC, abstractmethod\n",
    "class calc(ABC):\n",
    "    def __init__(self,a,b):\n",
    "        self.a = a\n",
    "        self.b = b\n",
    "    @abstractmethod    \n",
    "    def add (self):\n",
    "        self.c = self.a + self.b\n",
    "        print(c)\n",
    "c = calc(1,2)\n"
   ]
  },
  {
   "cell_type": "code",
   "execution_count": null,
   "id": "352537e6",
   "metadata": {},
   "outputs": [],
   "source": []
  },
  {
   "cell_type": "code",
   "execution_count": null,
   "id": "53213a86",
   "metadata": {},
   "outputs": [],
   "source": []
  }
 ],
 "metadata": {
  "kernelspec": {
   "display_name": "Python 3 (ipykernel)",
   "language": "python",
   "name": "python3"
  },
  "language_info": {
   "codemirror_mode": {
    "name": "ipython",
    "version": 3
   },
   "file_extension": ".py",
   "mimetype": "text/x-python",
   "name": "python",
   "nbconvert_exporter": "python",
   "pygments_lexer": "ipython3",
   "version": "3.10.2"
  }
 },
 "nbformat": 4,
 "nbformat_minor": 5
}
