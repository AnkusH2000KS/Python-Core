{
 "cells": [
  {
   "cell_type": "raw",
   "id": "cfc66466",
   "metadata": {},
   "source": [
    "1. write a program to compute the average of the elements present in the list. "
   ]
  },
  {
   "cell_type": "code",
   "execution_count": 33,
   "id": "006c0d95",
   "metadata": {},
   "outputs": [
    {
     "name": "stdout",
     "output_type": "stream",
     "text": [
      "1423.0\n"
     ]
    }
   ],
   "source": [
    "A = [1,234,5,6788,87]   \n",
    "B = sum(A)/len(A)\n",
    "print(B)"
   ]
  },
  {
   "cell_type": "code",
   "execution_count": 34,
   "id": "f19058fc",
   "metadata": {},
   "outputs": [
    {
     "name": "stdout",
     "output_type": "stream",
     "text": [
      "1423.0\n"
     ]
    }
   ],
   "source": [
    "print(sum(A)/len(A))"
   ]
  },
  {
   "cell_type": "raw",
   "id": "0aef700d",
   "metadata": {},
   "source": [
    "2.Write a function called chop that takes a list and modifies it, removing the first and last elements, and returns None. Then write a function called middle that takes a list and returns a new list that contains all but the first and last elements."
   ]
  },
  {
   "cell_type": "code",
   "execution_count": 60,
   "id": "14f52f19",
   "metadata": {},
   "outputs": [
    {
     "name": "stdout",
     "output_type": "stream",
     "text": [
      "[2, 3]\n",
      "None\n",
      "['ANKUSH', 'KUMAR', 21, 1200000]\n",
      "['KUMAR', 21]\n"
     ]
    }
   ],
   "source": [
    "def chop(lst):\n",
    "    del lst[0]\n",
    "    del lst[-1:]             \n",
    "def middle(lst):\n",
    "    new = lst[1:]        \n",
    "    del new[-1:]      \n",
    "    return new\n",
    "\n",
    "l1 = [1,2,3,4]\n",
    "l2 = [\"ANKUSH\",\"KUMAR\",21,1200000]\n",
    "\n",
    "choplist = chop(l1)\n",
    "print(l1)      \n",
    "print(choplist)   \n",
    "middlelist = middle(list2)\n",
    "print(l2)         \n",
    "print(middlelist)                  \n",
    "\n"
   ]
  },
  {
   "cell_type": "raw",
   "id": "428c8279",
   "metadata": {},
   "source": [
    "3. write the program that prompts the user for a list of numbers and prints out the maximum and minimum of the numbers at the end when the user enters â€œdoneâ€ . Write the program to store the\n",
    "numbers the user enters in a list and compute the maximum and minimum numbers after the loop completes.\n"
   ]
  },
  {
   "cell_type": "code",
   "execution_count": null,
   "id": "5263ae2d",
   "metadata": {
    "scrolled": true
   },
   "outputs": [],
   "source": [
    "Numlist = []\n",
    "Number  = int(input(\"Please enter element length in List : \"))\n",
    "for i in range (1,Number + 1):\n",
    "    value = int(input(\"Please Enter the value of %d Element: \"%i))\n",
    "    Numlist.append(value)\n",
    "print(\"The smallest Element in this List is  :  \",min(Numlist))\n",
    "print(\"The largest Element in this List is  :  \",max(Numlist))\n"
   ]
  },
  {
   "cell_type": "code",
   "execution_count": null,
   "id": "c27bdd0f",
   "metadata": {},
   "outputs": [],
   "source": [
    "oops=None \n",
    "duh=None \n",
    "while True: \n",
    "    lol=input(\"Enter any number or write done :\") \n",
    "    if lol ==\"done\": \n",
    "        break \n",
    "    try: \n",
    "        lol=int(lol) \n",
    "    except: \n",
    "        print(\"Invalid input\") \n",
    "        continue \n",
    "    if (oops==None) or (oops>lol): \n",
    "        oops=lol \n",
    "    if (duh == None)or (duh < lol): \n",
    "        duh=lol \n",
    "print(\"Maximum is\",duh) \n",
    "print(\"Minimum is\",oops) "
   ]
  },
  {
   "cell_type": "raw",
   "id": "a16f52f7",
   "metadata": {},
   "source": [
    "4.Write a program to see the length of values of a dictionary if the value length is greater than 5 print len else print short in new dictionary. "
   ]
  },
  {
   "cell_type": "code",
   "execution_count": null,
   "id": "48178d95",
   "metadata": {},
   "outputs": [],
   "source": []
  },
  {
   "cell_type": "raw",
   "id": "91bf65b2",
   "metadata": {},
   "source": [
    "Q5.Write a program to see the length of values of a dictionary if the value length is greater than 5 print len else print short in new dictionary."
   ]
  },
  {
   "cell_type": "code",
   "execution_count": null,
   "id": "1f8bc3f0",
   "metadata": {},
   "outputs": [],
   "source": []
  },
  {
   "cell_type": "raw",
   "id": "d21702a3",
   "metadata": {},
   "source": [
    "Q6. Task\n",
    "Given an integer, n, perform the following conditional actions:\n",
    "\n",
    "If  n is odd, print Weird\n",
    "If  n is even and in the inclusive range of  2 to 5, print Not Weird\n",
    "If  n is even and in the inclusive range of  6 to 20, print Weird\n",
    "If  n is even and greater than  20 , print Not Weird"
   ]
  },
  {
   "cell_type": "code",
   "execution_count": null,
   "id": "2a702faa",
   "metadata": {},
   "outputs": [],
   "source": []
  },
  {
   "cell_type": "code",
   "execution_count": null,
   "id": "76a1de60",
   "metadata": {},
   "outputs": [],
   "source": []
  },
  {
   "cell_type": "raw",
   "id": "5b78d4c5",
   "metadata": {},
   "source": [
    "Q7. Write a function to compute the population of india in 2050 when i say it will be 7 times of todays population."
   ]
  },
  {
   "cell_type": "code",
   "execution_count": 38,
   "id": "7f3fd4ea",
   "metadata": {},
   "outputs": [
    {
     "name": "stdout",
     "output_type": "stream",
     "text": [
      "population of india is 1.30 \n"
     ]
    }
   ],
   "source": [
    "def india(self):\n",
    "    print(\"population of india is 1.30 \")\n",
    "india(1)\n"
   ]
  },
  {
   "cell_type": "code",
   "execution_count": null,
   "id": "d1237eeb",
   "metadata": {},
   "outputs": [],
   "source": []
  }
 ],
 "metadata": {
  "kernelspec": {
   "display_name": "Python 3 (ipykernel)",
   "language": "python",
   "name": "python3"
  },
  "language_info": {
   "codemirror_mode": {
    "name": "ipython",
    "version": 3
   },
   "file_extension": ".py",
   "mimetype": "text/x-python",
   "name": "python",
   "nbconvert_exporter": "python",
   "pygments_lexer": "ipython3",
   "version": "3.10.2"
  }
 },
 "nbformat": 4,
 "nbformat_minor": 5
}
