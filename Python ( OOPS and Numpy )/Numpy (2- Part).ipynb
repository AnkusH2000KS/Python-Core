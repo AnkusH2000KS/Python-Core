{
 "cells": [
  {
   "cell_type": "raw",
   "id": "433013a1",
   "metadata": {},
   "source": [
    "Operation in Numpy"
   ]
  },
  {
   "cell_type": "code",
   "execution_count": 3,
   "id": "54cf3fb2",
   "metadata": {},
   "outputs": [
    {
     "data": {
      "text/plain": [
       "array([[1, 2, 3],\n",
       "       [4, 5, 6],\n",
       "       [7, 8, 9]])"
      ]
     },
     "execution_count": 3,
     "metadata": {},
     "output_type": "execute_result"
    }
   ],
   "source": [
    "import numpy as np\n",
    "arr = np.array([[1,2,3],[4,5,6,],[7,8,9]])\n",
    "arr"
   ]
  },
  {
   "cell_type": "code",
   "execution_count": 6,
   "id": "6a9a3c82",
   "metadata": {},
   "outputs": [
    {
     "data": {
      "text/plain": [
       "array([[ 1,  4,  9],\n",
       "       [16, 25, 36],\n",
       "       [49, 64, 81]])"
      ]
     },
     "execution_count": 6,
     "metadata": {},
     "output_type": "execute_result"
    }
   ],
   "source": [
    "arr**2"
   ]
  },
  {
   "cell_type": "code",
   "execution_count": 8,
   "id": "d6c77b29",
   "metadata": {},
   "outputs": [
    {
     "data": {
      "text/plain": [
       "numpy.ndarray"
      ]
     },
     "execution_count": 8,
     "metadata": {},
     "output_type": "execute_result"
    }
   ],
   "source": [
    "type(arr)"
   ]
  },
  {
   "cell_type": "code",
   "execution_count": 9,
   "id": "27f5c5f9",
   "metadata": {},
   "outputs": [],
   "source": [
    "arr [1][1] = 50 "
   ]
  },
  {
   "cell_type": "code",
   "execution_count": 10,
   "id": "bbdf7620",
   "metadata": {},
   "outputs": [
    {
     "data": {
      "text/plain": [
       "array([[ 1,  2,  3],\n",
       "       [ 4, 50,  6],\n",
       "       [ 7,  8,  9]])"
      ]
     },
     "execution_count": 10,
     "metadata": {},
     "output_type": "execute_result"
    }
   ],
   "source": [
    "arr"
   ]
  },
  {
   "cell_type": "code",
   "execution_count": 11,
   "id": "7135d606",
   "metadata": {},
   "outputs": [],
   "source": [
    "arr = np.array(arr,dtype = float)"
   ]
  },
  {
   "cell_type": "code",
   "execution_count": 12,
   "id": "07ea863f",
   "metadata": {},
   "outputs": [
    {
     "data": {
      "text/plain": [
       "array([[ 1.,  2.,  3.],\n",
       "       [ 4., 50.,  6.],\n",
       "       [ 7.,  8.,  9.]])"
      ]
     },
     "execution_count": 12,
     "metadata": {},
     "output_type": "execute_result"
    }
   ],
   "source": [
    "arr"
   ]
  },
  {
   "cell_type": "code",
   "execution_count": 13,
   "id": "86743e46",
   "metadata": {},
   "outputs": [],
   "source": [
    "arr = np.array([[23,43,56,61],[23,45,98,32]])"
   ]
  },
  {
   "cell_type": "code",
   "execution_count": 14,
   "id": "30878f66",
   "metadata": {},
   "outputs": [
    {
     "data": {
      "text/plain": [
       "array([[23, 43, 56, 61],\n",
       "       [23, 45, 98, 32]])"
      ]
     },
     "execution_count": 14,
     "metadata": {},
     "output_type": "execute_result"
    }
   ],
   "source": [
    "arr"
   ]
  },
  {
   "cell_type": "code",
   "execution_count": 19,
   "id": "d58d9be5",
   "metadata": {},
   "outputs": [
    {
     "data": {
      "text/plain": [
       "array([43, 56, 61, 45, 98])"
      ]
     },
     "execution_count": 19,
     "metadata": {},
     "output_type": "execute_result"
    }
   ],
   "source": [
    "passing_marks= 40\n",
    "arr[arr>passing_marks]"
   ]
  },
  {
   "cell_type": "raw",
   "id": "260a2b74",
   "metadata": {},
   "source": [
    "write a program to create two arrays of distance covered by two cycles add them up to get the total distance covered\n",
    "if the distance greater than 30 filter does values only. and array created should be of (1*3)"
   ]
  },
  {
   "cell_type": "code",
   "execution_count": 28,
   "id": "8ea8433c",
   "metadata": {},
   "outputs": [
    {
     "data": {
      "text/plain": [
       "array([22, 28, 37])"
      ]
     },
     "execution_count": 28,
     "metadata": {},
     "output_type": "execute_result"
    }
   ],
   "source": [
    "distance1 = np.array([12,16,22])\n",
    "distance2 = np.array([10,12,15])\n",
    "cycle = distance1 + distance2\n",
    "cycle"
   ]
  },
  {
   "cell_type": "code",
   "execution_count": 32,
   "id": "9d718195",
   "metadata": {},
   "outputs": [
    {
     "data": {
      "text/plain": [
       "array([ True,  True, False])"
      ]
     },
     "execution_count": 32,
     "metadata": {},
     "output_type": "execute_result"
    }
   ],
   "source": [
    "D = 30\n",
    "cycle<D"
   ]
  },
  {
   "cell_type": "code",
   "execution_count": 33,
   "id": "d9658152",
   "metadata": {},
   "outputs": [
    {
     "data": {
      "text/plain": [
       "array([22, 28])"
      ]
     },
     "execution_count": 33,
     "metadata": {},
     "output_type": "execute_result"
    }
   ],
   "source": [
    "cycle[cycle<D]"
   ]
  },
  {
   "cell_type": "raw",
   "id": "fa20175e",
   "metadata": {},
   "source": [
    "Slicing in array"
   ]
  },
  {
   "cell_type": "code",
   "execution_count": 52,
   "id": "cf64d706",
   "metadata": {},
   "outputs": [],
   "source": [
    "s = np.array([['Delhi','Mumbai','Pune','Indore','Chennai'],['Delhi','MAha','Maha','MP','IN']])"
   ]
  },
  {
   "cell_type": "code",
   "execution_count": 56,
   "id": "858c7a05",
   "metadata": {},
   "outputs": [
    {
     "data": {
      "text/plain": [
       "array([['Indore', 'Chennai'],\n",
       "       ['MP', 'IN']], dtype='<U7')"
      ]
     },
     "execution_count": 56,
     "metadata": {},
     "output_type": "execute_result"
    }
   ],
   "source": [
    "s[:,3:]  #Row,Coloum"
   ]
  },
  {
   "cell_type": "code",
   "execution_count": 58,
   "id": "844a92ff",
   "metadata": {},
   "outputs": [
    {
     "data": {
      "text/plain": [
       "'MP'"
      ]
     },
     "execution_count": 58,
     "metadata": {},
     "output_type": "execute_result"
    }
   ],
   "source": [
    "s[:,3:][1][0]"
   ]
  },
  {
   "cell_type": "code",
   "execution_count": 36,
   "id": "907e362a",
   "metadata": {},
   "outputs": [
    {
     "data": {
      "text/plain": [
       "['Delhi',\n",
       " 'Mumbai',\n",
       " 'Pune',\n",
       " 'Indore',\n",
       " 'Chennai',\n",
       " 'Delhi',\n",
       " 'MAha',\n",
       " 'Maha',\n",
       " 'MP',\n",
       " 'IN']"
      ]
     },
     "execution_count": 36,
     "metadata": {},
     "output_type": "execute_result"
    }
   ],
   "source": [
    "l1 = []\n",
    "for i in s:\n",
    "    for j in i:\n",
    "        l1.append(j)\n",
    "        \n",
    "l1"
   ]
  },
  {
   "cell_type": "raw",
   "id": "0061f17f",
   "metadata": {},
   "source": [
    "WAP to create a 3x3 array. then slice it as we want 1,2 row, 1,2 col. after slicing check which element is divisible by 3"
   ]
  },
  {
   "cell_type": "code",
   "execution_count": 4,
   "id": "485ce679",
   "metadata": {},
   "outputs": [
    {
     "data": {
      "text/plain": [
       "array([[5, 6],\n",
       "       [8, 9]])"
      ]
     },
     "execution_count": 4,
     "metadata": {},
     "output_type": "execute_result"
    }
   ],
   "source": [
    "a =np.array([[1,2,3],[4,5,6],[7,8,9,],[10,11,12]])\n",
    "a[1:3,1:3]"
   ]
  },
  {
   "cell_type": "code",
   "execution_count": 83,
   "id": "f8dd4ee4",
   "metadata": {},
   "outputs": [
    {
     "data": {
      "text/plain": [
       "array([6, 9])"
      ]
     },
     "execution_count": 83,
     "metadata": {},
     "output_type": "execute_result"
    }
   ],
   "source": [
    "a1 = a[1:3,1:3]\n",
    "a1[a1%3==0]\n"
   ]
  },
  {
   "cell_type": "code",
   "execution_count": 6,
   "id": "a682e5e0",
   "metadata": {},
   "outputs": [
    {
     "name": "stdout",
     "output_type": "stream",
     "text": [
      "1\n",
      "2\n",
      "3\n",
      "4\n",
      "5\n",
      "6\n",
      "7\n",
      "8\n",
      "9\n",
      "10\n",
      "11\n",
      "12\n"
     ]
    }
   ],
   "source": [
    "f6or i in a:\n",
    "    for j in i:\n",
    "        print(j)"
   ]
  },
  {
   "cell_type": "code",
   "execution_count": 8,
   "id": "19d29e21",
   "metadata": {},
   "outputs": [],
   "source": [
    "#a1.view()\n",
    "#$a1.copy()"
   ]
  },
  {
   "cell_type": "code",
   "execution_count": null,
   "id": "7bf799b1",
   "metadata": {},
   "outputs": [],
   "source": []
  },
  {
   "cell_type": "code",
   "execution_count": null,
   "id": "e9dd8d96",
   "metadata": {},
   "outputs": [],
   "source": []
  }
 ],
 "metadata": {
  "kernelspec": {
   "display_name": "Python 3 (ipykernel)",
   "language": "python",
   "name": "python3"
  },
  "language_info": {
   "codemirror_mode": {
    "name": "ipython",
    "version": 3
   },
   "file_extension": ".py",
   "mimetype": "text/x-python",
   "name": "python",
   "nbconvert_exporter": "python",
   "pygments_lexer": "ipython3",
   "version": "3.10.2"
  }
 },
 "nbformat": 4,
 "nbformat_minor": 5
}
