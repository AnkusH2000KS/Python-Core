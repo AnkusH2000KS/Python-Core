{
 "cells": [
  {
   "cell_type": "code",
   "execution_count": 3,
   "id": "5074cbc7",
   "metadata": {},
   "outputs": [],
   "source": [
    "#INHERITANCE"
   ]
  },
  {
   "cell_type": "code",
   "execution_count": 8,
   "id": "144b5d34",
   "metadata": {},
   "outputs": [
    {
     "name": "stdout",
     "output_type": "stream",
     "text": [
      "Ankush Kumar Is a Nice person\n",
      "The Student ID 110020 having name Ankush Kumar scored 100 marks in Maths\n"
     ]
    }
   ],
   "source": [
    "class person:\n",
    "    def __init__(self,fname,lname):\n",
    "        self.fname = fname\n",
    "        self.lname = lname\n",
    "    def details(self):\n",
    "        print(f\"{self.fname} {self.lname} Is a Nice person\")\n",
    "class student(person):\n",
    "    def __init__(self,fname,lname,stid):\n",
    "        self.fname = fname\n",
    "        self.lname = lname\n",
    "        self.stid = stid\n",
    "    def print_name(self):\n",
    "        print(f\"The Student ID {self.stid} having name {self.fname} {self.lname} scored 100 marks in Maths\")\n",
    "s = student(\"Ankush\",\"Kumar\",110020)\n",
    "s.details()\n",
    "s.print_name()"
   ]
  },
  {
   "cell_type": "code",
   "execution_count": 2,
   "id": "7cd66b09",
   "metadata": {},
   "outputs": [
    {
     "name": "stdout",
     "output_type": "stream",
     "text": [
      "Ankush Kumar Is a Nice person\n",
      "The Student ID 110020 having name Ankush Kumar scored 100 marks in Maths\n"
     ]
    }
   ],
   "source": [
    "class person:\n",
    "    def __init__(self):\n",
    "        self.fname = \"Ankush\"\n",
    "        self.lname = \"Kumar\"\n",
    "    def details(self):\n",
    "        print(f\"{self.fname} {self.lname} Is a Nice person\")\n",
    "class student(person):\n",
    "    def __init__(self,stid):\n",
    "        super().__init__()\n",
    "        self.stid = stid\n",
    "    def print_name(self):\n",
    "        print(f\"The Student ID {self.stid} having name {self.fname} {self.lname} scored 100 marks in Maths\")\n",
    "s = student(110020)\n",
    "s.details()\n",
    "s.print_name()"
   ]
  },
  {
   "cell_type": "code",
   "execution_count": 6,
   "id": "cd6fbd83",
   "metadata": {},
   "outputs": [
    {
     "name": "stdout",
     "output_type": "stream",
     "text": [
      "Enter First Name  : AnkusH\n",
      "Enter last Name  : Kumar\n",
      "Enter Student ID  : 12344\n",
      "AnkusH Kumar Is a Nice person\n",
      "The Student ID 12344 having name AnkusH Kumar scored 100 marks in Maths\n"
     ]
    }
   ],
   "source": [
    "class person:\n",
    "    def __init__(self):\n",
    "        self.fname = str(input(\"Enter First Name  : \"))\n",
    "        self.lname = str(input(\"Enter last Name  : \"))\n",
    "    def details(self):\n",
    "        print(f\"{self.fname} {self.lname} Is a Nice person\")\n",
    "class student(person):\n",
    "    def __init__(self,stid):\n",
    "        super().__init__()\n",
    "        self.stid = int(input(\"Enter Student ID  : \"))\n",
    "    def print_name(self):\n",
    "        print(f\"The Student ID {self.stid} having name {self.fname} {self.lname} scored 100 marks in Maths\")\n",
    "s = student(1)\n",
    "s.details()\n",
    "s.print_name()"
   ]
  },
  {
   "cell_type": "code",
   "execution_count": 26,
   "id": "828408e3",
   "metadata": {},
   "outputs": [
    {
     "name": "stdout",
     "output_type": "stream",
     "text": [
      "Enter the type of Transport  :  bus\n",
      "Tax is 1000\n"
     ]
    }
   ],
   "source": [
    "class Transport:\n",
    "    def __init__(self):\n",
    "        self.ttype = input(\"Enter the type of Transport  :  \")\n",
    "class Tax(Transport):\n",
    "    def __init__(self):\n",
    "        super().__init__()\n",
    "    def Show_Tax(self):\n",
    "        if self.ttype==\"car\":\n",
    "            print(\"Tax is 2000\")\n",
    "        elif self.ttype==\"bus\":\n",
    "            print(\"Tax is 1000\")\n",
    "        elif self.ttype==\"Bike\":\n",
    "            print(\"Tax is 100\")\n",
    "        elif self.ttype==\"govt_vehicle\":\n",
    "            print(\"Free Tax !!! \")\n",
    "k = Tax()\n",
    "k.Show_Tax()\n",
    "\n",
    "            \n",
    "        "
   ]
  },
  {
   "cell_type": "code",
   "execution_count": 27,
   "id": "72301ff5",
   "metadata": {},
   "outputs": [
    {
     "ename": "IndentationError",
     "evalue": "unexpected indent (4013475666.py, line 4)",
     "output_type": "error",
     "traceback": [
      "\u001b[1;36m  Input \u001b[1;32mIn [27]\u001b[1;36m\u001b[0m\n\u001b[1;33m    self.with_amt = int(input(\"Enter Withdrawal Amount  :\"))\u001b[0m\n\u001b[1;37m    ^\u001b[0m\n\u001b[1;31mIndentationError\u001b[0m\u001b[1;31m:\u001b[0m unexpected indent\n"
     ]
    }
   ],
   "source": [
    "class Bank:\n",
    "    def __init__(self):\n",
    "        self.with_amt = int(input(\"Enter Withdrawal Amount  :\"))\n",
    "        self.Dep_amt = int(input(\"Enter Deposit Amount  :\"))\n",
    "        self.Balance = int(input(\"Your Balance  : \"))\n",
    "        self.Rem_amt = int(input(\"Your R\"))"
   ]
  },
  {
   "cell_type": "code",
   "execution_count": null,
   "id": "015fbfbd",
   "metadata": {},
   "outputs": [],
   "source": [
    "class Book:\n",
    "    def __init__(self):\n",
    "        self.Title = str(input(\"Enter Title  :  \"))\n",
    "        self.Auther_Name = str(input(\"Enter Author Name   :  \"))\n",
    "        self.Book_Name = str(input(\"Enter Book Full Name  :   \"))\n",
    "        self.price = int(input(\"Enter Book Price :  \"))\n",
    "class View(Book):\n",
    "    def __init__(self):\n",
    "        super().__init__()\n",
    "    def Details(self):\n",
    "        print(f\"The Book Name is {self.Book_Name} Written By {self.Auther_Name}\")\n",
    "        print(f\"Title of the Book is {self.Title} With the price of {self.price}\")\n",
    "    \n",
    "x = View()\n",
    "x.Details()\n",
    "        "
   ]
  },
  {
   "cell_type": "code",
   "execution_count": null,
   "id": "00c46e22",
   "metadata": {},
   "outputs": [],
   "source": []
  }
 ],
 "metadata": {
  "kernelspec": {
   "display_name": "Python 3 (ipykernel)",
   "language": "python",
   "name": "python3"
  },
  "language_info": {
   "codemirror_mode": {
    "name": "ipython",
    "version": 3
   },
   "file_extension": ".py",
   "mimetype": "text/x-python",
   "name": "python",
   "nbconvert_exporter": "python",
   "pygments_lexer": "ipython3",
   "version": "3.10.2"
  }
 },
 "nbformat": 4,
 "nbformat_minor": 5
}
