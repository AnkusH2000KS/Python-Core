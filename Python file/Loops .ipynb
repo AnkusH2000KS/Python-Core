{
 "cells": [
  {
   "cell_type": "code",
   "execution_count": null,
   "metadata": {},
   "outputs": [],
   "source": [
    "looping : repeative pattern"
   ]
  },
  {
   "cell_type": "code",
   "execution_count": 25,
   "metadata": {},
   "outputs": [
    {
     "name": "stdout",
     "output_type": "stream",
     "text": [
      "1\n",
      "2\n",
      "3\n",
      "4\n",
      "5\n"
     ]
    }
   ],
   "source": [
    "print(1)\n",
    "print(2)\n",
    "print(3)\n",
    "print(4)\n",
    "print(5)"
   ]
  },
  {
   "cell_type": "code",
   "execution_count": 3,
   "metadata": {},
   "outputs": [
    {
     "data": {
      "text/plain": [
       "True"
      ]
     },
     "execution_count": 3,
     "metadata": {},
     "output_type": "execute_result"
    }
   ],
   "source": [
    "\"a\" in \"Shivansh\""
   ]
  },
  {
   "cell_type": "markdown",
   "metadata": {},
   "source": [
    "WAP to take input from the user regarding a number and i have to print its table"
   ]
  },
  {
   "cell_type": "code",
   "execution_count": 12,
   "metadata": {},
   "outputs": [
    {
     "name": "stdout",
     "output_type": "stream",
     "text": [
      "80\n",
      "72\n",
      "64\n",
      "56\n",
      "48\n",
      "40\n",
      "32\n",
      "24\n",
      "16\n",
      "8\n"
     ]
    }
   ],
   "source": [
    "for i in range(80,0,-8):\n",
    "    print(i)\n"
   ]
  },
  {
   "cell_type": "code",
   "execution_count": 13,
   "metadata": {},
   "outputs": [
    {
     "name": "stdout",
     "output_type": "stream",
     "text": [
      "Ente number: 2\n",
      "2\n",
      "4\n",
      "8\n",
      "16\n",
      "32\n",
      "64\n",
      "128\n",
      "256\n",
      "512\n",
      "1024\n"
     ]
    }
   ],
   "source": [
    "no = int(input(\"Ente number: \"))\n",
    "for i in range(1,11):\n",
    "    print(no**i)\n"
   ]
  },
  {
   "cell_type": "code",
   "execution_count": null,
   "metadata": {},
   "outputs": [],
   "source": [
    "WAP to find the numbers which are even in range of 1,35 (inclusive both)"
   ]
  },
  {
   "cell_type": "code",
   "execution_count": 14,
   "metadata": {},
   "outputs": [
    {
     "name": "stdout",
     "output_type": "stream",
     "text": [
      "2\n",
      "4\n",
      "6\n",
      "8\n",
      "10\n",
      "12\n",
      "14\n",
      "16\n",
      "18\n",
      "20\n",
      "22\n",
      "24\n",
      "26\n",
      "28\n",
      "30\n",
      "32\n",
      "34\n"
     ]
    }
   ],
   "source": [
    "# WAP to find the numbers which are even in range of 1,35 inclusive both\n",
    "for i in range(1,36):\n",
    "    if i%2==0:\n",
    "        print(i)"
   ]
  },
  {
   "cell_type": "code",
   "execution_count": 9,
   "metadata": {},
   "outputs": [],
   "source": [
    "for i in range():\n",
    "    print(i)"
   ]
  },
  {
   "cell_type": "code",
   "execution_count": 7,
   "metadata": {},
   "outputs": [
    {
     "name": "stdout",
     "output_type": "stream",
     "text": [
      "10\n",
      "9\n",
      "8\n",
      "7\n",
      "6\n",
      "5\n",
      "4\n",
      "3\n",
      "2\n",
      "1\n"
     ]
    }
   ],
   "source": [
    "for i in range(10,0,-1):\n",
    "    print(i)"
   ]
  },
  {
   "cell_type": "markdown",
   "metadata": {},
   "source": [
    "WAP to print even numbers between 1 to 21"
   ]
  },
  {
   "cell_type": "code",
   "execution_count": 12,
   "metadata": {},
   "outputs": [
    {
     "name": "stdout",
     "output_type": "stream",
     "text": [
      "50\n",
      "45\n",
      "40\n",
      "35\n",
      "30\n",
      "25\n",
      "20\n",
      "15\n",
      "10\n",
      "5\n"
     ]
    }
   ],
   "source": [
    "for i in range(50,4,-5):\n",
    "    print(i)"
   ]
  },
  {
   "cell_type": "code",
   "execution_count": 6,
   "metadata": {},
   "outputs": [
    {
     "name": "stdout",
     "output_type": "stream",
     "text": [
      "Enter the number :8\n",
      "40320\n"
     ]
    }
   ],
   "source": [
    "n = int(input(\"Enter the number :\"))\n",
    "if n<0:\n",
    "    print(\"fact is not possible\")\n",
    "elif n==0 or n==1:\n",
    "    print(\"fact is 1\")\n",
    "else:\n",
    "    f = 1\n",
    "    for i in range(n,0,-1):\n",
    "        f = f*i\n",
    "    print(f)       "
   ]
  },
  {
   "cell_type": "code",
   "execution_count": 3,
   "metadata": {},
   "outputs": [],
   "source": [
    "import math "
   ]
  },
  {
   "cell_type": "code",
   "execution_count": 5,
   "metadata": {},
   "outputs": [
    {
     "ename": "NameError",
     "evalue": "name 'factorial' is not defined",
     "output_type": "error",
     "traceback": [
      "\u001b[1;31m---------------------------------------------------------------------------\u001b[0m",
      "\u001b[1;31mNameError\u001b[0m                                 Traceback (most recent call last)",
      "\u001b[1;32m<ipython-input-5-637175d621a4>\u001b[0m in \u001b[0;36m<module>\u001b[1;34m\u001b[0m\n\u001b[1;32m----> 1\u001b[1;33m \u001b[0mfactorial\u001b[0m\u001b[1;33m(\u001b[0m\u001b[1;36m5\u001b[0m\u001b[1;33m)\u001b[0m\u001b[1;33m\u001b[0m\u001b[1;33m\u001b[0m\u001b[0m\n\u001b[0m",
      "\u001b[1;31mNameError\u001b[0m: name 'factorial' is not defined"
     ]
    }
   ],
   "source": [
    "factorial(5)"
   ]
  },
  {
   "cell_type": "code",
   "execution_count": null,
   "metadata": {},
   "outputs": [],
   "source": [
    "WAP to find the factors of a number entered by the user"
   ]
  },
  {
   "cell_type": "code",
   "execution_count": 7,
   "metadata": {},
   "outputs": [
    {
     "name": "stdout",
     "output_type": "stream",
     "text": [
      "ENter num: 15\n",
      "1\n",
      "3\n",
      "5\n",
      "15\n"
     ]
    }
   ],
   "source": [
    "##### WAP to find factors of a number entered by user:\n",
    "n = int(input(\"ENter num: \"))\n",
    "for i in range(1,n+1):\n",
    "    if n%i==0:\n",
    "        print(i)"
   ]
  },
  {
   "cell_type": "code",
   "execution_count": null,
   "metadata": {},
   "outputs": [],
   "source": [
    "##### WAP to find factors of a number entered by user:\n",
    "#composite -> more than 2 factors\n",
    "# prime -> 2 or less factors\n",
    "n = int(input(\"ENter num: \"))\n",
    "for i in range(1,n+1):\n",
    "    if n%i==0:\n",
    "        print(\"Factor is: %s\"%i)\n",
    "if i<=2:\n",
    "    print(\"Number is prime\")\n",
    "else:\n",
    "    print(\"Number is composite\")\n"
   ]
  },
  {
   "cell_type": "code",
   "execution_count": 11,
   "metadata": {},
   "outputs": [
    {
     "name": "stdout",
     "output_type": "stream",
     "text": [
      "ENter num: 6\n",
      "Factor is: 1\n",
      "Factor is: 2\n",
      "Factor is: 3\n",
      "Factor is: 6\n",
      "the number of factors are : 4\n"
     ]
    }
   ],
   "source": [
    "##### WAP to find factors of a number entered by user:\n",
    "#composite -> more than 2 factors\n",
    "# prime -> 2 or less factors\n",
    "n = int(input(\"ENter num: \"))\n",
    "count = 0\n",
    "for i in range(1,n+1):\n",
    "    if n%i==0:\n",
    "        count= count+1\n",
    "        print(\"Factor is: %s\"%i)\n",
    "print(\"the number of factors are :\",count)\n",
    "if j<=2:\n",
    "    print(\"Number is prime\")\n",
    "else:\n",
    "    print(\"Number is composite\")"
   ]
  },
  {
   "cell_type": "markdown",
   "metadata": {},
   "source": [
    "l = [345,234,171,343,1728,543]\n",
    "WAP to print the list is magical if a single element of the list is div by both 7 and 3."
   ]
  },
  {
   "cell_type": "code",
   "execution_count": 16,
   "metadata": {},
   "outputs": [
    {
     "name": "stdout",
     "output_type": "stream",
     "text": [
      "Magical list\n",
      "Magical list\n"
     ]
    }
   ],
   "source": [
    "l = [345,234,21,171,343,1728,543,21]\n",
    "for i in l:\n",
    "    if i%7==0 and i%3==0:\n",
    "        print(\"Magical list\")"
   ]
  },
  {
   "cell_type": "markdown",
   "metadata": {},
   "source": [
    "WAP to print fizz if the number is div by 3 ,print buzz if the number is div by 5 and fizzbuzz if it is div by both in the range of 1 to 50 inclusive both the numbers"
   ]
  },
  {
   "cell_type": "code",
   "execution_count": null,
   "metadata": {},
   "outputs": [],
   "source": [
    "45 = 1,3,5,15,45,9"
   ]
  },
  {
   "cell_type": "code",
   "execution_count": null,
   "metadata": {},
   "outputs": [],
   "source": [
    "15 = 1,3,5,15"
   ]
  },
  {
   "cell_type": "code",
   "execution_count": 14,
   "metadata": {},
   "outputs": [
    {
     "name": "stdout",
     "output_type": "stream",
     "text": [
      "Enter the number :4\n",
      "4 x 10 = 40\n",
      "4 x 9 = 36\n",
      "4 x 8 = 32\n",
      "4 x 7 = 28\n",
      "4 x 6 = 24\n",
      "4 x 5 = 20\n",
      "4 x 4 = 16\n",
      "4 x 3 = 12\n",
      "4 x 2 = 8\n",
      "4 x 1 = 4\n"
     ]
    }
   ],
   "source": [
    "n = int(input(\"Enter the number :\"))\n",
    "for i in range(10,0,-1):\n",
    "    \n",
    "    print(n,\"x\",i,\"=\",n*i)"
   ]
  },
  {
   "cell_type": "code",
   "execution_count": 19,
   "metadata": {},
   "outputs": [
    {
     "name": "stdout",
     "output_type": "stream",
     "text": [
      "AmanSinghRathore"
     ]
    }
   ],
   "source": [
    "s = \"Aman Singh Rathore\"\n",
    "s = s.replace(\" \",\"\")\n",
    "for i in s:\n",
    "    print(i,end=\"\")"
   ]
  },
  {
   "cell_type": "code",
   "execution_count": 6,
   "metadata": {},
   "outputs": [
    {
     "name": "stdout",
     "output_type": "stream",
     "text": [
      "10987654321"
     ]
    }
   ],
   "source": [
    "for i in range(10,0,-1):\n",
    "    print(i,end = \"\")"
   ]
  },
  {
   "cell_type": "markdown",
   "metadata": {},
   "source": [
    "write a program to print the table of a number entered by the user."
   ]
  },
  {
   "cell_type": "code",
   "execution_count": 9,
   "metadata": {},
   "outputs": [
    {
     "name": "stdout",
     "output_type": "stream",
     "text": [
      "enter n : 3\n",
      "3 x 1 = 3\n",
      "3 x 2 = 6\n",
      "3 x 3 = 9\n",
      "3 x 4 = 12\n",
      "3 x 5 = 15\n",
      "3 x 6 = 18\n",
      "3 x 7 = 21\n",
      "3 x 8 = 24\n",
      "3 x 9 = 27\n",
      "3 x 10 = 30\n"
     ]
    }
   ],
   "source": [
    "n = int(input(\"enter n : \"))\n",
    "for i in range(1,11):\n",
    "    print(n,\"x\",i,\"=\",n*i)\n"
   ]
  },
  {
   "cell_type": "code",
   "execution_count": 13,
   "metadata": {},
   "outputs": [
    {
     "name": "stdout",
     "output_type": "stream",
     "text": [
      "enter n : 3\n",
      "1\n",
      "3 x 2 = 6\n",
      "9\n",
      "3 x 4 = 12\n",
      "25\n",
      "3 x 6 = 18\n",
      "49\n",
      "3 x 8 = 24\n",
      "81\n",
      "3 x 10 = 30\n"
     ]
    }
   ],
   "source": [
    "n = int(input(\"enter n : \"))\n",
    "for i in range(1,11):\n",
    "    if i%2==0:\n",
    "        print(n,\"x\",i,\"=\",n*i)\n",
    "    else:\n",
    "        print(i*i)"
   ]
  },
  {
   "cell_type": "code",
   "execution_count": null,
   "metadata": {},
   "outputs": [],
   "source": []
  },
  {
   "cell_type": "code",
   "execution_count": null,
   "metadata": {},
   "outputs": [],
   "source": []
  },
  {
   "cell_type": "markdown",
   "metadata": {},
   "source": [
    "loops : 1) for \n",
    "        2) while\n",
    "for does and why we should use for and not while \n",
    "for loop : use \n",
    "1) when we know how many iteration i need to do.\n"
   ]
  },
  {
   "cell_type": "markdown",
   "metadata": {},
   "source": [
    "in operator :\n",
    "    membership operations - is and in"
   ]
  },
  {
   "cell_type": "code",
   "execution_count": 15,
   "metadata": {},
   "outputs": [
    {
     "name": "stdout",
     "output_type": "stream",
     "text": [
      "Madrid"
     ]
    }
   ],
   "source": [
    "s = \"Madrid\"\n",
    "for i in s:\n",
    "    print(i,end = \"\")"
   ]
  },
  {
   "cell_type": "code",
   "execution_count": 15,
   "metadata": {},
   "outputs": [
    {
     "name": "stdout",
     "output_type": "stream",
     "text": [
      "1\n",
      "2\n",
      "3\n",
      "4\n",
      "5\n"
     ]
    }
   ],
   "source": [
    "s = [1,2,3,4,5]\n",
    "for j in s:\n",
    "    print(j)"
   ]
  },
  {
   "cell_type": "code",
   "execution_count": null,
   "metadata": {},
   "outputs": [],
   "source": [
    "Write a program to print the number of elements in a list\n",
    "and also give the sum of the list \n",
    "l = [12,34,23,78,13,54]\n",
    "12+34+23+78+13+54"
   ]
  },
  {
   "cell_type": "code",
   "execution_count": null,
   "metadata": {},
   "outputs": [],
   "source": [
    "l = [12,34,23,78,13,54]\n",
    "count = 0\n",
    "for i in l:\n",
    "    count = count+1\n",
    "count"
   ]
  },
  {
   "cell_type": "code",
   "execution_count": 16,
   "metadata": {},
   "outputs": [
    {
     "data": {
      "text/plain": [
       "214"
      ]
     },
     "execution_count": 16,
     "metadata": {},
     "output_type": "execute_result"
    }
   ],
   "source": [
    "12+34+23+78+13+54"
   ]
  },
  {
   "cell_type": "code",
   "execution_count": 20,
   "metadata": {},
   "outputs": [],
   "source": [
    "l = [12,34,23,78,13,54]\n"
   ]
  },
  {
   "cell_type": "code",
   "execution_count": 22,
   "metadata": {},
   "outputs": [
    {
     "name": "stdout",
     "output_type": "stream",
     "text": [
      "214\n"
     ]
    }
   ],
   "source": [
    "c = 0\n",
    "for i in l:\n",
    "    c= c+i\n",
    "print(c)"
   ]
  },
  {
   "cell_type": "code",
   "execution_count": 38,
   "metadata": {},
   "outputs": [
    {
     "ename": "IndentationError",
     "evalue": "expected an indented block (<ipython-input-38-523b2b7c8cd2>, line 3)",
     "output_type": "error",
     "traceback": [
      "\u001b[1;36m  File \u001b[1;32m\"<ipython-input-38-523b2b7c8cd2>\"\u001b[1;36m, line \u001b[1;32m3\u001b[0m\n\u001b[1;33m    print(i)\u001b[0m\n\u001b[1;37m        ^\u001b[0m\n\u001b[1;31mIndentationError\u001b[0m\u001b[1;31m:\u001b[0m expected an indented block\n"
     ]
    }
   ],
   "source": [
    "s = [1,2,4,5,6]\n",
    "for i in s:\n",
    "    print(i)"
   ]
  },
  {
   "cell_type": "markdown",
   "metadata": {},
   "source": [
    "fruits = ['apple','orange','banana','grapes',\"kiwi\",\"cherry\",\"melons\"]\n",
    "WAP to take the print of only those fruits which are having \"a\" in them "
   ]
  },
  {
   "cell_type": "code",
   "execution_count": 49,
   "metadata": {},
   "outputs": [
    {
     "name": "stdout",
     "output_type": "stream",
     "text": [
      "0\n",
      "2\n",
      "4\n",
      "6\n",
      "8\n",
      "10\n",
      "12\n",
      "14\n",
      "16\n",
      "18\n",
      "20\n",
      "22\n",
      "24\n",
      "26\n",
      "28\n",
      "30\n",
      "32\n",
      "34\n",
      "36\n",
      "38\n",
      "40\n",
      "42\n",
      "44\n",
      "46\n",
      "48\n",
      "50\n"
     ]
    }
   ],
   "source": [
    "# print even no.s using loops :\n",
    "for i in range(0,51,2):\n",
    "    print(i)"
   ]
  },
  {
   "cell_type": "code",
   "execution_count": 51,
   "metadata": {},
   "outputs": [
    {
     "name": "stdout",
     "output_type": "stream",
     "text": [
      "5\n",
      "10\n",
      "15\n",
      "20\n",
      "25\n",
      "30\n",
      "35\n",
      "40\n",
      "45\n",
      "50\n"
     ]
    }
   ],
   "source": [
    "# print table of 5 \n",
    "for i in range(5,51,5):\n",
    "    print(i)"
   ]
  },
  {
   "cell_type": "code",
   "execution_count": 4,
   "metadata": {},
   "outputs": [
    {
     "name": "stdout",
     "output_type": "stream",
     "text": [
      "10,9,8,7,6,5,4,3,2,1,"
     ]
    }
   ],
   "source": [
    "# print the range of no.s from 10 to 1 , then\n",
    "for i in range(10,0,-1):\n",
    "    print(i,end = ',')"
   ]
  },
  {
   "cell_type": "code",
   "execution_count": 6,
   "metadata": {},
   "outputs": [
    {
     "name": "stdout",
     "output_type": "stream",
     "text": [
      "Enter the no. for which u want to see table : 5\n",
      "5\n",
      "10\n",
      "15\n",
      "20\n",
      "25\n",
      "30\n",
      "35\n",
      "40\n",
      "45\n",
      "50\n"
     ]
    }
   ],
   "source": [
    "n = int(input('Enter the no. for which u want to see table : '))\n",
    "for v in range(1,11):\n",
    "    print(n*v)"
   ]
  },
  {
   "cell_type": "code",
   "execution_count": 56,
   "metadata": {},
   "outputs": [
    {
     "name": "stdout",
     "output_type": "stream",
     "text": [
      "50\n",
      "45\n",
      "40\n",
      "35\n",
      "30\n",
      "25\n",
      "20\n",
      "15\n",
      "10\n",
      "5\n"
     ]
    }
   ],
   "source": [
    "# table in reverse order n = 5\n",
    "for i in range(50,0,-5):\n",
    "    print(i)"
   ]
  },
  {
   "cell_type": "code",
   "execution_count": 57,
   "metadata": {},
   "outputs": [
    {
     "name": "stdout",
     "output_type": "stream",
     "text": [
      "no. is even :  12\n",
      "no. is even :  34\n",
      "no. is odd :  67\n",
      "no. is odd :  23\n"
     ]
    }
   ],
   "source": [
    "l = [12,34,67,23]\n",
    "for i in l:\n",
    "    if i%2==0:\n",
    "        print('no. is even : ',i)\n",
    "    else:\n",
    "        print('no. is odd : ',i)"
   ]
  },
  {
   "cell_type": "markdown",
   "metadata": {},
   "source": [
    "Where the group of statements are going to execute iteratively."
   ]
  },
  {
   "cell_type": "markdown",
   "metadata": {},
   "source": [
    "iterative statements mean that when we require to repeat our tasks again and again, in these cases we use loops for iterative statements.\n",
    "We use loops to iterate the conditions. When we required to repeat the task again and again."
   ]
  },
  {
   "cell_type": "code",
   "execution_count": 1,
   "metadata": {},
   "outputs": [
    {
     "name": "stdout",
     "output_type": "stream",
     "text": [
      "['False', 'None', 'True', 'and', 'as', 'assert', 'async', 'await', 'break', 'class', 'continue', 'def', 'del', 'elif', 'else', 'except', 'finally', 'for', 'from', 'global', 'if', 'import', 'in', 'is', 'lambda', 'nonlocal', 'not', 'or', 'pass', 'raise', 'return', 'try', 'while', 'with', 'yield']\n"
     ]
    }
   ],
   "source": [
    "import keyword\n",
    "print(keyword.kwlist)"
   ]
  },
  {
   "cell_type": "markdown",
   "metadata": {},
   "source": [
    "there are two types of iterative statements present in python-:\n",
    "1. for Loop\n",
    "2. while Loop"
   ]
  },
  {
   "cell_type": "code",
   "execution_count": 2,
   "metadata": {},
   "outputs": [
    {
     "name": "stdout",
     "output_type": "stream",
     "text": [
      "apple,orange,banana,"
     ]
    }
   ],
   "source": [
    "for i in ['apple','orange','banana']:\n",
    "    print(i, end = ',')"
   ]
  },
  {
   "cell_type": "code",
   "execution_count": 25,
   "metadata": {},
   "outputs": [
    {
     "name": "stdout",
     "output_type": "stream",
     "text": [
      "5\n",
      "120\n"
     ]
    }
   ],
   "source": [
    "n = int(input())\n",
    "f = 1\n",
    "for i in range(1,n+1):\n",
    "    f = f*i\n",
    "print(f)"
   ]
  },
  {
   "cell_type": "markdown",
   "metadata": {},
   "source": [
    "WAP to print the factors of a number enetered bby the user \n",
    "10 = 1,2,5,10"
   ]
  },
  {
   "cell_type": "markdown",
   "metadata": {},
   "source": [
    "WAP to print wheather the prime numbers or composites number. number has to be input from the user"
   ]
  },
  {
   "cell_type": "code",
   "execution_count": 4,
   "metadata": {},
   "outputs": [
    {
     "name": "stdout",
     "output_type": "stream",
     "text": [
      "enter the number : 12\n",
      "1  is factor of :  12\n",
      "2  is factor of :  12\n",
      "3  is factor of :  12\n",
      "4  is factor of :  12\n",
      "6  is factor of :  12\n",
      "12  is factor of :  12\n",
      "12  is composite\n"
     ]
    }
   ],
   "source": [
    "n = int(input(\"enter the number : \"))\n",
    "c = 0\n",
    "for i in range(1,n+1):\n",
    "    if n%i==0:\n",
    "        print(i,\" is factor of : \",n)\n",
    "        c=c+1\n",
    "if c==2:\n",
    "    print(n,\" is prime\")\n",
    "else:\n",
    "    print(n,\" is composite\")"
   ]
  },
  {
   "cell_type": "code",
   "execution_count": 21,
   "metadata": {},
   "outputs": [
    {
     "name": "stdout",
     "output_type": "stream",
     "text": [
      "1\n",
      "8\n",
      "27\n",
      "64\n",
      "125\n",
      "216\n",
      "343\n",
      "512\n",
      "729\n",
      "1000\n"
     ]
    }
   ],
   "source": [
    "for i in [1,2,3,4,5,6,7,8,9,10]:\n",
    "    print(i**3)"
   ]
  },
  {
   "cell_type": "code",
   "execution_count": 25,
   "metadata": {},
   "outputs": [
    {
     "name": "stdout",
     "output_type": "stream",
     "text": [
      "1\n",
      "3\n",
      "5\n",
      "7\n",
      "9\n"
     ]
    }
   ],
   "source": [
    "for i in range(1,11,2):\n",
    "    print(i)"
   ]
  },
  {
   "cell_type": "markdown",
   "metadata": {},
   "source": [
    "Wap to take a input from the user and print its factors"
   ]
  },
  {
   "cell_type": "code",
   "execution_count": 4,
   "metadata": {},
   "outputs": [
    {
     "name": "stdout",
     "output_type": "stream",
     "text": [
      "Enter the number : 19\n",
      "1  is factor of  19\n",
      "19  is factor of  19\n",
      "prime :  19\n"
     ]
    }
   ],
   "source": [
    "n = int(input(\"Enter the number : \"))\n",
    "c = 0\n",
    "for i in range(1,n+1):\n",
    "    if n%i==0:\n",
    "        print(i,\" is factor of \",n)\n",
    "        c = c+1\n",
    "if c>2:\n",
    "    print(\"Composite : \",n)\n",
    "elif c<=2:\n",
    "    print(\"prime : \",n)"
   ]
  },
  {
   "cell_type": "markdown",
   "metadata": {},
   "source": [
    "WAP to take a input from the user and check if it prime or composite."
   ]
  },
  {
   "cell_type": "code",
   "execution_count": null,
   "metadata": {},
   "outputs": [],
   "source": [
    "1! = 1\n",
    "0! = 1\n",
    "<0 no factorial\n",
    "10 = 10"
   ]
  },
  {
   "cell_type": "code",
   "execution_count": null,
   "metadata": {},
   "outputs": [],
   "source": [
    "n = int(input(\"enter the number : \")\n",
    "if n==0 or n==1:\n",
    "        print(\"Fact is : \",1)\n",
    "elif n<0:\n",
    "        print(\"fact is not possible \")\n",
    "else:\n",
    "        for i in range(1,n+1):\n",
    "            \n",
    "        \n",
    "    \n",
    "    "
   ]
  },
  {
   "cell_type": "code",
   "execution_count": 8,
   "metadata": {},
   "outputs": [
    {
     "name": "stdout",
     "output_type": "stream",
     "text": [
      "1 2 3 4 5 "
     ]
    }
   ],
   "source": [
    "for i in [1,2,3,4,5]:\n",
    "    print(i, end = ' ')\n",
    "    "
   ]
  },
  {
   "cell_type": "code",
   "execution_count": 9,
   "metadata": {},
   "outputs": [
    {
     "name": "stdout",
     "output_type": "stream",
     "text": [
      "0\n",
      "2\n",
      "4\n",
      "6\n",
      "8\n",
      "10\n"
     ]
    }
   ],
   "source": [
    "for i in range(0,11,2):\n",
    "    print(i)"
   ]
  },
  {
   "cell_type": "code",
   "execution_count": 46,
   "metadata": {},
   "outputs": [
    {
     "name": "stdout",
     "output_type": "stream",
     "text": [
      "1\n",
      "2\n",
      "3\n",
      "4\n",
      "5\n",
      "6\n",
      "7\n",
      "8\n",
      "9\n",
      "10\n"
     ]
    }
   ],
   "source": [
    "for i in range(1,11):\n",
    "    print(i)"
   ]
  },
  {
   "cell_type": "code",
   "execution_count": 50,
   "metadata": {},
   "outputs": [
    {
     "name": "stdout",
     "output_type": "stream",
     "text": [
      "10\n",
      "9\n",
      "8\n",
      "7\n",
      "6\n",
      "5\n",
      "4\n",
      "3\n",
      "2\n",
      "1\n"
     ]
    }
   ],
   "source": [
    "for i in range(10,0,-1):\n",
    "    print(i)"
   ]
  },
  {
   "cell_type": "markdown",
   "metadata": {},
   "source": [
    "WAP to print fizz if the no. is div by 3 ,buzz if the no. is div by 5 and fizzbuzz if the no. is div by both  in range of 1 to 50 both inclusive"
   ]
  },
  {
   "cell_type": "code",
   "execution_count": 5,
   "metadata": {},
   "outputs": [
    {
     "name": "stdout",
     "output_type": "stream",
     "text": [
      "fizz : 3\n",
      "buzz : 5\n",
      "fizz : 6\n",
      "fizz : 9\n",
      "buzz : 10\n",
      "fizz : 12\n",
      "fizzbuzz : 15\n",
      "fizz : 18\n",
      "buzz : 20\n",
      "fizz : 21\n",
      "fizz : 24\n",
      "buzz : 25\n",
      "fizz : 27\n",
      "fizzbuzz : 30\n",
      "fizz : 33\n",
      "buzz : 35\n",
      "fizz : 36\n",
      "fizz : 39\n",
      "buzz : 40\n",
      "fizz : 42\n",
      "fizzbuzz : 45\n",
      "fizz : 48\n",
      "buzz : 50\n"
     ]
    }
   ],
   "source": [
    "for i in range(1,51):\n",
    "    if i%3==0 and i%5==0:\n",
    "        print(\"fizzbuzz :\",i)\n",
    "    elif i%3==0:\n",
    "        print(\"fizz :\",i)\n",
    "    elif i%5==0:\n",
    "        print(\"buzz :\",i)"
   ]
  },
  {
   "cell_type": "code",
   "execution_count": 8,
   "metadata": {},
   "outputs": [
    {
     "name": "stdout",
     "output_type": "stream",
     "text": [
      "no. : 5\n",
      "5\n",
      "20\n",
      "60\n",
      "120\n",
      "120\n"
     ]
    }
   ],
   "source": [
    "n = int(input(\"no. : \"))\n",
    "f =1\n",
    "for i in range(n,0,-1):\n",
    "    f=f*i\n",
    "    print(f)"
   ]
  },
  {
   "cell_type": "code",
   "execution_count": 9,
   "metadata": {},
   "outputs": [
    {
     "name": "stdout",
     "output_type": "stream",
     "text": [
      "2 1\n"
     ]
    }
   ],
   "source": [
    "a = 1\n",
    "b = 2\n",
    "c = a\n",
    "a = b\n",
    "b = c\n",
    "print(a,b)"
   ]
  },
  {
   "cell_type": "code",
   "execution_count": 10,
   "metadata": {},
   "outputs": [
    {
     "name": "stdout",
     "output_type": "stream",
     "text": [
      "Enter the no. of times u want ur loop to run : 10\n",
      "0\n",
      "1\n",
      "1\n",
      "2\n",
      "3\n",
      "5\n",
      "8\n",
      "13\n",
      "21\n",
      "34\n"
     ]
    }
   ],
   "source": [
    "n = int(input(\"Enter the no. of times u want ur loop to run : \"))\n",
    "a = 0\n",
    "b = 1\n",
    "for i in range(n):\n",
    "    c=a\n",
    "    a=b\n",
    "    b=a+c\n",
    "    print(c)"
   ]
  },
  {
   "cell_type": "code",
   "execution_count": null,
   "metadata": {},
   "outputs": [],
   "source": []
  },
  {
   "cell_type": "code",
   "execution_count": null,
   "metadata": {},
   "outputs": [],
   "source": []
  },
  {
   "cell_type": "code",
   "execution_count": null,
   "metadata": {},
   "outputs": [],
   "source": []
  },
  {
   "cell_type": "code",
   "execution_count": null,
   "metadata": {},
   "outputs": [],
   "source": []
  },
  {
   "cell_type": "code",
   "execution_count": null,
   "metadata": {},
   "outputs": [],
   "source": []
  },
  {
   "cell_type": "code",
   "execution_count": 18,
   "metadata": {},
   "outputs": [
    {
     "name": "stdout",
     "output_type": "stream",
     "text": [
      "Fizz 3\n",
      "Buzz 5\n",
      "Fizz 6\n",
      "Fizz 9\n",
      "Buzz 10\n",
      "Fizz 12\n",
      "FizzBuzz 15\n",
      "Fizz 18\n",
      "Buzz 20\n",
      "Fizz 21\n",
      "Fizz 24\n",
      "Buzz 25\n",
      "Fizz 27\n",
      "FizzBuzz 30\n",
      "Fizz 33\n",
      "Buzz 35\n",
      "Fizz 36\n",
      "Fizz 39\n",
      "Buzz 40\n",
      "Fizz 42\n",
      "FizzBuzz 45\n",
      "Fizz 48\n",
      "Buzz 50\n"
     ]
    }
   ],
   "source": [
    "for n in range(1,51):\n",
    "    if n%3==0 and n%5==0:\n",
    "        print(\"FizzBuzz\",n)\n",
    "    elif n%3 == 0:\n",
    "        print(\"Fizz\",n)\n",
    "    elif n%5==0:\n",
    "        print(\"Buzz\",n)\n"
   ]
  },
  {
   "cell_type": "markdown",
   "metadata": {},
   "source": [
    "write a program to print the table of a num n and n has to be taken from the user."
   ]
  },
  {
   "cell_type": "code",
   "execution_count": 62,
   "metadata": {},
   "outputs": [
    {
     "name": "stdout",
     "output_type": "stream",
     "text": [
      "enter the no. for which you want to see table :9\n",
      "9 x 10 = 90\n",
      "9 x 9 = 81\n",
      "9 x 8 = 72\n",
      "9 x 7 = 63\n",
      "9 x 6 = 54\n",
      "9 x 5 = 45\n",
      "9 x 4 = 36\n",
      "9 x 3 = 27\n",
      "9 x 2 = 18\n",
      "9 x 1 = 9\n"
     ]
    }
   ],
   "source": [
    "n =int(input(\"enter the no. for which you want to see table :\"))\n",
    "\n",
    "for i in range(10,0,-1):\n",
    "    print(n,'x',i,'=',i*n)"
   ]
  },
  {
   "cell_type": "code",
   "execution_count": 3,
   "metadata": {},
   "outputs": [
    {
     "name": "stdout",
     "output_type": "stream",
     "text": [
      "1  is o :  1\n",
      "2  is e :  4\n",
      "3  is o :  27\n",
      "4  is e :  16\n",
      "5  is o :  125\n",
      "6  is e :  36\n",
      "7  is o :  343\n",
      "8  is e :  64\n",
      "9  is o :  729\n",
      "10  is e :  100\n",
      "11  is o :  1331\n",
      "12  is e :  144\n",
      "13  is o :  2197\n",
      "14  is e :  196\n",
      "15  is o :  3375\n",
      "16  is e :  256\n",
      "17  is o :  4913\n",
      "18  is e :  324\n",
      "19  is o :  6859\n",
      "20  is e :  400\n",
      "21  is o :  9261\n",
      "22  is e :  484\n",
      "23  is o :  12167\n",
      "24  is e :  576\n",
      "25  is o :  15625\n",
      "26  is e :  676\n",
      "27  is o :  19683\n",
      "28  is e :  784\n",
      "29  is o :  24389\n",
      "30  is e :  900\n",
      "31  is o :  29791\n",
      "32  is e :  1024\n",
      "33  is o :  35937\n",
      "34  is e :  1156\n",
      "35  is o :  42875\n",
      "36  is e :  1296\n",
      "37  is o :  50653\n",
      "38  is e :  1444\n",
      "39  is o :  59319\n",
      "40  is e :  1600\n",
      "41  is o :  68921\n",
      "42  is e :  1764\n",
      "43  is o :  79507\n",
      "44  is e :  1936\n",
      "45  is o :  91125\n",
      "46  is e :  2116\n",
      "47  is o :  103823\n",
      "48  is e :  2304\n",
      "49  is o :  117649\n",
      "50  is e :  2500\n"
     ]
    }
   ],
   "source": [
    "for i in range(1,51):\n",
    "    if i%2==0:\n",
    "        print(i,' is e : ',i*i)\n",
    "    else:\n",
    "        print(i,' is o : ',i*i*i)"
   ]
  },
  {
   "cell_type": "markdown",
   "metadata": {},
   "source": [
    "write a program to print the factorial of a number. "
   ]
  },
  {
   "cell_type": "code",
   "execution_count": 6,
   "metadata": {},
   "outputs": [
    {
     "name": "stdout",
     "output_type": "stream",
     "text": [
      "enter the number for factorial : 3\n",
      "6\n"
     ]
    }
   ],
   "source": [
    "n = int(input('enter the number for factorial : '))\n",
    "if n<0:\n",
    "    print('factorial not possible')\n",
    "elif n==0 or n==1:\n",
    "    print('fact is 1')\n",
    "else:\n",
    "    f = 1\n",
    "    for i in range(1,n+1):\n",
    "        f = f*i\n",
    "    print(f)"
   ]
  },
  {
   "cell_type": "code",
   "execution_count": null,
   "metadata": {},
   "outputs": [],
   "source": [
    "Write a program to print the factors of the number."
   ]
  },
  {
   "cell_type": "code",
   "execution_count": 11,
   "metadata": {},
   "outputs": [
    {
     "name": "stdout",
     "output_type": "stream",
     "text": [
      "Enter no :10\n",
      "1\n",
      "2\n",
      "5\n",
      "10\n",
      "no of factors are :  4\n",
      "no is composite :  10\n"
     ]
    }
   ],
   "source": [
    "n = int(input('Enter no :'))\n",
    "c = 0\n",
    "for i in range(1,n+1):\n",
    "    if n%i==0:\n",
    "        print(i)\n",
    "        c = c+1\n",
    "print('no of factors are : ',c)\n",
    "if c>2:\n",
    "    print('no is composite : ',n)\n",
    "else:\n",
    "    print('No is prime : ',n)"
   ]
  },
  {
   "cell_type": "code",
   "execution_count": 12,
   "metadata": {},
   "outputs": [
    {
     "name": "stdout",
     "output_type": "stream",
     "text": [
      "enter the number : 0\n",
      "Fact is :  1\n"
     ]
    }
   ],
   "source": [
    "n = int(input(\"enter the number : \"))\n",
    "if n==0 or n==1:\n",
    "        print(\"Fact is : \",1)\n",
    "elif n<0:\n",
    "        print(\"fact is not possible \")\n",
    "else:\n",
    "    f=1\n",
    "    for i in range(1,n+1):\n",
    "        f = f*i\n",
    "        print(f)"
   ]
  },
  {
   "cell_type": "code",
   "execution_count": null,
   "metadata": {},
   "outputs": [],
   "source": []
  },
  {
   "cell_type": "code",
   "execution_count": 2,
   "metadata": {},
   "outputs": [
    {
     "name": "stdout",
     "output_type": "stream",
     "text": [
      "enter the no. u want have table of : 50\n",
      "50 x 1 = 50\n",
      "50 x 2 = 100\n",
      "50 x 3 = 150\n",
      "50 x 4 = 200\n",
      "50 x 5 = 250\n",
      "50 x 6 = 300\n",
      "50 x 7 = 350\n",
      "50 x 8 = 400\n",
      "50 x 9 = 450\n",
      "50 x 10 = 500\n"
     ]
    }
   ],
   "source": [
    "n = int(input(\"enter the no. u want have table of : \"))\n",
    "for i in range(1,11):\n",
    "    print(n,'x',i,'=',n*i)\n",
    "    "
   ]
  },
  {
   "cell_type": "markdown",
   "metadata": {},
   "source": [
    "write a program to print the no of elements in the list[1,34,56,78,34,23,78,90]"
   ]
  },
  {
   "cell_type": "code",
   "execution_count": 66,
   "metadata": {},
   "outputs": [
    {
     "name": "stdout",
     "output_type": "stream",
     "text": [
      "6\n",
      "2\n"
     ]
    }
   ],
   "source": [
    "l = [1,34,56,78,34,23,78,90]\n",
    "c,d = 0,0\n",
    "for i in l:\n",
    "    if i%2==0:\n",
    "        c = c+1\n",
    "    else:\n",
    "        d = d+1\n",
    "print(c)\n",
    "print(d)"
   ]
  },
  {
   "cell_type": "code",
   "execution_count": 2,
   "metadata": {},
   "outputs": [
    {
     "name": "stdout",
     "output_type": "stream",
     "text": [
      "10\n"
     ]
    }
   ],
   "source": [
    "l = [1,2,3,4]\n",
    "sum1 = 0\n",
    "for i in l:\n",
    "    sum1 = sum1+i\n",
    "print(sum1)"
   ]
  },
  {
   "cell_type": "code",
   "execution_count": 65,
   "metadata": {},
   "outputs": [
    {
     "data": {
      "text/plain": [
       "8"
      ]
     },
     "execution_count": 65,
     "metadata": {},
     "output_type": "execute_result"
    }
   ],
   "source": [
    "l = [1,34,56,78,34,23,78,90]\n",
    "len(l)"
   ]
  },
  {
   "cell_type": "markdown",
   "metadata": {},
   "source": [
    "write a program to sum the no. of elements in the list"
   ]
  },
  {
   "cell_type": "markdown",
   "metadata": {},
   "source": [
    "lets write a program to check the factors of num n and n has to asked from the user\n",
    "\n",
    "10 - 1,2,5,10\n",
    "15 - 1,3,5,15\n"
   ]
  },
  {
   "cell_type": "code",
   "execution_count": 78,
   "metadata": {},
   "outputs": [
    {
     "name": "stdout",
     "output_type": "stream",
     "text": [
      "Ent the no.45\n",
      "1\n",
      "3\n",
      "5\n",
      "9\n",
      "15\n",
      "45\n",
      "no. is Composite and  no. of factors 6 of 45\n"
     ]
    }
   ],
   "source": [
    "n = int(input('Ent the no.'))\n",
    "c = 0\n",
    "for i in range(1,n+1):\n",
    "    if n%i==0:\n",
    "        print(i)\n",
    "        c = c+1\n",
    "if c==2:\n",
    "    print('no. is prime and ','no. of factors',c,'of',n)\n",
    "else:\n",
    "    print('no. is Composite and ','no. of factors',c,'of',n)"
   ]
  },
  {
   "cell_type": "code",
   "execution_count": null,
   "metadata": {},
   "outputs": [],
   "source": [
    "n = 23\n"
   ]
  },
  {
   "cell_type": "code",
   "execution_count": null,
   "metadata": {},
   "outputs": [],
   "source": [
    "prime and composite \n",
    "prime have 2 factors \n",
    "comp have more than 2 "
   ]
  },
  {
   "cell_type": "code",
   "execution_count": 54,
   "metadata": {},
   "outputs": [
    {
     "name": "stdout",
     "output_type": "stream",
     "text": [
      "394\n"
     ]
    }
   ],
   "source": [
    "c = 0\n",
    "for i in [1,34,56,78,34,23,78,90]:\n",
    "    c= c+i\n",
    "print(c)"
   ]
  },
  {
   "cell_type": "markdown",
   "metadata": {},
   "source": [
    "write a program to print all the factors of the number entered by the user"
   ]
  },
  {
   "cell_type": "code",
   "execution_count": 19,
   "metadata": {},
   "outputs": [
    {
     "name": "stdout",
     "output_type": "stream",
     "text": [
      "6\n"
     ]
    }
   ],
   "source": [
    "l = [1,2,3,4,5,6]\n",
    "c = 0\n",
    "for i in l:\n",
    "    c = c+1\n",
    "print(c)\n"
   ]
  },
  {
   "cell_type": "code",
   "execution_count": 20,
   "metadata": {},
   "outputs": [
    {
     "name": "stdout",
     "output_type": "stream",
     "text": [
      "enterthe,we,y,q\n"
     ]
    }
   ],
   "source": [
    "l = input('enter').split(',')"
   ]
  },
  {
   "cell_type": "code",
   "execution_count": 21,
   "metadata": {},
   "outputs": [
    {
     "data": {
      "text/plain": [
       "['the', 'we', 'y', 'q']"
      ]
     },
     "execution_count": 21,
     "metadata": {},
     "output_type": "execute_result"
    }
   ],
   "source": [
    "l"
   ]
  },
  {
   "cell_type": "code",
   "execution_count": 18,
   "metadata": {},
   "outputs": [
    {
     "name": "stdout",
     "output_type": "stream",
     "text": [
      "Enter the number for which u want to see factors : 45\n",
      "factors are :\n",
      "1\n",
      "3\n",
      "5\n",
      "9\n",
      "15\n",
      "45\n"
     ]
    }
   ],
   "source": [
    "n = int(input(\"Enter the number for which u want to see factors : \"))\n",
    "print('factors are :')\n",
    "for i in range(1,n+1):\n",
    "    if n%i==0:\n",
    "        print(i)"
   ]
  },
  {
   "cell_type": "code",
   "execution_count": 61,
   "metadata": {},
   "outputs": [
    {
     "name": "stdout",
     "output_type": "stream",
     "text": [
      "enter the no. u want to see factors of :5\n",
      "factors are :  1\n",
      "factors are :  5\n",
      "no. of factors are :  2\n",
      "no. is prime : 5\n"
     ]
    }
   ],
   "source": [
    "c=0\n",
    "n = int(input('enter the no. u want to see factors of :'))\n",
    "for i in range(1,n+1):\n",
    "    if n%i==0:\n",
    "        print('factors are : ',i)\n",
    "        c = c+1\n",
    "    else:\n",
    "        pass\n",
    "print('no. of factors are : ',c)\n",
    "if c<=2:\n",
    "    print('no. is prime :',n)\n",
    "else:\n",
    "    print('no. is composite :',n)"
   ]
  },
  {
   "cell_type": "code",
   "execution_count": 6,
   "metadata": {},
   "outputs": [
    {
     "name": "stdout",
     "output_type": "stream",
     "text": [
      "Enter the no. for which you want to see factorial :-1\n",
      "Factorial not possible\n"
     ]
    }
   ],
   "source": [
    "n = int(input('Enter the no. for which you want to see factorial :'))\n",
    "if n<0:\n",
    "    print('Factorial not possible')\n",
    "elif n==0 or n==1:\n",
    "    print('factorial is 1')\n",
    "elif n>1:\n",
    "    f = 1\n",
    "    for i in range(n,0,-1):\n",
    "        f = f*i\n",
    "    print(f)"
   ]
  },
  {
   "cell_type": "code",
   "execution_count": 1,
   "metadata": {},
   "outputs": [
    {
     "name": "stdout",
     "output_type": "stream",
     "text": [
      "Enter the no. for which you want to see factorial :5\n",
      "120\n"
     ]
    }
   ],
   "source": [
    "n = int(input('Enter the no. for which you want to see factorial :'))\n",
    "f = 1\n",
    "for i in range(1,n+1):\n",
    "    f = f*i\n",
    "print(f)"
   ]
  },
  {
   "cell_type": "code",
   "execution_count": 63,
   "metadata": {},
   "outputs": [
    {
     "name": "stdout",
     "output_type": "stream",
     "text": [
      "enter the no whose table u want to print : 5\n",
      "5 x 1 = 5\n",
      "5 x 2 = 10\n",
      "5 x 3 = 15\n",
      "5 x 4 = 20\n",
      "5 x 5 = 25\n",
      "5 x 6 = 30\n",
      "5 x 7 = 35\n",
      "5 x 8 = 40\n",
      "5 x 9 = 45\n",
      "5 x 10 = 50\n"
     ]
    }
   ],
   "source": [
    "n= int(input('enter the no whose table u want to print : '))\n",
    "for i in range(1,11):\n",
    "    print(n,'x',i,'=',i*n)\n",
    "    "
   ]
  },
  {
   "cell_type": "code",
   "execution_count": 5,
   "metadata": {},
   "outputs": [
    {
     "name": "stdout",
     "output_type": "stream",
     "text": [
      "2000\n",
      "2003\n",
      "2006\n",
      "2009\n",
      "2012\n",
      "2015\n",
      "2018\n",
      "2021\n",
      "2024\n",
      "2027\n",
      "2030\n",
      "2033\n",
      "2036\n",
      "2039\n",
      "2042\n",
      "2045\n",
      "2048\n",
      "2051\n",
      "2054\n",
      "2057\n",
      "2060\n",
      "2063\n",
      "2066\n",
      "2069\n",
      "2072\n",
      "2075\n",
      "2078\n",
      "2081\n",
      "2084\n",
      "2087\n",
      "2090\n",
      "2093\n",
      "2096\n",
      "2099\n",
      "2102\n",
      "2105\n",
      "2108\n",
      "2111\n",
      "2114\n",
      "2117\n",
      "2120\n",
      "2123\n",
      "2126\n",
      "2129\n",
      "2132\n",
      "2135\n",
      "2138\n",
      "2141\n",
      "2144\n",
      "2147\n",
      "2150\n",
      "2153\n",
      "2156\n",
      "2159\n",
      "2162\n",
      "2165\n",
      "2168\n",
      "2171\n",
      "2174\n",
      "2177\n",
      "2180\n",
      "2183\n",
      "2186\n",
      "2189\n",
      "2192\n",
      "2195\n",
      "2198\n",
      "2201\n",
      "2204\n",
      "2207\n",
      "2210\n",
      "2213\n",
      "2216\n",
      "2219\n",
      "2222\n",
      "2225\n",
      "2228\n",
      "2231\n",
      "2234\n",
      "2237\n",
      "2240\n",
      "2243\n",
      "2246\n",
      "2249\n",
      "2252\n",
      "2255\n",
      "2258\n",
      "2261\n",
      "2264\n",
      "2267\n",
      "2270\n",
      "2273\n",
      "2276\n",
      "2279\n",
      "2282\n",
      "2285\n",
      "2288\n",
      "2291\n",
      "2294\n",
      "2297\n",
      "2300\n",
      "2303\n",
      "2306\n",
      "2309\n",
      "2312\n",
      "2315\n",
      "2318\n",
      "2321\n",
      "2324\n",
      "2327\n",
      "2330\n",
      "2333\n",
      "2336\n",
      "2339\n",
      "2342\n",
      "2345\n",
      "2348\n",
      "2351\n",
      "2354\n",
      "2357\n",
      "2360\n",
      "2363\n",
      "2366\n",
      "2369\n",
      "2372\n",
      "2375\n",
      "2378\n",
      "2381\n",
      "2384\n",
      "2387\n",
      "2390\n",
      "2393\n",
      "2396\n",
      "2399\n",
      "2402\n",
      "2405\n",
      "2408\n",
      "2411\n",
      "2414\n",
      "2417\n",
      "2420\n",
      "2423\n",
      "2426\n",
      "2429\n",
      "2432\n",
      "2435\n",
      "2438\n",
      "2441\n",
      "2444\n",
      "2447\n",
      "2450\n",
      "2453\n",
      "2456\n",
      "2459\n",
      "2462\n",
      "2465\n",
      "2468\n",
      "2471\n",
      "2474\n",
      "2477\n",
      "2480\n",
      "2483\n",
      "2486\n",
      "2489\n",
      "2492\n",
      "2495\n",
      "2498\n",
      "2501\n",
      "2504\n",
      "2507\n",
      "2510\n",
      "2513\n",
      "2516\n",
      "2519\n",
      "2522\n",
      "2525\n",
      "2528\n",
      "2531\n",
      "2534\n",
      "2537\n",
      "2540\n",
      "2543\n",
      "2546\n",
      "2549\n",
      "2552\n",
      "2555\n",
      "2558\n",
      "2561\n",
      "2564\n",
      "2567\n",
      "2570\n",
      "2573\n",
      "2576\n",
      "2579\n",
      "2582\n",
      "2585\n",
      "2588\n",
      "2591\n",
      "2594\n",
      "2597\n",
      "2600\n",
      "2603\n",
      "2606\n",
      "2609\n",
      "2612\n",
      "2615\n",
      "2618\n",
      "2621\n",
      "2624\n",
      "2627\n",
      "2630\n",
      "2633\n",
      "2636\n",
      "2639\n",
      "2642\n",
      "2645\n",
      "2648\n",
      "2651\n",
      "2654\n",
      "2657\n",
      "2660\n",
      "2663\n",
      "2666\n",
      "2669\n",
      "2672\n",
      "2675\n",
      "2678\n",
      "2681\n",
      "2684\n",
      "2687\n",
      "2690\n",
      "2693\n",
      "2696\n",
      "2699\n",
      "2702\n",
      "2705\n",
      "2708\n",
      "2711\n",
      "2714\n",
      "2717\n",
      "2720\n",
      "2723\n",
      "2726\n",
      "2729\n",
      "2732\n",
      "2735\n",
      "2738\n",
      "2741\n",
      "2744\n",
      "2747\n",
      "2750\n",
      "2753\n",
      "2756\n",
      "2759\n",
      "2762\n",
      "2765\n",
      "2768\n",
      "2771\n",
      "2774\n",
      "2777\n",
      "2780\n",
      "2783\n",
      "2786\n",
      "2789\n",
      "2792\n",
      "2795\n",
      "2798\n",
      "2801\n",
      "2804\n",
      "2807\n",
      "2810\n",
      "2813\n",
      "2816\n",
      "2819\n",
      "2822\n",
      "2825\n",
      "2828\n",
      "2831\n",
      "2834\n",
      "2837\n",
      "2840\n",
      "2843\n",
      "2846\n",
      "2849\n",
      "2852\n",
      "2855\n",
      "2858\n",
      "2861\n",
      "2864\n",
      "2867\n",
      "2870\n",
      "2873\n",
      "2876\n",
      "2879\n",
      "2882\n",
      "2885\n",
      "2888\n",
      "2891\n",
      "2894\n",
      "2897\n",
      "2900\n",
      "2903\n",
      "2906\n",
      "2909\n",
      "2912\n",
      "2915\n",
      "2918\n",
      "2921\n",
      "2924\n",
      "2927\n",
      "2930\n",
      "2933\n",
      "2936\n",
      "2939\n",
      "2942\n",
      "2945\n",
      "2948\n",
      "2951\n",
      "2954\n",
      "2957\n",
      "2960\n",
      "2963\n",
      "2966\n",
      "2969\n",
      "2972\n",
      "2975\n",
      "2978\n",
      "2981\n",
      "2984\n",
      "2987\n",
      "2990\n",
      "2993\n",
      "2996\n",
      "2999\n"
     ]
    }
   ],
   "source": [
    "for i in range(2000,3001,3):\n",
    "    print(i)"
   ]
  },
  {
   "cell_type": "markdown",
   "metadata": {},
   "source": [
    "wap to print fizz if the number is div by 3 buzz if the number is div by 5 and fizzbuzz if the number is div by 3 and 5 both. and range of numbers is 2000,3200."
   ]
  },
  {
   "cell_type": "code",
   "execution_count": 13,
   "metadata": {},
   "outputs": [
    {
     "name": "stdout",
     "output_type": "stream",
     "text": [
      "buzz\n",
      "fizz\n",
      "2002\n",
      "2003\n",
      "fizz\n",
      "buzz\n",
      "2006\n",
      "fizz\n",
      "2008\n",
      "2009\n",
      "fizzbuzz\n",
      "2011\n",
      "2012\n",
      "fizz\n",
      "2014\n",
      "buzz\n",
      "fizz\n",
      "2017\n",
      "2018\n",
      "fizz\n",
      "buzz\n",
      "2021\n",
      "fizz\n",
      "2023\n",
      "2024\n",
      "fizzbuzz\n",
      "2026\n",
      "2027\n",
      "fizz\n",
      "2029\n",
      "buzz\n",
      "fizz\n",
      "2032\n",
      "2033\n",
      "fizz\n",
      "buzz\n",
      "2036\n",
      "fizz\n",
      "2038\n",
      "2039\n",
      "fizzbuzz\n",
      "2041\n",
      "2042\n",
      "fizz\n",
      "2044\n",
      "buzz\n",
      "fizz\n",
      "2047\n",
      "2048\n",
      "fizz\n",
      "buzz\n",
      "2051\n",
      "fizz\n",
      "2053\n",
      "2054\n",
      "fizzbuzz\n",
      "2056\n",
      "2057\n",
      "fizz\n",
      "2059\n",
      "buzz\n",
      "fizz\n",
      "2062\n",
      "2063\n",
      "fizz\n",
      "buzz\n",
      "2066\n",
      "fizz\n",
      "2068\n",
      "2069\n",
      "fizzbuzz\n",
      "2071\n",
      "2072\n",
      "fizz\n",
      "2074\n",
      "buzz\n",
      "fizz\n",
      "2077\n",
      "2078\n",
      "fizz\n",
      "buzz\n",
      "2081\n",
      "fizz\n",
      "2083\n",
      "2084\n",
      "fizzbuzz\n",
      "2086\n",
      "2087\n",
      "fizz\n",
      "2089\n",
      "buzz\n",
      "fizz\n",
      "2092\n",
      "2093\n",
      "fizz\n",
      "buzz\n",
      "2096\n",
      "fizz\n",
      "2098\n",
      "2099\n",
      "fizzbuzz\n",
      "2101\n",
      "2102\n",
      "fizz\n",
      "2104\n",
      "buzz\n",
      "fizz\n",
      "2107\n",
      "2108\n",
      "fizz\n",
      "buzz\n",
      "2111\n",
      "fizz\n",
      "2113\n",
      "2114\n",
      "fizzbuzz\n",
      "2116\n",
      "2117\n",
      "fizz\n",
      "2119\n",
      "buzz\n",
      "fizz\n",
      "2122\n",
      "2123\n",
      "fizz\n",
      "buzz\n",
      "2126\n",
      "fizz\n",
      "2128\n",
      "2129\n",
      "fizzbuzz\n",
      "2131\n",
      "2132\n",
      "fizz\n",
      "2134\n",
      "buzz\n",
      "fizz\n",
      "2137\n",
      "2138\n",
      "fizz\n",
      "buzz\n",
      "2141\n",
      "fizz\n",
      "2143\n",
      "2144\n",
      "fizzbuzz\n",
      "2146\n",
      "2147\n",
      "fizz\n",
      "2149\n",
      "buzz\n",
      "fizz\n",
      "2152\n",
      "2153\n",
      "fizz\n",
      "buzz\n",
      "2156\n",
      "fizz\n",
      "2158\n",
      "2159\n",
      "fizzbuzz\n",
      "2161\n",
      "2162\n",
      "fizz\n",
      "2164\n",
      "buzz\n",
      "fizz\n",
      "2167\n",
      "2168\n",
      "fizz\n",
      "buzz\n",
      "2171\n",
      "fizz\n",
      "2173\n",
      "2174\n",
      "fizzbuzz\n",
      "2176\n",
      "2177\n",
      "fizz\n",
      "2179\n",
      "buzz\n",
      "fizz\n",
      "2182\n",
      "2183\n",
      "fizz\n",
      "buzz\n",
      "2186\n",
      "fizz\n",
      "2188\n",
      "2189\n",
      "fizzbuzz\n",
      "2191\n",
      "2192\n",
      "fizz\n",
      "2194\n",
      "buzz\n",
      "fizz\n",
      "2197\n",
      "2198\n",
      "fizz\n",
      "buzz\n",
      "2201\n",
      "fizz\n",
      "2203\n",
      "2204\n",
      "fizzbuzz\n",
      "2206\n",
      "2207\n",
      "fizz\n",
      "2209\n",
      "buzz\n",
      "fizz\n",
      "2212\n",
      "2213\n",
      "fizz\n",
      "buzz\n",
      "2216\n",
      "fizz\n",
      "2218\n",
      "2219\n",
      "fizzbuzz\n",
      "2221\n",
      "2222\n",
      "fizz\n",
      "2224\n",
      "buzz\n",
      "fizz\n",
      "2227\n",
      "2228\n",
      "fizz\n",
      "buzz\n",
      "2231\n",
      "fizz\n",
      "2233\n",
      "2234\n",
      "fizzbuzz\n",
      "2236\n",
      "2237\n",
      "fizz\n",
      "2239\n",
      "buzz\n",
      "fizz\n",
      "2242\n",
      "2243\n",
      "fizz\n",
      "buzz\n",
      "2246\n",
      "fizz\n",
      "2248\n",
      "2249\n",
      "fizzbuzz\n",
      "2251\n",
      "2252\n",
      "fizz\n",
      "2254\n",
      "buzz\n",
      "fizz\n",
      "2257\n",
      "2258\n",
      "fizz\n",
      "buzz\n",
      "2261\n",
      "fizz\n",
      "2263\n",
      "2264\n",
      "fizzbuzz\n",
      "2266\n",
      "2267\n",
      "fizz\n",
      "2269\n",
      "buzz\n",
      "fizz\n",
      "2272\n",
      "2273\n",
      "fizz\n",
      "buzz\n",
      "2276\n",
      "fizz\n",
      "2278\n",
      "2279\n",
      "fizzbuzz\n",
      "2281\n",
      "2282\n",
      "fizz\n",
      "2284\n",
      "buzz\n",
      "fizz\n",
      "2287\n",
      "2288\n",
      "fizz\n",
      "buzz\n",
      "2291\n",
      "fizz\n",
      "2293\n",
      "2294\n",
      "fizzbuzz\n",
      "2296\n",
      "2297\n",
      "fizz\n",
      "2299\n",
      "buzz\n",
      "fizz\n",
      "2302\n",
      "2303\n",
      "fizz\n",
      "buzz\n",
      "2306\n",
      "fizz\n",
      "2308\n",
      "2309\n",
      "fizzbuzz\n",
      "2311\n",
      "2312\n",
      "fizz\n",
      "2314\n",
      "buzz\n",
      "fizz\n",
      "2317\n",
      "2318\n",
      "fizz\n",
      "buzz\n",
      "2321\n",
      "fizz\n",
      "2323\n",
      "2324\n",
      "fizzbuzz\n",
      "2326\n",
      "2327\n",
      "fizz\n",
      "2329\n",
      "buzz\n",
      "fizz\n",
      "2332\n",
      "2333\n",
      "fizz\n",
      "buzz\n",
      "2336\n",
      "fizz\n",
      "2338\n",
      "2339\n",
      "fizzbuzz\n",
      "2341\n",
      "2342\n",
      "fizz\n",
      "2344\n",
      "buzz\n",
      "fizz\n",
      "2347\n",
      "2348\n",
      "fizz\n",
      "buzz\n",
      "2351\n",
      "fizz\n",
      "2353\n",
      "2354\n",
      "fizzbuzz\n",
      "2356\n",
      "2357\n",
      "fizz\n",
      "2359\n",
      "buzz\n",
      "fizz\n",
      "2362\n",
      "2363\n",
      "fizz\n",
      "buzz\n",
      "2366\n",
      "fizz\n",
      "2368\n",
      "2369\n",
      "fizzbuzz\n",
      "2371\n",
      "2372\n",
      "fizz\n",
      "2374\n",
      "buzz\n",
      "fizz\n",
      "2377\n",
      "2378\n",
      "fizz\n",
      "buzz\n",
      "2381\n",
      "fizz\n",
      "2383\n",
      "2384\n",
      "fizzbuzz\n",
      "2386\n",
      "2387\n",
      "fizz\n",
      "2389\n",
      "buzz\n",
      "fizz\n",
      "2392\n",
      "2393\n",
      "fizz\n",
      "buzz\n",
      "2396\n",
      "fizz\n",
      "2398\n",
      "2399\n",
      "fizzbuzz\n",
      "2401\n",
      "2402\n",
      "fizz\n",
      "2404\n",
      "buzz\n",
      "fizz\n",
      "2407\n",
      "2408\n",
      "fizz\n",
      "buzz\n",
      "2411\n",
      "fizz\n",
      "2413\n",
      "2414\n",
      "fizzbuzz\n",
      "2416\n",
      "2417\n",
      "fizz\n",
      "2419\n",
      "buzz\n",
      "fizz\n",
      "2422\n",
      "2423\n",
      "fizz\n",
      "buzz\n",
      "2426\n",
      "fizz\n",
      "2428\n",
      "2429\n",
      "fizzbuzz\n",
      "2431\n",
      "2432\n",
      "fizz\n",
      "2434\n",
      "buzz\n",
      "fizz\n",
      "2437\n",
      "2438\n",
      "fizz\n",
      "buzz\n",
      "2441\n",
      "fizz\n",
      "2443\n",
      "2444\n",
      "fizzbuzz\n",
      "2446\n",
      "2447\n",
      "fizz\n",
      "2449\n",
      "buzz\n",
      "fizz\n",
      "2452\n",
      "2453\n",
      "fizz\n",
      "buzz\n",
      "2456\n",
      "fizz\n",
      "2458\n",
      "2459\n",
      "fizzbuzz\n",
      "2461\n",
      "2462\n",
      "fizz\n",
      "2464\n",
      "buzz\n",
      "fizz\n",
      "2467\n",
      "2468\n",
      "fizz\n",
      "buzz\n",
      "2471\n",
      "fizz\n",
      "2473\n",
      "2474\n",
      "fizzbuzz\n",
      "2476\n",
      "2477\n",
      "fizz\n",
      "2479\n",
      "buzz\n",
      "fizz\n",
      "2482\n",
      "2483\n",
      "fizz\n",
      "buzz\n",
      "2486\n",
      "fizz\n",
      "2488\n",
      "2489\n",
      "fizzbuzz\n",
      "2491\n",
      "2492\n",
      "fizz\n",
      "2494\n",
      "buzz\n",
      "fizz\n",
      "2497\n",
      "2498\n",
      "fizz\n",
      "buzz\n",
      "2501\n",
      "fizz\n",
      "2503\n",
      "2504\n",
      "fizzbuzz\n",
      "2506\n",
      "2507\n",
      "fizz\n",
      "2509\n",
      "buzz\n",
      "fizz\n",
      "2512\n",
      "2513\n",
      "fizz\n",
      "buzz\n",
      "2516\n",
      "fizz\n",
      "2518\n",
      "2519\n",
      "fizzbuzz\n",
      "2521\n",
      "2522\n",
      "fizz\n",
      "2524\n",
      "buzz\n",
      "fizz\n",
      "2527\n",
      "2528\n",
      "fizz\n",
      "buzz\n",
      "2531\n",
      "fizz\n",
      "2533\n",
      "2534\n",
      "fizzbuzz\n",
      "2536\n",
      "2537\n",
      "fizz\n",
      "2539\n",
      "buzz\n",
      "fizz\n",
      "2542\n",
      "2543\n",
      "fizz\n",
      "buzz\n",
      "2546\n",
      "fizz\n",
      "2548\n",
      "2549\n",
      "fizzbuzz\n",
      "2551\n",
      "2552\n",
      "fizz\n",
      "2554\n",
      "buzz\n",
      "fizz\n",
      "2557\n",
      "2558\n",
      "fizz\n",
      "buzz\n",
      "2561\n",
      "fizz\n",
      "2563\n",
      "2564\n",
      "fizzbuzz\n",
      "2566\n",
      "2567\n",
      "fizz\n",
      "2569\n",
      "buzz\n",
      "fizz\n",
      "2572\n",
      "2573\n",
      "fizz\n",
      "buzz\n",
      "2576\n",
      "fizz\n",
      "2578\n",
      "2579\n",
      "fizzbuzz\n",
      "2581\n",
      "2582\n",
      "fizz\n",
      "2584\n",
      "buzz\n",
      "fizz\n",
      "2587\n",
      "2588\n",
      "fizz\n",
      "buzz\n",
      "2591\n",
      "fizz\n",
      "2593\n",
      "2594\n",
      "fizzbuzz\n",
      "2596\n",
      "2597\n",
      "fizz\n",
      "2599\n",
      "buzz\n",
      "fizz\n",
      "2602\n",
      "2603\n",
      "fizz\n",
      "buzz\n",
      "2606\n",
      "fizz\n",
      "2608\n",
      "2609\n",
      "fizzbuzz\n",
      "2611\n",
      "2612\n",
      "fizz\n",
      "2614\n",
      "buzz\n",
      "fizz\n",
      "2617\n",
      "2618\n",
      "fizz\n",
      "buzz\n",
      "2621\n",
      "fizz\n",
      "2623\n",
      "2624\n",
      "fizzbuzz\n",
      "2626\n",
      "2627\n",
      "fizz\n",
      "2629\n",
      "buzz\n",
      "fizz\n",
      "2632\n",
      "2633\n",
      "fizz\n",
      "buzz\n",
      "2636\n",
      "fizz\n",
      "2638\n",
      "2639\n",
      "fizzbuzz\n",
      "2641\n",
      "2642\n",
      "fizz\n",
      "2644\n",
      "buzz\n",
      "fizz\n",
      "2647\n",
      "2648\n",
      "fizz\n",
      "buzz\n",
      "2651\n",
      "fizz\n",
      "2653\n",
      "2654\n",
      "fizzbuzz\n",
      "2656\n",
      "2657\n",
      "fizz\n",
      "2659\n",
      "buzz\n",
      "fizz\n",
      "2662\n",
      "2663\n",
      "fizz\n",
      "buzz\n",
      "2666\n",
      "fizz\n",
      "2668\n",
      "2669\n",
      "fizzbuzz\n",
      "2671\n",
      "2672\n",
      "fizz\n",
      "2674\n",
      "buzz\n",
      "fizz\n",
      "2677\n",
      "2678\n",
      "fizz\n",
      "buzz\n",
      "2681\n",
      "fizz\n",
      "2683\n",
      "2684\n",
      "fizzbuzz\n",
      "2686\n",
      "2687\n",
      "fizz\n",
      "2689\n",
      "buzz\n",
      "fizz\n",
      "2692\n",
      "2693\n",
      "fizz\n",
      "buzz\n",
      "2696\n",
      "fizz\n",
      "2698\n",
      "2699\n",
      "fizzbuzz\n",
      "2701\n",
      "2702\n",
      "fizz\n",
      "2704\n",
      "buzz\n",
      "fizz\n",
      "2707\n",
      "2708\n",
      "fizz\n",
      "buzz\n",
      "2711\n",
      "fizz\n",
      "2713\n",
      "2714\n",
      "fizzbuzz\n",
      "2716\n",
      "2717\n",
      "fizz\n",
      "2719\n",
      "buzz\n",
      "fizz\n",
      "2722\n",
      "2723\n",
      "fizz\n",
      "buzz\n",
      "2726\n",
      "fizz\n",
      "2728\n",
      "2729\n",
      "fizzbuzz\n",
      "2731\n",
      "2732\n",
      "fizz\n",
      "2734\n",
      "buzz\n",
      "fizz\n",
      "2737\n",
      "2738\n",
      "fizz\n",
      "buzz\n",
      "2741\n",
      "fizz\n",
      "2743\n",
      "2744\n",
      "fizzbuzz\n",
      "2746\n",
      "2747\n",
      "fizz\n",
      "2749\n",
      "buzz\n",
      "fizz\n",
      "2752\n",
      "2753\n",
      "fizz\n",
      "buzz\n",
      "2756\n",
      "fizz\n",
      "2758\n",
      "2759\n",
      "fizzbuzz\n",
      "2761\n",
      "2762\n",
      "fizz\n",
      "2764\n",
      "buzz\n",
      "fizz\n",
      "2767\n",
      "2768\n",
      "fizz\n",
      "buzz\n",
      "2771\n",
      "fizz\n",
      "2773\n",
      "2774\n",
      "fizzbuzz\n",
      "2776\n",
      "2777\n",
      "fizz\n",
      "2779\n",
      "buzz\n",
      "fizz\n",
      "2782\n",
      "2783\n",
      "fizz\n",
      "buzz\n",
      "2786\n",
      "fizz\n",
      "2788\n",
      "2789\n",
      "fizzbuzz\n",
      "2791\n",
      "2792\n",
      "fizz\n",
      "2794\n",
      "buzz\n",
      "fizz\n",
      "2797\n",
      "2798\n",
      "fizz\n",
      "buzz\n",
      "2801\n",
      "fizz\n",
      "2803\n",
      "2804\n",
      "fizzbuzz\n",
      "2806\n",
      "2807\n",
      "fizz\n",
      "2809\n",
      "buzz\n",
      "fizz\n",
      "2812\n",
      "2813\n",
      "fizz\n",
      "buzz\n",
      "2816\n",
      "fizz\n",
      "2818\n",
      "2819\n",
      "fizzbuzz\n",
      "2821\n",
      "2822\n",
      "fizz\n",
      "2824\n",
      "buzz\n",
      "fizz\n",
      "2827\n",
      "2828\n",
      "fizz\n",
      "buzz\n",
      "2831\n",
      "fizz\n",
      "2833\n",
      "2834\n",
      "fizzbuzz\n",
      "2836\n",
      "2837\n",
      "fizz\n",
      "2839\n",
      "buzz\n",
      "fizz\n",
      "2842\n",
      "2843\n",
      "fizz\n",
      "buzz\n",
      "2846\n",
      "fizz\n",
      "2848\n",
      "2849\n",
      "fizzbuzz\n",
      "2851\n",
      "2852\n",
      "fizz\n",
      "2854\n",
      "buzz\n",
      "fizz\n",
      "2857\n",
      "2858\n",
      "fizz\n",
      "buzz\n",
      "2861\n",
      "fizz\n",
      "2863\n",
      "2864\n",
      "fizzbuzz\n",
      "2866\n",
      "2867\n",
      "fizz\n",
      "2869\n",
      "buzz\n",
      "fizz\n",
      "2872\n",
      "2873\n",
      "fizz\n",
      "buzz\n",
      "2876\n",
      "fizz\n",
      "2878\n",
      "2879\n",
      "fizzbuzz\n",
      "2881\n",
      "2882\n",
      "fizz\n",
      "2884\n",
      "buzz\n",
      "fizz\n",
      "2887\n",
      "2888\n",
      "fizz\n",
      "buzz\n",
      "2891\n",
      "fizz\n",
      "2893\n",
      "2894\n",
      "fizzbuzz\n",
      "2896\n",
      "2897\n",
      "fizz\n",
      "2899\n",
      "buzz\n",
      "fizz\n",
      "2902\n",
      "2903\n",
      "fizz\n",
      "buzz\n",
      "2906\n",
      "fizz\n",
      "2908\n",
      "2909\n",
      "fizzbuzz\n",
      "2911\n",
      "2912\n",
      "fizz\n",
      "2914\n",
      "buzz\n",
      "fizz\n",
      "2917\n",
      "2918\n",
      "fizz\n",
      "buzz\n",
      "2921\n",
      "fizz\n",
      "2923\n",
      "2924\n",
      "fizzbuzz\n",
      "2926\n",
      "2927\n",
      "fizz\n",
      "2929\n",
      "buzz\n",
      "fizz\n",
      "2932\n",
      "2933\n",
      "fizz\n",
      "buzz\n",
      "2936\n",
      "fizz\n",
      "2938\n",
      "2939\n",
      "fizzbuzz\n",
      "2941\n",
      "2942\n",
      "fizz\n",
      "2944\n",
      "buzz\n",
      "fizz\n",
      "2947\n",
      "2948\n",
      "fizz\n",
      "buzz\n",
      "2951\n",
      "fizz\n",
      "2953\n",
      "2954\n",
      "fizzbuzz\n",
      "2956\n",
      "2957\n",
      "fizz\n",
      "2959\n",
      "buzz\n",
      "fizz\n",
      "2962\n",
      "2963\n",
      "fizz\n",
      "buzz\n",
      "2966\n",
      "fizz\n",
      "2968\n",
      "2969\n",
      "fizzbuzz\n",
      "2971\n",
      "2972\n",
      "fizz\n",
      "2974\n",
      "buzz\n",
      "fizz\n",
      "2977\n",
      "2978\n",
      "fizz\n",
      "buzz\n",
      "2981\n",
      "fizz\n",
      "2983\n",
      "2984\n",
      "fizzbuzz\n",
      "2986\n",
      "2987\n",
      "fizz\n",
      "2989\n",
      "buzz\n",
      "fizz\n",
      "2992\n",
      "2993\n",
      "fizz\n",
      "buzz\n",
      "2996\n",
      "fizz\n",
      "2998\n",
      "2999\n",
      "fizzbuzz\n",
      "3001\n",
      "3002\n",
      "fizz\n",
      "3004\n",
      "buzz\n",
      "fizz\n",
      "3007\n",
      "3008\n",
      "fizz\n",
      "buzz\n",
      "3011\n",
      "fizz\n",
      "3013\n",
      "3014\n",
      "fizzbuzz\n",
      "3016\n",
      "3017\n",
      "fizz\n",
      "3019\n",
      "buzz\n",
      "fizz\n",
      "3022\n",
      "3023\n",
      "fizz\n",
      "buzz\n",
      "3026\n",
      "fizz\n",
      "3028\n",
      "3029\n",
      "fizzbuzz\n",
      "3031\n",
      "3032\n",
      "fizz\n",
      "3034\n",
      "buzz\n",
      "fizz\n",
      "3037\n",
      "3038\n",
      "fizz\n",
      "buzz\n",
      "3041\n",
      "fizz\n",
      "3043\n",
      "3044\n",
      "fizzbuzz\n",
      "3046\n",
      "3047\n",
      "fizz\n",
      "3049\n",
      "buzz\n",
      "fizz\n",
      "3052\n",
      "3053\n",
      "fizz\n",
      "buzz\n",
      "3056\n",
      "fizz\n",
      "3058\n",
      "3059\n",
      "fizzbuzz\n",
      "3061\n",
      "3062\n",
      "fizz\n",
      "3064\n",
      "buzz\n",
      "fizz\n",
      "3067\n",
      "3068\n",
      "fizz\n",
      "buzz\n",
      "3071\n",
      "fizz\n",
      "3073\n",
      "3074\n",
      "fizzbuzz\n",
      "3076\n",
      "3077\n",
      "fizz\n",
      "3079\n",
      "buzz\n",
      "fizz\n",
      "3082\n",
      "3083\n",
      "fizz\n",
      "buzz\n",
      "3086\n",
      "fizz\n",
      "3088\n",
      "3089\n",
      "fizzbuzz\n",
      "3091\n",
      "3092\n",
      "fizz\n",
      "3094\n",
      "buzz\n",
      "fizz\n",
      "3097\n",
      "3098\n",
      "fizz\n",
      "buzz\n",
      "3101\n",
      "fizz\n",
      "3103\n",
      "3104\n",
      "fizzbuzz\n",
      "3106\n",
      "3107\n",
      "fizz\n",
      "3109\n",
      "buzz\n",
      "fizz\n",
      "3112\n",
      "3113\n",
      "fizz\n",
      "buzz\n",
      "3116\n",
      "fizz\n",
      "3118\n",
      "3119\n",
      "fizzbuzz\n",
      "3121\n",
      "3122\n",
      "fizz\n",
      "3124\n",
      "buzz\n",
      "fizz\n",
      "3127\n",
      "3128\n",
      "fizz\n",
      "buzz\n",
      "3131\n",
      "fizz\n",
      "3133\n",
      "3134\n",
      "fizzbuzz\n",
      "3136\n",
      "3137\n",
      "fizz\n",
      "3139\n",
      "buzz\n",
      "fizz\n",
      "3142\n",
      "3143\n",
      "fizz\n",
      "buzz\n",
      "3146\n",
      "fizz\n",
      "3148\n",
      "3149\n",
      "fizzbuzz\n",
      "3151\n",
      "3152\n",
      "fizz\n",
      "3154\n",
      "buzz\n",
      "fizz\n",
      "3157\n",
      "3158\n",
      "fizz\n",
      "buzz\n",
      "3161\n",
      "fizz\n",
      "3163\n",
      "3164\n",
      "fizzbuzz\n",
      "3166\n",
      "3167\n",
      "fizz\n",
      "3169\n",
      "buzz\n",
      "fizz\n",
      "3172\n",
      "3173\n",
      "fizz\n",
      "buzz\n",
      "3176\n",
      "fizz\n",
      "3178\n",
      "3179\n",
      "fizzbuzz\n",
      "3181\n",
      "3182\n",
      "fizz\n",
      "3184\n",
      "buzz\n",
      "fizz\n",
      "3187\n",
      "3188\n",
      "fizz\n",
      "buzz\n",
      "3191\n",
      "fizz\n",
      "3193\n",
      "3194\n",
      "fizzbuzz\n",
      "3196\n",
      "3197\n",
      "fizz\n",
      "3199\n",
      "buzz\n"
     ]
    }
   ],
   "source": [
    "for i in range(2000,3201):\n",
    "    if i%3==0 and i%5==0:\n",
    "        print(\"fizzbuzz\")\n",
    "    elif i%3==0:\n",
    "        print(\"fizz\")\n",
    "    elif i%5==0:\n",
    "        print(\"buzz\")\n",
    "    else:\n",
    "        print(i)"
   ]
  },
  {
   "cell_type": "markdown",
   "metadata": {},
   "source": [
    "- If you are going to perform some actions for each element in the sequence, then use for loop.\n",
    "- for loops are used for sequential traversal.\n",
    "- Using for loop we can iterate every element inside a given sequence. (like-: list, str, tuple, dict, set, range, etc)\n",
    "- Syntax :\n",
    "- for each_element in sequence:\n",
    "        action/expressions/body"
   ]
  },
  {
   "cell_type": "code",
   "execution_count": null,
   "metadata": {},
   "outputs": [],
   "source": [
    "for i in [\"a\",\"b\"]:\n",
    "    print(i)\n",
    "    for j in range(1,3):\n",
    "        print(j)\n",
    "    for k in [\"c\",\"d\"]:\n",
    "        print(k)"
   ]
  },
  {
   "cell_type": "code",
   "execution_count": 2,
   "metadata": {},
   "outputs": [
    {
     "name": "stdout",
     "output_type": "stream",
     "text": [
      "1\n",
      "4\n",
      "9\n",
      "16\n"
     ]
    }
   ],
   "source": [
    "for i in [1,2,3,4]:\n",
    "    print(i*i)"
   ]
  },
  {
   "cell_type": "markdown",
   "metadata": {},
   "source": [
    "WAP to print tables from 2to 8 and in reverse order."
   ]
  },
  {
   "cell_type": "code",
   "execution_count": 23,
   "metadata": {},
   "outputs": [
    {
     "name": "stdout",
     "output_type": "stream",
     "text": [
      "table of : 2\n",
      "20-18-16-14-12-10-8-6-4-2-\n",
      "\n",
      "table of : 3\n",
      "30-27-24-21-18-15-12-9-6-3-\n",
      "\n",
      "table of : 4\n",
      "40-36-32-28-24-20-16-12-8-4-\n",
      "\n",
      "table of : 5\n",
      "50-45-40-35-30-25-20-15-10-5-\n",
      "\n",
      "table of : 6\n",
      "60-54-48-42-36-30-24-18-12-6-\n",
      "\n",
      "table of : 7\n",
      "70-63-56-49-42-35-28-21-14-7-\n",
      "\n",
      "table of : 8\n",
      "80-72-64-56-48-40-32-24-16-8-\n",
      "\n"
     ]
    }
   ],
   "source": [
    "for i in range(2,9):\n",
    "    print(\"table of :\",i)\n",
    "    for j in range(10,0,-1):\n",
    "        print(i*j,end = \"-\")\n",
    "    print(\"\\n\")\n",
    "    "
   ]
  },
  {
   "cell_type": "markdown",
   "metadata": {},
   "source": [
    "this body will be executed for every element present in the sequence. This sequence can be of any data type (like- str, range, list, tuple, dict, etc)."
   ]
  },
  {
   "cell_type": "markdown",
   "metadata": {},
   "source": [
    "Q1. write a program that count the number of characters given in the string?"
   ]
  },
  {
   "cell_type": "code",
   "execution_count": 10,
   "metadata": {},
   "outputs": [],
   "source": [
    "s = 'Madrid'"
   ]
  },
  {
   "cell_type": "code",
   "execution_count": 13,
   "metadata": {},
   "outputs": [
    {
     "name": "stdout",
     "output_type": "stream",
     "text": [
      "6\n"
     ]
    }
   ],
   "source": [
    "c = 0\n",
    "for i in s:\n",
    "    c = c+1\n",
    "print(c)"
   ]
  },
  {
   "cell_type": "code",
   "execution_count": null,
   "metadata": {},
   "outputs": [],
   "source": [
    "write a program to sum1 the elements of the list [12,34,67,23,90] "
   ]
  },
  {
   "cell_type": "code",
   "execution_count": 15,
   "metadata": {},
   "outputs": [
    {
     "name": "stdout",
     "output_type": "stream",
     "text": [
      "226\n"
     ]
    }
   ],
   "source": [
    "som = 0\n",
    "for i in [12,34,67,23,90]:\n",
    "    som = som+i\n",
    "print(som)\n",
    "\n",
    "\n",
    "\n"
   ]
  },
  {
   "cell_type": "code",
   "execution_count": 5,
   "metadata": {},
   "outputs": [
    {
     "name": "stdout",
     "output_type": "stream",
     "text": [
      "Madrid"
     ]
    }
   ],
   "source": [
    "for i in s:\n",
    "    print(i,end='')"
   ]
  },
  {
   "cell_type": "code",
   "execution_count": 4,
   "metadata": {},
   "outputs": [
    {
     "data": {
      "text/plain": [
       "6"
      ]
     },
     "execution_count": 4,
     "metadata": {},
     "output_type": "execute_result"
    }
   ],
   "source": [
    "len(s)"
   ]
  },
  {
   "cell_type": "code",
   "execution_count": null,
   "metadata": {},
   "outputs": [],
   "source": [
    "for i in s:\n",
    "    c\n",
    "    "
   ]
  },
  {
   "cell_type": "code",
   "execution_count": 6,
   "metadata": {},
   "outputs": [
    {
     "name": "stdout",
     "output_type": "stream",
     "text": [
      "1\n",
      "2\n",
      "3\n",
      "4\n",
      "5\n",
      "6\n"
     ]
    }
   ],
   "source": [
    "c = 0\n",
    "for i in s:\n",
    "    c = c+1\n",
    "    print(c)"
   ]
  },
  {
   "cell_type": "markdown",
   "metadata": {},
   "source": [
    "What is range function in python? (important)\n",
    "\n",
    "❖ to represent the range of values.\n",
    "\n",
    "❖ it is a data type as well as function.\n",
    "\n",
    "❖ it represents sequence of values.\n",
    "\n",
    "❖ suppose you want to print values from range of 0 to 10. then use range (11).\n",
    "\n",
    "❖ (0 to end-1)\n",
    "\n",
    "Note-: there are three ways how you can use range function\n",
    "\n",
    "❖ range (stop) # here starting range is by default 0.\n",
    "\n",
    "❖ range (start, stop)\n",
    "\n",
    "❖ range(start, stop, increment)\n",
    "\n",
    "Ex-: suppose you have written like-: range (1, 12). It means your range function contains the numbers like-: 1,2,3,4,5,6,7,8,9,10,11\n",
    "\n"
   ]
  },
  {
   "cell_type": "code",
   "execution_count": 2,
   "metadata": {},
   "outputs": [
    {
     "name": "stdout",
     "output_type": "stream",
     "text": [
      "1\n",
      "3\n",
      "5\n",
      "7\n",
      "9\n"
     ]
    }
   ],
   "source": [
    "for i in range(1,11,2):\n",
    "    print(i)"
   ]
  },
  {
   "cell_type": "code",
   "execution_count": 3,
   "metadata": {},
   "outputs": [],
   "source": [
    "a  = (12,True,2+4j,)"
   ]
  },
  {
   "cell_type": "code",
   "execution_count": 4,
   "metadata": {},
   "outputs": [
    {
     "data": {
      "text/plain": [
       "0"
      ]
     },
     "execution_count": 4,
     "metadata": {},
     "output_type": "execute_result"
    }
   ],
   "source": [
    "a%2"
   ]
  },
  {
   "cell_type": "markdown",
   "metadata": {},
   "source": [
    "Q2.write a program to print all even numbers inside a given list"
   ]
  },
  {
   "cell_type": "code",
   "execution_count": 5,
   "metadata": {},
   "outputs": [
    {
     "name": "stdout",
     "output_type": "stream",
     "text": [
      "the no. is odd  1\n",
      "the no. is odd  23\n",
      "the no. is odd  45\n",
      "the no. is odd  67\n",
      "the no. is even 56\n",
      "the no. is even 34\n",
      "the no. is even 12\n",
      "the no. is odd  89\n"
     ]
    }
   ],
   "source": [
    "list1 = [1,23,45,67,56,34,12,89]\n",
    "\n",
    "for i in list1:\n",
    "    if i%2==0:\n",
    "        print('the no. is even',i)\n",
    "    else:\n",
    "        print('the no. is odd ',i)"
   ]
  },
  {
   "cell_type": "code",
   "execution_count": 9,
   "metadata": {},
   "outputs": [
    {
     "name": "stdout",
     "output_type": "stream",
     "text": [
      "no is odd 1\n",
      "no is even 2\n",
      "no is odd 3\n",
      "no is even 4\n",
      "no is odd 5\n",
      "no is even 6\n",
      "no is odd 7\n",
      "no is even 8\n",
      "no is odd 9\n",
      "no is even 10\n"
     ]
    }
   ],
   "source": [
    "for i in range(1,11):\n",
    "    if i%2==0:\n",
    "        print('no is even',i)\n",
    "    else:\n",
    "        print('no is odd',i)"
   ]
  },
  {
   "cell_type": "code",
   "execution_count": 15,
   "metadata": {},
   "outputs": [
    {
     "name": "stdout",
     "output_type": "stream",
     "text": [
      "1\n",
      "3\n",
      "5\n",
      "7\n",
      "9\n",
      "11\n",
      "13\n",
      "15\n",
      "17\n",
      "19\n",
      "21\n",
      "23\n",
      "25\n",
      "27\n",
      "29\n",
      "31\n",
      "33\n",
      "35\n",
      "37\n",
      "39\n",
      "41\n",
      "43\n",
      "45\n",
      "47\n",
      "49\n"
     ]
    }
   ],
   "source": [
    "for i in range(1,50,2):\n",
    "    print(i)"
   ]
  },
  {
   "cell_type": "code",
   "execution_count": null,
   "metadata": {},
   "outputs": [],
   "source": [
    "list1 = [1,23,45,67,78,56,34,12,89]\n",
    "\n",
    "for i in list1:\n",
    "    if i%5==0:\n",
    "        if i%3==0:\n",
    "            print(i,'div')\n",
    "        else:\n",
    "            print(i)\n",
    "    else:\n",
    "        print('Not div')"
   ]
  },
  {
   "cell_type": "code",
   "execution_count": 1,
   "metadata": {},
   "outputs": [
    {
     "name": "stdout",
     "output_type": "stream",
     "text": [
      "405\n"
     ]
    }
   ],
   "source": [
    "list1 = [1,23,45,67,78,56,34,12,89]\n",
    "s = 0\n",
    "for i in list1:\n",
    "    s = s+i\n",
    "print(s)"
   ]
  },
  {
   "cell_type": "markdown",
   "metadata": {},
   "source": [
    "Q3.write a program to print sum of all elements/sequences inside a list"
   ]
  },
  {
   "cell_type": "code",
   "execution_count": 3,
   "metadata": {},
   "outputs": [
    {
     "name": "stdout",
     "output_type": "stream",
     "text": [
      "1\n",
      "2\n",
      "3\n",
      "4\n",
      "5\n",
      "6\n",
      "7\n",
      "8\n",
      "9\n"
     ]
    }
   ],
   "source": [
    "list1 = [1,23,45,67,78,56,34,12,89]\n",
    "count = 0\n",
    "for i in list1:\n",
    "    count = count+1\n",
    "\n",
    "    print(count)"
   ]
  },
  {
   "cell_type": "code",
   "execution_count": 29,
   "metadata": {},
   "outputs": [
    {
     "name": "stdout",
     "output_type": "stream",
     "text": [
      "405\n"
     ]
    }
   ],
   "source": [
    "list1= [1,23,45,67,78,56,34,12,89]\n",
    "sum1 = 0\n",
    "for i in list1:\n",
    "    \n",
    "    sum1 = sum1+i\n",
    "\n",
    "print(sum1)"
   ]
  },
  {
   "cell_type": "code",
   "execution_count": null,
   "metadata": {},
   "outputs": [],
   "source": [
    "list2 = [1,2,3,30,49,60,90]\n",
    "sum1 = 0\n",
    "for i in list2:\n",
    "    "
   ]
  },
  {
   "cell_type": "markdown",
   "metadata": {},
   "source": [
    "we want to print the table of 2 \n",
    "2X1 = 2\n",
    "2X2 = 4\n",
    "2X3 = 6\n",
    "2x4 = 8"
   ]
  },
  {
   "cell_type": "code",
   "execution_count": 7,
   "metadata": {},
   "outputs": [
    {
     "name": "stdout",
     "output_type": "stream",
     "text": [
      "Enter the table u want to see : 8\n",
      "8\n",
      "16\n",
      "24\n",
      "32\n",
      "40\n",
      "48\n",
      "56\n",
      "64\n",
      "72\n",
      "80\n"
     ]
    }
   ],
   "source": [
    "n = int(input('Enter the table u want to see : '))\n",
    "lis1 = [1,2,3,4,5,6,7,8,9,10]\n",
    "for i in lis1:\n",
    "    print(n*i)\n"
   ]
  },
  {
   "cell_type": "markdown",
   "metadata": {},
   "source": [
    "Q4.write a program to print 10 numbers in reverse order"
   ]
  },
  {
   "cell_type": "code",
   "execution_count": 23,
   "metadata": {},
   "outputs": [
    {
     "name": "stdout",
     "output_type": "stream",
     "text": [
      "10\n",
      "9\n",
      "8\n",
      "7\n",
      "6\n",
      "5\n",
      "4\n",
      "3\n",
      "2\n",
      "1\n"
     ]
    }
   ],
   "source": [
    "for i in range(10,0,-1):\n",
    "    print(i)\n"
   ]
  },
  {
   "cell_type": "code",
   "execution_count": 9,
   "metadata": {},
   "outputs": [
    {
     "name": "stdout",
     "output_type": "stream",
     "text": [
      "2\n",
      "3\n",
      "4\n"
     ]
    }
   ],
   "source": [
    "for i in range(2,5):\n",
    "    print(i)"
   ]
  },
  {
   "cell_type": "code",
   "execution_count": 2,
   "metadata": {},
   "outputs": [
    {
     "name": "stdout",
     "output_type": "stream",
     "text": [
      "*\n",
      "        *\n",
      "*                *\n",
      "        *             *\n",
      "*                *\n",
      "        *\n",
      "*\n"
     ]
    }
   ],
   "source": [
    "print( '*')\n",
    "print( '        *')\n",
    "print( '*                *')\n",
    "print( '        *             *')\n",
    "print( '*                *')\n",
    "print( '        *')\n",
    "print( '*')"
   ]
  },
  {
   "cell_type": "code",
   "execution_count": 2,
   "metadata": {},
   "outputs": [
    {
     "name": "stdout",
     "output_type": "stream",
     "text": [
      "Enter the elements : a,b,c\n"
     ]
    }
   ],
   "source": [
    "l = input('Enter the elements : ').split(',')"
   ]
  },
  {
   "cell_type": "code",
   "execution_count": 3,
   "metadata": {},
   "outputs": [
    {
     "data": {
      "text/plain": [
       "['a', 'b', 'c']"
      ]
     },
     "execution_count": 3,
     "metadata": {},
     "output_type": "execute_result"
    }
   ],
   "source": [
    "l"
   ]
  },
  {
   "cell_type": "markdown",
   "metadata": {},
   "source": [
    "Prime numbers"
   ]
  },
  {
   "cell_type": "markdown",
   "metadata": {},
   "source": [
    "prime no. : 1,2,3,5,7,11\n",
    "    "
   ]
  },
  {
   "cell_type": "code",
   "execution_count": 8,
   "metadata": {},
   "outputs": [
    {
     "name": "stdout",
     "output_type": "stream",
     "text": [
      "Enter the no. : 12\n"
     ]
    }
   ],
   "source": [
    "num = int(input('Enter the no. : '))\n"
   ]
  },
  {
   "cell_type": "code",
   "execution_count": null,
   "metadata": {},
   "outputs": [],
   "source": []
  },
  {
   "cell_type": "code",
   "execution_count": 26,
   "metadata": {},
   "outputs": [
    {
     "name": "stdout",
     "output_type": "stream",
     "text": [
      "Enter the no. : 21\n",
      "np 21\n",
      "np 21\n",
      "p\n"
     ]
    }
   ],
   "source": [
    "num = int(input('Enter the no. : '))\n",
    "\n",
    "for i in range(2,11):\n",
    "    if num%i==0:\n",
    "        print('np',num)\n",
    "        \n",
    "    else:\n",
    "        pass\n",
    "print('p')\n",
    "        \n",
    "        \n"
   ]
  },
  {
   "cell_type": "markdown",
   "metadata": {},
   "source": [
    "Q5.write a program to print the table of any number"
   ]
  },
  {
   "cell_type": "markdown",
   "metadata": {},
   "source": [
    "Nested Loops\n",
    "\n",
    "A nested loop is a loop inside a loop.\n",
    "- The \"inner loop\" will be executed one time for each iteration of the \"outer loop“\n",
    "Syntax:\n",
    "\n",
    "for variable in sequence:\n",
    "\n",
    "    for variable in sequence:\n",
    "    \n",
    "        action/expressions/body\n",
    "        \n",
    "        action/expressions/body\n"
   ]
  },
  {
   "cell_type": "code",
   "execution_count": 21,
   "metadata": {},
   "outputs": [
    {
     "name": "stdout",
     "output_type": "stream",
     "text": [
      "2 x 1 = 2\n",
      "2 x 2 = 4\n",
      "2 x 3 = 6\n",
      "2 x 4 = 8\n",
      "2 x 5 = 10\n",
      "2 x 6 = 12\n",
      "2 x 7 = 14\n",
      "2 x 8 = 16\n",
      "2 x 9 = 18\n",
      "2 x 10 = 20\n",
      " \n",
      "3 x 1 = 3\n",
      "3 x 2 = 6\n",
      "3 x 3 = 9\n",
      "3 x 4 = 12\n",
      "3 x 5 = 15\n",
      "3 x 6 = 18\n",
      "3 x 7 = 21\n",
      "3 x 8 = 24\n",
      "3 x 9 = 27\n",
      "3 x 10 = 30\n",
      " \n",
      "4 x 1 = 4\n",
      "4 x 2 = 8\n",
      "4 x 3 = 12\n",
      "4 x 4 = 16\n",
      "4 x 5 = 20\n",
      "4 x 6 = 24\n",
      "4 x 7 = 28\n",
      "4 x 8 = 32\n",
      "4 x 9 = 36\n",
      "4 x 10 = 40\n",
      " \n",
      "5 x 1 = 5\n",
      "5 x 2 = 10\n",
      "5 x 3 = 15\n",
      "5 x 4 = 20\n",
      "5 x 5 = 25\n",
      "5 x 6 = 30\n",
      "5 x 7 = 35\n",
      "5 x 8 = 40\n",
      "5 x 9 = 45\n",
      "5 x 10 = 50\n",
      " \n",
      "6 x 1 = 6\n",
      "6 x 2 = 12\n",
      "6 x 3 = 18\n",
      "6 x 4 = 24\n",
      "6 x 5 = 30\n",
      "6 x 6 = 36\n",
      "6 x 7 = 42\n",
      "6 x 8 = 48\n",
      "6 x 9 = 54\n",
      "6 x 10 = 60\n",
      " \n"
     ]
    }
   ],
   "source": [
    "for i in range(2,7):\n",
    "    \n",
    "    for j in range(1,11):\n",
    "        print(i,'x',j,'=',i*j)\n",
    "            \n",
    "    print(' ')   "
   ]
  },
  {
   "cell_type": "code",
   "execution_count": 1,
   "metadata": {},
   "outputs": [
    {
     "name": "stdout",
     "output_type": "stream",
     "text": [
      "2 1\n"
     ]
    }
   ],
   "source": [
    "a = 1\n",
    "b = 2\n",
    "c = a\n",
    "a = b\n",
    "b = c\n",
    "print(a,b)"
   ]
  },
  {
   "cell_type": "code",
   "execution_count": 3,
   "metadata": {},
   "outputs": [
    {
     "name": "stdout",
     "output_type": "stream",
     "text": [
      "enter the number upto which u want to see the series : 10\n",
      "0\n",
      "1\n",
      "1\n",
      "2\n",
      "3\n",
      "5\n",
      "8\n",
      "13\n",
      "21\n",
      "34\n"
     ]
    }
   ],
   "source": [
    "n = int(input(\"enter the number upto which u want to see the series : \"))\n",
    "a = 0\n",
    "b = 1\n",
    "for i in range(1,n+1):\n",
    "    print(a)\n",
    "    c = a\n",
    "    a = b\n",
    "    b = a+c "
   ]
  },
  {
   "cell_type": "code",
   "execution_count": 5,
   "metadata": {},
   "outputs": [
    {
     "name": "stdout",
     "output_type": "stream",
     "text": [
      "1\n",
      "a\n",
      "b\n",
      "2\n",
      "a\n",
      "b\n",
      "10\n",
      "11\n",
      "12\n"
     ]
    }
   ],
   "source": [
    "for i in range(1,3):\n",
    "    print(i)\n",
    "    for j in [\"a\",\"b\"]:\n",
    "        print(j)\n",
    "for k in range(10,13):\n",
    "    print(k)"
   ]
  },
  {
   "cell_type": "code",
   "execution_count": null,
   "metadata": {},
   "outputs": [],
   "source": [
    "WAP to print the table from 4 to 10 in reverse order."
   ]
  },
  {
   "cell_type": "code",
   "execution_count": 6,
   "metadata": {},
   "outputs": [
    {
     "name": "stdout",
     "output_type": "stream",
     "text": [
      "table of : 4\n",
      "4 x 10 = 40\n",
      "4 x 9 = 36\n",
      "4 x 8 = 32\n",
      "4 x 7 = 28\n",
      "4 x 6 = 24\n",
      "4 x 5 = 20\n",
      "4 x 4 = 16\n",
      "4 x 3 = 12\n",
      "4 x 2 = 8\n",
      "4 x 1 = 4\n",
      "**********************\n",
      "table of : 5\n",
      "5 x 10 = 50\n",
      "5 x 9 = 45\n",
      "5 x 8 = 40\n",
      "5 x 7 = 35\n",
      "5 x 6 = 30\n",
      "5 x 5 = 25\n",
      "5 x 4 = 20\n",
      "5 x 3 = 15\n",
      "5 x 2 = 10\n",
      "5 x 1 = 5\n",
      "**********************\n",
      "table of : 6\n",
      "6 x 10 = 60\n",
      "6 x 9 = 54\n",
      "6 x 8 = 48\n",
      "6 x 7 = 42\n",
      "6 x 6 = 36\n",
      "6 x 5 = 30\n",
      "6 x 4 = 24\n",
      "6 x 3 = 18\n",
      "6 x 2 = 12\n",
      "6 x 1 = 6\n",
      "**********************\n",
      "table of : 7\n",
      "7 x 10 = 70\n",
      "7 x 9 = 63\n",
      "7 x 8 = 56\n",
      "7 x 7 = 49\n",
      "7 x 6 = 42\n",
      "7 x 5 = 35\n",
      "7 x 4 = 28\n",
      "7 x 3 = 21\n",
      "7 x 2 = 14\n",
      "7 x 1 = 7\n",
      "**********************\n",
      "table of : 8\n",
      "8 x 10 = 80\n",
      "8 x 9 = 72\n",
      "8 x 8 = 64\n",
      "8 x 7 = 56\n",
      "8 x 6 = 48\n",
      "8 x 5 = 40\n",
      "8 x 4 = 32\n",
      "8 x 3 = 24\n",
      "8 x 2 = 16\n",
      "8 x 1 = 8\n",
      "**********************\n",
      "table of : 9\n",
      "9 x 10 = 90\n",
      "9 x 9 = 81\n",
      "9 x 8 = 72\n",
      "9 x 7 = 63\n",
      "9 x 6 = 54\n",
      "9 x 5 = 45\n",
      "9 x 4 = 36\n",
      "9 x 3 = 27\n",
      "9 x 2 = 18\n",
      "9 x 1 = 9\n",
      "**********************\n",
      "table of : 10\n",
      "10 x 10 = 100\n",
      "10 x 9 = 90\n",
      "10 x 8 = 80\n",
      "10 x 7 = 70\n",
      "10 x 6 = 60\n",
      "10 x 5 = 50\n",
      "10 x 4 = 40\n",
      "10 x 3 = 30\n",
      "10 x 2 = 20\n",
      "10 x 1 = 10\n",
      "**********************\n"
     ]
    }
   ],
   "source": [
    "for i in range(4,11):\n",
    "    print(\"table of :\",i)\n",
    "    for j in range(10,0,-1):\n",
    "        print(i,\"x\",j,\"=\",i*j)\n",
    "    print(\"**********************\")"
   ]
  },
  {
   "cell_type": "markdown",
   "metadata": {},
   "source": [
    "WAP to print the tables from 3 to 9 in reverse order"
   ]
  },
  {
   "cell_type": "code",
   "execution_count": 7,
   "metadata": {},
   "outputs": [
    {
     "name": "stdout",
     "output_type": "stream",
     "text": [
      "3 x 10 = 30\n",
      "3 x 9 = 27\n",
      "3 x 8 = 24\n",
      "3 x 7 = 21\n",
      "3 x 6 = 18\n",
      "3 x 5 = 15\n",
      "3 x 4 = 12\n",
      "3 x 3 = 9\n",
      "3 x 2 = 6\n",
      "3 x 1 = 3\n",
      "----------------\n",
      "4 x 10 = 40\n",
      "4 x 9 = 36\n",
      "4 x 8 = 32\n",
      "4 x 7 = 28\n",
      "4 x 6 = 24\n",
      "4 x 5 = 20\n",
      "4 x 4 = 16\n",
      "4 x 3 = 12\n",
      "4 x 2 = 8\n",
      "4 x 1 = 4\n",
      "----------------\n",
      "5 x 10 = 50\n",
      "5 x 9 = 45\n",
      "5 x 8 = 40\n",
      "5 x 7 = 35\n",
      "5 x 6 = 30\n",
      "5 x 5 = 25\n",
      "5 x 4 = 20\n",
      "5 x 3 = 15\n",
      "5 x 2 = 10\n",
      "5 x 1 = 5\n",
      "----------------\n",
      "6 x 10 = 60\n",
      "6 x 9 = 54\n",
      "6 x 8 = 48\n",
      "6 x 7 = 42\n",
      "6 x 6 = 36\n",
      "6 x 5 = 30\n",
      "6 x 4 = 24\n",
      "6 x 3 = 18\n",
      "6 x 2 = 12\n",
      "6 x 1 = 6\n",
      "----------------\n",
      "7 x 10 = 70\n",
      "7 x 9 = 63\n",
      "7 x 8 = 56\n",
      "7 x 7 = 49\n",
      "7 x 6 = 42\n",
      "7 x 5 = 35\n",
      "7 x 4 = 28\n",
      "7 x 3 = 21\n",
      "7 x 2 = 14\n",
      "7 x 1 = 7\n",
      "----------------\n",
      "8 x 10 = 80\n",
      "8 x 9 = 72\n",
      "8 x 8 = 64\n",
      "8 x 7 = 56\n",
      "8 x 6 = 48\n",
      "8 x 5 = 40\n",
      "8 x 4 = 32\n",
      "8 x 3 = 24\n",
      "8 x 2 = 16\n",
      "8 x 1 = 8\n",
      "----------------\n",
      "9 x 10 = 90\n",
      "9 x 9 = 81\n",
      "9 x 8 = 72\n",
      "9 x 7 = 63\n",
      "9 x 6 = 54\n",
      "9 x 5 = 45\n",
      "9 x 4 = 36\n",
      "9 x 3 = 27\n",
      "9 x 2 = 18\n",
      "9 x 1 = 9\n",
      "----------------\n"
     ]
    }
   ],
   "source": [
    "for i in range(3,10):\n",
    "    for j in range(10,0,-1):\n",
    "        print(i,\"x\",j,\"=\",i*j)\n",
    "    print(\"----------------\")"
   ]
  },
  {
   "cell_type": "markdown",
   "metadata": {},
   "source": [
    "write a program to print the table from 2 to 6."
   ]
  },
  {
   "cell_type": "code",
   "execution_count": 10,
   "metadata": {},
   "outputs": [
    {
     "name": "stdout",
     "output_type": "stream",
     "text": [
      "this table is for  2\n",
      "2 x 10 = 20\n",
      "2 x 9 = 18\n",
      "2 x 8 = 16\n",
      "2 x 7 = 14\n",
      "2 x 6 = 12\n",
      "2 x 5 = 10\n",
      "2 x 4 = 8\n",
      "2 x 3 = 6\n",
      "2 x 2 = 4\n",
      "2 x 1 = 2\n",
      "************************\n",
      "this table is for  3\n",
      "3 x 10 = 30\n",
      "3 x 9 = 27\n",
      "3 x 8 = 24\n",
      "3 x 7 = 21\n",
      "3 x 6 = 18\n",
      "3 x 5 = 15\n",
      "3 x 4 = 12\n",
      "3 x 3 = 9\n",
      "3 x 2 = 6\n",
      "3 x 1 = 3\n",
      "************************\n",
      "this table is for  4\n",
      "4 x 10 = 40\n",
      "4 x 9 = 36\n",
      "4 x 8 = 32\n",
      "4 x 7 = 28\n",
      "4 x 6 = 24\n",
      "4 x 5 = 20\n",
      "4 x 4 = 16\n",
      "4 x 3 = 12\n",
      "4 x 2 = 8\n",
      "4 x 1 = 4\n",
      "************************\n",
      "this table is for  5\n",
      "5 x 10 = 50\n",
      "5 x 9 = 45\n",
      "5 x 8 = 40\n",
      "5 x 7 = 35\n",
      "5 x 6 = 30\n",
      "5 x 5 = 25\n",
      "5 x 4 = 20\n",
      "5 x 3 = 15\n",
      "5 x 2 = 10\n",
      "5 x 1 = 5\n",
      "************************\n",
      "this table is for  6\n",
      "6 x 10 = 60\n",
      "6 x 9 = 54\n",
      "6 x 8 = 48\n",
      "6 x 7 = 42\n",
      "6 x 6 = 36\n",
      "6 x 5 = 30\n",
      "6 x 4 = 24\n",
      "6 x 3 = 18\n",
      "6 x 2 = 12\n",
      "6 x 1 = 6\n",
      "************************\n"
     ]
    }
   ],
   "source": [
    "for i in range(2,7):\n",
    "    print('this table is for ',i)\n",
    "    for j in range(10,0,-1):\n",
    "        \n",
    "        print(i,'x',j,'=',i*j)\n",
    "        \n",
    "    print('************************')"
   ]
  },
  {
   "cell_type": "code",
   "execution_count": 31,
   "metadata": {},
   "outputs": [
    {
     "name": "stdout",
     "output_type": "stream",
     "text": [
      "5 x 1 = 5\n",
      "5 x 2 = 10\n",
      "5 x 3 = 15\n",
      "5 x 4 = 20\n",
      "5 x 5 = 25\n",
      "5 x 6 = 30\n",
      "5 x 7 = 35\n",
      "5 x 8 = 40\n",
      "5 x 9 = 45\n",
      "5 x 10 = 50\n"
     ]
    }
   ],
   "source": [
    "n = 5\n",
    "for i in range(1,11):\n",
    "    print(n,'x',i,'=',i*n)"
   ]
  },
  {
   "cell_type": "code",
   "execution_count": 4,
   "metadata": {},
   "outputs": [
    {
     "data": {
      "text/plain": [
       "0"
      ]
     },
     "execution_count": 4,
     "metadata": {},
     "output_type": "execute_result"
    }
   ],
   "source": [
    "20%1"
   ]
  },
  {
   "cell_type": "code",
   "execution_count": 43,
   "metadata": {},
   "outputs": [
    {
     "name": "stdout",
     "output_type": "stream",
     "text": [
      "Enter the no u want to see factor of : 10\n",
      "factors are :  1\n",
      "factors are :  2\n",
      "factors are :  5\n",
      "factors are :  10\n",
      "no is composite\n"
     ]
    }
   ],
   "source": [
    "c = 0\n",
    "n = int(input('Enter the no u want to see factor of : '))\n",
    "for i in range(1,n+1):\n",
    "    if n%i == 0:\n",
    "        print('factors are : ',i)\n",
    "        c = c+1\n",
    "    else:\n",
    "        pass\n",
    "if c<=2:\n",
    "    print('no is prime')\n",
    "else:\n",
    "    print('no is composite')"
   ]
  },
  {
   "cell_type": "code",
   "execution_count": 45,
   "metadata": {},
   "outputs": [
    {
     "name": "stdout",
     "output_type": "stream",
     "text": [
      "Enter the no. u want to see the factorial of :5\n",
      "120\n"
     ]
    }
   ],
   "source": [
    "fact = 1\n",
    "n =  int(input('Enter the no. u want to see the factorial of :'))\n",
    "for i in range(1,n+1):\n",
    "    fact = fact*i\n",
    "print(fact)\n",
    "    "
   ]
  },
  {
   "cell_type": "markdown",
   "metadata": {},
   "source": [
    "## Nested loops"
   ]
  },
  {
   "cell_type": "code",
   "execution_count": 3,
   "metadata": {},
   "outputs": [
    {
     "name": "stdout",
     "output_type": "stream",
     "text": [
      "1\n",
      "a\n",
      "b\n",
      "2\n",
      "a\n",
      "b\n",
      "4\n",
      "5\n"
     ]
    }
   ],
   "source": [
    "for i in range(1,3):\n",
    "    print(i)\n",
    "    for j in [\"a\",\"b\"]:\n",
    "        print(j)\n",
    "for k in range(4,6):\n",
    "    print(k)"
   ]
  },
  {
   "cell_type": "markdown",
   "metadata": {},
   "source": [
    "Q6.write a program to print the table of numbers inside given range 2 to 8  "
   ]
  },
  {
   "cell_type": "code",
   "execution_count": 6,
   "metadata": {},
   "outputs": [
    {
     "name": "stdout",
     "output_type": "stream",
     "text": [
      "table of :  2\n",
      "2 x 10 = 20\n",
      "2 x 9 = 18\n",
      "2 x 8 = 16\n",
      "2 x 7 = 14\n",
      "2 x 6 = 12\n",
      "2 x 5 = 10\n",
      "2 x 4 = 8\n",
      "2 x 3 = 6\n",
      "2 x 2 = 4\n",
      "2 x 1 = 2\n",
      "table of :  3\n",
      "3 x 10 = 30\n",
      "3 x 9 = 27\n",
      "3 x 8 = 24\n",
      "3 x 7 = 21\n",
      "3 x 6 = 18\n",
      "3 x 5 = 15\n",
      "3 x 4 = 12\n",
      "3 x 3 = 9\n",
      "3 x 2 = 6\n",
      "3 x 1 = 3\n",
      "table of :  4\n",
      "4 x 10 = 40\n",
      "4 x 9 = 36\n",
      "4 x 8 = 32\n",
      "4 x 7 = 28\n",
      "4 x 6 = 24\n",
      "4 x 5 = 20\n",
      "4 x 4 = 16\n",
      "4 x 3 = 12\n",
      "4 x 2 = 8\n",
      "4 x 1 = 4\n",
      "table of :  5\n",
      "5 x 10 = 50\n",
      "5 x 9 = 45\n",
      "5 x 8 = 40\n",
      "5 x 7 = 35\n",
      "5 x 6 = 30\n",
      "5 x 5 = 25\n",
      "5 x 4 = 20\n",
      "5 x 3 = 15\n",
      "5 x 2 = 10\n",
      "5 x 1 = 5\n",
      "table of :  6\n",
      "6 x 10 = 60\n",
      "6 x 9 = 54\n",
      "6 x 8 = 48\n",
      "6 x 7 = 42\n",
      "6 x 6 = 36\n",
      "6 x 5 = 30\n",
      "6 x 4 = 24\n",
      "6 x 3 = 18\n",
      "6 x 2 = 12\n",
      "6 x 1 = 6\n",
      "table of :  7\n",
      "7 x 10 = 70\n",
      "7 x 9 = 63\n",
      "7 x 8 = 56\n",
      "7 x 7 = 49\n",
      "7 x 6 = 42\n",
      "7 x 5 = 35\n",
      "7 x 4 = 28\n",
      "7 x 3 = 21\n",
      "7 x 2 = 14\n",
      "7 x 1 = 7\n",
      "table of :  8\n",
      "8 x 10 = 80\n",
      "8 x 9 = 72\n",
      "8 x 8 = 64\n",
      "8 x 7 = 56\n",
      "8 x 6 = 48\n",
      "8 x 5 = 40\n",
      "8 x 4 = 32\n",
      "8 x 3 = 24\n",
      "8 x 2 = 16\n",
      "8 x 1 = 8\n"
     ]
    }
   ],
   "source": [
    "for i in range(2,9):\n",
    "    print(\"table of : \",i)\n",
    "    for j in range(10,0,-1):\n",
    "        print(i,\"x\",j,\"=\",i*j)"
   ]
  },
  {
   "cell_type": "markdown",
   "metadata": {},
   "source": [
    "Q7.write a program to print the factorial result of given number"
   ]
  },
  {
   "cell_type": "markdown",
   "metadata": {},
   "source": [
    "Q8.Write a program to print series of prime numbers between the range"
   ]
  },
  {
   "cell_type": "code",
   "execution_count": 42,
   "metadata": {},
   "outputs": [
    {
     "data": {
      "text/plain": [
       "1"
      ]
     },
     "execution_count": 42,
     "metadata": {},
     "output_type": "execute_result"
    }
   ],
   "source": [
    "3%2"
   ]
  },
  {
   "cell_type": "code",
   "execution_count": 45,
   "metadata": {},
   "outputs": [
    {
     "name": "stdout",
     "output_type": "stream",
     "text": [
      "2\n",
      "3\n",
      "5\n",
      "7\n",
      "11\n",
      "13\n",
      "17\n",
      "19\n",
      "23\n",
      "29\n",
      "31\n",
      "37\n",
      "41\n",
      "43\n",
      "47\n"
     ]
    }
   ],
   "source": [
    "for i in range(2,51):\n",
    "    for j in range(2,i):\n",
    "            if i%j==0:\n",
    "                break\n",
    "    else:\n",
    "        print(i)"
   ]
  },
  {
   "cell_type": "code",
   "execution_count": 46,
   "metadata": {},
   "outputs": [
    {
     "name": "stdout",
     "output_type": "stream",
     "text": [
      "d\n",
      "i\n",
      "r\n",
      "d\n",
      "a\n",
      "M\n"
     ]
    }
   ],
   "source": [
    "s = 'Madrid'\n",
    "s = s[::-1]\n",
    "for i in s:\n",
    "    print(i)"
   ]
  },
  {
   "cell_type": "markdown",
   "metadata": {},
   "source": [
    "Pattern Questions"
   ]
  },
  {
   "cell_type": "code",
   "execution_count": null,
   "metadata": {},
   "outputs": [],
   "source": [
    "*\n",
    "* *\n",
    "* * *\n",
    "* * * *"
   ]
  },
  {
   "cell_type": "code",
   "execution_count": 5,
   "metadata": {},
   "outputs": [
    {
     "name": "stdout",
     "output_type": "stream",
     "text": [
      "Enter the no. of rows u want to print : 4\n",
      "* \n",
      "* * \n",
      "* * * \n",
      "* * * * \n"
     ]
    }
   ],
   "source": [
    "rows = int(input(\"Enter the no. of rows u want to print : \"))\n",
    "for i in range(1,rows+1):\n",
    "    print(\"* \"*i)"
   ]
  },
  {
   "cell_type": "code",
   "execution_count": 11,
   "metadata": {},
   "outputs": [
    {
     "name": "stdout",
     "output_type": "stream",
     "text": [
      "* * * * \n",
      "* * * \n",
      "* * \n",
      "* \n"
     ]
    }
   ],
   "source": [
    "row = 4\n",
    "for i in range(row,0,-1):\n",
    "    print(\"* \"*i)"
   ]
  },
  {
   "cell_type": "code",
   "execution_count": 13,
   "metadata": {},
   "outputs": [
    {
     "name": "stdout",
     "output_type": "stream",
     "text": [
      "enter number4\n",
      "* \n",
      "* * \n",
      "* * * \n",
      "* * * * \n",
      "* * * \n",
      "* * \n",
      "* \n"
     ]
    }
   ],
   "source": [
    "rows = int(input('enter number'))\n",
    "for i in range(1,rows+1):\n",
    "    print('* '*i)\n",
    "for i in range(rows-1,0,-1):\n",
    "    print('* '*i)"
   ]
  },
  {
   "cell_type": "code",
   "execution_count": 15,
   "metadata": {},
   "outputs": [
    {
     "name": "stdout",
     "output_type": "stream",
     "text": [
      "* \n",
      "* * \n",
      "* * * \n",
      "* * * * \n",
      "* * * * * \n",
      "* * * * * * \n",
      "* * * * * * * \n",
      "* * * * * * \n",
      "* * * * * \n",
      "* * * * \n",
      "* * * \n",
      "* * \n",
      "* \n"
     ]
    }
   ],
   "source": [
    "rows = 7\n",
    "for i in range(1,rows+1,1):\n",
    "    print('* '*i)\n",
    "for i in range(rows-1,0,-1):\n",
    "    print('* '*i)"
   ]
  },
  {
   "cell_type": "code",
   "execution_count": 18,
   "metadata": {},
   "outputs": [
    {
     "name": "stdout",
     "output_type": "stream",
     "text": [
      "enter number4\n",
      "enter no4\n",
      "    *  *  *  *  * *  * *  * *  * *  * * *  * * *  * * *  * * *  * * * *  * * * *  * * * *  * * * *  "
     ]
    }
   ],
   "source": [
    "rows = int(input('enter number'))\n",
    "column = int(input('enter no'))\n",
    "for i in range(rows+1):\n",
    "    #print('* '*i)\n",
    "    for n in range(1,column+1):\n",
    "        print('* '*i, end = \" \")\n"
   ]
  },
  {
   "cell_type": "code",
   "execution_count": 21,
   "metadata": {},
   "outputs": [
    {
     "name": "stdout",
     "output_type": "stream",
     "text": [
      "\n",
      "*\n",
      "**\n",
      "***\n",
      "\n",
      "*\n",
      "**\n",
      "***\n",
      "\n",
      "*\n",
      "**\n",
      "***\n",
      "\n",
      "*\n",
      "**\n",
      "***\n"
     ]
    }
   ],
   "source": [
    "row = 4\n",
    "column = 4\n",
    "for i in range(0,row):\n",
    "    for j in range(0,column):\n",
    "        print(\"*\"*j)\n",
    "    #print(\"*\"*i)"
   ]
  },
  {
   "cell_type": "code",
   "execution_count": 37,
   "metadata": {},
   "outputs": [
    {
     "name": "stdout",
     "output_type": "stream",
     "text": [
      "enter num : 5\n",
      "enter num : 10\n",
      "* * * * * * * * * * \n",
      "* * * * * * * * * * \n",
      "* * * * * * * * * * \n",
      "* * * * * * * * * * \n",
      "* * * * * * * * * * \n"
     ]
    }
   ],
   "source": [
    "row = int(input(\"enter num : \"))\n",
    "col = int(input(\"enter num : \"))\n",
    "for i in range(1,row+1):\n",
    "    for j in range(1,col+1):\n",
    "        print(\"*\", end=\" \")\n",
    "    print(\"\")"
   ]
  },
  {
   "cell_type": "code",
   "execution_count": null,
   "metadata": {},
   "outputs": [],
   "source": []
  },
  {
   "cell_type": "code",
   "execution_count": 33,
   "metadata": {},
   "outputs": [
    {
     "name": "stdout",
     "output_type": "stream",
     "text": [
      "enter the number of rows :4\n",
      "enter the number of cols : 4\n",
      "* \n",
      "* \n",
      "* * \n",
      "* * \n",
      "* * \n",
      "* * * \n",
      "* * * \n",
      "* * * \n",
      "* * * \n",
      "* * * * \n",
      "* * * * \n",
      "* * * * \n",
      "* * * * \n",
      "* * * * \n"
     ]
    }
   ],
   "source": [
    "rows = int(input(\"enter the number of rows :\"))\n",
    "col = int(input(\"enter the number of cols : \"))\n",
    "for i in range(1,rows+1):\n",
    "    for j in range(i+1):\n",
    "        print()\n",
    "        "
   ]
  },
  {
   "cell_type": "markdown",
   "metadata": {},
   "source": [
    "Q9.Write a program to print all factors of any given number"
   ]
  },
  {
   "cell_type": "code",
   "execution_count": 2,
   "metadata": {},
   "outputs": [
    {
     "name": "stdout",
     "output_type": "stream",
     "text": [
      "Enter the no. u want factors of  :20\n"
     ]
    }
   ],
   "source": [
    "n = int(input('Enter the no. u want factors of  :'))"
   ]
  },
  {
   "cell_type": "code",
   "execution_count": 3,
   "metadata": {},
   "outputs": [
    {
     "data": {
      "text/plain": [
       "0"
      ]
     },
     "execution_count": 3,
     "metadata": {},
     "output_type": "execute_result"
    }
   ],
   "source": [
    "n%1"
   ]
  },
  {
   "cell_type": "code",
   "execution_count": 4,
   "metadata": {},
   "outputs": [
    {
     "data": {
      "text/plain": [
       "0"
      ]
     },
     "execution_count": 4,
     "metadata": {},
     "output_type": "execute_result"
    }
   ],
   "source": [
    "n%2"
   ]
  },
  {
   "cell_type": "code",
   "execution_count": 5,
   "metadata": {},
   "outputs": [
    {
     "data": {
      "text/plain": [
       "2"
      ]
     },
     "execution_count": 5,
     "metadata": {},
     "output_type": "execute_result"
    }
   ],
   "source": [
    "n%3"
   ]
  },
  {
   "cell_type": "code",
   "execution_count": 6,
   "metadata": {},
   "outputs": [
    {
     "data": {
      "text/plain": [
       "0"
      ]
     },
     "execution_count": 6,
     "metadata": {},
     "output_type": "execute_result"
    }
   ],
   "source": [
    "n%4"
   ]
  },
  {
   "cell_type": "code",
   "execution_count": 7,
   "metadata": {},
   "outputs": [
    {
     "data": {
      "text/plain": [
       "0"
      ]
     },
     "execution_count": 7,
     "metadata": {},
     "output_type": "execute_result"
    }
   ],
   "source": [
    "n%5"
   ]
  },
  {
   "cell_type": "code",
   "execution_count": 8,
   "metadata": {},
   "outputs": [
    {
     "data": {
      "text/plain": [
       "0"
      ]
     },
     "execution_count": 8,
     "metadata": {},
     "output_type": "execute_result"
    }
   ],
   "source": [
    "n%20"
   ]
  },
  {
   "cell_type": "code",
   "execution_count": null,
   "metadata": {},
   "outputs": [],
   "source": [
    "a = 1\n",
    "b = 2\n",
    "output:a = 2 and b=1"
   ]
  },
  {
   "cell_type": "code",
   "execution_count": null,
   "metadata": {},
   "outputs": [],
   "source": [
    "fibonnaci series :\n",
    "    0,1,1,2,3,5,8,13,21,34"
   ]
  },
  {
   "cell_type": "code",
   "execution_count": 10,
   "metadata": {},
   "outputs": [
    {
     "name": "stdout",
     "output_type": "stream",
     "text": [
      "Enter the number of elements in the series :10\n",
      "0\n",
      "1\n",
      "1\n",
      "2\n",
      "3\n",
      "5\n",
      "8\n",
      "13\n",
      "21\n",
      "34\n"
     ]
    }
   ],
   "source": [
    "a = 0 \n",
    "b = 1\n",
    "elements = int(input(\"Enter the number of elements in the series :\"))\n",
    "for i in range(0,elements):\n",
    "    c=a\n",
    "    a=b\n",
    "    b=c+a\n",
    "    print(c)\n"
   ]
  },
  {
   "cell_type": "code",
   "execution_count": null,
   "metadata": {},
   "outputs": [],
   "source": []
  },
  {
   "cell_type": "code",
   "execution_count": 6,
   "metadata": {},
   "outputs": [
    {
     "name": "stdout",
     "output_type": "stream",
     "text": [
      "2\n",
      "1\n"
     ]
    }
   ],
   "source": [
    "#Swap the numbers:\n",
    "a = 1\n",
    "b = 2\n",
    "\n",
    "c = a\n",
    "a = b\n",
    "b = c\n",
    "print(a)\n",
    "print(b)"
   ]
  },
  {
   "cell_type": "code",
   "execution_count": null,
   "metadata": {},
   "outputs": [],
   "source": []
  },
  {
   "cell_type": "code",
   "execution_count": 12,
   "metadata": {},
   "outputs": [
    {
     "name": "stdout",
     "output_type": "stream",
     "text": [
      "Enter the factor : 420\n",
      "factors are : 1\n",
      "factors are : 2\n",
      "factors are : 3\n",
      "factors are : 4\n",
      "factors are : 5\n",
      "factors are : 6\n",
      "factors are : 7\n",
      "factors are : 10\n",
      "factors are : 12\n",
      "factors are : 14\n",
      "factors are : 15\n",
      "factors are : 20\n",
      "factors are : 21\n",
      "factors are : 28\n",
      "factors are : 30\n",
      "factors are : 35\n",
      "factors are : 42\n",
      "factors are : 60\n",
      "factors are : 70\n",
      "factors are : 84\n",
      "factors are : 105\n",
      "factors are : 140\n",
      "factors are : 210\n"
     ]
    }
   ],
   "source": [
    "n = int(input('Enter the factor : '))\n",
    "for i in range(1,n):\n",
    "    if n%i == 0:\n",
    "        print('factors are : ', end = '')\n",
    "        print(i)\n",
    "        \n",
    "    else:\n",
    "        pass"
   ]
  },
  {
   "cell_type": "code",
   "execution_count": 13,
   "metadata": {},
   "outputs": [
    {
     "name": "stdout",
     "output_type": "stream",
     "text": [
      "Enter the no. u want to see if prime or composite : 78\n"
     ]
    }
   ],
   "source": [
    "n = int(input('Enter the no. u want to see if prime or composite : '))"
   ]
  },
  {
   "cell_type": "code",
   "execution_count": 15,
   "metadata": {},
   "outputs": [
    {
     "data": {
      "text/plain": [
       "0"
      ]
     },
     "execution_count": 15,
     "metadata": {},
     "output_type": "execute_result"
    }
   ],
   "source": [
    "78%2"
   ]
  },
  {
   "cell_type": "code",
   "execution_count": 3,
   "metadata": {},
   "outputs": [
    {
     "name": "stdout",
     "output_type": "stream",
     "text": [
      "Enter the no. u want to see the factorial of : 5\n"
     ]
    }
   ],
   "source": [
    "n = int(input('Enter the no. u want to see the factorial of : '))"
   ]
  },
  {
   "cell_type": "code",
   "execution_count": 8,
   "metadata": {},
   "outputs": [
    {
     "name": "stdout",
     "output_type": "stream",
     "text": [
      "the fact is :  120\n"
     ]
    }
   ],
   "source": [
    "if n<0:\n",
    "    print('no fact for negative numbers')\n",
    "elif n==1:\n",
    "    print('fact is 1')\n",
    "elif n ==0:\n",
    "    print('fact is 1')\n",
    "else:\n",
    "    f = 1\n",
    "    for i in range(1,n+1):\n",
    "        f = f*i\n",
    "    print('the fact is : ',f)        "
   ]
  },
  {
   "cell_type": "code",
   "execution_count": 27,
   "metadata": {},
   "outputs": [
    {
     "name": "stdout",
     "output_type": "stream",
     "text": [
      "enter the no. till which we want to see the fibonacci series : 8\n",
      "0\n",
      "1\n",
      "1\n",
      "2\n",
      "3\n",
      "5\n",
      "8\n",
      "13\n"
     ]
    }
   ],
   "source": [
    "n = int(input('enter the no. till which we want to see the fibonacci series : '))\n",
    "a = 0\n",
    "b = 1\n",
    "for i in range(1,n+1):\n",
    "    c = a\n",
    "    a = b\n",
    "    b = a+c\n",
    "    \n",
    "    print(c)"
   ]
  },
  {
   "cell_type": "code",
   "execution_count": 10,
   "metadata": {},
   "outputs": [
    {
     "name": "stdout",
     "output_type": "stream",
     "text": [
      "1\n",
      "2\n",
      "3\n",
      "4\n",
      "5\n"
     ]
    }
   ],
   "source": [
    "for i in range(1,n+1):\n",
    "    print(i)"
   ]
  },
  {
   "cell_type": "code",
   "execution_count": 14,
   "metadata": {},
   "outputs": [
    {
     "name": "stdout",
     "output_type": "stream",
     "text": [
      "Composite\n"
     ]
    }
   ],
   "source": [
    "c = 0\n",
    "for i in range(1,n):\n",
    "    if n%i == 0:\n",
    "        c =c+1\n",
    "        \n",
    "    else:\n",
    "        pass\n",
    "if c<=2:\n",
    "    print('prime')\n",
    "else:\n",
    "    print('Composite')"
   ]
  },
  {
   "cell_type": "code",
   "execution_count": 32,
   "metadata": {},
   "outputs": [
    {
     "name": "stdout",
     "output_type": "stream",
     "text": [
      "Enter the no. : 5\n",
      "120\n"
     ]
    }
   ],
   "source": [
    "n = int(input('Enter the no. : '))\n",
    "\n",
    "if n==0:\n",
    "    print('factorial is 1')\n",
    "elif n==1:\n",
    "    print('fact is 1')\n",
    "else:\n",
    "    f = 1\n",
    "    som = 0\n",
    "    \n",
    "    for i in range(1,n+1):\n",
    "        f = f*i\n",
    "    som = som + f\n",
    "\n",
    "print(som)"
   ]
  },
  {
   "cell_type": "code",
   "execution_count": 11,
   "metadata": {},
   "outputs": [
    {
     "name": "stdout",
     "output_type": "stream",
     "text": [
      "2\n",
      "4\n"
     ]
    }
   ],
   "source": [
    "for i in [[1,2,3],[4,5]]:\n",
    "    #print(i)\n",
    "    for j in i:\n",
    "        #print(j)\n",
    "        if type(j)==str:\n",
    "            print(j)"
   ]
  },
  {
   "cell_type": "code",
   "execution_count": 12,
   "metadata": {},
   "outputs": [
    {
     "name": "stdout",
     "output_type": "stream",
     "text": [
      "python\n",
      "is\n",
      "fun\n"
     ]
    }
   ],
   "source": [
    "l = [[\"python\",1,2],[3,4,\"is\"],[5,\"fun\",6]]\n",
    "for i in l:\n",
    "    for j in i:\n",
    "        if type(j)==str:\n",
    "            print(j)"
   ]
  },
  {
   "cell_type": "code",
   "execution_count": 15,
   "metadata": {},
   "outputs": [
    {
     "data": {
      "text/plain": [
       "2"
      ]
     },
     "execution_count": 15,
     "metadata": {},
     "output_type": "execute_result"
    }
   ],
   "source": [
    "meals = [\"b1\",\"l1\",\"d1\",\"b2\",\"l1\",\"d2\",\"b3\",\"l3\",\"d2\"]\n",
    "meals.count(\"d2\")"
   ]
  },
  {
   "cell_type": "code",
   "execution_count": 21,
   "metadata": {},
   "outputs": [
    {
     "name": "stdout",
     "output_type": "stream",
     "text": [
      "l1 : is boring\n",
      "l1 : is boring\n",
      "d2 : is boring\n",
      "d2 : is boring\n"
     ]
    }
   ],
   "source": [
    "for i in meals:\n",
    "    if meals.count(i)>1:\n",
    "        print(i, \": is boring\")"
   ]
  },
  {
   "cell_type": "code",
   "execution_count": 19,
   "metadata": {},
   "outputs": [
    {
     "data": {
      "text/plain": [
       "Counter({'b1': 1, 'l1': 2, 'd1': 1, 'b2': 1, 'd2': 2, 'b3': 1, 'l3': 1})"
      ]
     },
     "execution_count": 19,
     "metadata": {},
     "output_type": "execute_result"
    }
   ],
   "source": [
    "meals = [\"b1\",\"l1\",\"d1\",\"b2\",\"l1\",\"d2\",\"b3\",\"l3\",\"d2\"]\n",
    "from collections import Counter\n",
    "a = Counter(meals)\n",
    "a"
   ]
  },
  {
   "cell_type": "code",
   "execution_count": null,
   "metadata": {},
   "outputs": [],
   "source": [
    "dictionary:\n",
    "    {key1:value,key2:val,key3:v3}"
   ]
  },
  {
   "cell_type": "code",
   "execution_count": 26,
   "metadata": {},
   "outputs": [],
   "source": [
    "d = {1:\"one\",\"two\":2}"
   ]
  },
  {
   "cell_type": "code",
   "execution_count": 31,
   "metadata": {},
   "outputs": [
    {
     "name": "stdout",
     "output_type": "stream",
     "text": [
      "1 : one\n",
      "two : 2\n"
     ]
    }
   ],
   "source": [
    "for keys,values in d.items():\n",
    "    print(keys,\":\",values)"
   ]
  },
  {
   "cell_type": "code",
   "execution_count": 25,
   "metadata": {},
   "outputs": [
    {
     "name": "stdout",
     "output_type": "stream",
     "text": [
      "a : 3\n"
     ]
    }
   ],
   "source": [
    "s = \"Mohammand Akbar\"\n",
    "a = Counter(s)\n",
    "for i,j in a.items():\n",
    "    if j>2:\n",
    "        print(i,\":\",j)"
   ]
  },
  {
   "cell_type": "code",
   "execution_count": null,
   "metadata": {},
   "outputs": [],
   "source": [
    "a = 10\n",
    "a = int(input)"
   ]
  },
  {
   "cell_type": "code",
   "execution_count": 28,
   "metadata": {},
   "outputs": [
    {
     "name": "stdout",
     "output_type": "stream",
     "text": [
      "21\n",
      "56\n"
     ]
    }
   ],
   "source": [
    "l = [12,34,21,56,45,90]\n",
    "for i in l:\n",
    "    if i%7==0:\n",
    "        print(i)\n",
    "    else:\n",
    "        pass"
   ]
  },
  {
   "cell_type": "code",
   "execution_count": 38,
   "metadata": {},
   "outputs": [
    {
     "name": "stdout",
     "output_type": "stream",
     "text": [
      "mana\n"
     ]
    }
   ],
   "source": [
    "s = input()"
   ]
  },
  {
   "cell_type": "code",
   "execution_count": 46,
   "metadata": {},
   "outputs": [
    {
     "name": "stdout",
     "output_type": "stream",
     "text": [
      "Enter the names of students : ma ,e\n"
     ]
    },
    {
     "ename": "ValueError",
     "evalue": "invalid literal for int() with base 10: 'ma ,e'",
     "output_type": "error",
     "traceback": [
      "\u001b[1;31m---------------------------------------------------------------------------\u001b[0m",
      "\u001b[1;31mValueError\u001b[0m                                Traceback (most recent call last)",
      "\u001b[1;32m<ipython-input-46-e2adb9f05689>\u001b[0m in \u001b[0;36m<module>\u001b[1;34m\u001b[0m\n\u001b[1;32m----> 1\u001b[1;33m \u001b[0ms\u001b[0m \u001b[1;33m=\u001b[0m \u001b[0mint\u001b[0m\u001b[1;33m(\u001b[0m\u001b[0minput\u001b[0m\u001b[1;33m(\u001b[0m\u001b[1;34m\"Enter the names of students : \"\u001b[0m\u001b[1;33m)\u001b[0m\u001b[1;33m)\u001b[0m\u001b[1;33m.\u001b[0m\u001b[0msplit\u001b[0m\u001b[1;33m(\u001b[0m\u001b[1;33m)\u001b[0m\u001b[1;33m\u001b[0m\u001b[1;33m\u001b[0m\u001b[0m\n\u001b[0m",
      "\u001b[1;31mValueError\u001b[0m: invalid literal for int() with base 10: 'ma ,e'"
     ]
    }
   ],
   "source": [
    "s = input(\"Enter the names of students : \").split()"
   ]
  },
  {
   "cell_type": "code",
   "execution_count": 45,
   "metadata": {},
   "outputs": [
    {
     "data": {
      "text/plain": [
       "['a', 'b', 'c', 'd', 'e']"
      ]
     },
     "execution_count": 45,
     "metadata": {},
     "output_type": "execute_result"
    }
   ],
   "source": [
    "s"
   ]
  },
  {
   "cell_type": "code",
   "execution_count": 34,
   "metadata": {},
   "outputs": [
    {
     "name": "stdout",
     "output_type": "stream",
     "text": [
      "enter the daymon,tue,wed,thur,fri,sat,sun\n"
     ]
    }
   ],
   "source": [
    "days = input(\"enter the day\").split(sep= \",\")"
   ]
  },
  {
   "cell_type": "markdown",
   "metadata": {},
   "source": [
    "l = [[12,45,23],[56,34,33],[21,73,44]]\n",
    "u basically have to check how many of them are even and how many of them are odd"
   ]
  },
  {
   "cell_type": "code",
   "execution_count": 29,
   "metadata": {},
   "outputs": [
    {
     "name": "stdout",
     "output_type": "stream",
     "text": [
      "enter the elements of the list : 10, 23,45,27\n"
     ]
    }
   ],
   "source": [
    "n = input('enter the elements of the list : ').split(',')"
   ]
  },
  {
   "cell_type": "code",
   "execution_count": 34,
   "metadata": {},
   "outputs": [
    {
     "name": "stdout",
     "output_type": "stream",
     "text": [
      "<class 'int'>\n",
      "10\n",
      "<class 'int'>\n",
      "23\n",
      "<class 'int'>\n",
      "45\n",
      "<class 'int'>\n",
      "27\n"
     ]
    }
   ],
   "source": [
    "lst = []\n",
    "n\n",
    "for i in n:\n",
    "    i = int(i)\n",
    "    print(type(i))\n",
    "    print(i)\n",
    "    "
   ]
  },
  {
   "cell_type": "code",
   "execution_count": null,
   "metadata": {},
   "outputs": [],
   "source": [
    "l = [12,45,34,23,7,67,90,145]\n",
    "WAP to count no. of elements in the list and sum the elements."
   ]
  },
  {
   "cell_type": "code",
   "execution_count": 52,
   "metadata": {},
   "outputs": [
    {
     "name": "stdout",
     "output_type": "stream",
     "text": [
      "the sum of the list is :  423\n",
      "the number of elements in the list is :  8\n"
     ]
    }
   ],
   "source": [
    "l = [12,45,34,23,7,67,90,145]\n",
    "c = 0\n",
    "sum1 = 0\n",
    "for i in l:\n",
    "    c = c+1\n",
    "    sum1 = sum1+i\n",
    "print(\"the sum of the list is : \",sum1)\n",
    "print(\"the number of elements in the list is : \",c)"
   ]
  },
  {
   "cell_type": "code",
   "execution_count": 47,
   "metadata": {},
   "outputs": [
    {
     "name": "stdout",
     "output_type": "stream",
     "text": [
      "1\n",
      "lucky list [12, 45, 34, 23, 7, 67, 90, 145]\n"
     ]
    }
   ],
   "source": [
    "l = [12,45,34,23,7,67,90,145]\n",
    "c = 0\n",
    "for i in l:\n",
    "    if i%7==0:\n",
    "        c = c+1\n",
    "print(c)\n",
    "if c>0:\n",
    "    print(\"lucky list\",l)\n",
    "else:\n",
    "    print(\"unlucky list\",l)"
   ]
  },
  {
   "cell_type": "code",
   "execution_count": null,
   "metadata": {},
   "outputs": [],
   "source": [
    "WAP wherein"
   ]
  },
  {
   "cell_type": "code",
   "execution_count": null,
   "metadata": {},
   "outputs": [],
   "source": [
    "def has_lucky_number(nums):\n",
    "    \"\"\"Return whether the given list of numbers is lucky. A lucky list contains\n",
    "    at least one number divisible by 7.\n",
    "    \"\"\""
   ]
  },
  {
   "cell_type": "code",
   "execution_count": 19,
   "metadata": {},
   "outputs": [
    {
     "data": {
      "text/plain": [
       "[False, False, True, True]"
      ]
     },
     "execution_count": 19,
     "metadata": {},
     "output_type": "execute_result"
    }
   ],
   "source": [
    "l = [1,2,3,4]\n",
    "l1 = []\n",
    "for i in l:\n",
    "    if i>2:\n",
    "        l1.append(True)\n",
    "    else:\n",
    "        l1.append(False)\n",
    "l1"
   ]
  },
  {
   "cell_type": "markdown",
   "metadata": {},
   "source": [
    "party_attendees = [\"neha\",\"arpit\",\"sid\",\"megha\",\"golu\",\"bholu\",\"ela\",\"pihu\"]\n",
    "if the person arrives after half of the party guests then i should label him as a fashionably late but i shouldnt label the last person as fashionably late\n"
   ]
  },
  {
   "cell_type": "code",
   "execution_count": 4,
   "metadata": {},
   "outputs": [
    {
     "data": {
      "text/plain": [
       "'ela'"
      ]
     },
     "execution_count": 4,
     "metadata": {},
     "output_type": "execute_result"
    }
   ],
   "source": [
    "l = [\"golu\",\"bholu\",\"ela\"]\n",
    "l[2]"
   ]
  },
  {
   "cell_type": "code",
   "execution_count": 8,
   "metadata": {},
   "outputs": [
    {
     "name": "stdout",
     "output_type": "stream",
     "text": [
      "golu  is fashionably late\n",
      "bholu  is fashionably late\n",
      "ela  is fashionably late\n"
     ]
    }
   ],
   "source": [
    "l=[\"neha\",\"arpit\",\"sid\",\"megha\",\"golu\",\"bholu\",\"ela\",\"pihu\"]\n",
    "c = 0\n",
    "for i in l:\n",
    "    c = c+1\n",
    "#print(c)\n",
    "for i in range(c):\n",
    "    if i>=(c/2) and i!=c-1:\n",
    "        print(l[i],\" is fashionably late\")"
   ]
  },
  {
   "cell_type": "code",
   "execution_count": 5,
   "metadata": {},
   "outputs": [
    {
     "name": "stdout",
     "output_type": "stream",
     "text": [
      "golu  is fashionably late\n",
      "bholu  is fashionably late\n",
      "ela  is fashionably late\n"
     ]
    }
   ],
   "source": [
    "l = [\"neha\",\"arpit\",\"sid\",\"megha\",\"golu\",\"bholu\",\"ela\",\"pihu\"]\n",
    "for i in range(len(l)):\n",
    "    if i>=len(l)/2 and i!=len(l)-1:\n",
    "        print(l[i],\" is fashionably late\")"
   ]
  },
  {
   "cell_type": "code",
   "execution_count": 6,
   "metadata": {},
   "outputs": [
    {
     "data": {
      "text/plain": [
       "['a', 'b', 'c', 'a', 'f', 'e', 'a', 'c', 'd']"
      ]
     },
     "execution_count": 6,
     "metadata": {},
     "output_type": "execute_result"
    }
   ],
   "source": [
    "# l = [[\"a\",\"b\",\"c\"],[\"a\",\"f\",\"e\"],[\"a\",\"c\",\"d\"]]\n",
    "# l1 = []\n",
    "# for i in l:\n",
    "#     for j in i:\n",
    "#         l1.append(j)\n",
    "# l1\n",
    "# if        \n",
    "        "
   ]
  },
  {
   "cell_type": "code",
   "execution_count": 39,
   "metadata": {},
   "outputs": [
    {
     "name": "stdout",
     "output_type": "stream",
     "text": [
      "enter the List of mealsupma,idli,dosa,pizza,butter chicken,chowmein,biryani,idli,burger\n"
     ]
    }
   ],
   "source": [
    "# n = (input('enter the List of meals').split(','))"
   ]
  },
  {
   "cell_type": "markdown",
   "metadata": {},
   "source": [
    "print a pattern \n",
    "*\n",
    "* *\n",
    "* * *\n",
    "* * * *"
   ]
  },
  {
   "cell_type": "code",
   "execution_count": 19,
   "metadata": {},
   "outputs": [
    {
     "name": "stdout",
     "output_type": "stream",
     "text": [
      "enter the no. of rows:4\n",
      "* \n",
      "* * \n",
      "* * * \n",
      "* * * * \n",
      "* * * \n",
      "* * \n",
      "* \n"
     ]
    }
   ],
   "source": [
    "rows = int(input(\"enter the no. of rows:\"))\n",
    "for i in range(1,rows+1):\n",
    "    print(\"* \"*i)\n",
    "    \n",
    "for j in range(rows-1,0,-1):\n",
    "    print(\"* \"*j)"
   ]
  },
  {
   "cell_type": "code",
   "execution_count": 20,
   "metadata": {},
   "outputs": [
    {
     "name": "stdout",
     "output_type": "stream",
     "text": [
      " *\n",
      " * *\n",
      " * * *\n",
      " * * * *\n"
     ]
    }
   ],
   "source": [
    "for i in range(1,rows+1):\n",
    "    print(\" *\"*i)\n",
    "    "
   ]
  },
  {
   "cell_type": "code",
   "execution_count": 14,
   "metadata": {},
   "outputs": [
    {
     "name": "stdout",
     "output_type": "stream",
     "text": [
      "5\n",
      "    * \n",
      "   * * \n",
      "  * * * \n",
      " * * * * \n",
      "* * * * * \n"
     ]
    }
   ],
   "source": [
    "rows = int(input())\n",
    "space = rows-1\n",
    "for i in range(1,rows+1):\n",
    "    print(\" \"*space,end = \"\")\n",
    "    print(\"* \"*i)\n",
    "    space = space-1"
   ]
  },
  {
   "cell_type": "code",
   "execution_count": 18,
   "metadata": {},
   "outputs": [
    {
     "name": "stdout",
     "output_type": "stream",
     "text": [
      "5\n",
      "     * \n",
      "     * * \n",
      "     * * * \n",
      "     * * * * \n",
      "* * * * * \n",
      "* * * * * \n",
      "* * * * * \n",
      "* * * * * \n",
      "* * * * * \n"
     ]
    }
   ],
   "source": [
    "rows = int(input())\n",
    "s = 5\n",
    "space = 5\n",
    "for i in range(1,rows):\n",
    "    print(\" \"*space,end = \"\")\n",
    "    print(\"* \"*i)\n",
    "for j in range(s):\n",
    "    for k in range(1,s-i):\n",
    "        print(\" \",end = \"\")\n",
    "    for m in range(0,i+1):\n",
    "        print(\"* \",end = \"\")\n",
    "    print()\n"
   ]
  },
  {
   "cell_type": "code",
   "execution_count": null,
   "metadata": {},
   "outputs": [],
   "source": [
    "s = 4\n",
    "for i in range(s,0,-1):\n",
    "    print(\" \"*i)\n",
    "    for j in range(0,rows):\n",
    "        print()"
   ]
  },
  {
   "cell_type": "code",
   "execution_count": null,
   "metadata": {},
   "outputs": [],
   "source": []
  },
  {
   "cell_type": "code",
   "execution_count": null,
   "metadata": {},
   "outputs": [],
   "source": []
  },
  {
   "cell_type": "code",
   "execution_count": null,
   "metadata": {},
   "outputs": [],
   "source": []
  },
  {
   "cell_type": "code",
   "execution_count": null,
   "metadata": {},
   "outputs": [],
   "source": []
  },
  {
   "cell_type": "code",
   "execution_count": 11,
   "metadata": {},
   "outputs": [
    {
     "name": "stdout",
     "output_type": "stream",
     "text": [
      "Enter the no. of rows : 8\n",
      "*  \n",
      "* *  \n",
      "* * *  \n",
      "* * * *  \n",
      "* * * * *  \n",
      "* * * * * *  \n",
      "* * * * * * *  \n",
      "* * * * * * * *  \n",
      "* * * * * * *  \n",
      "* * * * * *  \n",
      "* * * * *  \n",
      "* * * *  \n",
      "* * *  \n",
      "* *  \n",
      "*  \n",
      " \n"
     ]
    }
   ],
   "source": [
    "r = int(input(\"Enter the no. of rows : \"))\n",
    "for i in range(0,r):\n",
    "    for j in range(0,i+1):\n",
    "        print(\"*\",end = \" \")\n",
    "    print(\" \")\n",
    "for i in range(r,0,-1):\n",
    "    for j in range(0,i-1):\n",
    "        print(\"*\" ,end = \" \")\n",
    "    print(\" \")"
   ]
  },
  {
   "cell_type": "markdown",
   "metadata": {},
   "source": [
    "Q10.Kaggle questions "
   ]
  },
  {
   "cell_type": "code",
   "execution_count": 64,
   "metadata": {},
   "outputs": [],
   "source": [
    "meals = ['upma','idli','dosa','pizza','idli','chowmein','chowmein','idli','chowmein']"
   ]
  },
  {
   "cell_type": "code",
   "execution_count": 65,
   "metadata": {},
   "outputs": [],
   "source": [
    "day1 = meals[:3]\n",
    "day2 = meals[3:6]\n",
    "day3 = meals[6:9]"
   ]
  },
  {
   "cell_type": "code",
   "execution_count": 66,
   "metadata": {},
   "outputs": [],
   "source": [
    "day_wise_meals = list(zip(day1,day2,day3))"
   ]
  },
  {
   "cell_type": "code",
   "execution_count": 67,
   "metadata": {},
   "outputs": [
    {
     "data": {
      "text/plain": [
       "[('upma', 'pizza', 'chowmein'),\n",
       " ('idli', 'idli', 'idli'),\n",
       " ('dosa', 'chowmein', 'chowmein')]"
      ]
     },
     "execution_count": 67,
     "metadata": {},
     "output_type": "execute_result"
    }
   ],
   "source": [
    "day_wise_meals"
   ]
  },
  {
   "cell_type": "code",
   "execution_count": 72,
   "metadata": {},
   "outputs": [
    {
     "data": {
      "text/plain": [
       "[0, 1, 2]"
      ]
     },
     "execution_count": 72,
     "metadata": {},
     "output_type": "execute_result"
    }
   ],
   "source": [
    "list(range(3))"
   ]
  },
  {
   "cell_type": "code",
   "execution_count": 83,
   "metadata": {},
   "outputs": [
    {
     "name": "stdout",
     "output_type": "stream",
     "text": [
      "idli  is Boring\n",
      "idli  is Boring\n",
      "chowmein  is Boring\n"
     ]
    }
   ],
   "source": [
    "for i in day_wise_meals:\n",
    "    #print(i)\n",
    "    for j in range(2):\n",
    "            if i[j]==i[j+1]:\n",
    "                print(i[j],\" is Boring\")\n",
    "    "
   ]
  },
  {
   "cell_type": "markdown",
   "metadata": {},
   "source": [
    "party_attendees = [\"neha\",\"arpit\",\"sid\",\"megha\",\"golu\",\"bholu\",\"ela\",\"pihu\"]\n",
    "if the person arrives after half of the party guests then i should label him as a fashionably late but i shouldnt label the last person as fashionably late "
   ]
  },
  {
   "cell_type": "code",
   "execution_count": 84,
   "metadata": {},
   "outputs": [
    {
     "data": {
      "text/plain": [
       "dict_items([('sachin', 67), ('dhoni', 99), ('Virat_kohli', 32), ('Rohit_sharma', 87)])"
      ]
     },
     "execution_count": 84,
     "metadata": {},
     "output_type": "execute_result"
    }
   ],
   "source": [
    "player_name = \"Virat_kohli\"\n",
    "runs = {'sachin':67,'dhoni':99,'Virat_kohli':32,'Rohit_sharma':87}\n",
    "runs.items()"
   ]
  },
  {
   "cell_type": "code",
   "execution_count": 85,
   "metadata": {},
   "outputs": [
    {
     "data": {
      "text/plain": [
       "[('sachin', 67), ('dhoni', 99)]"
      ]
     },
     "execution_count": 85,
     "metadata": {},
     "output_type": "execute_result"
    }
   ],
   "source": [
    "players = [\"sachin\",\"dhoni\"]\n",
    "runs = [67,99]\n",
    "list(zip(players,runs))"
   ]
  },
  {
   "cell_type": "code",
   "execution_count": 90,
   "metadata": {},
   "outputs": [
    {
     "name": "stdout",
     "output_type": "stream",
     "text": [
      "Enter the number :9\n",
      "362880\n"
     ]
    }
   ],
   "source": [
    "                                  \n",
    "n = int(input(\"Enter the number :\"))\n",
    "if n<0:\n",
    "    print(\"fact is not possible\")\n",
    "elif n==0 or n==1:\n",
    "    print(\"fact is one\")\n",
    "else:\n",
    "    f=1\n",
    "    for i in range(n,0,-1):\n",
    "        f=f*i\n",
    "    print(f)"
   ]
  },
  {
   "cell_type": "code",
   "execution_count": 36,
   "metadata": {},
   "outputs": [
    {
     "name": "stdout",
     "output_type": "stream",
     "text": [
      "no. is lucky 56\n",
      "no. is lucky 98\n"
     ]
    }
   ],
   "source": [
    "def has_lucky_no(nums):\n",
    "    for i in nums:\n",
    "        if i%7==0:\n",
    "            print('no. is lucky',i)\n",
    "        else:\n",
    "            pass\n",
    "has_lucky_no([1,34,56,23,98])"
   ]
  },
  {
   "cell_type": "code",
   "execution_count": 38,
   "metadata": {},
   "outputs": [
    {
     "name": "stdout",
     "output_type": "stream",
     "text": [
      "False\n",
      "False\n",
      "True\n",
      "True\n"
     ]
    }
   ],
   "source": [
    "[1, 2, 3, 4] \n",
    "for i in [1,2,3,4]:\n",
    "    print(i>2)"
   ]
  },
  {
   "cell_type": "code",
   "execution_count": 7,
   "metadata": {},
   "outputs": [
    {
     "data": {
      "text/plain": [
       "0"
      ]
     },
     "execution_count": 7,
     "metadata": {},
     "output_type": "execute_result"
    }
   ],
   "source": [
    "a = 0\n",
    "c = a\n",
    "c"
   ]
  },
  {
   "cell_type": "code",
   "execution_count": 8,
   "metadata": {},
   "outputs": [
    {
     "name": "stdout",
     "output_type": "stream",
     "text": [
      "0\n",
      "1\n",
      "2\n",
      "3\n",
      "4\n",
      "5\n",
      "6\n",
      "7\n",
      "8\n",
      "9\n"
     ]
    }
   ],
   "source": [
    "for i in range(10):\n",
    "    print(i)"
   ]
  },
  {
   "cell_type": "code",
   "execution_count": 2,
   "metadata": {},
   "outputs": [
    {
     "name": "stdout",
     "output_type": "stream",
     "text": [
      "Enter the no. : 10\n",
      "0\n",
      "1\n",
      "1\n",
      "2\n",
      "3\n",
      "5\n",
      "8\n",
      "13\n",
      "21\n",
      "34\n"
     ]
    }
   ],
   "source": [
    "def feb():\n",
    "    a = 0\n",
    "    b = 1\n",
    "    n = int(input('Enter the no. : '))\n",
    "    for i in range(n):\n",
    "        print(a)\n",
    "        c = a\n",
    "        a = b\n",
    "        b = c+b\n",
    "feb()  "
   ]
  },
  {
   "cell_type": "markdown",
   "metadata": {},
   "source": [
    "### nested loops"
   ]
  },
  {
   "cell_type": "code",
   "execution_count": 14,
   "metadata": {},
   "outputs": [
    {
     "name": "stdout",
     "output_type": "stream",
     "text": [
      "2\n",
      "4\n",
      "6\n",
      "8\n",
      "10\n",
      "12\n",
      "14\n",
      "16\n",
      "18\n",
      "20\n",
      "***********\n",
      "3\n",
      "6\n",
      "9\n",
      "12\n",
      "15\n",
      "18\n",
      "21\n",
      "24\n",
      "27\n",
      "30\n",
      "***********\n",
      "4\n",
      "8\n",
      "12\n",
      "16\n",
      "20\n",
      "24\n",
      "28\n",
      "32\n",
      "36\n",
      "40\n",
      "***********\n",
      "5\n",
      "10\n",
      "15\n",
      "20\n",
      "25\n",
      "30\n",
      "35\n",
      "40\n",
      "45\n",
      "50\n",
      "***********\n"
     ]
    }
   ],
   "source": [
    "for i in range(2,6):\n",
    "    for j in range(1,11):\n",
    "        print(i*j)\n",
    "    print('***********')"
   ]
  },
  {
   "cell_type": "code",
   "execution_count": 1,
   "metadata": {},
   "outputs": [
    {
     "data": {
      "text/plain": [
       "30"
      ]
     },
     "execution_count": 1,
     "metadata": {},
     "output_type": "execute_result"
    }
   ],
   "source": [
    "a = 10\n",
    "b = 20\n",
    "c = a+b\n",
    "c"
   ]
  },
  {
   "cell_type": "code",
   "execution_count": null,
   "metadata": {},
   "outputs": [],
   "source": [
    "class car:\n",
    "    color = \"black\"\n",
    "    speed = 320 \n",
    "    mileage = 13.5\n",
    "    \n",
    "    def show():\n",
    "        print(the color , and speed and mileage )"
   ]
  },
  {
   "cell_type": "code",
   "execution_count": 4,
   "metadata": {},
   "outputs": [
    {
     "name": "stdout",
     "output_type": "stream",
     "text": [
      "Enter the values 2,3,4,5,6\n"
     ]
    }
   ],
   "source": [
    "n = input('Enter the values ').split(',')"
   ]
  },
  {
   "cell_type": "code",
   "execution_count": 12,
   "metadata": {},
   "outputs": [
    {
     "name": "stdout",
     "output_type": "stream",
     "text": [
      "2\n",
      "3\n",
      "4\n",
      "5\n",
      "6\n",
      "[2, 3, 4, 5, 6]\n"
     ]
    }
   ],
   "source": [
    "n\n",
    "l = []\n",
    "for i in n:\n",
    "    a = int(i)\n",
    "    print(a)\n",
    "    l.append(a)\n",
    "print(l)"
   ]
  },
  {
   "cell_type": "code",
   "execution_count": 3,
   "metadata": {},
   "outputs": [
    {
     "name": "stdout",
     "output_type": "stream",
     "text": [
      "3 x 10 = 30\n",
      "3 x 9 = 27\n",
      "3 x 8 = 24\n",
      "3 x 7 = 21\n",
      "3 x 6 = 18\n",
      "3 x 5 = 15\n",
      "3 x 4 = 12\n",
      "3 x 3 = 9\n",
      "3 x 2 = 6\n",
      "3 x 1 = 3\n",
      "**************\n",
      "4 x 10 = 40\n",
      "4 x 9 = 36\n",
      "4 x 8 = 32\n",
      "4 x 7 = 28\n",
      "4 x 6 = 24\n",
      "4 x 5 = 20\n",
      "4 x 4 = 16\n",
      "4 x 3 = 12\n",
      "4 x 2 = 8\n",
      "4 x 1 = 4\n",
      "**************\n",
      "5 x 10 = 50\n",
      "5 x 9 = 45\n",
      "5 x 8 = 40\n",
      "5 x 7 = 35\n",
      "5 x 6 = 30\n",
      "5 x 5 = 25\n",
      "5 x 4 = 20\n",
      "5 x 3 = 15\n",
      "5 x 2 = 10\n",
      "5 x 1 = 5\n",
      "**************\n",
      "6 x 10 = 60\n",
      "6 x 9 = 54\n",
      "6 x 8 = 48\n",
      "6 x 7 = 42\n",
      "6 x 6 = 36\n",
      "6 x 5 = 30\n",
      "6 x 4 = 24\n",
      "6 x 3 = 18\n",
      "6 x 2 = 12\n",
      "6 x 1 = 6\n",
      "**************\n",
      "7 x 10 = 70\n",
      "7 x 9 = 63\n",
      "7 x 8 = 56\n",
      "7 x 7 = 49\n",
      "7 x 6 = 42\n",
      "7 x 5 = 35\n",
      "7 x 4 = 28\n",
      "7 x 3 = 21\n",
      "7 x 2 = 14\n",
      "7 x 1 = 7\n",
      "**************\n",
      "8 x 10 = 80\n",
      "8 x 9 = 72\n",
      "8 x 8 = 64\n",
      "8 x 7 = 56\n",
      "8 x 6 = 48\n",
      "8 x 5 = 40\n",
      "8 x 4 = 32\n",
      "8 x 3 = 24\n",
      "8 x 2 = 16\n",
      "8 x 1 = 8\n",
      "**************\n"
     ]
    }
   ],
   "source": [
    "for i in range(3,9):\n",
    "    for j in range(10,0,-1):\n",
    "        print(i,'x',j,'=',i*j)\n",
    "    print('**************')"
   ]
  },
  {
   "cell_type": "markdown",
   "metadata": {},
   "source": [
    "***\n",
    "***\n",
    "***\n",
    "***\n",
    "***"
   ]
  },
  {
   "cell_type": "markdown",
   "metadata": {},
   "source": [
    "write a program to print a certain pattern :\n",
    "* \n",
    "* *\n",
    "* *  *\n",
    "* *  *  * \n",
    "                    *\n",
    "                  *   *\n",
    "                 *  *  *\n",
    "               *  *   *  *"
   ]
  },
  {
   "cell_type": "code",
   "execution_count": 11,
   "metadata": {},
   "outputs": [
    {
     "name": "stdout",
     "output_type": "stream",
     "text": [
      "Enter the numbers of rows u want to have : 4\n",
      "*  \n",
      "* *  \n",
      "* * *  \n",
      "* * * *  \n"
     ]
    }
   ],
   "source": [
    "rows = int(input('Enter the numbers of rows u want to have : '))\n",
    "for i in range(1,rows+1):\n",
    "    for j in range(1,i+1):\n",
    "        print('*', end = ' ')\n",
    "    print(' ')"
   ]
  },
  {
   "cell_type": "code",
   "execution_count": 11,
   "metadata": {},
   "outputs": [
    {
     "name": "stdout",
     "output_type": "stream",
     "text": [
      "* \n",
      "* * \n",
      "* * * \n",
      "* * * * \n",
      "* * * * * \n"
     ]
    }
   ],
   "source": [
    "rows = 5\n",
    "for j in range(1, rows+1):\n",
    "    print(\"* \" * j)"
   ]
  },
  {
   "cell_type": "code",
   "execution_count": 17,
   "metadata": {},
   "outputs": [
    {
     "name": "stdout",
     "output_type": "stream",
     "text": [
      "Enter the rows : 5\n",
      "     \n",
      "    * \n",
      "   * * \n",
      "  * * * \n",
      " * * * * \n"
     ]
    }
   ],
   "source": [
    "r = int(input(\"Enter the rows : \"))\n",
    "n = r\n",
    "for i in range(0,r):\n",
    "    print(\" \"*n,end ='')\n",
    "    print(\"* \"*i)\n",
    "    n = n-1"
   ]
  },
  {
   "cell_type": "code",
   "execution_count": 1,
   "metadata": {},
   "outputs": [
    {
     "name": "stdout",
     "output_type": "stream",
     "text": [
      "Enter the no. of rows :4\n",
      "   *  \n",
      "  * *  \n",
      " * * *  \n",
      "* * * *  \n"
     ]
    }
   ],
   "source": [
    "n = int(input('Enter the no. of rows :'))\n",
    "k = n-1\n",
    "for i in range(1,n+1):\n",
    "    for j in range(1,k+1):\n",
    "        print(end = ' ')\n",
    "        \n",
    "    k = k-1\n",
    "    \n",
    "    \n",
    "    for r in range(1,i+1):\n",
    "        print('*' ,end = ' ')\n",
    "    print(' ')"
   ]
  },
  {
   "cell_type": "markdown",
   "metadata": {},
   "source": [
    "write a program to take a range from (1,100) and print fizz for the no.s which are div by 3 , print buzz which are div by 5 and print 'fizzbuzz' for the numbers div by both.(function)"
   ]
  },
  {
   "cell_type": "code",
   "execution_count": 3,
   "metadata": {},
   "outputs": [
    {
     "name": "stdout",
     "output_type": "stream",
     "text": [
      "1\n",
      "2\n",
      "fizz 3\n",
      "4\n",
      "buzz 5\n",
      "fizz 6\n",
      "7\n",
      "8\n",
      "fizz 9\n",
      "buzz 10\n",
      "11\n",
      "fizz 12\n",
      "13\n",
      "14\n",
      "fizzbuzz 15\n",
      "16\n",
      "17\n",
      "fizz 18\n",
      "19\n",
      "buzz 20\n",
      "fizz 21\n",
      "22\n",
      "23\n",
      "fizz 24\n",
      "buzz 25\n",
      "26\n",
      "fizz 27\n",
      "28\n",
      "29\n",
      "fizzbuzz 30\n",
      "31\n",
      "32\n",
      "fizz 33\n",
      "34\n",
      "buzz 35\n",
      "fizz 36\n",
      "37\n",
      "38\n",
      "fizz 39\n",
      "buzz 40\n",
      "41\n",
      "fizz 42\n",
      "43\n",
      "44\n",
      "fizzbuzz 45\n",
      "46\n",
      "47\n",
      "fizz 48\n",
      "49\n",
      "buzz 50\n",
      "fizz 51\n",
      "52\n",
      "53\n",
      "fizz 54\n",
      "buzz 55\n",
      "56\n",
      "fizz 57\n",
      "58\n",
      "59\n",
      "fizzbuzz 60\n",
      "61\n",
      "62\n",
      "fizz 63\n",
      "64\n",
      "buzz 65\n",
      "fizz 66\n",
      "67\n",
      "68\n",
      "fizz 69\n",
      "buzz 70\n",
      "71\n",
      "fizz 72\n",
      "73\n",
      "74\n",
      "fizzbuzz 75\n",
      "76\n",
      "77\n",
      "fizz 78\n",
      "79\n",
      "buzz 80\n",
      "fizz 81\n",
      "82\n",
      "83\n",
      "fizz 84\n",
      "buzz 85\n",
      "86\n",
      "fizz 87\n",
      "88\n",
      "89\n",
      "fizzbuzz 90\n",
      "91\n",
      "92\n",
      "fizz 93\n",
      "94\n",
      "buzz 95\n",
      "fizz 96\n",
      "97\n",
      "98\n",
      "fizz 99\n",
      "buzz 100\n"
     ]
    }
   ],
   "source": [
    "def fizzbuzz():\n",
    "    for i in range(1,101):\n",
    "        if i%3==0 and i%5==0:\n",
    "            print('fizzbuzz',i)        \n",
    "        elif i%5==0:\n",
    "            print('buzz',i)\n",
    "        elif i%3==0:\n",
    "            print('fizz',i)\n",
    "        else:\n",
    "            print(i)\n",
    "fizzbuzz()"
   ]
  },
  {
   "cell_type": "markdown",
   "metadata": {},
   "source": [
    "*\n",
    "*  *\n",
    "*  *  *\n",
    "*  *  *  * "
   ]
  },
  {
   "cell_type": "code",
   "execution_count": 4,
   "metadata": {},
   "outputs": [
    {
     "name": "stdout",
     "output_type": "stream",
     "text": [
      "1\n",
      "1\n",
      "2\n",
      "1\n",
      "2\n"
     ]
    }
   ],
   "source": [
    "for i in range(1,3):\n",
    "    print(i)\n",
    "    for j in range(1,i+1):\n",
    "        print(j)"
   ]
  },
  {
   "cell_type": "code",
   "execution_count": 1,
   "metadata": {},
   "outputs": [],
   "source": [
    "a = 25"
   ]
  },
  {
   "cell_type": "code",
   "execution_count": 3,
   "metadata": {},
   "outputs": [
    {
     "name": "stdout",
     "output_type": "stream",
     "text": [
      "condition false\n"
     ]
    }
   ],
   "source": [
    "if a>10 and a<20 or a==12:\n",
    "    print('condition true')\n",
    "else:\n",
    "    print('condition false')"
   ]
  },
  {
   "cell_type": "markdown",
   "metadata": {},
   "source": [
    "column == 1 or ((row == 0 or row == 6) and (column > 1 and column < 5)) or (column == 5 and row != 0 and row != 6   \n",
    "result_str=result_str+\"*\"   "
   ]
  },
  {
   "cell_type": "code",
   "execution_count": 17,
   "metadata": {},
   "outputs": [
    {
     "name": "stdout",
     "output_type": "stream",
     "text": [
      "Enter the no. of rows : 4\n",
      "*  \n",
      "* *  \n",
      "* * *  \n",
      "* * * *  \n"
     ]
    }
   ],
   "source": [
    "rows = int(input('Enter the no. of rows : '))\n",
    "for i in range(1,rows+1):\n",
    "    for j in range(1,i+1):\n",
    "        print(\"*\",end = ' ')\n",
    "    print(' ')"
   ]
  },
  {
   "cell_type": "code",
   "execution_count": null,
   "metadata": {},
   "outputs": [],
   "source": [
    "0 1 1 2 3 5 8 13 21 34"
   ]
  },
  {
   "cell_type": "code",
   "execution_count": 26,
   "metadata": {},
   "outputs": [
    {
     "name": "stdout",
     "output_type": "stream",
     "text": [
      "[0, 1, 1, 2, 3, 5, 8, 13, 21, 34]\n"
     ]
    }
   ],
   "source": [
    "a = 0\n",
    "b = 1\n",
    "l = []\n",
    "for i in range(10):\n",
    "    c = a\n",
    "    a = b\n",
    "    b = a+c\n",
    "    l.append(c)\n",
    "print(l)"
   ]
  },
  {
   "cell_type": "code",
   "execution_count": 11,
   "metadata": {},
   "outputs": [
    {
     "name": "stdout",
     "output_type": "stream",
     "text": [
      "a\n",
      "b\n",
      "c\n"
     ]
    }
   ],
   "source": [
    "for j in ['a','b','c']:\n",
    "    print(j)"
   ]
  },
  {
   "cell_type": "code",
   "execution_count": 4,
   "metadata": {},
   "outputs": [
    {
     "name": "stdout",
     "output_type": "stream",
     "text": [
      "1\n",
      "2\n",
      "3\n",
      "2\n",
      "3\n",
      "3\n"
     ]
    }
   ],
   "source": [
    "for i in [1,2,3]:\n",
    "    while i<4:\n",
    "        print(i)\n",
    "        i=i+1"
   ]
  },
  {
   "cell_type": "markdown",
   "metadata": {},
   "source": [
    "WAP to check if the no.s in the range 100 to 400's each digit is div by 2 or not if each digit is div by 2 then we are going to print the no. as even else we are going to print it as odd."
   ]
  },
  {
   "cell_type": "code",
   "execution_count": 12,
   "metadata": {},
   "outputs": [
    {
     "name": "stdout",
     "output_type": "stream",
     "text": [
      "10  is odd\n",
      "11  is odd\n",
      "12  is odd\n",
      "13  is odd\n",
      "14  is odd\n",
      "15  is odd\n",
      "16  is odd\n",
      "17  is odd\n",
      "18  is odd\n",
      "19  is odd\n",
      "20  is even\n",
      "21  is odd\n",
      "22  is even\n",
      "23  is odd\n",
      "24  is even\n",
      "25  is odd\n",
      "26  is even\n",
      "27  is odd\n",
      "28  is even\n",
      "29  is odd\n",
      "30  is odd\n",
      "31  is odd\n",
      "32  is odd\n",
      "33  is odd\n",
      "34  is odd\n",
      "35  is odd\n",
      "36  is odd\n",
      "37  is odd\n",
      "38  is odd\n",
      "39  is odd\n",
      "40  is even\n"
     ]
    }
   ],
   "source": [
    "for i in range(10,41):\n",
    "    c = 0\n",
    "    s = str(i)\n",
    "    for j in s:\n",
    "        if int(j)%2==0:\n",
    "            c = c+1\n",
    "    if c==len(s):\n",
    "        print(i,\" is even\")\n",
    "    else:\n",
    "        print(i,\" is odd\")"
   ]
  },
  {
   "cell_type": "code",
   "execution_count": 7,
   "metadata": {},
   "outputs": [
    {
     "name": "stdout",
     "output_type": "stream",
     "text": [
      "[[0 0 0 0]\n",
      " [0 1 2 3]\n",
      " [0 2 4 6]\n",
      " [0 3 6 9]]\n"
     ]
    }
   ],
   "source": [
    "m = 3\n",
    "n = 3\n",
    "l = []\n",
    "for i in range(m+1):\n",
    "    for j in range(n+1):\n",
    "        l.append(i*j)\n",
    "#print(l)\n",
    "import numpy as np \n",
    "l = np.array(l)\n",
    "l = l.reshape(4,4)\n",
    "print(l)"
   ]
  },
  {
   "cell_type": "code",
   "execution_count": 21,
   "metadata": {},
   "outputs": [
    {
     "name": "stdout",
     "output_type": "stream",
     "text": [
      "the number is even 200\n",
      "the number is even 202\n",
      "the number is even 204\n",
      "the number is even 206\n",
      "the number is even 208\n",
      "the number is even 220\n",
      "the number is even 222\n",
      "the number is even 224\n",
      "the number is even 226\n",
      "the number is even 228\n",
      "the number is even 240\n",
      "the number is even 242\n",
      "the number is even 244\n",
      "the number is even 246\n",
      "the number is even 248\n",
      "the number is even 260\n",
      "the number is even 262\n",
      "the number is even 264\n",
      "the number is even 266\n",
      "the number is even 268\n",
      "the number is even 280\n",
      "the number is even 282\n",
      "the number is even 284\n",
      "the number is even 286\n",
      "the number is even 288\n"
     ]
    }
   ],
   "source": [
    "for i in range(100,400):\n",
    "    i = str(i)\n",
    "    c = 0\n",
    "    for j in i:\n",
    "        j = int(j)\n",
    "        if j%2==0:\n",
    "            \n",
    "            c = c+1\n",
    "        else:\n",
    "            pass\n",
    "    if c==3:\n",
    "        print(\"the number is even\",i)\n",
    "    else:\n",
    "        pass"
   ]
  },
  {
   "cell_type": "markdown",
   "metadata": {},
   "source": [
    "WAP to print the meal to be boring if the meal is repeating two days in row . first we need to take the list of three days meals "
   ]
  },
  {
   "cell_type": "code",
   "execution_count": 1,
   "metadata": {},
   "outputs": [],
   "source": [
    "meals = [[\"upma\",\"idli\",\"biryani\"],[\"poha\",\"idli\",\"dalia\"],[\"parathe\",\"upma\",\"dalia\"]]\n",
    "day1 = meals[0]\n",
    "day2 = meals[1]\n",
    "day3 = meals[2]"
   ]
  },
  {
   "cell_type": "code",
   "execution_count": 7,
   "metadata": {},
   "outputs": [
    {
     "name": "stdout",
     "output_type": "stream",
     "text": [
      "['parathe', 'upma', 'dalia']\n",
      "idli  is boring\n",
      "dalia  is boring\n"
     ]
    }
   ],
   "source": [
    "l=list(zip(day1,day2,day3))\n",
    "for i in l:\n",
    "    for j in range(2):\n",
    "        if i[j]== i[j+1]:\n",
    "            print(i[j],\" is boring\")"
   ]
  },
  {
   "cell_type": "code",
   "execution_count": 25,
   "metadata": {},
   "outputs": [
    {
     "name": "stdout",
     "output_type": "stream",
     "text": [
      "idli  is boring\n"
     ]
    }
   ],
   "source": [
    "day1 = meals[0]\n",
    "day2 = meals[1]\n",
    "day3 = meals[2]\n",
    "for i in range(0,3):\n",
    "    if day1[i] == day2[i]:\n",
    "        print(day1[i],\" is boring\")\n"
   ]
  },
  {
   "cell_type": "code",
   "execution_count": 20,
   "metadata": {},
   "outputs": [
    {
     "name": "stdout",
     "output_type": "stream",
     "text": [
      "upma : boring\n",
      "idli : boring\n",
      "idli : boring\n",
      "dalia : boring\n",
      "upma : boring\n",
      "dalia : boring\n"
     ]
    }
   ],
   "source": [
    "l = []\n",
    "for i in meals:\n",
    "    #print(i)\n",
    "    for j in i:\n",
    "        l.append(j)\n",
    "l\n",
    "for i in l:\n",
    "    if l.count(i)>1:\n",
    "        print(i,\":\",\"boring\")"
   ]
  },
  {
   "cell_type": "markdown",
   "metadata": {},
   "source": [
    "### While "
   ]
  },
  {
   "cell_type": "markdown",
   "metadata": {},
   "source": [
    "➢ when we already know that how many times i must do the iterations, then we go for \"for loop\".\n",
    "\n",
    "➢ if i don't know iterations in advance (i.e., how many times i must iterate), then go for \"while loop\".\n",
    "\n",
    "➢ While Loops is used to execute a block of statements repeatedly until a given condition is satisfied."
   ]
  },
  {
   "cell_type": "markdown",
   "metadata": {},
   "source": [
    "while condition:\n",
    "    body/expressions\n",
    "    \n",
    "➢ when condition returns False our while will stop. you can also use else with while loop."
   ]
  },
  {
   "cell_type": "code",
   "execution_count": 3,
   "metadata": {},
   "outputs": [
    {
     "name": "stdout",
     "output_type": "stream",
     "text": [
      "1\n",
      "2\n",
      "3\n",
      "4\n",
      "5\n"
     ]
    }
   ],
   "source": [
    "i=0\n",
    "while i<5:\n",
    "    i=i+1\n",
    "    print(i)"
   ]
  },
  {
   "cell_type": "code",
   "execution_count": 6,
   "metadata": {},
   "outputs": [
    {
     "name": "stdout",
     "output_type": "stream",
     "text": [
      "Enter the number : 8\n",
      "80\n",
      "72\n",
      "64\n",
      "56\n",
      "48\n",
      "40\n",
      "32\n",
      "24\n",
      "16\n",
      "8\n"
     ]
    }
   ],
   "source": [
    "n = int(input(\"Enter the number : \"))\n",
    "i = 10\n",
    "while i>0:\n",
    "    print(i*n)\n",
    "    i = i-1"
   ]
  },
  {
   "cell_type": "code",
   "execution_count": 8,
   "metadata": {},
   "outputs": [
    {
     "name": "stdout",
     "output_type": "stream",
     "text": [
      "60\n",
      "54\n",
      "48\n",
      "42\n",
      "36\n",
      "30\n",
      "24\n",
      "18\n",
      "12\n",
      "6\n",
      "********\n",
      "50\n",
      "45\n",
      "40\n",
      "35\n",
      "30\n",
      "25\n",
      "20\n",
      "15\n",
      "10\n",
      "5\n",
      "********\n",
      "40\n",
      "36\n",
      "32\n",
      "28\n",
      "24\n",
      "20\n",
      "16\n",
      "12\n",
      "8\n",
      "4\n",
      "********\n",
      "30\n",
      "27\n",
      "24\n",
      "21\n",
      "18\n",
      "15\n",
      "12\n",
      "9\n",
      "6\n",
      "3\n",
      "********\n",
      "20\n",
      "18\n",
      "16\n",
      "14\n",
      "12\n",
      "10\n",
      "8\n",
      "6\n",
      "4\n",
      "2\n",
      "********\n"
     ]
    }
   ],
   "source": [
    "for i in range(6,1,-1):\n",
    "    j=10\n",
    "    while j>0:\n",
    "        print(i*j)\n",
    "        j=j-1\n",
    "    print(\"********\")"
   ]
  },
  {
   "cell_type": "code",
   "execution_count": 13,
   "metadata": {},
   "outputs": [
    {
     "name": "stdout",
     "output_type": "stream",
     "text": [
      "60\n",
      "54\n",
      "48\n",
      "42\n",
      "36\n",
      "30\n",
      "24\n",
      "18\n",
      "12\n",
      "6\n",
      "********\n",
      "50\n",
      "45\n",
      "40\n",
      "35\n",
      "30\n",
      "25\n",
      "20\n",
      "15\n",
      "10\n",
      "5\n",
      "********\n",
      "40\n",
      "36\n",
      "32\n",
      "28\n",
      "24\n",
      "20\n",
      "16\n",
      "12\n",
      "8\n",
      "4\n",
      "********\n",
      "30\n",
      "27\n",
      "24\n",
      "21\n",
      "18\n",
      "15\n",
      "12\n",
      "9\n",
      "6\n",
      "3\n",
      "********\n",
      "20\n",
      "18\n",
      "16\n",
      "14\n",
      "12\n",
      "10\n",
      "8\n",
      "6\n",
      "4\n",
      "2\n",
      "********\n"
     ]
    }
   ],
   "source": [
    "i = 6\n",
    "while i>1:\n",
    "    j=10\n",
    "    while j>0:\n",
    "        print(i*j)\n",
    "        j=j-1\n",
    "    i=i-1\n",
    "    print(\"********\")"
   ]
  },
  {
   "cell_type": "code",
   "execution_count": null,
   "metadata": {},
   "outputs": [],
   "source": []
  },
  {
   "cell_type": "code",
   "execution_count": 15,
   "metadata": {},
   "outputs": [
    {
     "name": "stdout",
     "output_type": "stream",
     "text": [
      "2\n",
      "4\n",
      "6\n",
      "8\n",
      "10\n",
      "12\n",
      "14\n",
      "16\n",
      "18\n",
      "20\n",
      "22\n",
      "24\n",
      "26\n",
      "28\n",
      "30\n"
     ]
    }
   ],
   "source": [
    "i = 1\n",
    "while i<31:\n",
    "    if i%2==0:\n",
    "        print(i)\n",
    "    i = i+1\n"
   ]
  },
  {
   "cell_type": "code",
   "execution_count": null,
   "metadata": {},
   "outputs": [],
   "source": [
    "reverse table using while loop"
   ]
  },
  {
   "cell_type": "code",
   "execution_count": 17,
   "metadata": {},
   "outputs": [
    {
     "name": "stdout",
     "output_type": "stream",
     "text": [
      "Table of : 5\n",
      "50\n",
      "45\n",
      "40\n",
      "35\n",
      "30\n",
      "25\n",
      "20\n",
      "15\n",
      "10\n",
      "5\n"
     ]
    }
   ],
   "source": [
    "n = int(input(\"Table of : \"))\n",
    "i = 10\n",
    "while i>0:\n",
    "    print(n*i)\n",
    "    i = i-1"
   ]
  },
  {
   "cell_type": "code",
   "execution_count": null,
   "metadata": {},
   "outputs": [],
   "source": [
    "Jumping statements : \n",
    "    1) break \n",
    "    2) continue \n",
    "    3) pass "
   ]
  },
  {
   "cell_type": "code",
   "execution_count": 18,
   "metadata": {},
   "outputs": [
    {
     "ename": "SyntaxError",
     "evalue": "unexpected EOF while parsing (<ipython-input-18-cc86526ae74e>, line 2)",
     "output_type": "error",
     "traceback": [
      "\u001b[1;36m  File \u001b[1;32m\"<ipython-input-18-cc86526ae74e>\"\u001b[1;36m, line \u001b[1;32m2\u001b[0m\n\u001b[1;33m    \u001b[0m\n\u001b[1;37m    ^\u001b[0m\n\u001b[1;31mSyntaxError\u001b[0m\u001b[1;31m:\u001b[0m unexpected EOF while parsing\n"
     ]
    }
   ],
   "source": []
  },
  {
   "cell_type": "code",
   "execution_count": 16,
   "metadata": {},
   "outputs": [
    {
     "name": "stdout",
     "output_type": "stream",
     "text": [
      "M\n",
      "a\n",
      "d\n",
      "r\n",
      "i\n",
      "d\n"
     ]
    }
   ],
   "source": [
    "s = \"Madrid\"\n",
    "for i in s:\n",
    "    if i==\"r\":\n",
    "        pass\n",
    "        print(i)\n",
    "    else:\n",
    "        print(i)"
   ]
  },
  {
   "cell_type": "code",
   "execution_count": null,
   "metadata": {},
   "outputs": [],
   "source": [
    "WAP to print the square of numbers from 1-10 except for 3 and 9 "
   ]
  },
  {
   "cell_type": "code",
   "execution_count": 19,
   "metadata": {},
   "outputs": [
    {
     "name": "stdout",
     "output_type": "stream",
     "text": [
      "1\n",
      "4\n",
      "16\n",
      "25\n",
      "36\n",
      "49\n",
      "64\n",
      "100\n"
     ]
    }
   ],
   "source": [
    "for i in range(1,11):\n",
    "    if i==3 or i==9:\n",
    "        continue\n",
    "    print(i**2)"
   ]
  },
  {
   "cell_type": "code",
   "execution_count": 20,
   "metadata": {},
   "outputs": [
    {
     "name": "stdout",
     "output_type": "stream",
     "text": [
      "1\n",
      "4\n",
      "16\n",
      "25\n",
      "36\n",
      "49\n",
      "64\n",
      "100\n"
     ]
    }
   ],
   "source": [
    "i=0\n",
    "while i<10:\n",
    "    i=i+1\n",
    "    if i==3 or i==9:\n",
    "        continue\n",
    "    print(i**2)"
   ]
  },
  {
   "cell_type": "code",
   "execution_count": 25,
   "metadata": {},
   "outputs": [
    {
     "name": "stdout",
     "output_type": "stream",
     "text": [
      "M\n",
      "a\n",
      "d\n"
     ]
    }
   ],
   "source": [
    "s = \"Madrid\"\n",
    "for i in s:\n",
    "    if i==\"r\":\n",
    "        break\n",
    "        print(i)\n",
    "    else:\n",
    "        print(i)"
   ]
  },
  {
   "cell_type": "code",
   "execution_count": 23,
   "metadata": {},
   "outputs": [],
   "source": [
    "a,b=10,20\n",
    "if a>b:\n",
    "    pass"
   ]
  },
  {
   "cell_type": "code",
   "execution_count": 8,
   "metadata": {},
   "outputs": [
    {
     "name": "stdout",
     "output_type": "stream",
     "text": [
      "1\n",
      "2\n",
      "3\n",
      "4\n",
      "5\n",
      "6\n",
      "7\n",
      "8\n",
      "9\n",
      "10\n"
     ]
    }
   ],
   "source": [
    "a = 1\n",
    "while a<=10:\n",
    "    print(a)\n",
    "    a = a+1"
   ]
  },
  {
   "cell_type": "markdown",
   "metadata": {},
   "source": [
    "Using while i have to print which no.s are even and which are odd in the range of 10 to 30"
   ]
  },
  {
   "cell_type": "code",
   "execution_count": null,
   "metadata": {},
   "outputs": [],
   "source": [
    "WAP to print the cube of 1 to 10 numbers except 3 and 8"
   ]
  },
  {
   "cell_type": "code",
   "execution_count": 31,
   "metadata": {},
   "outputs": [
    {
     "name": "stdout",
     "output_type": "stream",
     "text": [
      "1 : 1\n",
      "2 : 8\n",
      "4 : 64\n",
      "5 : 125\n",
      "6 : 216\n",
      "7 : 343\n",
      "9 : 729\n",
      "10 : 1000\n"
     ]
    }
   ],
   "source": [
    "i = 1\n",
    "while i<11:\n",
    "    if i==3 or i==8:\n",
    "        i = i+1\n",
    "        continue\n",
    "    else:\n",
    "        print(i,\":\",i**3)\n",
    "    i = i+1"
   ]
  },
  {
   "cell_type": "code",
   "execution_count": 9,
   "metadata": {},
   "outputs": [
    {
     "name": "stdout",
     "output_type": "stream",
     "text": [
      "number  10s even\n",
      "number  11s odd\n",
      "number  12s even\n",
      "number  13s odd\n",
      "number  14s even\n",
      "number  15s odd\n",
      "number  16s even\n",
      "number  17s odd\n",
      "number  18s even\n",
      "number  19s odd\n",
      "number  20s even\n",
      "number  21s odd\n",
      "number  22s even\n",
      "number  23s odd\n",
      "number  24s even\n",
      "number  25s odd\n",
      "number  26s even\n",
      "number  27s odd\n",
      "number  28s even\n",
      "number  29s odd\n",
      "number  30s even\n"
     ]
    }
   ],
   "source": [
    "i = 10\n",
    "while i<=30:\n",
    "    if i%2 == 0:\n",
    "        print(\"number % is even\"%i)\n",
    "        i+=1\n",
    "    else:\n",
    "        print(\"number % is odd\"%i)\n",
    "        i+=1\n"
   ]
  },
  {
   "cell_type": "code",
   "execution_count": 10,
   "metadata": {},
   "outputs": [
    {
     "name": "stdout",
     "output_type": "stream",
     "text": [
      "number  10s even\n",
      "number  11s odd\n",
      "number  12s even\n",
      "number  13s odd\n",
      "number  14s even\n",
      "number  15s odd\n",
      "number  16s even\n",
      "number  17s odd\n",
      "number  18s even\n",
      "number  19s odd\n",
      "number  20s even\n",
      "number  21s odd\n",
      "number  22s even\n",
      "number  23s odd\n",
      "number  24s even\n",
      "number  25s odd\n",
      "number  26s even\n",
      "number  27s odd\n",
      "number  28s even\n",
      "number  29s odd\n",
      "number  30s even\n"
     ]
    }
   ],
   "source": [
    "i = 10\n",
    "while i<=30:\n",
    "    if i%2 == 0:\n",
    "        print(\"number % is even\"%i)\n",
    "    else:\n",
    "        print(\"number % is odd\"%i)\n",
    "    i+=1"
   ]
  },
  {
   "cell_type": "code",
   "execution_count": 2,
   "metadata": {},
   "outputs": [
    {
     "name": "stdout",
     "output_type": "stream",
     "text": [
      "0\n",
      "1\n",
      "2\n",
      "3\n",
      "4\n",
      "5\n",
      "6\n",
      "7\n",
      "8\n",
      "9\n",
      "10\n"
     ]
    }
   ],
   "source": [
    "i = 0\n",
    "while i<5:\n",
    "    print(i)\n",
    "    i = i+1\n",
    "else:\n",
    "    print(i)\n",
    "    "
   ]
  },
  {
   "cell_type": "code",
   "execution_count": 37,
   "metadata": {},
   "outputs": [
    {
     "name": "stdout",
     "output_type": "stream",
     "text": [
      "m\n",
      "a\n",
      "d\n",
      "a\n",
      "m\n"
     ]
    }
   ],
   "source": [
    "s = \"madam\"\n",
    "i = 1\n",
    "while i<len(s)+1:\n",
    "    print(s[-i])\n",
    "    i = i+1"
   ]
  },
  {
   "cell_type": "code",
   "execution_count": 59,
   "metadata": {},
   "outputs": [
    {
     "data": {
      "text/plain": [
       "' singh'"
      ]
     },
     "execution_count": 59,
     "metadata": {},
     "output_type": "execute_result"
    }
   ],
   "source": []
  },
  {
   "cell_type": "code",
   "execution_count": 60,
   "metadata": {},
   "outputs": [
    {
     "name": "stdout",
     "output_type": "stream",
     "text": [
      "Enter words u want to check for palindrome :arora mango eye\n",
      "arora\n",
      "arora \n",
      "mango\n",
      "ognam \n",
      "eye\n",
      "eye \n"
     ]
    }
   ],
   "source": [
    "l = input(\"Enter words u want to check for palindrome :\").split()\n",
    "for j in l:\n",
    "    print(j)\n",
    "    i= 1\n",
    "    while i<len(j)+1:\n",
    "        print(j[-i],end=\"\")\n",
    "        i = i+1\n",
    "    print(\" \")"
   ]
  },
  {
   "cell_type": "markdown",
   "metadata": {},
   "source": [
    "s = \"madam\"\n",
    "using while loop i have to reverse the string and check if it is same as before which we basically call as palindrome "
   ]
  },
  {
   "cell_type": "code",
   "execution_count": 11,
   "metadata": {},
   "outputs": [
    {
     "name": "stdout",
     "output_type": "stream",
     "text": [
      "['M', 'a', 'd', 'a', 'M']\n",
      "['M', 'M', 'a', 'd', 'a']\n",
      "Not a Palindrome!!\n"
     ]
    }
   ],
   "source": [
    "s = \"madam\"\n",
    "s = \"MadaM\"\n",
    "# using while loop reverse the string and check if is same before (Palindrome)\n",
    "i = 0\n",
    "j = []\n",
    "rev = []\n",
    "while i<len(s):\n",
    "    j.append(s[i])\n",
    "    rev.append(s[-i])\n",
    "    i+=1\n",
    "print(j)\n",
    "print(rev)\n",
    "if j == rev:\n",
    "    print(\"It's Palindrome!!\")\n",
    "else:\n",
    "    print(\"Not a Palindrome!!\")\n"
   ]
  },
  {
   "cell_type": "code",
   "execution_count": 17,
   "metadata": {},
   "outputs": [
    {
     "name": "stdout",
     "output_type": "stream",
     "text": [
      "madam  is palindrome \n"
     ]
    }
   ],
   "source": [
    "s = \"madam\"\n",
    "i = 1\n",
    "x = \"\"\n",
    "while i<len(s)+1:\n",
    "    x = x+s[-i]\n",
    "    i+=1\n",
    "if x==s:\n",
    "    print(x,\" is palindrome \")\n",
    "else:\n",
    "    print(x,\" is not palindrome \")"
   ]
  },
  {
   "cell_type": "code",
   "execution_count": 19,
   "metadata": {},
   "outputs": [
    {
     "name": "stdout",
     "output_type": "stream",
     "text": [
      "Its Palindrome!!\n"
     ]
    }
   ],
   "source": [
    "s = \"madam\"\n",
    "# using while loop reverse the string and check if is same before (Palindrome)\n",
    "i = 1\n",
    "x = \"\"\n",
    "while i<=len(s):\n",
    "    x = x+s[-i]\n",
    "    i+=1\n",
    "if s == x:\n",
    "    print(\"Its Palindrome!!\")\n",
    "else:\n",
    "    print(\"Not a Palindrome\")\n"
   ]
  },
  {
   "cell_type": "code",
   "execution_count": null,
   "metadata": {},
   "outputs": [],
   "source": [
    "Infinite loop in while \n"
   ]
  },
  {
   "cell_type": "code",
   "execution_count": 63,
   "metadata": {},
   "outputs": [
    {
     "name": "stdout",
     "output_type": "stream",
     "text": [
      "1\n",
      "2\n",
      "3\n",
      "4\n",
      "5\n",
      "6\n",
      "7\n",
      "8\n",
      "9\n"
     ]
    }
   ],
   "source": [
    "while True:\n",
    "    if i<10:\n",
    "        print(i)\n",
    "        i=i+1\n",
    "    else:\n",
    "        break"
   ]
  },
  {
   "cell_type": "markdown",
   "metadata": {},
   "source": [
    "WAP to enter the user and password from the user . if the username or password is wrong .then we need to re enter again "
   ]
  },
  {
   "cell_type": "code",
   "execution_count": 66,
   "metadata": {},
   "outputs": [
    {
     "name": "stdout",
     "output_type": "stream",
     "text": [
      "usernameasdasdf\n",
      "password1324\n",
      "wrong credentials enter again !!!\n",
      "usernamexcvb\n",
      "password56778\n",
      "wrong credentials enter again !!!\n",
      "usernameaman@123\n",
      "password123456789\n",
      "valid\n"
     ]
    }
   ],
   "source": [
    "while True:\n",
    "    username = input(\"username\")\n",
    "    pas = input(\"password\")\n",
    "    if username==\"aman@123\" and pas == \"123456789\":\n",
    "        print(\"valid\")\n",
    "        break\n",
    "    else:\n",
    "        print(\"wrong credentials enter again !!!\")\n",
    "        continue"
   ]
  },
  {
   "cell_type": "markdown",
   "metadata": {},
   "source": [
    "WAP to take input from the user regarding various words and check if they are palindrome or not "
   ]
  },
  {
   "cell_type": "code",
   "execution_count": 1,
   "metadata": {},
   "outputs": [
    {
     "name": "stdout",
     "output_type": "stream",
     "text": [
      "Enter Password: aman@123\n",
      "Enter Password: Feb@2022\n",
      "Password authentication successful with password Feb@2022\n"
     ]
    }
   ],
   "source": [
    "while True:\n",
    "    passwrd = input(\"Enter Password: \")\n",
    "    if passwrd == \"Feb@2022\":\n",
    "        print(\"Password authentication successful with password %s\"%passwrd)\n",
    "    else:\n",
    "        \n",
    "        continue\n",
    "    break\n"
   ]
  },
  {
   "cell_type": "code",
   "execution_count": null,
   "metadata": {},
   "outputs": [],
   "source": []
  },
  {
   "cell_type": "code",
   "execution_count": 23,
   "metadata": {},
   "outputs": [
    {
     "name": "stdout",
     "output_type": "stream",
     "text": [
      "Enter multiple words: madam arora eat\n",
      "['madam', 'arora', 'eat']\n",
      "madam\n",
      "m\n",
      "ma\n",
      "mad\n",
      "mada\n",
      "madam\n",
      "arora\n",
      "eat\n"
     ]
    }
   ],
   "source": [
    "#WAP to take input from user and then check if they are palindrome or not\n",
    "#sample list = ['madam','text']\n",
    "x = \"\"\n",
    "j = 1\n",
    "l = input(\"Enter multiple words: \").split()\n",
    "print(l)\n",
    "for i in l:\n",
    "    print(i)\n",
    "    while j <= len(i):\n",
    "        x = x+i[-j]\n",
    "        j+=1\n",
    "        print(x)"
   ]
  },
  {
   "cell_type": "code",
   "execution_count": 28,
   "metadata": {},
   "outputs": [
    {
     "name": "stdout",
     "output_type": "stream",
     "text": [
      "Enter multiple words: madam,text,eye,eat\n",
      "['madam', 'text', 'eye', 'eat']\n",
      "madam\n",
      "madam\n",
      "text\n",
      "txet\n",
      "eye\n",
      "eye\n",
      "eat\n",
      "tae\n"
     ]
    }
   ],
   "source": [
    "l = input(\"Enter multiple words: \").split(sep=\",\")\n",
    "print(l)\n",
    "\n",
    "for i in l:\n",
    "    print(i)\n",
    "    j = 1\n",
    "    x = \"\"\n",
    "    while j<=len(i):\n",
    "        x= x+i[-j]\n",
    "        j+=1\n",
    "    print(x)\n",
    "    "
   ]
  },
  {
   "cell_type": "code",
   "execution_count": 26,
   "metadata": {},
   "outputs": [
    {
     "name": "stdout",
     "output_type": "stream",
     "text": [
      "Enter multiple words: madam,text,eye,eat\n",
      "['madam', 'text', 'eye', 'eat']\n",
      "i is %s madam\n",
      "It's Palindrome!\n",
      "i is %s text\n",
      "Not a Palindrome\n",
      "i is %s eye\n",
      "It's Palindrome!\n",
      "i is %s eat\n",
      "Not a Palindrome\n"
     ]
    }
   ],
   "source": [
    "#WAP to take input from user and then check if they are palindrome or not\n",
    "#sample list = ['madam','text']\n",
    "x = \"\"\n",
    "\n",
    "lis = []\n",
    "lis = input(\"Enter multiple words: \").split(\",\")\n",
    "print(lis)\n",
    "for i in lis:\n",
    "    x = \"\"\n",
    "    j = 1\n",
    "    print(\"i is %s\",i)\n",
    "    while j <= len(i):\n",
    "        x = x+i[-j]\n",
    "        j+=1\n",
    "    if x == i:\n",
    "        print(\"It's Palindrome!\")\n",
    "    else:\n",
    "        print(\"Not a Palindrome\")\n"
   ]
  },
  {
   "cell_type": "code",
   "execution_count": 5,
   "metadata": {},
   "outputs": [
    {
     "name": "stdout",
     "output_type": "stream",
     "text": [
      "12\n"
     ]
    }
   ],
   "source": [
    "i = 12\n",
    "while i<=10:\n",
    "    i = i+1\n",
    "    print(i)\n",
    "else:\n",
    "    print(i)"
   ]
  },
  {
   "cell_type": "code",
   "execution_count": 25,
   "metadata": {},
   "outputs": [
    {
     "name": "stdout",
     "output_type": "stream",
     "text": [
      "2\n",
      "4\n",
      "6\n",
      "8\n",
      "10\n",
      "12\n",
      "Done 12\n"
     ]
    }
   ],
   "source": [
    "i=0\n",
    "while i<=10:\n",
    "    i = i+2\n",
    "    print(i)\n",
    "else:\n",
    "    print(\"Done\",i)"
   ]
  },
  {
   "cell_type": "code",
   "execution_count": 6,
   "metadata": {},
   "outputs": [
    {
     "data": {
      "text/plain": [
       "7"
      ]
     },
     "execution_count": 6,
     "metadata": {},
     "output_type": "execute_result"
    }
   ],
   "source": [
    "s = \"strings\"\n",
    "len(s)\n",
    "using while loop \n",
    "\"sgnirts\""
   ]
  },
  {
   "cell_type": "code",
   "execution_count": 13,
   "metadata": {},
   "outputs": [
    {
     "name": "stdout",
     "output_type": "stream",
     "text": [
      "sgnirtS"
     ]
    }
   ],
   "source": [
    "s = \"Strings\"\n",
    "i = 1\n",
    "while i<=len(s):\n",
    "    print(s[-i],end = \"\")\n",
    "    i = i+1"
   ]
  },
  {
   "cell_type": "code",
   "execution_count": null,
   "metadata": {},
   "outputs": [],
   "source": []
  },
  {
   "cell_type": "code",
   "execution_count": null,
   "metadata": {},
   "outputs": [],
   "source": [
    "palindrome = \"madam\",\"pip\",\"nitin\""
   ]
  },
  {
   "cell_type": "markdown",
   "metadata": {},
   "source": [
    "Write a program to print a string in reverse order using while loop\n",
    "s = \"Strings\""
   ]
  },
  {
   "cell_type": "code",
   "execution_count": 26,
   "metadata": {},
   "outputs": [
    {
     "name": "stdout",
     "output_type": "stream",
     "text": [
      "s\n",
      "g\n",
      "n\n",
      "i\n",
      "r\n",
      "t\n",
      "S\n"
     ]
    }
   ],
   "source": [
    "s=\"Strings\"\n",
    "i=1\n",
    "while i<8:\n",
    "    print(s[-i])\n",
    "    i = i+1"
   ]
  },
  {
   "cell_type": "markdown",
   "metadata": {},
   "source": [
    "### infinite loops"
   ]
  },
  {
   "cell_type": "code",
   "execution_count": 16,
   "metadata": {},
   "outputs": [
    {
     "name": "stdout",
     "output_type": "stream",
     "text": [
      "1\n",
      "2\n",
      "9\n",
      "4\n",
      "25\n",
      "6\n",
      "49\n",
      "8\n",
      "81\n",
      "10\n"
     ]
    }
   ],
   "source": [
    "while True:\n",
    "    for i in range(1,11):\n",
    "        if i%2!=0:\n",
    "            print(i*i)\n",
    "        else:\n",
    "            print(i)\n",
    "    break"
   ]
  },
  {
   "cell_type": "markdown",
   "metadata": {},
   "source": [
    "Write a program to take a password from the user , if the password matches your password print it if it doesnt ask the user to enter again. and this should continue untill we get the right password."
   ]
  },
  {
   "cell_type": "code",
   "execution_count": null,
   "metadata": {},
   "outputs": [],
   "source": []
  },
  {
   "cell_type": "code",
   "execution_count": 17,
   "metadata": {},
   "outputs": [
    {
     "name": "stdout",
     "output_type": "stream",
     "text": [
      "Enter the password : aman@1123\n",
      "invalid password try again\n",
      "Enter the password : anubhav@123\n",
      "valid\n"
     ]
    }
   ],
   "source": [
    "while True:\n",
    "    p =input(\"Enter the password : \")\n",
    "    if p==\"anubhav@123\":\n",
    "        print(\"valid\")\n",
    "        break\n",
    "\n",
    "    else:\n",
    "        print(\"invalid password try again\")"
   ]
  },
  {
   "cell_type": "code",
   "execution_count": 31,
   "metadata": {},
   "outputs": [
    {
     "name": "stdout",
     "output_type": "stream",
     "text": [
      "Enter the passwordanu@123\n",
      "invalid enter again\n",
      "Enter the passwordwer%34453\n",
      "invalid enter again\n",
      "Enter the passwordaman@123\n",
      "aman@123\n"
     ]
    }
   ],
   "source": [
    "while True:\n",
    "    p = input(\"Enter the password : \")\n",
    "    if p==\"aman@123\":\n",
    "        print(p)\n",
    "        break\n",
    "    else:\n",
    "        print(\"invalid enter again : \")\n",
    "        pass"
   ]
  },
  {
   "cell_type": "markdown",
   "metadata": {},
   "source": [
    "#### jumping statements :\n",
    "\n",
    "-  break \n",
    "-  pass\n",
    "-  continue\n"
   ]
  },
  {
   "cell_type": "code",
   "execution_count": 4,
   "metadata": {},
   "outputs": [
    {
     "name": "stdout",
     "output_type": "stream",
     "text": [
      "M\n",
      "a\n",
      "d\n",
      "r\n",
      "i\n",
      "d\n"
     ]
    }
   ],
   "source": [
    "for i in \"Madrid\":\n",
    "    if i==\"d\":\n",
    "        pass\n",
    "        print(i)\n",
    "    else:\n",
    "        print(i)"
   ]
  },
  {
   "cell_type": "code",
   "execution_count": 41,
   "metadata": {},
   "outputs": [
    {
     "name": "stdout",
     "output_type": "stream",
     "text": [
      "M a d r i d "
     ]
    }
   ],
   "source": [
    "for i in \"Madrid\":\n",
    "    if i==\"d\":\n",
    "        pass\n",
    "        print(i,end = \" \")\n",
    "    else:\n",
    "        print(i, end = \" \")"
   ]
  },
  {
   "cell_type": "code",
   "execution_count": 40,
   "metadata": {},
   "outputs": [
    {
     "name": "stdout",
     "output_type": "stream",
     "text": [
      "M a r i "
     ]
    }
   ],
   "source": [
    "for i in \"Madrid\":\n",
    "    if i==\"d\":\n",
    "        continue\n",
    "        print(i,end = \" \")\n",
    "    else:\n",
    "        print(i, end = \" \")"
   ]
  },
  {
   "cell_type": "markdown",
   "metadata": {},
   "source": [
    "Write a program to print the cubes of numbers from 1 to 10 using while loop except 3 and 8.`"
   ]
  },
  {
   "cell_type": "code",
   "execution_count": 7,
   "metadata": {},
   "outputs": [
    {
     "name": "stdout",
     "output_type": "stream",
     "text": [
      "1\n",
      "8\n",
      "64\n",
      "125\n",
      "216\n",
      "343\n",
      "729\n",
      "1000\n"
     ]
    }
   ],
   "source": [
    "i = 1\n",
    "while i<=10:\n",
    "    if i == 3 or i == 8:\n",
    "        i+=1\n",
    "    else:\n",
    "        print(i**3)\n",
    "        i+=1"
   ]
  },
  {
   "cell_type": "code",
   "execution_count": 32,
   "metadata": {},
   "outputs": [
    {
     "name": "stdout",
     "output_type": "stream",
     "text": [
      "1\n",
      "8\n",
      "64\n",
      "125\n",
      "216\n",
      "343\n",
      "729\n",
      "1000\n"
     ]
    }
   ],
   "source": [
    "i = 1\n",
    "while i<=10:\n",
    "    if i==3 or i==8:\n",
    "        i=i+1\n",
    "    else:\n",
    "        print(i**3)\n",
    "        i = i+1\n"
   ]
  },
  {
   "cell_type": "code",
   "execution_count": 44,
   "metadata": {},
   "outputs": [
    {
     "name": "stdout",
     "output_type": "stream",
     "text": [
      "1\n",
      "8\n",
      "64\n",
      "125\n",
      "216\n",
      "343\n",
      "729\n",
      "1000\n"
     ]
    }
   ],
   "source": [
    "i=0\n",
    "while i<10:\n",
    "    i = i+1\n",
    "    if i==3 or i==8:\n",
    "        continue\n",
    "    print(i**3)"
   ]
  },
  {
   "cell_type": "code",
   "execution_count": null,
   "metadata": {},
   "outputs": [],
   "source": []
  },
  {
   "cell_type": "code",
   "execution_count": 9,
   "metadata": {},
   "outputs": [
    {
     "name": "stdout",
     "output_type": "stream",
     "text": [
      "0\n",
      "1\n",
      "4\n",
      "9\n",
      "16\n",
      "25\n",
      "36\n",
      "49\n",
      "64\n",
      "81\n",
      "100\n",
      "We are done uptill 10\n"
     ]
    }
   ],
   "source": [
    "i = 0\n",
    "while i<=10:\n",
    "    print(i*i)\n",
    "    i = i+1\n",
    "else:\n",
    "    print('We are done uptill 10')"
   ]
  },
  {
   "cell_type": "code",
   "execution_count": null,
   "metadata": {},
   "outputs": [],
   "source": [
    "write a program to find all the even nos. between 1 to 50 (both included) using while loops."
   ]
  },
  {
   "cell_type": "code",
   "execution_count": 13,
   "metadata": {},
   "outputs": [
    {
     "name": "stdout",
     "output_type": "stream",
     "text": [
      "2\n",
      "4\n",
      "6\n",
      "8\n",
      "10\n",
      "12\n",
      "14\n",
      "16\n",
      "18\n",
      "20\n",
      "22\n",
      "24\n",
      "26\n",
      "28\n",
      "30\n",
      "32\n",
      "34\n",
      "36\n",
      "38\n",
      "40\n",
      "42\n",
      "44\n",
      "46\n",
      "48\n",
      "50\n"
     ]
    }
   ],
   "source": [
    "i = 2\n",
    "while i<=50:\n",
    "    print(i)\n",
    "    i=i+2"
   ]
  },
  {
   "cell_type": "markdown",
   "metadata": {},
   "source": [
    "while condition:\n",
    "    body\n",
    "else:\n",
    "    body"
   ]
  },
  {
   "cell_type": "code",
   "execution_count": null,
   "metadata": {},
   "outputs": [],
   "source": [
    "while condition:\n",
    "    body of the loop"
   ]
  },
  {
   "cell_type": "code",
   "execution_count": 8,
   "metadata": {},
   "outputs": [
    {
     "name": "stdout",
     "output_type": "stream",
     "text": [
      "1\n",
      "2\n",
      "3\n",
      "4\n",
      "done\n"
     ]
    }
   ],
   "source": [
    "i = 0\n",
    "while i<4:\n",
    "    i= i+1\n",
    "    print(i)\n",
    "else:\n",
    "    print('done')"
   ]
  },
  {
   "cell_type": "code",
   "execution_count": 1,
   "metadata": {},
   "outputs": [
    {
     "name": "stdout",
     "output_type": "stream",
     "text": [
      "0\n",
      "1\n",
      "2\n",
      "3\n",
      "done 4\n"
     ]
    }
   ],
   "source": [
    "i = 0\n",
    "while i<4:\n",
    "    print(i)\n",
    "    i = i+1\n",
    "else:\n",
    "    print('done',i)"
   ]
  },
  {
   "cell_type": "code",
   "execution_count": 4,
   "metadata": {},
   "outputs": [
    {
     "name": "stdout",
     "output_type": "stream",
     "text": [
      "0\n",
      "1\n",
      "2\n",
      "3\n"
     ]
    }
   ],
   "source": [
    "i = 0\n",
    "while i<4:\n",
    "    print(i)\n",
    "    i = i+1"
   ]
  },
  {
   "cell_type": "code",
   "execution_count": null,
   "metadata": {},
   "outputs": [],
   "source": [
    "i = 1\n",
    "while i<101:\n",
    "    if "
   ]
  },
  {
   "cell_type": "code",
   "execution_count": 3,
   "metadata": {},
   "outputs": [
    {
     "name": "stdout",
     "output_type": "stream",
     "text": [
      "1\n"
     ]
    }
   ],
   "source": [
    "i = 0\n",
    "while i<4:\n",
    "    i= i+1\n",
    "    print(i)\n",
    "    break\n",
    "else:\n",
    "    print(\"done\")"
   ]
  },
  {
   "cell_type": "code",
   "execution_count": 2,
   "metadata": {},
   "outputs": [
    {
     "name": "stdout",
     "output_type": "stream",
     "text": [
      "M\n",
      "a\n"
     ]
    }
   ],
   "source": [
    "for i in \"Madrid\":\n",
    "    if i ==\"d\":\n",
    "        break\n",
    "    else:\n",
    "        print(i)"
   ]
  },
  {
   "cell_type": "code",
   "execution_count": 5,
   "metadata": {},
   "outputs": [
    {
     "name": "stdout",
     "output_type": "stream",
     "text": [
      "M\n",
      "a\n",
      "r\n",
      "i\n"
     ]
    }
   ],
   "source": [
    "for i in \"Madrid\":\n",
    "    if i ==\"d\":\n",
    "        continue\n",
    "        print(i)\n",
    "    else:\n",
    "        print(i)"
   ]
  },
  {
   "cell_type": "code",
   "execution_count": 6,
   "metadata": {},
   "outputs": [
    {
     "name": "stdout",
     "output_type": "stream",
     "text": [
      "M\n",
      "a\n",
      "d\n",
      "r\n",
      "i\n",
      "d\n"
     ]
    }
   ],
   "source": [
    "for i in \"Madrid\":\n",
    "    if i ==\"d\":\n",
    "        pass\n",
    "        print(i)\n",
    "    else:\n",
    "        print(i)"
   ]
  },
  {
   "cell_type": "markdown",
   "metadata": {},
   "source": [
    "### Infinite While loop\n",
    "\n",
    "a loop which has the capability to iterate infinite times."
   ]
  },
  {
   "cell_type": "code",
   "execution_count": 8,
   "metadata": {},
   "outputs": [
    {
     "name": "stdout",
     "output_type": "stream",
     "text": [
      "0\n",
      "1\n",
      "2\n",
      "3\n",
      "4\n",
      "5\n",
      "6\n",
      "7\n",
      "8\n",
      "9\n",
      "10\n",
      "11\n",
      "12\n",
      "13\n",
      "14\n",
      "15\n",
      "16\n",
      "17\n",
      "18\n",
      "19\n",
      "20\n"
     ]
    }
   ],
   "source": [
    "i = 0\n",
    "while True:\n",
    "    print(i)\n",
    "    i = i+1\n",
    "    if i>20:\n",
    "        break "
   ]
  },
  {
   "cell_type": "code",
   "execution_count": 2,
   "metadata": {},
   "outputs": [
    {
     "name": "stdout",
     "output_type": "stream",
     "text": [
      "0\n",
      "1\n",
      "2\n",
      "3\n",
      "4\n"
     ]
    }
   ],
   "source": [
    "i = 0\n",
    "while i<5:\n",
    "    print(i)\n",
    "    i = i+1"
   ]
  },
  {
   "cell_type": "code",
   "execution_count": 6,
   "metadata": {},
   "outputs": [
    {
     "name": "stdout",
     "output_type": "stream",
     "text": [
      "0\n",
      "1\n",
      "2\n",
      "3\n",
      "4\n",
      "5\n",
      "6\n",
      "7\n",
      "8\n",
      "9\n",
      "10\n",
      "11\n",
      "12\n",
      "13\n",
      "14\n",
      "15\n",
      "16\n",
      "17\n",
      "18\n",
      "19\n",
      "20\n",
      "21\n",
      "22\n",
      "23\n",
      "24\n",
      "25\n",
      "26\n",
      "27\n",
      "28\n",
      "29\n",
      "30\n",
      "31\n",
      "32\n",
      "33\n",
      "34\n",
      "35\n",
      "36\n",
      "37\n",
      "38\n",
      "39\n",
      "40\n",
      "41\n",
      "42\n",
      "43\n",
      "44\n",
      "45\n",
      "46\n",
      "47\n",
      "48\n",
      "49\n"
     ]
    }
   ],
   "source": [
    "i = 0 \n",
    "while True:\n",
    "    if i<50:\n",
    "        print(i)\n",
    "        i = i+1\n",
    "    else:\n",
    "        break"
   ]
  },
  {
   "cell_type": "code",
   "execution_count": 7,
   "metadata": {},
   "outputs": [
    {
     "name": "stdout",
     "output_type": "stream",
     "text": [
      "Aman"
     ]
    }
   ],
   "source": [
    "for i in 'Amandeep':\n",
    "    if i=='d':\n",
    "        break\n",
    "    print(i,end = '')"
   ]
  },
  {
   "cell_type": "code",
   "execution_count": 8,
   "metadata": {},
   "outputs": [
    {
     "name": "stdout",
     "output_type": "stream",
     "text": [
      "Amaneep"
     ]
    }
   ],
   "source": [
    "for i in 'Amandeep':\n",
    "    if i=='d':\n",
    "        continue\n",
    "    print(i,end = '')"
   ]
  },
  {
   "cell_type": "code",
   "execution_count": 9,
   "metadata": {},
   "outputs": [
    {
     "name": "stdout",
     "output_type": "stream",
     "text": [
      "Amandeep"
     ]
    }
   ],
   "source": [
    "for i in 'Amandeep':\n",
    "    if i=='d':\n",
    "        pass\n",
    "    print(i,end = '')"
   ]
  },
  {
   "cell_type": "code",
   "execution_count": 4,
   "metadata": {},
   "outputs": [
    {
     "name": "stdout",
     "output_type": "stream",
     "text": [
      "0\n",
      "1\n",
      "2\n",
      "3\n",
      "4\n",
      "5\n",
      "6\n",
      "7\n",
      "8\n",
      "9\n",
      "10\n",
      "11\n",
      "12\n",
      "13\n",
      "14\n",
      "15\n",
      "16\n",
      "17\n",
      "18\n",
      "19\n",
      "20\n",
      "21\n",
      "22\n",
      "23\n",
      "24\n",
      "25\n",
      "26\n",
      "27\n",
      "28\n",
      "29\n",
      "30\n",
      "31\n",
      "32\n",
      "33\n",
      "34\n",
      "35\n",
      "36\n",
      "37\n",
      "38\n",
      "39\n",
      "40\n",
      "41\n",
      "42\n",
      "43\n",
      "44\n",
      "45\n",
      "46\n",
      "47\n",
      "48\n",
      "49\n"
     ]
    }
   ],
   "source": [
    "i = 0 \n",
    "while True:\n",
    "    if i<50:\n",
    "        print(i)\n",
    "        i= i+1\n",
    "    else:\n",
    "        break"
   ]
  },
  {
   "cell_type": "markdown",
   "metadata": {},
   "source": [
    "Write a program to print all even no.s using Infinite while Loop between 300 and 500"
   ]
  },
  {
   "cell_type": "code",
   "execution_count": 14,
   "metadata": {},
   "outputs": [
    {
     "name": "stdout",
     "output_type": "stream",
     "text": [
      "300,302,304,306,308,310,312,314,316,318,320,322,324,326,328,330,332,334,336,338,340,342,344,346,348,350,352,354,356,358,360,362,364,366,368,370,372,374,376,378,380,382,384,386,388,390,392,394,396,398,400,402,404,406,408,410,412,414,416,418,420,422,424,426,428,430,432,434,436,438,440,442,444,446,448,450,452,454,456,458,460,462,464,466,468,470,472,474,476,478,480,482,484,486,488,490,492,494,496,498,500,"
     ]
    }
   ],
   "source": [
    "i = 300\n",
    "while True:\n",
    "    for i in range(300,501):\n",
    "        if i%2==0:\n",
    "            print(i,end = \",\")\n",
    "        elif i%2!=0:\n",
    "            pass\n",
    "    break"
   ]
  },
  {
   "cell_type": "code",
   "execution_count": 15,
   "metadata": {},
   "outputs": [
    {
     "name": "stdout",
     "output_type": "stream",
     "text": [
      "300,302,304,306,308,310,312,314,316,318,320,322,324,326,328,330,332,334,336,338,340,342,344,346,348,350,352,354,356,358,360,362,364,366,368,370,372,374,376,378,380,382,384,386,388,390,392,394,396,398,400,402,404,406,408,410,412,414,416,418,420,422,424,426,428,430,432,434,436,438,440,442,444,446,448,450,452,454,456,458,460,462,464,466,468,470,472,474,476,478,480,482,484,486,488,490,492,494,496,498,500,"
     ]
    }
   ],
   "source": [
    "i = 300\n",
    "while i>=300 and i<=500:\n",
    "    if i%2==0:\n",
    "        print(i,end = \",\")\n",
    "        i = i+1\n",
    "    else:\n",
    "        i = i+1"
   ]
  },
  {
   "cell_type": "code",
   "execution_count": 6,
   "metadata": {},
   "outputs": [
    {
     "name": "stdout",
     "output_type": "stream",
     "text": [
      "0 is even\n",
      "1 is odd\n",
      "2 is even\n",
      "3 is odd\n",
      "4 is even\n",
      "5 is odd\n",
      "6 is even\n",
      "7 is odd\n",
      "8 is even\n",
      "9 is odd\n",
      "10 is even\n",
      "11 is odd\n",
      "12 is even\n",
      "13 is odd\n",
      "14 is even\n",
      "15 is odd\n",
      "16 is even\n",
      "17 is odd\n",
      "18 is even\n",
      "19 is odd\n",
      "20 is even\n",
      "21 is odd\n",
      "22 is even\n",
      "23 is odd\n",
      "24 is even\n",
      "25 is odd\n",
      "26 is even\n",
      "27 is odd\n",
      "28 is even\n",
      "29 is odd\n",
      "30 is even\n",
      "31 is odd\n",
      "32 is even\n",
      "33 is odd\n",
      "34 is even\n",
      "35 is odd\n",
      "36 is even\n",
      "37 is odd\n",
      "38 is even\n",
      "39 is odd\n",
      "40 is even\n",
      "41 is odd\n",
      "42 is even\n",
      "43 is odd\n",
      "44 is even\n",
      "45 is odd\n",
      "46 is even\n",
      "47 is odd\n",
      "48 is even\n",
      "49 is odd\n",
      "50 is even\n"
     ]
    }
   ],
   "source": [
    "i = 0\n",
    "while i<51:\n",
    "    if i%2==0:\n",
    "        print(i,'is even')\n",
    "        i = i+1\n",
    "    else:\n",
    "        i=i+1"
   ]
  },
  {
   "cell_type": "code",
   "execution_count": 5,
   "metadata": {},
   "outputs": [
    {
     "name": "stdout",
     "output_type": "stream",
     "text": [
      "0  is even\n",
      "2  is even\n",
      "4  is even\n",
      "6  is even\n",
      "8  is even\n",
      "10  is even\n",
      "12  is even\n",
      "14  is even\n",
      "16  is even\n",
      "18  is even\n",
      "20  is even\n",
      "22  is even\n",
      "24  is even\n",
      "26  is even\n",
      "28  is even\n",
      "30  is even\n",
      "32  is even\n",
      "34  is even\n",
      "36  is even\n",
      "38  is even\n",
      "40  is even\n",
      "42  is even\n",
      "44  is even\n",
      "46  is even\n",
      "48  is even\n",
      "50  is even\n"
     ]
    }
   ],
   "source": [
    "i = 0\n",
    "while i<51:\n",
    "    if i%2==0:\n",
    "        print(i,' is even')\n",
    "        i = i+1\n",
    "    else:\n",
    "        i=i+1"
   ]
  },
  {
   "cell_type": "markdown",
   "metadata": {},
   "source": [
    "Write a program to print all odd numbers between 1 to 100."
   ]
  },
  {
   "cell_type": "code",
   "execution_count": 9,
   "metadata": {},
   "outputs": [
    {
     "name": "stdout",
     "output_type": "stream",
     "text": [
      "1\n",
      "3\n",
      "5\n",
      "7\n",
      "9\n",
      "11\n",
      "13\n",
      "15\n",
      "17\n",
      "19\n",
      "21\n",
      "23\n",
      "25\n",
      "27\n",
      "29\n",
      "31\n",
      "33\n",
      "35\n",
      "37\n",
      "39\n",
      "41\n",
      "43\n",
      "45\n",
      "47\n",
      "49\n",
      "51\n",
      "53\n",
      "55\n",
      "57\n",
      "59\n",
      "61\n",
      "63\n",
      "65\n",
      "67\n",
      "69\n",
      "71\n",
      "73\n",
      "75\n",
      "77\n",
      "79\n",
      "81\n",
      "83\n",
      "85\n",
      "87\n",
      "89\n",
      "91\n",
      "93\n",
      "95\n",
      "97\n",
      "99\n"
     ]
    }
   ],
   "source": [
    "i = 1\n",
    "while i<100:\n",
    "    if i%2!=0:\n",
    "        print(i)\n",
    "    i = i+1"
   ]
  },
  {
   "cell_type": "markdown",
   "metadata": {},
   "source": [
    "### Jumping Statements "
   ]
  },
  {
   "cell_type": "markdown",
   "metadata": {},
   "source": [
    "- Break \n",
    "- continue \n",
    "- Pass"
   ]
  },
  {
   "cell_type": "markdown",
   "metadata": {},
   "source": [
    "#### break\n",
    "\n",
    "➢ come out of something(loop).\n",
    "\n",
    "➢ if we want to break our loop Execution forcefully, then we use break statement.\n",
    "\n",
    "➢ we usually break our loop execution based on some conditions."
   ]
  },
  {
   "cell_type": "markdown",
   "metadata": {},
   "source": [
    "#### continue\n",
    "\n",
    "As the name suggests the continue statement forces the loop to continue or execute the next iteration. When the continue statement is executed in the loop, the code inside the loop following the continue statement will be skipped and the next iteration of the loop will begin."
   ]
  },
  {
   "cell_type": "markdown",
   "metadata": {},
   "source": [
    "#### pass\n",
    "➢ As the name suggests pass statement simply does nothing.\n",
    "\n",
    "➢ The pass statement in Python is used when a statement is required syntactically but you do not want any command or code to execute.\n",
    "\n",
    "➢ It is like null operation, as nothing will happen is it is executed. Pass statement can also be used for writing empty loops. Pass is also used for empty control statement, function and classes."
   ]
  },
  {
   "cell_type": "code",
   "execution_count": 10,
   "metadata": {},
   "outputs": [],
   "source": [
    "i = 1\n",
    "if i==1:\n",
    "    pass"
   ]
  },
  {
   "cell_type": "markdown",
   "metadata": {},
   "source": [
    "Q2. write a program that prints the table of numbers between 2 to 6. But it prints only 5 terms for each number in this range?"
   ]
  },
  {
   "cell_type": "code",
   "execution_count": 9,
   "metadata": {},
   "outputs": [
    {
     "name": "stdout",
     "output_type": "stream",
     "text": [
      "table of : 2\n",
      "2\n",
      "4\n",
      "6\n",
      "8\n",
      "10\n",
      "table of : 3\n",
      "3\n",
      "6\n",
      "9\n",
      "12\n",
      "15\n",
      "table of : 4\n",
      "4\n",
      "8\n",
      "12\n",
      "16\n",
      "20\n",
      "table of : 5\n",
      "5\n",
      "10\n",
      "15\n",
      "20\n",
      "25\n",
      "table of : 6\n",
      "6\n",
      "12\n",
      "18\n",
      "24\n",
      "30\n"
     ]
    }
   ],
   "source": [
    "#WAP to print table of numbers between 2 to 6\n",
    "# but it prints only 5 terms for each number in this range\n",
    "\n",
    "i = 2\n",
    "while i<=6:\n",
    "    print(\"table of :\",i)\n",
    "    for j in range(1,6):\n",
    "        print(i*j)\n",
    "    i+=1\n"
   ]
  },
  {
   "cell_type": "code",
   "execution_count": 2,
   "metadata": {},
   "outputs": [
    {
     "name": "stdout",
     "output_type": "stream",
     "text": [
      "2\n",
      "4\n",
      "6\n",
      "8\n",
      "10\n",
      "------------\n",
      "3\n",
      "6\n",
      "9\n",
      "12\n",
      "15\n",
      "------------\n",
      "4\n",
      "8\n",
      "12\n",
      "16\n",
      "20\n",
      "------------\n",
      "5\n",
      "10\n",
      "15\n",
      "20\n",
      "25\n",
      "------------\n",
      "6\n",
      "12\n",
      "18\n",
      "24\n",
      "30\n",
      "------------\n"
     ]
    }
   ],
   "source": [
    "n = 2\n",
    "while n<7:\n",
    "    i = 1\n",
    "    while i<6:\n",
    "        print(n*i)\n",
    "        i = i+1\n",
    "    print(\"------------\")\n",
    "    n = n+1\n"
   ]
  },
  {
   "cell_type": "markdown",
   "metadata": {},
   "source": [
    "Q3. write a program that takes a string and print characters of that string, but if character found ‘i’ then break the printing of characters"
   ]
  },
  {
   "cell_type": "code",
   "execution_count": 16,
   "metadata": {},
   "outputs": [
    {
     "name": "stdout",
     "output_type": "stream",
     "text": [
      "M\n",
      "a\n",
      "d\n",
      "r\n"
     ]
    }
   ],
   "source": [
    "for i in \"Madrid\":\n",
    "    if i==\"i\":\n",
    "        break\n",
    "    else:\n",
    "        print(i)"
   ]
  },
  {
   "cell_type": "code",
   "execution_count": 18,
   "metadata": {},
   "outputs": [
    {
     "name": "stdout",
     "output_type": "stream",
     "text": [
      "M\n",
      "a\n",
      "d\n",
      "r\n"
     ]
    }
   ],
   "source": [
    "while True:\n",
    "    for i in \"Madrid\":\n",
    "        if i=='i':\n",
    "            break\n",
    "        else:\n",
    "            print(i)\n",
    "    break"
   ]
  },
  {
   "cell_type": "code",
   "execution_count": 54,
   "metadata": {},
   "outputs": [
    {
     "name": "stdout",
     "output_type": "stream",
     "text": [
      "A\n",
      "m\n",
      "the end\n"
     ]
    }
   ],
   "source": [
    "for i in 'Amandeep':\n",
    "    if i == 'a':\n",
    "        break\n",
    "    print(i)\n",
    "print('the end')"
   ]
  },
  {
   "cell_type": "code",
   "execution_count": 53,
   "metadata": {},
   "outputs": [
    {
     "name": "stdout",
     "output_type": "stream",
     "text": [
      "A\n",
      "m\n",
      "n\n",
      "d\n",
      "e\n",
      "e\n",
      "p\n",
      "the end\n"
     ]
    }
   ],
   "source": [
    "for i in 'Amandeep':\n",
    "    if i == 'a':\n",
    "        continue\n",
    "    print(i)\n",
    "print('the end')"
   ]
  },
  {
   "cell_type": "code",
   "execution_count": 56,
   "metadata": {},
   "outputs": [
    {
     "name": "stdout",
     "output_type": "stream",
     "text": [
      "A\n",
      "m\n",
      "a\n",
      "n\n",
      "d\n",
      "e\n",
      "e\n",
      "p\n",
      "the end\n"
     ]
    }
   ],
   "source": [
    "for i in 'Amandeep':\n",
    "    if i == 'a':\n",
    "        pass\n",
    "    print(i)\n",
    "print('the end')"
   ]
  },
  {
   "cell_type": "code",
   "execution_count": 34,
   "metadata": {},
   "outputs": [
    {
     "name": "stdout",
     "output_type": "stream",
     "text": [
      "1 2 "
     ]
    }
   ],
   "source": [
    "for i in range(1,3):\n",
    "    print(i,end = \"\")"
   ]
  },
  {
   "cell_type": "markdown",
   "metadata": {},
   "source": [
    "write a program to print the area of circle for three different radius and radius values are :\n",
    "radius = [5,10,15] if the area is greater than 80 cm2 toh skip the print of that area.\n",
    "area = 3.14*radius**2"
   ]
  },
  {
   "cell_type": "code",
   "execution_count": 11,
   "metadata": {},
   "outputs": [
    {
     "name": "stdout",
     "output_type": "stream",
     "text": [
      "the area of the circle with 5 is 78.5\n",
      "the area of the circle with 10 is 314.0\n",
      "the area of the circle with 15 is 706.5\n"
     ]
    }
   ],
   "source": [
    "rad = [5,10,15]\n",
    "i = 0\n",
    "while i<=2:\n",
    "    #print(rad[i])\n",
    "    area = 3.14*rad[i]**2\n",
    "    #print(\"area when radius is %s\"%rad[i])\n",
    "    print(f\"the area of the circle with {rad[i]} is {area}\")\n",
    "    i+=1\n"
   ]
  },
  {
   "cell_type": "code",
   "execution_count": 10,
   "metadata": {},
   "outputs": [
    {
     "name": "stdout",
     "output_type": "stream",
     "text": [
      "78.5\n"
     ]
    }
   ],
   "source": [
    "radius = [5,10,15]\n",
    "for i in radius:\n",
    "    area = 3.14*i**2\n",
    "    if area>80:\n",
    "        continue\n",
    "    print(area)"
   ]
  },
  {
   "cell_type": "markdown",
   "metadata": {},
   "source": [
    "write a program that prints given string but it skips the character ‘i’ or ‘g’.\n",
    "Sol).\n",
    "#Use of continue statement inside the loop"
   ]
  },
  {
   "cell_type": "code",
   "execution_count": 9,
   "metadata": {},
   "outputs": [
    {
     "name": "stdout",
     "output_type": "stream",
     "text": [
      "M\n",
      "i\n",
      "s\n",
      "r\n",
      "a\n",
      "the end\n"
     ]
    }
   ],
   "source": [
    "for s in 'Mishra':\n",
    "    if s == 'h':\n",
    "        continue\n",
    "    print(s)\n",
    "print('the end')"
   ]
  },
  {
   "cell_type": "code",
   "execution_count": 14,
   "metadata": {},
   "outputs": [
    {
     "name": "stdout",
     "output_type": "stream",
     "text": [
      "M\n",
      "i\n",
      "s\n",
      "pass does nothing it just get executed\n",
      "h\n",
      "r\n",
      "a\n",
      "the end\n"
     ]
    }
   ],
   "source": [
    "for s in 'Mishra':\n",
    "    if s == 'h':\n",
    "        pass\n",
    "        print('pass does nothing it just get executed')\n",
    "    print(s)\n",
    "print('the end')"
   ]
  },
  {
   "cell_type": "code",
   "execution_count": 2,
   "metadata": {},
   "outputs": [
    {
     "name": "stdout",
     "output_type": "stream",
     "text": [
      "Mercury,Venus,Earth,Mars,Jupiter,Saturn,Uranus,Neptune,"
     ]
    }
   ],
   "source": [
    "planets = ['Mercury', 'Venus', 'Earth', 'Mars', 'Jupiter', 'Saturn', 'Uranus', 'Neptune']\n",
    "for planet in planets:\n",
    "    print(planet, end=',')"
   ]
  },
  {
   "cell_type": "code",
   "execution_count": 4,
   "metadata": {},
   "outputs": [
    {
     "name": "stdout",
     "output_type": "stream",
     "text": [
      "G a u r a v   p a l "
     ]
    }
   ],
   "source": [
    "strings = 'Gaurav pal'\n",
    "for string in strings:\n",
    "    print(string, end = \" \")"
   ]
  },
  {
   "cell_type": "code",
   "execution_count": 57,
   "metadata": {},
   "outputs": [
    {
     "name": "stdout",
     "output_type": "stream",
     "text": [
      "0\n",
      "1\n",
      "2\n",
      "4\n",
      "4\n",
      "5\n",
      "7\n"
     ]
    }
   ],
   "source": [
    "i = 0\n",
    "while i<7:\n",
    "    if i==3 or i==6:\n",
    "        pass\n",
    "        i = i+1\n",
    "        print(i)\n",
    "    else:\n",
    "        print(i)\n",
    "        \n",
    "        i = i+1"
   ]
  },
  {
   "cell_type": "markdown",
   "metadata": {},
   "source": [
    "write a program using while loops to check if the numbers between 3000 to 3030 are div by 5 and 7 ,if a number is div by both then stop the iteration."
   ]
  },
  {
   "cell_type": "code",
   "execution_count": 17,
   "metadata": {},
   "outputs": [
    {
     "name": "stdout",
     "output_type": "stream",
     "text": [
      "3000 is div by 5\n",
      "3003 is div by 7\n",
      "3005 is div by 5\n",
      "3010 div by both\n",
      "3015 is div by 5\n",
      "3017 is div by 7\n",
      "3020 is div by 5\n",
      "3024 is div by 7\n",
      "3025 is div by 5\n",
      "3030 is div by 5\n"
     ]
    }
   ],
   "source": [
    "while True:\n",
    "    for i in range(3000,3031):\n",
    "        if i%7==0 and i%5==0:\n",
    "            pass\n",
    "            print(i,'div by both')\n",
    "        elif i%5==0:\n",
    "            print(i,'is div by 5')\n",
    "        elif i%7==0:\n",
    "            print(i,'is div by 7')\n",
    "    break"
   ]
  },
  {
   "cell_type": "code",
   "execution_count": 18,
   "metadata": {},
   "outputs": [
    {
     "name": "stdout",
     "output_type": "stream",
     "text": [
      "1\n",
      "2\n",
      "4\n",
      "5\n"
     ]
    }
   ],
   "source": [
    "def f():\n",
    "    i = 0\n",
    "    while i<=6:\n",
    "        if i%3 == 0 or i%6 == 0:\n",
    "            i=i+1\n",
    "        \n",
    "        else:\n",
    "            print(i)\n",
    "            i = i+1\n",
    "f()"
   ]
  },
  {
   "cell_type": "markdown",
   "metadata": {},
   "source": [
    "Write a program to print the square of numbers from 1 to 10 except 3 and 6 using while loops."
   ]
  },
  {
   "cell_type": "code",
   "execution_count": 2,
   "metadata": {},
   "outputs": [
    {
     "name": "stdout",
     "output_type": "stream",
     "text": [
      "1\n",
      "4\n"
     ]
    },
    {
     "ename": "KeyboardInterrupt",
     "evalue": "",
     "output_type": "error",
     "traceback": [
      "\u001b[1;31m---------------------------------------------------------------------------\u001b[0m",
      "\u001b[1;31mKeyboardInterrupt\u001b[0m                         Traceback (most recent call last)",
      "\u001b[1;32m<ipython-input-2-86a9706379a5>\u001b[0m in \u001b[0;36m<module>\u001b[1;34m\u001b[0m\n\u001b[0;32m      1\u001b[0m \u001b[0mi\u001b[0m \u001b[1;33m=\u001b[0m \u001b[1;36m1\u001b[0m\u001b[1;33m\u001b[0m\u001b[1;33m\u001b[0m\u001b[0m\n\u001b[1;32m----> 2\u001b[1;33m \u001b[1;32mwhile\u001b[0m \u001b[0mi\u001b[0m\u001b[1;33m<\u001b[0m\u001b[1;36m11\u001b[0m\u001b[1;33m:\u001b[0m\u001b[1;33m\u001b[0m\u001b[1;33m\u001b[0m\u001b[0m\n\u001b[0m\u001b[0;32m      3\u001b[0m     \u001b[1;32mif\u001b[0m \u001b[0mi\u001b[0m\u001b[1;33m==\u001b[0m\u001b[1;36m3\u001b[0m \u001b[1;32mor\u001b[0m \u001b[0mi\u001b[0m\u001b[1;33m==\u001b[0m\u001b[1;36m6\u001b[0m\u001b[1;33m:\u001b[0m\u001b[1;33m\u001b[0m\u001b[1;33m\u001b[0m\u001b[0m\n\u001b[0;32m      4\u001b[0m         \u001b[1;32mcontinue\u001b[0m\u001b[1;33m\u001b[0m\u001b[1;33m\u001b[0m\u001b[0m\n\u001b[0;32m      5\u001b[0m         \u001b[0mi\u001b[0m \u001b[1;33m=\u001b[0m \u001b[0mi\u001b[0m\u001b[1;33m+\u001b[0m\u001b[1;36m1\u001b[0m\u001b[1;33m\u001b[0m\u001b[1;33m\u001b[0m\u001b[0m\n",
      "\u001b[1;31mKeyboardInterrupt\u001b[0m: "
     ]
    }
   ],
   "source": [
    "i = 1\n",
    "while i<11:\n",
    "    if i==3 or i==6:\n",
    "        continue\n",
    "        i = i+1\n",
    "    else:\n",
    "        print(i*i)\n",
    "        i = i+1"
   ]
  },
  {
   "cell_type": "code",
   "execution_count": 40,
   "metadata": {},
   "outputs": [
    {
     "data": {
      "text/plain": [
       "0"
      ]
     },
     "execution_count": 40,
     "metadata": {},
     "output_type": "execute_result"
    }
   ],
   "source": [
    "0%3"
   ]
  },
  {
   "cell_type": "markdown",
   "metadata": {},
   "source": [
    "write a program to print a table using while loops"
   ]
  },
  {
   "cell_type": "code",
   "execution_count": 13,
   "metadata": {},
   "outputs": [
    {
     "name": "stdout",
     "output_type": "stream",
     "text": [
      "Enter the no. for table : 5\n",
      "5 x 10 = 50\n",
      "5 x 9 = 45\n",
      "5 x 8 = 40\n",
      "5 x 7 = 35\n",
      "5 x 6 = 30\n",
      "5 x 5 = 25\n",
      "5 x 4 = 20\n",
      "5 x 3 = 15\n",
      "5 x 2 = 10\n",
      "5 x 1 = 5\n"
     ]
    }
   ],
   "source": [
    "n = int(input('Enter the no. for table : '))\n",
    "i = 10\n",
    "while i>0:\n",
    "    print(n,'x',i,'=',n*i)\n",
    "    i = i-1"
   ]
  },
  {
   "cell_type": "markdown",
   "metadata": {},
   "source": [
    "write a program to print the factors of the no. using while loops"
   ]
  },
  {
   "cell_type": "code",
   "execution_count": 2,
   "metadata": {},
   "outputs": [
    {
     "name": "stdout",
     "output_type": "stream",
     "text": [
      "1\n",
      "3\n",
      "5\n",
      "9\n",
      "15\n",
      "45\n"
     ]
    }
   ],
   "source": [
    "n = 45\n",
    "i =1 \n",
    "while i<46:\n",
    "    if n%i == 0:\n",
    "        print(i)\n",
    "        i = i+1\n",
    "    else:\n",
    "        i = i+1"
   ]
  },
  {
   "cell_type": "code",
   "execution_count": 39,
   "metadata": {},
   "outputs": [
    {
     "name": "stdout",
     "output_type": "stream",
     "text": [
      "M\n",
      "a\n"
     ]
    }
   ],
   "source": [
    "for i in 'Madrid':\n",
    "    if i == 'd':\n",
    "        break\n",
    "    print(i)"
   ]
  },
  {
   "cell_type": "code",
   "execution_count": 3,
   "metadata": {},
   "outputs": [
    {
     "name": "stdout",
     "output_type": "stream",
     "text": [
      "[False, False, True, True]\n"
     ]
    }
   ],
   "source": [
    "#return a list with the same length as L. where the value at index i is true\n",
    "#if L[i] is greater than thresh, and false otherwise\n",
    "l = [1,2,3,4]\n",
    "R = []\n",
    "for i in l:\n",
    "    if i>2:\n",
    "        R.append(True)\n",
    "    else:\n",
    "        R.append(False)\n",
    "print(R)\n"
   ]
  },
  {
   "cell_type": "code",
   "execution_count": 6,
   "metadata": {},
   "outputs": [
    {
     "data": {
      "text/plain": [
       "['Am', 'n Singh']"
      ]
     },
     "execution_count": 6,
     "metadata": {},
     "output_type": "execute_result"
    }
   ],
   "source": [
    "s = \"Aman Singh\"\n",
    "s.split(sep = \"a\")"
   ]
  },
  {
   "cell_type": "code",
   "execution_count": 7,
   "metadata": {},
   "outputs": [
    {
     "name": "stdout",
     "output_type": "stream",
     "text": [
      "enter the names of the students :harish,chotu,motu,golu,ram,shyam\n"
     ]
    }
   ],
   "source": [
    "s = input(\"enter the names of the students :\").split()"
   ]
  },
  {
   "cell_type": "code",
   "execution_count": 10,
   "metadata": {},
   "outputs": [
    {
     "name": "stdout",
     "output_type": "stream",
     "text": [
      "Object `split` not found.\n"
     ]
    }
   ],
   "source": []
  }
 ],
 "metadata": {
  "kernelspec": {
   "display_name": "Python 3",
   "language": "python",
   "name": "python3"
  },
  "language_info": {
   "codemirror_mode": {
    "name": "ipython",
    "version": 3
   },
   "file_extension": ".py",
   "mimetype": "text/x-python",
   "name": "python",
   "nbconvert_exporter": "python",
   "pygments_lexer": "ipython3",
   "version": "3.7.6"
  }
 },
 "nbformat": 4,
 "nbformat_minor": 4
}
