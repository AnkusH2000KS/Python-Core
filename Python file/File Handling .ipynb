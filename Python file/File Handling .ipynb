{
 "cells": [
  {
   "cell_type": "markdown",
   "metadata": {},
   "source": [
    "## File handling"
   ]
  },
  {
   "cell_type": "markdown",
   "metadata": {},
   "source": [
    "Files are named locations on disk to store related information. They are used to permanently store data in a non-volatile memory (e.g. hard disk).\n",
    "\n",
    "When we want to read or write to a file, we need to open it first. When we are done, it needs to be closed so that the resources that are tied with the file are freed."
   ]
  },
  {
   "cell_type": "markdown",
   "metadata": {},
   "source": [
    "File operations are :\n",
    "- open \n",
    "- read\n",
    "- write \n",
    "- others "
   ]
  },
  {
   "cell_type": "markdown",
   "metadata": {},
   "source": [
    "Python has an in-built function called open() to open a file. It is also used to create a file as well as doing so many operations in file. It takes a minimum of one argument as mentioned in the below syntax. The open method returns a file object which is used to access the write, read and other in-built methods.\n",
    "\n",
    "Syntax:\n",
    "file_object = open(file_name, mode) \n",
    "Here, file_name is the name of the file or the location of the file that you want to open, and file_name should have the file extension included as well. \n",
    "\n",
    "Which means in test.txt – the term test is the name of the file and .txt is the extension of the file. The mode in the open function syntax will tell Python as what operation you want to do on a file. We use open () function in Python to open a file in read or write mode. As explained above, open ( ) will return a file object. To return a file object we use open() function along with two arguments, that accepts file name and the mode, whether to read or write. So, the syntax being: open(filename, mode)."
   ]
  },
  {
   "cell_type": "code",
   "execution_count": 1,
   "metadata": {},
   "outputs": [
    {
     "data": {
      "text/plain": [
       "46"
      ]
     },
     "execution_count": 1,
     "metadata": {},
     "output_type": "execute_result"
    }
   ],
   "source": [
    "f = open(\"today.txt\",\"x\")\n",
    "f.write(\"today is sunday \\n we are doing file handling \\n\")"
   ]
  },
  {
   "cell_type": "code",
   "execution_count": 3,
   "metadata": {},
   "outputs": [
    {
     "name": "stdout",
     "output_type": "stream",
     "text": [
      "today is sunday \n",
      "\n",
      "we are doing file handling \n",
      "\n"
     ]
    }
   ],
   "source": [
    "f = open(\"today.txt\",\"r\")\n",
    "for i in f:\n",
    "    print(i)"
   ]
  },
  {
   "cell_type": "code",
   "execution_count": 4,
   "metadata": {},
   "outputs": [],
   "source": [
    "f.close()"
   ]
  },
  {
   "cell_type": "code",
   "execution_count": 1,
   "metadata": {},
   "outputs": [
    {
     "data": {
      "text/plain": [
       "17"
      ]
     },
     "execution_count": 1,
     "metadata": {},
     "output_type": "execute_result"
    }
   ],
   "source": [
    "f = open(\"filehandling.txt\",\"x\")#x is create mode \n",
    "f.write(\"We are seeing the file handling in python \\n\") # \\n newline character in python \n",
    "f.write(\"today is monday \\n\")"
   ]
  },
  {
   "cell_type": "code",
   "execution_count": 2,
   "metadata": {},
   "outputs": [
    {
     "data": {
      "text/plain": [
       "'We are seeing the file handiling in python \\ntoday is monday \\n'"
      ]
     },
     "execution_count": 2,
     "metadata": {},
     "output_type": "execute_result"
    }
   ],
   "source": [
    "f = open(\"filehandling.txt\")\n",
    "f.read()"
   ]
  },
  {
   "cell_type": "code",
   "execution_count": 6,
   "metadata": {},
   "outputs": [
    {
     "name": "stdout",
     "output_type": "stream",
     "text": [
      "We are seeing the file handiling in python \n",
      "\n",
      "today is monday \n",
      "\n"
     ]
    }
   ],
   "source": [
    "f = open(\"filehandling.txt\")\n",
    "for i in f:\n",
    "    print(i)"
   ]
  },
  {
   "cell_type": "code",
   "execution_count": 7,
   "metadata": {},
   "outputs": [],
   "source": [
    "f.close()"
   ]
  },
  {
   "cell_type": "code",
   "execution_count": 8,
   "metadata": {},
   "outputs": [
    {
     "data": {
      "text/plain": [
       "14"
      ]
     },
     "execution_count": 8,
     "metadata": {},
     "output_type": "execute_result"
    }
   ],
   "source": [
    "f = open(\"filehandling.txt\",\"a\")\n",
    "f.write(\"holi is nearby\")"
   ]
  },
  {
   "cell_type": "code",
   "execution_count": 10,
   "metadata": {},
   "outputs": [
    {
     "name": "stdout",
     "output_type": "stream",
     "text": [
      "We are seeing the file handiling in python \n",
      "\n",
      "today is monday \n",
      "\n",
      "holi is nearby\n"
     ]
    }
   ],
   "source": [
    "f = open(\"filehandling.txt\",\"r\")\n",
    "for i in f:\n",
    "    print(i)"
   ]
  },
  {
   "cell_type": "code",
   "execution_count": 5,
   "metadata": {},
   "outputs": [
    {
     "data": {
      "text/plain": [
       "20"
      ]
     },
     "execution_count": 5,
     "metadata": {},
     "output_type": "execute_result"
    }
   ],
   "source": [
    "f = open(\"today.txt\",\"a\")\n",
    "f.write(\"holi is on friday \\n \")"
   ]
  },
  {
   "cell_type": "code",
   "execution_count": 6,
   "metadata": {},
   "outputs": [
    {
     "data": {
      "text/plain": [
       "'today is sunday \\nwe are doing file handling \\nholi is on friday \\n '"
      ]
     },
     "execution_count": 6,
     "metadata": {},
     "output_type": "execute_result"
    }
   ],
   "source": [
    "f = open(\"today.txt\",\"r\")\n",
    "f.read()"
   ]
  },
  {
   "cell_type": "code",
   "execution_count": 7,
   "metadata": {},
   "outputs": [
    {
     "name": "stdout",
     "output_type": "stream",
     "text": [
      "today is sunday \n",
      "\n",
      "we are doing file handling \n",
      "\n",
      "holi is on friday \n",
      "\n",
      " \n"
     ]
    }
   ],
   "source": [
    "f = open(\"today.txt\",\"r\")\n",
    "for i in f:\n",
    "    print(i)"
   ]
  },
  {
   "cell_type": "code",
   "execution_count": 8,
   "metadata": {},
   "outputs": [
    {
     "data": {
      "text/plain": [
       "84"
      ]
     },
     "execution_count": 8,
     "metadata": {},
     "output_type": "execute_result"
    }
   ],
   "source": [
    "f = open(\"today.txt\",\"w\")\n",
    "f.write(\"the workers took too long to complete \\n the cat is eating fish \\n we are team flash \\n\")\n"
   ]
  },
  {
   "cell_type": "code",
   "execution_count": 9,
   "metadata": {},
   "outputs": [
    {
     "name": "stdout",
     "output_type": "stream",
     "text": [
      "the workers took too long to complete \n",
      "\n",
      " the cat is eating fish \n",
      "\n",
      " we are team flash \n",
      "\n"
     ]
    }
   ],
   "source": [
    "f = open(\"today.txt\",\"r\")\n",
    "for i in f:\n",
    "    print(i)"
   ]
  },
  {
   "cell_type": "code",
   "execution_count": 10,
   "metadata": {},
   "outputs": [
    {
     "data": {
      "text/plain": [
       "'the workers took too long to complete \\n the cat is eating fish \\n we are team flash \\n'"
      ]
     },
     "execution_count": 10,
     "metadata": {},
     "output_type": "execute_result"
    }
   ],
   "source": [
    "f = open(\"today.txt\")\n",
    "f.read()"
   ]
  },
  {
   "cell_type": "code",
   "execution_count": 11,
   "metadata": {},
   "outputs": [],
   "source": [
    "f.close()"
   ]
  },
  {
   "cell_type": "code",
   "execution_count": 12,
   "metadata": {},
   "outputs": [
    {
     "name": "stdout",
     "output_type": "stream",
     "text": [
      "the workers took too long to complete \n",
      " the cat is eating fish \n",
      " we are team flash \n",
      "\n"
     ]
    }
   ],
   "source": [
    "with open(\"today.txt\",\"r\") as f:\n",
    "    print(f.read())"
   ]
  },
  {
   "cell_type": "code",
   "execution_count": 13,
   "metadata": {},
   "outputs": [
    {
     "name": "stdout",
     "output_type": "stream",
     "text": [
      "the workers took too long to complete \n",
      " the cat is eating fish \n",
      " we are team flash \n",
      "\n",
      "18\n",
      "\n"
     ]
    }
   ],
   "source": [
    "with open(\"today.txt\",\"r+\") as f:\n",
    "    print(f.read())\n",
    "    print(f.write(\"we need a kitkat \\n\"))\n",
    "    print(f.read())"
   ]
  },
  {
   "cell_type": "code",
   "execution_count": 15,
   "metadata": {},
   "outputs": [
    {
     "name": "stdout",
     "output_type": "stream",
     "text": [
      "the workers took too long to complete \n",
      " the cat is eating fish \n",
      " we are team flash \n",
      "we need a kitkat \n",
      "\n"
     ]
    }
   ],
   "source": [
    "with open(\"today.txt\") as f:\n",
    "    print(f.read())"
   ]
  },
  {
   "cell_type": "code",
   "execution_count": 24,
   "metadata": {},
   "outputs": [
    {
     "name": "stdout",
     "output_type": "stream",
     "text": [
      "the workers took too long to complete \n",
      " the cat is eating fish \n",
      " we are team flash \n",
      "we need a kitkat \n",
      "we need a kitkat \n",
      "\n"
     ]
    }
   ],
   "source": [
    "with open(\"filehandling.txt\") as f:\n",
    "    print(f.read())"
   ]
  },
  {
   "cell_type": "code",
   "execution_count": 16,
   "metadata": {},
   "outputs": [
    {
     "name": "stdout",
     "output_type": "stream",
     "text": [
      "\n",
      "21\n"
     ]
    }
   ],
   "source": [
    "with open(\"today.txt\",\"a+\") as f:\n",
    "    print(f.read())\n",
    "    print(f.write(\"the dog is friendly \\n\"))"
   ]
  },
  {
   "cell_type": "code",
   "execution_count": 17,
   "metadata": {},
   "outputs": [
    {
     "name": "stdout",
     "output_type": "stream",
     "text": [
      "the workers took too long to complete \n",
      " the cat is eating fish \n",
      " we are team flash \n",
      "we need a kitkat \n",
      "the dog is friendly \n",
      "\n"
     ]
    }
   ],
   "source": [
    "with open(\"today.txt\") as f:\n",
    "    print(f.read())"
   ]
  },
  {
   "cell_type": "code",
   "execution_count": 20,
   "metadata": {},
   "outputs": [
    {
     "name": "stdout",
     "output_type": "stream",
     "text": [
      "36\n",
      "\n"
     ]
    }
   ],
   "source": [
    "with open(\"today.txt\",\"w+\") as f:\n",
    "    print(f.write(\"the word \\n  is black \\n and is fast \\n\"))\n",
    "    print(f.read())"
   ]
  },
  {
   "cell_type": "code",
   "execution_count": 25,
   "metadata": {},
   "outputs": [
    {
     "data": {
      "text/plain": [
       "'  is black \\n'"
      ]
     },
     "execution_count": 25,
     "metadata": {},
     "output_type": "execute_result"
    }
   ],
   "source": [
    "with open(\"today.txt\") as f:\n",
    "    l = f.readlines()\n",
    "l[1]"
   ]
  },
  {
   "cell_type": "code",
   "execution_count": 33,
   "metadata": {},
   "outputs": [
    {
     "name": "stdout",
     "output_type": "stream",
     "text": [
      "  is black \n",
      "\n"
     ]
    }
   ],
   "source": [
    "line = 2\n",
    "current_line = 1\n",
    "with open(\"today.txt\") as f:\n",
    "    for i in f:\n",
    "        if line==current_line:\n",
    "            print(i)\n",
    "            break\n",
    "        else:\n",
    "            current_line+=1"
   ]
  },
  {
   "cell_type": "code",
   "execution_count": 46,
   "metadata": {},
   "outputs": [
    {
     "name": "stdout",
     "output_type": "stream",
     "text": [
      "['the word \\n', '  is black \\n', ' and is fast \\n']\n"
     ]
    },
    {
     "data": {
      "text/plain": [
       "3"
      ]
     },
     "execution_count": 46,
     "metadata": {},
     "output_type": "execute_result"
    }
   ],
   "source": [
    "with open(\"filehandling.txt\") as f:\n",
    "    x = f.readlines()\n",
    "    print(x)\n",
    "len(x)"
   ]
  },
  {
   "cell_type": "code",
   "execution_count": null,
   "metadata": {},
   "outputs": [],
   "source": [
    "Reading :\n",
    "    read()\n",
    "    readline\n",
    "    readlines"
   ]
  },
  {
   "cell_type": "code",
   "execution_count": 26,
   "metadata": {},
   "outputs": [],
   "source": [
    "with open(\"today.txt\",\"a\") as f:\n",
    "    f.writelines([\"cat \\n\",\"dog \\n\",\"donkey \\n\"])"
   ]
  },
  {
   "cell_type": "code",
   "execution_count": 27,
   "metadata": {},
   "outputs": [
    {
     "name": "stdout",
     "output_type": "stream",
     "text": [
      "the word \n",
      "  is black \n",
      " and is fast \n",
      "cat \n",
      "dog \n",
      "donkey \n",
      "\n"
     ]
    }
   ],
   "source": [
    "with open(\"today.txt\") as f:\n",
    "    print(f.read())"
   ]
  },
  {
   "cell_type": "code",
   "execution_count": null,
   "metadata": {},
   "outputs": [],
   "source": [
    "writing :\n",
    "    write(\"a string to be writen\")\n",
    "    writelines(\"a list of strings\")"
   ]
  },
  {
   "cell_type": "code",
   "execution_count": 1,
   "metadata": {},
   "outputs": [],
   "source": [
    "with open(\"filehandling.txt\",\"a\") as f:\n",
    "    f.writelines([\"the big \\n\",\"the black \\n\",\"the bull \\n\"])\n"
   ]
  },
  {
   "cell_type": "code",
   "execution_count": 3,
   "metadata": {},
   "outputs": [
    {
     "data": {
      "text/plain": [
       "['the word \\n',\n",
       " '  is black \\n',\n",
       " ' and is fast \\n',\n",
       " 'the big \\n',\n",
       " 'the black \\n',\n",
       " 'the bull \\n']"
      ]
     },
     "execution_count": 3,
     "metadata": {},
     "output_type": "execute_result"
    }
   ],
   "source": [
    "with open(\"filehandling.txt\",\"r\") as f:\n",
    "    x = f.readlines()\n",
    "x"
   ]
  },
  {
   "cell_type": "code",
   "execution_count": null,
   "metadata": {},
   "outputs": [],
   "source": [
    "f = open()"
   ]
  },
  {
   "cell_type": "code",
   "execution_count": 1,
   "metadata": {},
   "outputs": [],
   "source": [
    "f = open(\"python.txt\",\"a\")\n",
    "f.writelines([\"cat is sitting \\n\",\"the dog is friendly \\n\",\"we are team flash \\n\"])"
   ]
  },
  {
   "cell_type": "code",
   "execution_count": 3,
   "metadata": {},
   "outputs": [
    {
     "name": "stdout",
     "output_type": "stream",
     "text": [
      "We are learning file handling \n",
      "its a nice sunny day \n",
      "cat is sitting \n",
      "the dog is friendly \n",
      "we are team flash \n",
      "so the class is about file handling \n",
      "so the class is about file handling \n",
      "cat is sitting \n",
      "the dog is friendly \n",
      "we are team flash \n",
      "\n"
     ]
    }
   ],
   "source": [
    "f = open(\"python.txt\",\"r\")\n",
    "print(f.read())"
   ]
  },
  {
   "cell_type": "code",
   "execution_count": 4,
   "metadata": {},
   "outputs": [
    {
     "name": "stdout",
     "output_type": "stream",
     "text": [
      "We are learning file handling \n",
      "its a nice sunny day \n",
      "cat is sitting \n",
      "the dog is friendly \n",
      "we are team flash \n",
      "so the class is about file handling \n",
      "so the class is about file handling \n",
      "cat is sitting \n",
      "the dog is friendly \n",
      "we are team flash \n",
      "\n"
     ]
    }
   ],
   "source": [
    "with open(\"python.txt\",\"r\") as f:\n",
    "    print(f.read())"
   ]
  },
  {
   "cell_type": "code",
   "execution_count": 8,
   "metadata": {},
   "outputs": [],
   "source": [
    "with open(\"python.txt\",\"w\") as f:\n",
    "    f.writelines([\"today is saturday \\n\",\"we are going to movie \\n\",\"there is some hope \\n\"])"
   ]
  },
  {
   "cell_type": "code",
   "execution_count": 9,
   "metadata": {},
   "outputs": [
    {
     "name": "stdout",
     "output_type": "stream",
     "text": [
      "today is saturday \n",
      "we are going to movie \n",
      "there is some hope \n",
      "\n"
     ]
    }
   ],
   "source": [
    "with open(\"python.txt\",\"r\") as f:\n",
    "    print(f.read())"
   ]
  },
  {
   "cell_type": "code",
   "execution_count": null,
   "metadata": {},
   "outputs": [],
   "source": [
    "WAP to create file named as sports.txt and u have to take five sports personalities in that file."
   ]
  },
  {
   "cell_type": "code",
   "execution_count": 28,
   "metadata": {},
   "outputs": [
    {
     "name": "stdout",
     "output_type": "stream",
     "text": [
      "Enter the name : dhoni\n",
      "Enter the name : virat\n",
      "Enter the name : ronaldo\n",
      "Enter the name : messi\n",
      "Enter the name : sachin\n"
     ]
    }
   ],
   "source": [
    "with open(\"sprots.txt\",\"x\") as f:\n",
    "    for i in range(5):\n",
    "        f.write(input(\"Enter the name : \"))\n",
    "        f.write(\"\\n\")\n"
   ]
  },
  {
   "cell_type": "code",
   "execution_count": 30,
   "metadata": {},
   "outputs": [
    {
     "name": "stdout",
     "output_type": "stream",
     "text": [
      "dhoni\n",
      "virat\n",
      "ronaldo\n",
      "messi\n",
      "sachin\n",
      "\n"
     ]
    }
   ],
   "source": [
    "with open(\"sprots.txt\") as f:\n",
    "    print(f.read())"
   ]
  },
  {
   "cell_type": "code",
   "execution_count": null,
   "metadata": {},
   "outputs": [],
   "source": []
  },
  {
   "cell_type": "code",
   "execution_count": 1,
   "metadata": {},
   "outputs": [
    {
     "data": {
      "text/plain": [
       "21"
      ]
     },
     "execution_count": 1,
     "metadata": {},
     "output_type": "execute_result"
    }
   ],
   "source": [
    "file = open(\"test1.txt\",\"x\")\n",
    "file.write(\"the class is glowing \")"
   ]
  },
  {
   "cell_type": "code",
   "execution_count": 2,
   "metadata": {},
   "outputs": [
    {
     "data": {
      "text/plain": [
       "'the class is glowing '"
      ]
     },
     "execution_count": 2,
     "metadata": {},
     "output_type": "execute_result"
    }
   ],
   "source": [
    "file = open(\"test1.txt\",\"r\")\n",
    "file.read()"
   ]
  },
  {
   "cell_type": "code",
   "execution_count": 3,
   "metadata": {},
   "outputs": [
    {
     "data": {
      "text/plain": [
       "23"
      ]
     },
     "execution_count": 3,
     "metadata": {},
     "output_type": "execute_result"
    }
   ],
   "source": [
    "file = open(\"test1.txt\",\"a\")\n",
    "file.write(\"rain is heavy \\n\")\n",
    "file.write(\"The dog is nice \\n\")\n",
    "file.write(\"we are the team flash \\n\")"
   ]
  },
  {
   "cell_type": "code",
   "execution_count": 5,
   "metadata": {},
   "outputs": [
    {
     "name": "stdout",
     "output_type": "stream",
     "text": [
      "the class is glowing rain is heavy \n",
      "\n",
      "The dog is nice \n",
      "\n",
      "we are the team flash \n",
      "\n"
     ]
    }
   ],
   "source": [
    "file = open(\"test1.txt\",\"r\")\n",
    "for i in file:\n",
    "    print(i)"
   ]
  },
  {
   "cell_type": "code",
   "execution_count": 6,
   "metadata": {},
   "outputs": [
    {
     "name": "stdout",
     "output_type": "stream",
     "text": [
      "the cat is black \n",
      "\n",
      "lets play outside \n",
      "\n",
      "today is nice sunny day\n",
      "\n"
     ]
    }
   ],
   "source": [
    "file = open(\"fh.txt\",\"r\")\n",
    "for i in file:\n",
    "    print(i)"
   ]
  },
  {
   "cell_type": "code",
   "execution_count": 3,
   "metadata": {},
   "outputs": [
    {
     "data": {
      "text/plain": [
       "'the cat is black \\n'"
      ]
     },
     "execution_count": 3,
     "metadata": {},
     "output_type": "execute_result"
    }
   ],
   "source": [
    "file = open(\"fh.txt\",\"r\")\n",
    "file.read()"
   ]
  },
  {
   "cell_type": "code",
   "execution_count": 1,
   "metadata": {},
   "outputs": [
    {
     "data": {
      "text/plain": [
       "19"
      ]
     },
     "execution_count": 1,
     "metadata": {},
     "output_type": "execute_result"
    }
   ],
   "source": [
    "file = open(\"abc.txt\",'x')\n",
    "file.write(\"Today is Saturday \\n\")"
   ]
  },
  {
   "cell_type": "code",
   "execution_count": 2,
   "metadata": {},
   "outputs": [
    {
     "data": {
      "text/plain": [
       "'Today is Saturday \\n'"
      ]
     },
     "execution_count": 2,
     "metadata": {},
     "output_type": "execute_result"
    }
   ],
   "source": [
    "file = open(\"abc.txt\",\"r\")\n",
    "file.read()"
   ]
  },
  {
   "cell_type": "code",
   "execution_count": 3,
   "metadata": {},
   "outputs": [
    {
     "data": {
      "text/plain": [
       "22"
      ]
     },
     "execution_count": 3,
     "metadata": {},
     "output_type": "execute_result"
    }
   ],
   "source": [
    "file = open(\"abc.txt\",'w')\n",
    "file.write(\"the day is very cold \\n\")"
   ]
  },
  {
   "cell_type": "code",
   "execution_count": 4,
   "metadata": {},
   "outputs": [
    {
     "name": "stdout",
     "output_type": "stream",
     "text": [
      "the day is very cold \n",
      "\n"
     ]
    }
   ],
   "source": [
    "file = open(\"abc.txt\",'r')\n",
    "for i in file:\n",
    "    print(i)"
   ]
  },
  {
   "cell_type": "code",
   "execution_count": 7,
   "metadata": {},
   "outputs": [
    {
     "data": {
      "text/plain": [
       "31"
      ]
     },
     "execution_count": 7,
     "metadata": {},
     "output_type": "execute_result"
    }
   ],
   "source": [
    "file = open(\"fh.txt\",\"a\")\n",
    "file.write(\"We are learning file handling \\n\")"
   ]
  },
  {
   "cell_type": "code",
   "execution_count": 1,
   "metadata": {},
   "outputs": [],
   "source": [
    "with open(\"class3.txt\",\"x\") as f:\n",
    "    f.writelines([\"the day is very cold \\n\",\"it is going to be good \\n\",\"we are learning file handling \\n\"])"
   ]
  },
  {
   "cell_type": "code",
   "execution_count": 2,
   "metadata": {},
   "outputs": [
    {
     "name": "stdout",
     "output_type": "stream",
     "text": [
      "the day is very cold \n",
      "it is going to be good \n",
      "we are learning file handling \n",
      "\n"
     ]
    }
   ],
   "source": [
    "with open(\"class3.txt\",\"r\") as f:\n",
    "    print(f.read())"
   ]
  },
  {
   "cell_type": "code",
   "execution_count": 10,
   "metadata": {},
   "outputs": [
    {
     "name": "stdout",
     "output_type": "stream",
     "text": [
      "the day is very cold \n",
      "it is going to be good \n",
      "we are learning file handling \n",
      "\n"
     ]
    }
   ],
   "source": [
    "with open(\"class3.txt\",\"r\") as f:\n",
    "    print(f.read())"
   ]
  },
  {
   "cell_type": "code",
   "execution_count": 8,
   "metadata": {},
   "outputs": [
    {
     "name": "stdout",
     "output_type": "stream",
     "text": [
      "the cat is black \n",
      "\n",
      "lets play outside \n",
      "\n",
      "today is nice sunny day\n",
      "\n",
      "We are learning file handling \n",
      "\n"
     ]
    }
   ],
   "source": [
    "file = open(\"fh.txt\",'r')\n",
    "for i in file:\n",
    "    print(i)"
   ]
  },
  {
   "cell_type": "code",
   "execution_count": 9,
   "metadata": {},
   "outputs": [],
   "source": [
    "file.close()\n"
   ]
  },
  {
   "cell_type": "code",
   "execution_count": 10,
   "metadata": {},
   "outputs": [
    {
     "data": {
      "text/plain": [
       "21"
      ]
     },
     "execution_count": 10,
     "metadata": {},
     "output_type": "execute_result"
    }
   ],
   "source": [
    "file = open(\"abc.txt\",\"w\")\n",
    "file.write(\"The class is boring \\n\")"
   ]
  },
  {
   "cell_type": "code",
   "execution_count": 11,
   "metadata": {},
   "outputs": [
    {
     "data": {
      "text/plain": [
       "'The class is boring \\n'"
      ]
     },
     "execution_count": 11,
     "metadata": {},
     "output_type": "execute_result"
    }
   ],
   "source": [
    "file = open(\"abc.txt\",\"r\")\n",
    "file.read()\n",
    "\n",
    "\n"
   ]
  },
  {
   "cell_type": "code",
   "execution_count": 1,
   "metadata": {},
   "outputs": [],
   "source": [
    "file = open('class.txt', 'r')"
   ]
  },
  {
   "cell_type": "code",
   "execution_count": 2,
   "metadata": {},
   "outputs": [
    {
     "data": {
      "text/plain": [
       "<_io.TextIOWrapper name='class.txt' mode='r' encoding='cp1252'>"
      ]
     },
     "execution_count": 2,
     "metadata": {},
     "output_type": "execute_result"
    }
   ],
   "source": [
    "file"
   ]
  },
  {
   "cell_type": "code",
   "execution_count": 3,
   "metadata": {},
   "outputs": [
    {
     "name": "stdout",
     "output_type": "stream",
     "text": [
      "this is file handling\n",
      "\n",
      "today is monday\n"
     ]
    }
   ],
   "source": [
    "for i in file:\n",
    "    print(i)"
   ]
  },
  {
   "cell_type": "code",
   "execution_count": 4,
   "metadata": {},
   "outputs": [],
   "source": [
    "file1 = open(\"c.txt\",\"x\")"
   ]
  },
  {
   "cell_type": "markdown",
   "metadata": {},
   "source": [
    "### with open "
   ]
  },
  {
   "cell_type": "markdown",
   "metadata": {},
   "source": [
    "with is a command which is used with open to perform all the operations of file. Instead of using previous syntax you can also use with command syntax to perform all the operations of file as given below-:\n",
    "\n",
    "syntax-:\n",
    "\n",
    "with open(‘file_name’, ‘mode_of_file’) as variable_name:"
   ]
  },
  {
   "cell_type": "code",
   "execution_count": 7,
   "metadata": {},
   "outputs": [
    {
     "name": "stdout",
     "output_type": "stream",
     "text": [
      "We are learning file handling \n",
      "its a nice sunny day \n",
      "cat is sitting \n",
      "the dog is friendly \n",
      "we are team flash \n",
      "\n"
     ]
    }
   ],
   "source": [
    "with open('python.txt') as f:\n",
    "    print(f.read())"
   ]
  },
  {
   "cell_type": "code",
   "execution_count": 16,
   "metadata": {},
   "outputs": [
    {
     "name": "stdout",
     "output_type": "stream",
     "text": [
      "39\n"
     ]
    }
   ],
   "source": [
    "with open('2class.txt','a') as f:\n",
    "    print(f.write('this is our class \\n our class is about '))"
   ]
  },
  {
   "cell_type": "code",
   "execution_count": 18,
   "metadata": {},
   "outputs": [],
   "source": [
    "with open('2class.txt','a') as f:\n",
    "    f.writelines(['the day is sunny ','we should go for a movie \\n'])"
   ]
  },
  {
   "cell_type": "code",
   "execution_count": 12,
   "metadata": {},
   "outputs": [
    {
     "name": "stdout",
     "output_type": "stream",
     "text": [
      "this is our class \n",
      "the day is sunny \n",
      "we should go for a movie \n",
      "\n"
     ]
    }
   ],
   "source": [
    "with open('2class.txt','r') as f:\n",
    "    print(f.read())"
   ]
  },
  {
   "cell_type": "code",
   "execution_count": 11,
   "metadata": {},
   "outputs": [
    {
     "name": "stdout",
     "output_type": "stream",
     "text": [
      "None\n"
     ]
    }
   ],
   "source": [
    "with open(\"class3.txt\",\"a\") as f:\n",
    "    print(f.writelines([\"enjoy the day \\n\",\"all the very best \\n\"]))"
   ]
  },
  {
   "cell_type": "code",
   "execution_count": 15,
   "metadata": {},
   "outputs": [
    {
     "name": "stdout",
     "output_type": "stream",
     "text": [
      "the day is very cold \n",
      "it is going to be good \n",
      "we are learning file handling \n",
      "enjoy the day \n",
      "all the very best \n",
      "\n"
     ]
    }
   ],
   "source": [
    "with open(\"class3.txt\",\"r\") as f:\n",
    "    print(f.read())"
   ]
  },
  {
   "cell_type": "code",
   "execution_count": 19,
   "metadata": {},
   "outputs": [
    {
     "name": "stdout",
     "output_type": "stream",
     "text": [
      "today is saturday \n",
      "we are going to movie \n",
      "there is some hope \n",
      "\n"
     ]
    }
   ],
   "source": [
    "with open(\"python.txt\") as f:\n",
    "    print(f.read())"
   ]
  },
  {
   "cell_type": "code",
   "execution_count": 21,
   "metadata": {},
   "outputs": [
    {
     "name": "stdout",
     "output_type": "stream",
     "text": [
      "['today is saturday \\n', 'we are going to movie \\n', 'there is some hope \\n']\n"
     ]
    }
   ],
   "source": [
    "with open(\"python.txt\",\"r\") as f:\n",
    "    print(f.readlines())"
   ]
  },
  {
   "cell_type": "code",
   "execution_count": null,
   "metadata": {},
   "outputs": [],
   "source": []
  },
  {
   "cell_type": "code",
   "execution_count": 23,
   "metadata": {},
   "outputs": [
    {
     "name": "stdout",
     "output_type": "stream",
     "text": [
      "\n",
      "37\n"
     ]
    }
   ],
   "source": [
    "with open('python.txt','a+') as f:\n",
    "    print(f.read())\n",
    "    print(f.write('so the class is about file handling \\n'))\n",
    "   "
   ]
  },
  {
   "cell_type": "code",
   "execution_count": 24,
   "metadata": {},
   "outputs": [
    {
     "name": "stdout",
     "output_type": "stream",
     "text": [
      "today is saturday \n",
      "we are going to movie \n",
      "there is some hope \n",
      "so the class is about file handling \n",
      "so the class is about file handling \n",
      "\n"
     ]
    }
   ],
   "source": [
    "with open(\"python.txt\",\"r\") as f:\n",
    "    print(f.read())"
   ]
  },
  {
   "cell_type": "code",
   "execution_count": 11,
   "metadata": {},
   "outputs": [
    {
     "name": "stdout",
     "output_type": "stream",
     "text": [
      "We are learning file handling \n",
      "its a nice sunny day \n",
      "cat is sitting \n",
      "the dog is friendly \n",
      "we are team flash \n",
      "so the class is about file handling \n",
      "so the class is about file handling \n",
      "\n"
     ]
    }
   ],
   "source": [
    "with open(\"python.txt\",\"r+\") as f:\n",
    "    print(f.read())"
   ]
  },
  {
   "cell_type": "code",
   "execution_count": 25,
   "metadata": {
    "scrolled": true
   },
   "outputs": [
    {
     "name": "stdout",
     "output_type": "stream",
     "text": [
      "today is saturday \n",
      "we are going to movie \n",
      "there is some hope \n",
      "so the class is about file handling \n",
      "so the class is about file handling \n",
      "\n",
      "39\n"
     ]
    }
   ],
   "source": [
    "with open(\"python.txt\",\"r+\") as f:\n",
    "    print(f.read())\n",
    "    print(f.write(\"the comapny is going for right talent \\n\"))"
   ]
  },
  {
   "cell_type": "code",
   "execution_count": 26,
   "metadata": {},
   "outputs": [
    {
     "name": "stdout",
     "output_type": "stream",
     "text": [
      "today is saturday \n",
      "we are going to movie \n",
      "there is some hope \n",
      "so the class is about file handling \n",
      "so the class is about file handling \n",
      "the comapny is going for right talent \n",
      "\n"
     ]
    }
   ],
   "source": [
    "with open(\"python.txt\",\"r\") as f:\n",
    "    print(f.read())"
   ]
  },
  {
   "cell_type": "code",
   "execution_count": 17,
   "metadata": {},
   "outputs": [
    {
     "data": {
      "text/plain": [
       "16"
      ]
     },
     "execution_count": 17,
     "metadata": {},
     "output_type": "execute_result"
    }
   ],
   "source": [
    "len(\"this is London \\n\")"
   ]
  },
  {
   "cell_type": "code",
   "execution_count": 16,
   "metadata": {},
   "outputs": [
    {
     "name": "stdout",
     "output_type": "stream",
     "text": [
      "the day is very cold \n",
      "it is going to be good \n",
      "we are learning file handling \n",
      "enjoy the day \n",
      "all the very best \n",
      "\n",
      "16\n"
     ]
    }
   ],
   "source": [
    "with open(\"class3.txt\",\"r+\") as f:\n",
    "    print(f.read())\n",
    "    print(f.write(\"this is London \\n\"))"
   ]
  },
  {
   "cell_type": "code",
   "execution_count": 18,
   "metadata": {},
   "outputs": [
    {
     "name": "stdout",
     "output_type": "stream",
     "text": [
      "16\n"
     ]
    }
   ],
   "source": [
    "with open(\"class3.txt\",\"w\") as f:\n",
    "    print(f.write(\"this is London \\n\"))"
   ]
  },
  {
   "cell_type": "code",
   "execution_count": 27,
   "metadata": {},
   "outputs": [
    {
     "name": "stdout",
     "output_type": "stream",
     "text": [
      "\n",
      "16\n"
     ]
    }
   ],
   "source": [
    "with open(\"class3.txt\",\"w+\") as f:\n",
    "    print(f.read())\n",
    "    print(f.write(\"this is London \\n\"))"
   ]
  },
  {
   "cell_type": "code",
   "execution_count": 29,
   "metadata": {},
   "outputs": [
    {
     "name": "stdout",
     "output_type": "stream",
     "text": [
      "this is London \n",
      "\n"
     ]
    }
   ],
   "source": [
    "with open(\"class3.txt\",\"r\") as f:\n",
    "    print(f.read())"
   ]
  },
  {
   "cell_type": "code",
   "execution_count": 30,
   "metadata": {},
   "outputs": [
    {
     "name": "stdout",
     "output_type": "stream",
     "text": [
      "today is saturday \n",
      "we are going to movie \n",
      "there is some hope \n",
      "so the class is about file handling \n",
      "so the class is about file handling \n",
      "the comapny is going for right talent \n",
      "\n"
     ]
    }
   ],
   "source": [
    "with open(\"python.txt\",\"r\") as f:\n",
    "    print(f.read())"
   ]
  },
  {
   "cell_type": "code",
   "execution_count": 32,
   "metadata": {},
   "outputs": [
    {
     "data": {
      "text/plain": [
       "'so the class is about file handling \\n'"
      ]
     },
     "execution_count": 32,
     "metadata": {},
     "output_type": "execute_result"
    }
   ],
   "source": [
    "with open(\"python.txt\",\"r\") as f:\n",
    "    l = f.readlines()\n",
    "l[3]"
   ]
  },
  {
   "cell_type": "code",
   "execution_count": 35,
   "metadata": {},
   "outputs": [
    {
     "name": "stdout",
     "output_type": "stream",
     "text": [
      "so the class is about file handling \n",
      "\n"
     ]
    }
   ],
   "source": [
    "f = open(\"python.txt\")\n",
    "current_line = 1\n",
    "line = 4\n",
    "for i in f:\n",
    "    if line==current_line:\n",
    "        print(i)\n",
    "        break\n",
    "    current_line= current_line+1"
   ]
  },
  {
   "cell_type": "code",
   "execution_count": null,
   "metadata": {},
   "outputs": [],
   "source": []
  },
  {
   "cell_type": "code",
   "execution_count": 24,
   "metadata": {},
   "outputs": [
    {
     "name": "stdout",
     "output_type": "stream",
     "text": [
      "this is London \n",
      "\n"
     ]
    }
   ],
   "source": [
    "with open(\"class3.txt\",\"r\") as f:\n",
    "    print(f.read())"
   ]
  },
  {
   "cell_type": "code",
   "execution_count": 3,
   "metadata": {},
   "outputs": [],
   "source": [
    "with open(\"bcd.txt\",\"x\") as f:\n",
    "    f.writelines([\"the dog is cute \\n\",\"he is coming at us \\n\",\"we are the team flash \\n\"])"
   ]
  },
  {
   "cell_type": "code",
   "execution_count": 8,
   "metadata": {},
   "outputs": [],
   "source": [
    "with open(\"bcd.txt\",\"a\") as f:\n",
    "    f.writelines([\"enjoy \\n\",\"the wheather \\n\"])"
   ]
  },
  {
   "cell_type": "code",
   "execution_count": 9,
   "metadata": {},
   "outputs": [
    {
     "name": "stdout",
     "output_type": "stream",
     "text": [
      "the dog is cute \n",
      "he is coming at us \n",
      "we are the team flash \n",
      "enjoy \n",
      "the wheather \n",
      "\n"
     ]
    }
   ],
   "source": [
    "with open(\"bcd.txt\",\"r\") as f:\n",
    "    print(f.read())"
   ]
  },
  {
   "cell_type": "code",
   "execution_count": null,
   "metadata": {},
   "outputs": [],
   "source": [
    "WAP to read a specific line in ur file "
   ]
  },
  {
   "cell_type": "code",
   "execution_count": 25,
   "metadata": {},
   "outputs": [],
   "source": [
    "with open(\"class3.txt\",\"a\") as f:\n",
    "    f.writelines([\"the day is very cold \\n\",\"it is going to be good \\n\",\"we are learning file handling \\n\"])"
   ]
  },
  {
   "cell_type": "code",
   "execution_count": 26,
   "metadata": {},
   "outputs": [
    {
     "name": "stdout",
     "output_type": "stream",
     "text": [
      "this is London \n",
      "the day is very cold \n",
      "it is going to be good \n",
      "we are learning file handling \n",
      "\n"
     ]
    }
   ],
   "source": [
    "with open(\"class3.txt\",\"r\") as f:\n",
    "    print(f.read())"
   ]
  },
  {
   "cell_type": "code",
   "execution_count": 27,
   "metadata": {},
   "outputs": [
    {
     "name": "stdout",
     "output_type": "stream",
     "text": [
      "this is London \n",
      "\n",
      "the day is very cold \n",
      "\n",
      "it is going to be good \n",
      "\n",
      "we are learning file handling \n",
      "\n"
     ]
    }
   ],
   "source": [
    "file  = open(\"class3.txt\",\"r\")\n",
    "line = 3\n",
    "current_line = 1\n",
    "for i in file:\n",
    "    if line==current_line:\n",
    "        print(i)\n",
    "        break\n",
    "    current_line= current_line + 1"
   ]
  },
  {
   "cell_type": "code",
   "execution_count": 11,
   "metadata": {},
   "outputs": [
    {
     "name": "stdout",
     "output_type": "stream",
     "text": [
      "enter the line u want to read : 5\n",
      "the wheather \n",
      "\n"
     ]
    }
   ],
   "source": [
    "with open(\"bcd.txt\",\"r\") as f:\n",
    "    #print(f.read())\n",
    "    current_line = int(input(\"enter the line u want to read : \"))\n",
    "    line = 1\n",
    "    for i in f:\n",
    "        if line == current_line:\n",
    "            print(i)\n",
    "            break\n",
    "        line = line+1"
   ]
  },
  {
   "cell_type": "code",
   "execution_count": 17,
   "metadata": {},
   "outputs": [
    {
     "name": "stdout",
     "output_type": "stream",
     "text": [
      "enter the stringmessi\n",
      "enter the stringronaldo\n",
      "enter the stringvirat\n",
      "enter the stringsachin\n",
      "enter the stringdhoni\n"
     ]
    }
   ],
   "source": [
    "with open(\"sports.txt\",\"x\") as f:\n",
    "    for i in range(1,6):\n",
    "        f.write(input(\"enter the string\"))\n",
    "        f.write(\"\\n\")\n",
    "        "
   ]
  },
  {
   "cell_type": "code",
   "execution_count": 18,
   "metadata": {},
   "outputs": [
    {
     "name": "stdout",
     "output_type": "stream",
     "text": [
      "messi\n",
      "ronaldo\n",
      "virat\n",
      "sachin\n",
      "dhoni\n",
      "\n"
     ]
    }
   ],
   "source": [
    "with open(\"sports.txt\") as f:\n",
    "    print(f.read())"
   ]
  },
  {
   "cell_type": "code",
   "execution_count": null,
   "metadata": {},
   "outputs": [],
   "source": []
  },
  {
   "cell_type": "markdown",
   "metadata": {},
   "source": [
    "WAP to create a file Sports.txt write five sports personalities to that file and read the content as a list"
   ]
  },
  {
   "cell_type": "code",
   "execution_count": 36,
   "metadata": {},
   "outputs": [
    {
     "name": "stdout",
     "output_type": "stream",
     "text": [
      "None\n"
     ]
    }
   ],
   "source": [
    "with open(\"sports.txt\",\"x\") as f:\n",
    "        print(f.writelines([\"ronaldo \\n\",\"messi \\n\",\"ibra \\n\"]))"
   ]
  },
  {
   "cell_type": "code",
   "execution_count": 37,
   "metadata": {},
   "outputs": [
    {
     "name": "stdout",
     "output_type": "stream",
     "text": [
      "['ronaldo \\n', 'messi \\n', 'ibra \\n']\n"
     ]
    }
   ],
   "source": [
    "with open(\"sports.txt\") as f:\n",
    "    print(f.readlines())"
   ]
  },
  {
   "cell_type": "code",
   "execution_count": 38,
   "metadata": {},
   "outputs": [
    {
     "name": "stdout",
     "output_type": "stream",
     "text": [
      "enter the sports personalities : ronaldo\n",
      "enter the sports personalities : messi\n",
      "enter the sports personalities : ibra\n",
      "enter the sports personalities : vini\n",
      "enter the sports personalities : fati\n"
     ]
    }
   ],
   "source": [
    "with open(\"sports4.txt\",\"x\") as f:\n",
    "    for i in range(1,6):\n",
    "        f.write(input(\"enter the sports personalities : \"))\n",
    "        f.write(\"\\n\")"
   ]
  },
  {
   "cell_type": "code",
   "execution_count": 39,
   "metadata": {},
   "outputs": [
    {
     "name": "stdout",
     "output_type": "stream",
     "text": [
      "ronaldo\n",
      "messi\n",
      "ibra\n",
      "vini\n",
      "fati\n",
      "\n"
     ]
    }
   ],
   "source": [
    "with open(\"sports4.txt\",\"r\") as f:\n",
    "    print(f.read())"
   ]
  },
  {
   "cell_type": "code",
   "execution_count": 33,
   "metadata": {},
   "outputs": [
    {
     "name": "stdout",
     "output_type": "stream",
     "text": [
      "the dog is cute \n",
      "he is coming at us \n",
      "we are the team flash \n",
      "enjoy \n",
      "the wheather \n",
      "\n"
     ]
    }
   ],
   "source": [
    "with open(\"bcd.txt\",\"r\") as f:\n",
    "    print(f.read())"
   ]
  },
  {
   "cell_type": "code",
   "execution_count": 30,
   "metadata": {},
   "outputs": [
    {
     "data": {
      "text/plain": [
       "['ronaldo', 'benezema']"
      ]
     },
     "execution_count": 30,
     "metadata": {},
     "output_type": "execute_result"
    }
   ],
   "source": [
    "with open(\"sports4.txt\",\"r\") as f:\n",
    "    l = f.readlines()\n",
    "l1 = []\n",
    "for i in l:\n",
    "    i  = i.replace(\"\\n\",\"\")\n",
    "    l1.append(i)\n",
    "l1\n",
    "list(filter(lambda x:len(x)>5,l1))"
   ]
  },
  {
   "cell_type": "code",
   "execution_count": 20,
   "metadata": {},
   "outputs": [],
   "source": [
    "with open('2class.txt','r') as f:\n",
    "    l = f.readlines()"
   ]
  },
  {
   "cell_type": "code",
   "execution_count": 22,
   "metadata": {},
   "outputs": [],
   "source": [
    "l = l[:4]"
   ]
  },
  {
   "cell_type": "code",
   "execution_count": 23,
   "metadata": {},
   "outputs": [
    {
     "data": {
      "text/plain": [
       "['this is our class \\n',\n",
       " 'the day is sunny \\n',\n",
       " 'we should go for a movie \\n',\n",
       " 'so the class is about file handling \\n']"
      ]
     },
     "execution_count": 23,
     "metadata": {},
     "output_type": "execute_result"
    }
   ],
   "source": [
    "l"
   ]
  },
  {
   "cell_type": "markdown",
   "metadata": {},
   "source": [
    "WAP to create a file called sports and write five sports personalities to it.if the sports personality length is greater than 10 then we need to append that in new list. "
   ]
  },
  {
   "cell_type": "code",
   "execution_count": 24,
   "metadata": {},
   "outputs": [],
   "source": [
    "with open(\"sports.txt\",\"x\") as f:\n",
    "    f.writelines([\"Virat \\n\",\"Tendulkar \\n\",\"Neeraj Chopra \\n\",\"Mary kom \\n\",\"babita Phogat \\n\"])"
   ]
  },
  {
   "cell_type": "code",
   "execution_count": 27,
   "metadata": {},
   "outputs": [
    {
     "name": "stdout",
     "output_type": "stream",
     "text": [
      "['Tendulkar \\n', 'Neeraj Chopra \\n', 'babita Phogat \\n']\n"
     ]
    }
   ],
   "source": [
    "with open('sports.txt','r') as f:\n",
    "    l  = f.readlines()\n",
    "#print(l)\n",
    "l1 = []\n",
    "for i in l:\n",
    "    if len(i)>10:\n",
    "        l1.append(i)\n",
    "print(l1)"
   ]
  },
  {
   "cell_type": "code",
   "execution_count": 19,
   "metadata": {},
   "outputs": [],
   "source": [
    "with open(\"2class.txt\",\"w\") as f:\n",
    "    f.write(\"abc def \\n\")"
   ]
  },
  {
   "cell_type": "code",
   "execution_count": 21,
   "metadata": {},
   "outputs": [
    {
     "name": "stdout",
     "output_type": "stream",
     "text": [
      "abc def \n",
      "\n"
     ]
    }
   ],
   "source": [
    "with open(\"2class.txt\",\"r\") as f:\n",
    "    print(f.read())"
   ]
  },
  {
   "cell_type": "code",
   "execution_count": 28,
   "metadata": {},
   "outputs": [
    {
     "name": "stdout",
     "output_type": "stream",
     "text": [
      "16\n",
      "ending at the end of the file \n",
      "\n"
     ]
    }
   ],
   "source": [
    "with open('2class.txt','r+') as f:\n",
    "    print(f.write('this is a book \\n'))\n",
    "    print(f.read())"
   ]
  },
  {
   "cell_type": "code",
   "execution_count": 24,
   "metadata": {},
   "outputs": [
    {
     "name": "stdout",
     "output_type": "stream",
     "text": [
      "17\n",
      "14\n"
     ]
    }
   ],
   "source": [
    "print(len(\"this is our class\"))\n",
    "print(len(\"this is a book\"))"
   ]
  },
  {
   "cell_type": "code",
   "execution_count": 23,
   "metadata": {},
   "outputs": [
    {
     "name": "stdout",
     "output_type": "stream",
     "text": [
      "this is a book\n"
     ]
    }
   ],
   "source": [
    "with open(\"2class.txt\",\"r\") as f:\n",
    "    print(f.read())"
   ]
  },
  {
   "cell_type": "code",
   "execution_count": 13,
   "metadata": {},
   "outputs": [
    {
     "name": "stdout",
     "output_type": "stream",
     "text": [
      "16\n"
     ]
    }
   ],
   "source": [
    "with open(\"2class.txt\",\"w\") as f:\n",
    "    print(f.write(\"the cat is black\"))"
   ]
  },
  {
   "cell_type": "code",
   "execution_count": 14,
   "metadata": {},
   "outputs": [
    {
     "name": "stdout",
     "output_type": "stream",
     "text": [
      "the cat is black\n"
     ]
    }
   ],
   "source": [
    "with open('2class.txt','r') as f:\n",
    "    print(f.read())"
   ]
  },
  {
   "cell_type": "code",
   "execution_count": 12,
   "metadata": {},
   "outputs": [
    {
     "name": "stdout",
     "output_type": "stream",
     "text": [
      "this is a bookass \n",
      "the day is sunny \n",
      "we should go for a movie \n",
      "so the class is about file handling\n"
     ]
    }
   ],
   "source": [
    "with open('2class.txt','r') as f:\n",
    "    print(f.read())"
   ]
  },
  {
   "cell_type": "code",
   "execution_count": 15,
   "metadata": {},
   "outputs": [
    {
     "name": "stdout",
     "output_type": "stream",
     "text": [
      "7\n",
      "\n"
     ]
    }
   ],
   "source": [
    "with open('2class.txt','a+') as f:\n",
    "    print(f.write('abc def'))\n",
    "    print(f.read())"
   ]
  },
  {
   "cell_type": "code",
   "execution_count": 16,
   "metadata": {},
   "outputs": [
    {
     "name": "stdout",
     "output_type": "stream",
     "text": [
      "the cat is blackabc def\n"
     ]
    }
   ],
   "source": [
    "with open('2class.txt','r') as f:\n",
    "    print(f.read())"
   ]
  },
  {
   "cell_type": "code",
   "execution_count": 13,
   "metadata": {},
   "outputs": [
    {
     "name": "stdout",
     "output_type": "stream",
     "text": [
      "this is a books about file handlingso the class is about file handlingabc def\n"
     ]
    }
   ],
   "source": [
    "with open('2class.txt','r') as f:\n",
    "    print(f.read())"
   ]
  },
  {
   "cell_type": "code",
   "execution_count": 32,
   "metadata": {},
   "outputs": [
    {
     "name": "stdout",
     "output_type": "stream",
     "text": [
      "34\n",
      "\n"
     ]
    }
   ],
   "source": [
    "with open(\"2class.txt\",\"a+\") as f:\n",
    "    print(f.write(\"appending at the end of the file \\n\"))\n",
    "    print(f.read())"
   ]
  },
  {
   "cell_type": "code",
   "execution_count": 33,
   "metadata": {},
   "outputs": [
    {
     "name": "stdout",
     "output_type": "stream",
     "text": [
      "this is a book \n",
      "this is a pencil\n",
      "appending at the end of the file \n",
      "\n"
     ]
    }
   ],
   "source": [
    "with open(\"2class.txt\",\"r\") as f:\n",
    "    print(f.read())"
   ]
  },
  {
   "cell_type": "code",
   "execution_count": 31,
   "metadata": {},
   "outputs": [],
   "source": [
    "with open(\"2class.txt\",\"w\") as f:\n",
    "    f.writelines([\"this is a book \\n\",\"this is a pencil\\n\"])"
   ]
  },
  {
   "cell_type": "markdown",
   "metadata": {},
   "source": [
    "### python file modes\n",
    "\n",
    "• ‘r' – Read Mode: Read mode is used only to read data from the file.\n",
    "\n",
    "• ‘w' – Write Mode: This mode is used when you want to write data into the file or modify it. Remember write mode overwrites the data present in the file.\n",
    "\n",
    "• ‘a' – Append Mode: Append mode is used to append data to the file. Remember data will be appended at the end of the file pointer.\n",
    "\n",
    "• ‘r+' – Read or Write Mode: This mode is used when we want to write or read the data from the same file.\n",
    "\n",
    "• ‘a+' – Append or Read Mode: This mode is used when we want to read data from the file or append the data into the same file."
   ]
  },
  {
   "cell_type": "markdown",
   "metadata": {},
   "source": [
    "There are three ways in which we can read the files in python-: \n",
    "\n",
    "• read([n]) \n",
    "\n",
    "• readline([n]) \n",
    "\n",
    "• readlines() Here, n is the number of bytes to be read."
   ]
  },
  {
   "cell_type": "code",
   "execution_count": 35,
   "metadata": {},
   "outputs": [
    {
     "name": "stdout",
     "output_type": "stream",
     "text": [
      "this is a book \n",
      "\n"
     ]
    }
   ],
   "source": [
    "with open('2class.txt','r') as f:\n",
    "    print(f.readline())"
   ]
  },
  {
   "cell_type": "code",
   "execution_count": 31,
   "metadata": {},
   "outputs": [
    {
     "name": "stdout",
     "output_type": "stream",
     "text": [
      "we should go for a movie \n",
      "\n"
     ]
    }
   ],
   "source": [
    "with open('2class.txt','r') as f:\n",
    "    a = f.readlines()\n",
    "    print(a[2])"
   ]
  },
  {
   "cell_type": "code",
   "execution_count": 34,
   "metadata": {},
   "outputs": [
    {
     "name": "stdout",
     "output_type": "stream",
     "text": [
      "enter the line u want to read : 2\n",
      "the day is sunny \n",
      "\n"
     ]
    }
   ],
   "source": [
    "line_no = int(input(\"enter the line u want to read : \"))\n",
    "c_line = 1\n",
    "file  = open(\"2class.txt\")\n",
    "for i in file:\n",
    "    if c_line==line_no:\n",
    "        print(i)\n",
    "        break\n",
    "    c_line = c_line+1      "
   ]
  },
  {
   "cell_type": "code",
   "execution_count": 32,
   "metadata": {},
   "outputs": [
    {
     "name": "stdout",
     "output_type": "stream",
     "text": [
      "this is our class \n",
      "the day is sunny \n",
      "we should go for a movie \n",
      "so the class is about file handling \n",
      "\n",
      "\n"
     ]
    }
   ],
   "source": [
    "with open('2class.txt','r') as f:\n",
    "    print(f.read())"
   ]
  },
  {
   "cell_type": "code",
   "execution_count": 37,
   "metadata": {},
   "outputs": [],
   "source": [
    "with open('2class.txt','r') as f:\n",
    "    a = f.readlines()"
   ]
  },
  {
   "cell_type": "code",
   "execution_count": 38,
   "metadata": {},
   "outputs": [
    {
     "data": {
      "text/plain": [
       "'APPENDING AT THE END OF THE FILE \\n'"
      ]
     },
     "execution_count": 38,
     "metadata": {},
     "output_type": "execute_result"
    }
   ],
   "source": [
    "a[2].upper()"
   ]
  },
  {
   "cell_type": "code",
   "execution_count": 22,
   "metadata": {},
   "outputs": [
    {
     "name": "stdout",
     "output_type": "stream",
     "text": [
      "None\n"
     ]
    }
   ],
   "source": [
    "with open(\"3class.txt\",\"x\") as f:\n",
    "    print(f.writelines([\"this is a book \\n\",\"the cat is black \\n\",\"the dog is white and black \\n\",\"they both are friends \\n\"]))\n",
    "    "
   ]
  },
  {
   "cell_type": "code",
   "execution_count": 39,
   "metadata": {},
   "outputs": [
    {
     "name": "stdout",
     "output_type": "stream",
     "text": [
      "['this is a book \\n', 'the cat is black \\n', 'the dog is white and black \\n', 'they both are friends \\n']\n"
     ]
    }
   ],
   "source": [
    "with open(\"3class.txt\") as f:\n",
    "    print(f.readlines())"
   ]
  },
  {
   "cell_type": "code",
   "execution_count": 42,
   "metadata": {},
   "outputs": [
    {
     "data": {
      "text/plain": [
       "['this is a book ',\n",
       " 'the cat is black ',\n",
       " 'the dog is white and black ',\n",
       " 'they both are friends ']"
      ]
     },
     "execution_count": 42,
     "metadata": {},
     "output_type": "execute_result"
    }
   ],
   "source": [
    "with open(\"3class.txt\") as f:\n",
    "    a = f.readlines()\n",
    "a\n",
    "b = []\n",
    "for i in a:\n",
    "    i = i.replace(\"\\n\",\"\")\n",
    "    b.append(i)\n",
    "b    "
   ]
  },
  {
   "cell_type": "code",
   "execution_count": null,
   "metadata": {},
   "outputs": [],
   "source": [
    "WAP to print the second line of the 3class.txt but not using indexing of list."
   ]
  },
  {
   "cell_type": "code",
   "execution_count": 7,
   "metadata": {},
   "outputs": [
    {
     "name": "stdout",
     "output_type": "stream",
     "text": [
      "the cat is black \n",
      "\n",
      "['this is a book \\n', 'the cat is black \\n', 'the dog is white and black \\n', 'they both are friends \\n']\n"
     ]
    }
   ],
   "source": [
    "with open(\"3class.txt\") as f:\n",
    "    a = f.readlines()\n",
    "    print(a[1])\n",
    "    print(a)"
   ]
  },
  {
   "cell_type": "code",
   "execution_count": 9,
   "metadata": {},
   "outputs": [
    {
     "name": "stdout",
     "output_type": "stream",
     "text": [
      "this is a book \n",
      "\n",
      "the cat is black \n",
      "\n",
      "the dog is white and black \n",
      "\n",
      "they both are friends \n",
      "\n"
     ]
    }
   ],
   "source": [
    "fo = open('3class.txt','r')\n",
    "for i in fo:\n",
    "    print(i)"
   ]
  },
  {
   "cell_type": "code",
   "execution_count": 6,
   "metadata": {},
   "outputs": [
    {
     "name": "stdout",
     "output_type": "stream",
     "text": [
      "the cat is black \n",
      "\n"
     ]
    }
   ],
   "source": [
    "line_number = 2\n",
    "fo = open('3class.txt','r')\n",
    "current_line = 1\n",
    "for line in fo:\n",
    "    if(current_line == line_number):\n",
    "        print(line)\n",
    "        break\n",
    "    current_line = current_line+1"
   ]
  },
  {
   "cell_type": "markdown",
   "metadata": {},
   "source": [
    "In order to write data into a file, we must open the file in write mode.\n",
    "\n",
    "We need to be very careful while writing data into the file as it overwrites the content present inside the file that you are writing, and all the previous data will be erased.\n",
    "\n",
    "We have two methods for writing data into a file as shown below.\n",
    "• write(string) • writelines(list)"
   ]
  },
  {
   "cell_type": "code",
   "execution_count": null,
   "metadata": {},
   "outputs": [],
   "source": []
  },
  {
   "cell_type": "code",
   "execution_count": 28,
   "metadata": {},
   "outputs": [
    {
     "name": "stdout",
     "output_type": "stream",
     "text": [
      "7\n",
      "Hello \n",
      "This is Delhi \n",
      "This is Paris \n",
      "This is London \n",
      "Today\n"
     ]
    }
   ],
   "source": [
    "L = [\"This is Delhi \\n\", \"This is Paris \\n\", \"This is London \\n\"]\n",
    "\n",
    "with open('5class.txt','x') as file1:\n",
    "    print(file1.write('Hello \\n'))\n",
    "\n",
    "with open(\"5class.txt\", \"a\") as file1:\n",
    "    # Writing data to a file\n",
    "#     file1.write(\"Hello \\n\")\n",
    "    file1.writelines(L)\n",
    "    \n",
    "# Appending to file\n",
    "with open(\"5class.txt\", 'a') as file1:\n",
    "    file1.write(\"Today\")\n",
    "  \n",
    "  \n",
    "# Reading from file\n",
    "with open(\"5class.txt\", \"r\") as file1:\n",
    "    # Reading form a file\n",
    "    print(file1.read())"
   ]
  },
  {
   "cell_type": "code",
   "execution_count": null,
   "metadata": {},
   "outputs": [],
   "source": [
    "{\"hello\":1,\"this\":3,\"is\":3}"
   ]
  },
  {
   "cell_type": "code",
   "execution_count": 40,
   "metadata": {},
   "outputs": [],
   "source": [
    "with open('5class.txt','r') as f:\n",
    "    a = f.readlines()"
   ]
  },
  {
   "cell_type": "code",
   "execution_count": 55,
   "metadata": {},
   "outputs": [
    {
     "data": {
      "text/plain": [
       "{'Hello': 1,\n",
       " 'This': 3,\n",
       " 'is': 3,\n",
       " 'Delhi': 1,\n",
       " 'Paris': 1,\n",
       " 'London': 1,\n",
       " 'Today': 1}"
      ]
     },
     "execution_count": 55,
     "metadata": {},
     "output_type": "execute_result"
    }
   ],
   "source": [
    "with open('5class.txt','r') as f:\n",
    "    a = f.readlines()\n",
    "l1 = []\n",
    "for i in a:\n",
    "    i = i.replace(\"\\n\",\"\")\n",
    "    #print(i)\n",
    "    l1.append(i)\n",
    "l1\n",
    "l2 = []\n",
    "for i in l1:\n",
    "    j = i.split()\n",
    "    l2.append(j)\n",
    "l3 = []\n",
    "for i in l2:\n",
    "    #print(i)\n",
    "    for j in i:\n",
    "        l3.append(j)\n",
    "l3\n",
    "d= {}\n",
    "for i in l3:\n",
    "    d[i]=l3.count(i)\n",
    "d"
   ]
  },
  {
   "cell_type": "code",
   "execution_count": 57,
   "metadata": {},
   "outputs": [
    {
     "data": {
      "text/plain": [
       "Counter({'Hello': 1,\n",
       "         'This': 3,\n",
       "         'is': 3,\n",
       "         'Delhi': 1,\n",
       "         'Paris': 1,\n",
       "         'London': 1,\n",
       "         'Today': 1})"
      ]
     },
     "execution_count": 57,
     "metadata": {},
     "output_type": "execute_result"
    }
   ],
   "source": [
    "from collections import Counter\n",
    "with open(\"5class.txt\") as f:\n",
    "    a = Counter(f.read().split())\n",
    "a"
   ]
  },
  {
   "cell_type": "code",
   "execution_count": 58,
   "metadata": {},
   "outputs": [
    {
     "data": {
      "text/plain": [
       "Counter({'m': 2, 'a': 2, 'd': 1})"
      ]
     },
     "execution_count": 58,
     "metadata": {},
     "output_type": "execute_result"
    }
   ],
   "source": [
    "s = \"madam\"\n",
    "s = Counter(s)\n",
    "s"
   ]
  },
  {
   "cell_type": "code",
   "execution_count": null,
   "metadata": {},
   "outputs": [],
   "source": [
    "WAP to count the frequency of words in file 4class.txt."
   ]
  },
  {
   "cell_type": "code",
   "execution_count": 40,
   "metadata": {},
   "outputs": [
    {
     "name": "stdout",
     "output_type": "stream",
     "text": [
      "Counter({'This': 3, 'is': 3, 'Hello': 1, 'Delhi': 1, 'Paris': 1, 'London': 1, 'Today': 1})\n"
     ]
    }
   ],
   "source": [
    "from collections import Counter\n",
    "with open(\"5class.txt\",\"r\") as f:\n",
    "    c = Counter(f.read().split())\n",
    "    print(c)\n",
    "    f.close()"
   ]
  },
  {
   "cell_type": "code",
   "execution_count": 4,
   "metadata": {},
   "outputs": [
    {
     "name": "stdout",
     "output_type": "stream",
     "text": [
      "[['Hello'], ['This', 'is', 'Delhi'], ['This', 'is', 'Paris'], ['This', 'is', 'London'], ['Today']]\n",
      "['Hello', 'This', 'is', 'Delhi', 'This', 'is', 'Paris', 'This', 'is', 'London', 'Today']\n",
      "{'Hello': 1, 'This': 3, 'is': 3, 'Delhi': 1, 'Paris': 1, 'London': 1, 'Today': 1}\n"
     ]
    }
   ],
   "source": [
    "with open(\"4class.txt\",\"r\") as f:\n",
    "    l = f.readlines()\n",
    "l1 = []\n",
    "for i in l:\n",
    "    a = i.split()\n",
    "    l1.append(a)\n",
    "print(l1)\n",
    "l2= []\n",
    "for i in l1:\n",
    "    for j in i:\n",
    "        l2.append(j)\n",
    "print(l2)\n",
    "d = {}\n",
    "for i in l2:\n",
    "    d[i]=l2.count(i)\n",
    "print(d)   "
   ]
  },
  {
   "cell_type": "code",
   "execution_count": 6,
   "metadata": {},
   "outputs": [
    {
     "name": "stdout",
     "output_type": "stream",
     "text": [
      "Counter({'This': 3, 'is': 3, 'Hello': 1, 'Delhi': 1, 'Paris': 1, 'London': 1, 'Today': 1})\n"
     ]
    }
   ],
   "source": [
    "from collections import Counter\n",
    "with open(\"4class.txt\",\"r\") as f:\n",
    "    c = Counter(f.read().split())\n",
    "    print(c)"
   ]
  },
  {
   "cell_type": "code",
   "execution_count": 26,
   "metadata": {},
   "outputs": [
    {
     "data": {
      "text/plain": [
       "['Hello \\n',\n",
       " 'This is Delhi \\n',\n",
       " 'This is Paris \\n',\n",
       " 'This is London \\n',\n",
       " 'Today']"
      ]
     },
     "execution_count": 26,
     "metadata": {},
     "output_type": "execute_result"
    }
   ],
   "source": [
    "{hello: 1, this:3,is:3,delhi:1,paris:1,london:1,today:1}"
   ]
  },
  {
   "cell_type": "code",
   "execution_count": null,
   "metadata": {},
   "outputs": [],
   "source": [
    "WAp to count the frequency of words in 4class.txt\n",
    "{\"hello\": 1 , \"this\": 3, \"is\": 3,\"delhi\":1,\"london\":1,\"paris\":1,\"today\":1}"
   ]
  },
  {
   "cell_type": "markdown",
   "metadata": {},
   "source": [
    "Write a program to read a file line by line and store it into a list"
   ]
  },
  {
   "cell_type": "code",
   "execution_count": 23,
   "metadata": {},
   "outputs": [
    {
     "name": "stdout",
     "output_type": "stream",
     "text": [
      "['Hello \\n', 'This is Delhi \\n', 'This is Paris \\n', 'This is London \\n', 'Today']\n"
     ]
    }
   ],
   "source": [
    "with open('3class.txt') as f:\n",
    "    lst = f.readlines()\n",
    "    print(lst)\n",
    "    "
   ]
  },
  {
   "cell_type": "code",
   "execution_count": 34,
   "metadata": {},
   "outputs": [
    {
     "data": {
      "text/plain": [
       "5"
      ]
     },
     "execution_count": 34,
     "metadata": {},
     "output_type": "execute_result"
    }
   ],
   "source": [
    "with open('5class.txt') as f:\n",
    "    l = f.readlines()\n",
    "len(l)"
   ]
  },
  {
   "cell_type": "markdown",
   "metadata": {},
   "source": [
    "to count the number of lines in a text file "
   ]
  },
  {
   "cell_type": "code",
   "execution_count": 33,
   "metadata": {},
   "outputs": [
    {
     "data": {
      "text/plain": [
       "6"
      ]
     },
     "execution_count": 33,
     "metadata": {},
     "output_type": "execute_result"
    }
   ],
   "source": [
    "f = open(\"today.txt\")\n",
    "l = f.readlines()\n",
    "len(l)"
   ]
  },
  {
   "cell_type": "code",
   "execution_count": null,
   "metadata": {},
   "outputs": [],
   "source": []
  },
  {
   "cell_type": "code",
   "execution_count": null,
   "metadata": {},
   "outputs": [],
   "source": []
  },
  {
   "cell_type": "code",
   "execution_count": null,
   "metadata": {},
   "outputs": [],
   "source": []
  },
  {
   "cell_type": "code",
   "execution_count": null,
   "metadata": {},
   "outputs": [],
   "source": []
  },
  {
   "cell_type": "code",
   "execution_count": null,
   "metadata": {},
   "outputs": [],
   "source": []
  },
  {
   "cell_type": "code",
   "execution_count": null,
   "metadata": {},
   "outputs": [],
   "source": []
  },
  {
   "cell_type": "code",
   "execution_count": 35,
   "metadata": {},
   "outputs": [
    {
     "name": "stdout",
     "output_type": "stream",
     "text": [
      "5\n"
     ]
    }
   ],
   "source": [
    "file = open(\"5class.txt\")\n",
    "c = 0\n",
    "for i in file:\n",
    "    c = c+1\n",
    "print(c)"
   ]
  },
  {
   "cell_type": "code",
   "execution_count": 26,
   "metadata": {},
   "outputs": [
    {
     "name": "stdout",
     "output_type": "stream",
     "text": [
      "5\n"
     ]
    }
   ],
   "source": [
    "with open('3class.txt') as f:\n",
    "    lst = f.readlines()\n",
    "    print(len(lst))\n",
    "    "
   ]
  },
  {
   "cell_type": "code",
   "execution_count": 1,
   "metadata": {},
   "outputs": [
    {
     "ename": "FileNotFoundError",
     "evalue": "[Errno 2] No such file or directory: 'kuch bhi.txt'",
     "output_type": "error",
     "traceback": [
      "\u001b[1;31m---------------------------------------------------------------------------\u001b[0m",
      "\u001b[1;31mFileNotFoundError\u001b[0m                         Traceback (most recent call last)",
      "\u001b[1;32m<ipython-input-1-75653dd675d3>\u001b[0m in \u001b[0;36m<module>\u001b[1;34m\u001b[0m\n\u001b[1;32m----> 1\u001b[1;33m \u001b[0mfile\u001b[0m \u001b[1;33m=\u001b[0m \u001b[0mopen\u001b[0m\u001b[1;33m(\u001b[0m\u001b[1;34m\"kuch bhi.txt\"\u001b[0m\u001b[1;33m,\u001b[0m\u001b[1;34m\"r\"\u001b[0m\u001b[1;33m)\u001b[0m\u001b[1;33m\u001b[0m\u001b[1;33m\u001b[0m\u001b[0m\n\u001b[0m\u001b[0;32m      2\u001b[0m \u001b[0mCounter\u001b[0m \u001b[1;33m=\u001b[0m \u001b[1;36m0\u001b[0m\u001b[1;33m\u001b[0m\u001b[1;33m\u001b[0m\u001b[0m\n\u001b[0;32m      3\u001b[0m \u001b[1;33m\u001b[0m\u001b[0m\n\u001b[0;32m      4\u001b[0m \u001b[1;31m# Reading from file\u001b[0m\u001b[1;33m\u001b[0m\u001b[1;33m\u001b[0m\u001b[1;33m\u001b[0m\u001b[0m\n\u001b[0;32m      5\u001b[0m \u001b[0mContent\u001b[0m \u001b[1;33m=\u001b[0m \u001b[0mfile\u001b[0m\u001b[1;33m.\u001b[0m\u001b[0mread\u001b[0m\u001b[1;33m(\u001b[0m\u001b[1;33m)\u001b[0m\u001b[1;33m\u001b[0m\u001b[1;33m\u001b[0m\u001b[0m\n",
      "\u001b[1;31mFileNotFoundError\u001b[0m: [Errno 2] No such file or directory: 'kuch bhi.txt'"
     ]
    }
   ],
   "source": [
    "file = open(\"kuch bhi.txt\",\"r\")\n",
    "Counter = 0\n",
    "  \n",
    "# Reading from file\n",
    "Content = file.read()\n",
    "CoList = Content.split(\"\\n\")\n",
    "print(CoList)\n",
    "  \n",
    "for i in CoList:\n",
    "    Counter += 1\n",
    "          \n",
    "print(\"This is the number of lines in the file\")\n",
    "print(Counter)"
   ]
  },
  {
   "cell_type": "code",
   "execution_count": null,
   "metadata": {},
   "outputs": [],
   "source": []
  },
  {
   "cell_type": "code",
   "execution_count": 32,
   "metadata": {},
   "outputs": [
    {
     "name": "stdout",
     "output_type": "stream",
     "text": [
      "Counter({'This': 3, 'is': 3, 'Hello': 1, 'Delhi': 1, 'Paris': 1, 'London': 1, 'Today': 1})\n"
     ]
    }
   ],
   "source": [
    "from collections import Counter\n",
    "with open(\"4class.txt\") as f:\n",
    "    a = Counter(f.read().split())\n",
    "    print(a)"
   ]
  },
  {
   "cell_type": "markdown",
   "metadata": {},
   "source": [
    "Write a Python program to count the frequency of words in a file."
   ]
  },
  {
   "cell_type": "code",
   "execution_count": 29,
   "metadata": {},
   "outputs": [
    {
     "name": "stdout",
     "output_type": "stream",
     "text": [
      "Counter({'This': 3, 'is': 3, 'Hello': 1, 'Delhi': 1, 'Paris': 1, 'London': 1, 'Today': 1})\n"
     ]
    }
   ],
   "source": [
    "from collections import Counter\n",
    "with open('4class.txt') as f:\n",
    "        a = Counter(f.read().split())\n",
    "        print(a)"
   ]
  },
  {
   "cell_type": "code",
   "execution_count": 33,
   "metadata": {},
   "outputs": [],
   "source": [
    "# help(Counter)"
   ]
  },
  {
   "cell_type": "code",
   "execution_count": 7,
   "metadata": {},
   "outputs": [
    {
     "data": {
      "text/plain": [
       "Counter({'g': 1, 'a': 3, 'l': 2, 'h': 1, 'd': 1})"
      ]
     },
     "execution_count": 7,
     "metadata": {},
     "output_type": "execute_result"
    }
   ],
   "source": [
    "c = Counter('gallahad')                 # a new counter from an iterable\n",
    "c"
   ]
  },
  {
   "cell_type": "code",
   "execution_count": 36,
   "metadata": {},
   "outputs": [],
   "source": [
    "import os"
   ]
  },
  {
   "cell_type": "code",
   "execution_count": 38,
   "metadata": {},
   "outputs": [],
   "source": [
    "f.close()"
   ]
  },
  {
   "cell_type": "code",
   "execution_count": 43,
   "metadata": {},
   "outputs": [
    {
     "name": "stdout",
     "output_type": "stream",
     "text": [
      "Hello \n",
      "This is Delhi \n",
      "This is Paris \n",
      "This is London \n",
      "Today\n"
     ]
    }
   ],
   "source": [
    "with open(\"5class.txt\",\"r\") as f:\n",
    "    print(f.read())\n",
    "    f.close()"
   ]
  },
  {
   "cell_type": "markdown",
   "metadata": {},
   "source": [
    "WAP two files and abc.txt and dcf.txt , take string of abc.txt as key of the corresponding dcf will be the value of the dict "
   ]
  },
  {
   "cell_type": "code",
   "execution_count": 35,
   "metadata": {},
   "outputs": [
    {
     "data": {
      "text/plain": [
       "['the word \\n', '  is black \\n', ' and is fast \\n']"
      ]
     },
     "execution_count": 35,
     "metadata": {},
     "output_type": "execute_result"
    }
   ],
   "source": [
    "with open(\"filehandling.txt\") as f:\n",
    "    l1 = f.readlines()\n",
    "l1"
   ]
  },
  {
   "cell_type": "code",
   "execution_count": 38,
   "metadata": {},
   "outputs": [
    {
     "data": {
      "text/plain": [
       "['dhoni\\n', 'virat\\n', 'ronaldo\\n', 'messi\\n', 'sachin\\n']"
      ]
     },
     "execution_count": 38,
     "metadata": {},
     "output_type": "execute_result"
    }
   ],
   "source": [
    "with open(\"sprots.txt\") as f:\n",
    "    l2 = f.readlines()\n",
    "l2"
   ]
  },
  {
   "cell_type": "code",
   "execution_count": 39,
   "metadata": {},
   "outputs": [
    {
     "data": {
      "text/plain": [
       "{'the word \\n': 'dhoni\\n',\n",
       " '  is black \\n': 'virat\\n',\n",
       " ' and is fast \\n': 'ronaldo\\n'}"
      ]
     },
     "execution_count": 39,
     "metadata": {},
     "output_type": "execute_result"
    }
   ],
   "source": [
    "dict(zip(l1,l2))"
   ]
  },
  {
   "cell_type": "code",
   "execution_count": 40,
   "metadata": {},
   "outputs": [
    {
     "data": {
      "text/plain": [
       "[{'the word \\n': 'dhoni\\n'},\n",
       " {'  is black \\n': 'virat\\n'},\n",
       " {' and is fast \\n': 'ronaldo\\n'}]"
      ]
     },
     "execution_count": 40,
     "metadata": {},
     "output_type": "execute_result"
    }
   ],
   "source": [
    "list(map(lambda x,y:{x:y},l1,l2))"
   ]
  },
  {
   "cell_type": "code",
   "execution_count": 41,
   "metadata": {},
   "outputs": [],
   "source": [
    "f.close()"
   ]
  },
  {
   "cell_type": "code",
   "execution_count": 42,
   "metadata": {},
   "outputs": [],
   "source": [
    "import os "
   ]
  },
  {
   "cell_type": "code",
   "execution_count": 43,
   "metadata": {},
   "outputs": [],
   "source": [
    "os.rename(\"sprots.txt\",\"sports.txt\")"
   ]
  },
  {
   "cell_type": "code",
   "execution_count": 31,
   "metadata": {},
   "outputs": [],
   "source": [
    "os.remove(\"anu.txt\")"
   ]
  },
  {
   "cell_type": "code",
   "execution_count": 10,
   "metadata": {},
   "outputs": [],
   "source": [
    "# help(os)"
   ]
  },
  {
   "cell_type": "code",
   "execution_count": 9,
   "metadata": {},
   "outputs": [],
   "source": [
    "f.close()"
   ]
  },
  {
   "cell_type": "markdown",
   "metadata": {},
   "source": [
    "Python provides us with an “os” module which has some in-built methods that would help us in performing the file operations such as renaming and deleting the file. \n",
    "\n",
    "In order to use this module, first of all, we need to import the “os” module in our program and then call the related methods. \n",
    "\n",
    "rename() method: This rename() method accepts two arguments i.e. the current file name and the new file name. \n",
    "\n",
    "Syntax: os.rename(current_file_name, new_file_name)"
   ]
  },
  {
   "cell_type": "markdown",
   "metadata": {},
   "source": [
    "remove() method: We use the remove() method to delete the file by supplying the file name or the file location that you want to delete. \n",
    "\n",
    "Syntax:\n",
    "os.remove(file_name)"
   ]
  },
  {
   "cell_type": "code",
   "execution_count": 17,
   "metadata": {},
   "outputs": [
    {
     "ename": "NameError",
     "evalue": "name 'f' is not defined",
     "output_type": "error",
     "traceback": [
      "\u001b[1;31m---------------------------------------------------------------------------\u001b[0m",
      "\u001b[1;31mNameError\u001b[0m                                 Traceback (most recent call last)",
      "\u001b[1;32m<ipython-input-17-b5edb7b78a9a>\u001b[0m in \u001b[0;36m<module>\u001b[1;34m\u001b[0m\n\u001b[1;32m----> 1\u001b[1;33m \u001b[0mf\u001b[0m\u001b[1;33m.\u001b[0m\u001b[0mclose\u001b[0m\u001b[1;33m(\u001b[0m\u001b[1;33m)\u001b[0m\u001b[1;33m\u001b[0m\u001b[1;33m\u001b[0m\u001b[0m\n\u001b[0m",
      "\u001b[1;31mNameError\u001b[0m: name 'f' is not defined"
     ]
    }
   ],
   "source": [
    "f.close()"
   ]
  },
  {
   "cell_type": "code",
   "execution_count": 13,
   "metadata": {},
   "outputs": [],
   "source": [
    "import os"
   ]
  },
  {
   "cell_type": "code",
   "execution_count": 38,
   "metadata": {},
   "outputs": [],
   "source": [
    "f.close()"
   ]
  },
  {
   "cell_type": "code",
   "execution_count": 40,
   "metadata": {},
   "outputs": [],
   "source": [
    "with open(\"3class.txt\") as f:\n",
    "    f.close()"
   ]
  },
  {
   "cell_type": "code",
   "execution_count": 44,
   "metadata": {},
   "outputs": [],
   "source": [
    "os.rename('C:/Users/anubh/Downloads/Test 12_30.txt','newfile.txt')"
   ]
  },
  {
   "cell_type": "code",
   "execution_count": 43,
   "metadata": {},
   "outputs": [],
   "source": [
    "os.remove('newfile.txt')"
   ]
  },
  {
   "cell_type": "code",
   "execution_count": 21,
   "metadata": {},
   "outputs": [
    {
     "ename": "UnsupportedOperation",
     "evalue": "not readable",
     "output_type": "error",
     "traceback": [
      "\u001b[1;31m---------------------------------------------------------------------------\u001b[0m",
      "\u001b[1;31mUnsupportedOperation\u001b[0m                      Traceback (most recent call last)",
      "\u001b[1;32m<ipython-input-21-9700a36c7c81>\u001b[0m in \u001b[0;36m<module>\u001b[1;34m\u001b[0m\n\u001b[0;32m      1\u001b[0m \u001b[1;32mwith\u001b[0m \u001b[0mopen\u001b[0m\u001b[1;33m(\u001b[0m\u001b[1;34m'sd1.txt'\u001b[0m\u001b[1;33m,\u001b[0m\u001b[1;34m'x'\u001b[0m\u001b[1;33m)\u001b[0m \u001b[1;32mas\u001b[0m \u001b[0mf\u001b[0m\u001b[1;33m:\u001b[0m\u001b[1;33m\u001b[0m\u001b[1;33m\u001b[0m\u001b[0m\n\u001b[0;32m      2\u001b[0m     \u001b[0mf\u001b[0m\u001b[1;33m.\u001b[0m\u001b[0mwritelines\u001b[0m\u001b[1;33m(\u001b[0m\u001b[1;33m[\u001b[0m\u001b[1;34m'today'\u001b[0m\u001b[1;33m,\u001b[0m\u001b[1;34m'is Monday'\u001b[0m\u001b[1;33m]\u001b[0m\u001b[1;33m)\u001b[0m\u001b[1;33m\u001b[0m\u001b[1;33m\u001b[0m\u001b[0m\n\u001b[1;32m----> 3\u001b[1;33m     \u001b[0mprint\u001b[0m\u001b[1;33m(\u001b[0m\u001b[0mf\u001b[0m\u001b[1;33m.\u001b[0m\u001b[0mread\u001b[0m\u001b[1;33m(\u001b[0m\u001b[1;33m)\u001b[0m\u001b[1;33m)\u001b[0m\u001b[1;33m\u001b[0m\u001b[1;33m\u001b[0m\u001b[0m\n\u001b[0m",
      "\u001b[1;31mUnsupportedOperation\u001b[0m: not readable"
     ]
    }
   ],
   "source": [
    "with open('sd1.txt','x') as f:\n",
    "    f.writelines(['today','is Monday'])"
   ]
  },
  {
   "cell_type": "code",
   "execution_count": 23,
   "metadata": {},
   "outputs": [
    {
     "name": "stdout",
     "output_type": "stream",
     "text": [
      "todayis Monday\n"
     ]
    }
   ],
   "source": [
    "with open('sd1.txt','r') as f:\n",
    "    print(f.read())"
   ]
  },
  {
   "cell_type": "code",
   "execution_count": 24,
   "metadata": {},
   "outputs": [
    {
     "name": "stdout",
     "output_type": "stream",
     "text": [
      "1\n"
     ]
    }
   ],
   "source": [
    "with open('sdf.txt','x')as f:\n",
    "    print(f.write(' '))"
   ]
  },
  {
   "cell_type": "code",
   "execution_count": 25,
   "metadata": {},
   "outputs": [
    {
     "name": "stdout",
     "output_type": "stream",
     "text": [
      " \n"
     ]
    }
   ],
   "source": [
    "with open('sdf.txt','r')as f:\n",
    "    print(f.read())"
   ]
  },
  {
   "cell_type": "code",
   "execution_count": 35,
   "metadata": {},
   "outputs": [],
   "source": [
    "a = open('sd1.txt','r')"
   ]
  },
  {
   "cell_type": "code",
   "execution_count": 41,
   "metadata": {},
   "outputs": [
    {
     "name": "stdout",
     "output_type": "stream",
     "text": [
      "['today is Monday\\n', 'and our class is about \\n', 'file handling ']\n"
     ]
    }
   ],
   "source": [
    "with open('sd1.txt','r') as f:\n",
    "    a= f.readlines()\n",
    "    print(a)"
   ]
  },
  {
   "cell_type": "code",
   "execution_count": 43,
   "metadata": {},
   "outputs": [
    {
     "name": "stdout",
     "output_type": "stream",
     "text": [
      "None\n"
     ]
    }
   ],
   "source": [
    "with open('wer.txt','x') as f:\n",
    "    print(f.writelines(l))\n",
    "    \n",
    "    "
   ]
  },
  {
   "cell_type": "code",
   "execution_count": 44,
   "metadata": {},
   "outputs": [
    {
     "name": "stdout",
     "output_type": "stream",
     "text": [
      "today is Monday\n",
      "and our class is about \n",
      "file handling \n"
     ]
    }
   ],
   "source": [
    "with open('wer.txt','r') as f:\n",
    "    print(f.read())"
   ]
  },
  {
   "cell_type": "code",
   "execution_count": 42,
   "metadata": {},
   "outputs": [
    {
     "name": "stdout",
     "output_type": "stream",
     "text": [
      "['today is Monday\\n']\n",
      "['today is Monday\\n', 'and our class is about \\n']\n",
      "['today is Monday\\n', 'and our class is about \\n', 'file handling ']\n"
     ]
    },
    {
     "data": {
      "text/plain": [
       "['today is Monday\\n', 'and our class is about \\n', 'file handling ']"
      ]
     },
     "execution_count": 42,
     "metadata": {},
     "output_type": "execute_result"
    }
   ],
   "source": [
    "l = []\n",
    "for i in a:\n",
    "    l.append(i)\n",
    "    print(l)\n",
    "l"
   ]
  },
  {
   "cell_type": "code",
   "execution_count": 67,
   "metadata": {},
   "outputs": [
    {
     "name": "stdout",
     "output_type": "stream",
     "text": [
      "today is Monday\n",
      "and our class is about \n",
      "file handling \n"
     ]
    }
   ],
   "source": [
    "with open('sd1.txt','r') as f:\n",
    "    print(f.read())\n",
    "    a = f.readlines()\n",
    "    type(a)"
   ]
  },
  {
   "cell_type": "code",
   "execution_count": 68,
   "metadata": {},
   "outputs": [
    {
     "name": "stdout",
     "output_type": "stream",
     "text": [
      "today is Monday\n",
      "and our class is about \n",
      "file handling \n"
     ]
    }
   ],
   "source": [
    "with open('wer.txt','r') as f:\n",
    "    print(f.read())\n",
    "    b = f.readlines()\n",
    "    type(b)"
   ]
  },
  {
   "cell_type": "code",
   "execution_count": 69,
   "metadata": {},
   "outputs": [
    {
     "data": {
      "text/plain": [
       "list"
      ]
     },
     "execution_count": 69,
     "metadata": {},
     "output_type": "execute_result"
    }
   ],
   "source": [
    "type(a)"
   ]
  },
  {
   "cell_type": "code",
   "execution_count": 70,
   "metadata": {},
   "outputs": [
    {
     "data": {
      "text/plain": [
       "list"
      ]
     },
     "execution_count": 70,
     "metadata": {},
     "output_type": "execute_result"
    }
   ],
   "source": [
    "type(b)"
   ]
  },
  {
   "cell_type": "code",
   "execution_count": 71,
   "metadata": {},
   "outputs": [
    {
     "data": {
      "text/plain": [
       "[]"
      ]
     },
     "execution_count": 71,
     "metadata": {},
     "output_type": "execute_result"
    }
   ],
   "source": [
    "a"
   ]
  },
  {
   "cell_type": "code",
   "execution_count": 72,
   "metadata": {},
   "outputs": [
    {
     "data": {
      "text/plain": [
       "[]"
      ]
     },
     "execution_count": 72,
     "metadata": {},
     "output_type": "execute_result"
    }
   ],
   "source": [
    "b"
   ]
  },
  {
   "cell_type": "code",
   "execution_count": null,
   "metadata": {},
   "outputs": [],
   "source": [
    "a = ' today is monday'"
   ]
  },
  {
   "cell_type": "code",
   "execution_count": 30,
   "metadata": {},
   "outputs": [
    {
     "name": "stdout",
     "output_type": "stream",
     "text": [
      " \n"
     ]
    }
   ],
   "source": [
    "with open('sdf.txt','r') as f:\n",
    "    print(f.read())"
   ]
  },
  {
   "cell_type": "code",
   "execution_count": 45,
   "metadata": {},
   "outputs": [],
   "source": [
    "with open(\"we.txt\",'x') as f:\n",
    "    a = f.writelines([\"We are learning file handling \\n\",\"this is our class\"])\n",
    "with open(\"wer1.txt\",'x') as f:\n",
    "    b = f.writelines([\"We are learning handling \\n\",\"this is a book\"])"
   ]
  },
  {
   "cell_type": "code",
   "execution_count": 46,
   "metadata": {},
   "outputs": [],
   "source": [
    "with open(\"we.txt\",'r') as f:\n",
    "    a = f.readlines()\n",
    "with open(\"wer1.txt\",'r') as f:\n",
    "    b = f.readlines()"
   ]
  },
  {
   "cell_type": "code",
   "execution_count": 8,
   "metadata": {},
   "outputs": [
    {
     "data": {
      "text/plain": [
       "['We are learning handling \\n', 'this is a book']"
      ]
     },
     "execution_count": 8,
     "metadata": {},
     "output_type": "execute_result"
    }
   ],
   "source": [
    "b"
   ]
  },
  {
   "cell_type": "code",
   "execution_count": 7,
   "metadata": {},
   "outputs": [
    {
     "data": {
      "text/plain": [
       "['We are learning file handling \\n', 'this is our class']"
      ]
     },
     "execution_count": 7,
     "metadata": {},
     "output_type": "execute_result"
    }
   ],
   "source": [
    "a"
   ]
  },
  {
   "cell_type": "code",
   "execution_count": 48,
   "metadata": {},
   "outputs": [
    {
     "name": "stdout",
     "output_type": "stream",
     "text": [
      "\n"
     ]
    }
   ],
   "source": [
    "with open(\"we.txt\",\"a+\") as f:\n",
    "    f.writelines(b)\n",
    "    print(f.read())"
   ]
  },
  {
   "cell_type": "code",
   "execution_count": 49,
   "metadata": {},
   "outputs": [
    {
     "name": "stdout",
     "output_type": "stream",
     "text": [
      "We are learning file handling \n",
      "this is our classWe are learning handling \n",
      "this is a book\n"
     ]
    }
   ],
   "source": [
    "with open(\"we.txt\",'r') as f:\n",
    "    print(f.read())"
   ]
  },
  {
   "cell_type": "code",
   "execution_count": 17,
   "metadata": {},
   "outputs": [
    {
     "name": "stdout",
     "output_type": "stream",
     "text": [
      "this is our classthis is a book\n"
     ]
    }
   ],
   "source": [
    "for i,j in zip(a,b):\n",
    "    a = i+j\n",
    "print(a)"
   ]
  },
  {
   "cell_type": "code",
   "execution_count": 9,
   "metadata": {},
   "outputs": [
    {
     "data": {
      "text/plain": [
       "'this is our classthis is a book'"
      ]
     },
     "execution_count": 9,
     "metadata": {},
     "output_type": "execute_result"
    }
   ],
   "source": [
    "a[1]+b[1]"
   ]
  },
  {
   "cell_type": "code",
   "execution_count": 20,
   "metadata": {},
   "outputs": [
    {
     "data": {
      "text/plain": [
       "[(101, 'arun', 40), (102, 'mayank', 50), (103, 'golu', 60)]"
      ]
     },
     "execution_count": 20,
     "metadata": {},
     "output_type": "execute_result"
    }
   ],
   "source": [
    "l = [\"arun\",\"mayank\",\"golu\"]\n",
    "l1= [40,50,60]\n",
    "l3 = [101,102,103]\n",
    "list(zip(l3,l,l1))"
   ]
  },
  {
   "cell_type": "markdown",
   "metadata": {},
   "source": [
    "Write a program that computes the value of a+aa+aaa+aaaa with a given digit as the value of a.\n"
   ]
  },
  {
   "cell_type": "code",
   "execution_count": 54,
   "metadata": {},
   "outputs": [
    {
     "name": "stdout",
     "output_type": "stream",
     "text": [
      "11106\n"
     ]
    }
   ],
   "source": [
    "a = \"9\"\n",
    "sum1 = 0\n",
    "for i in range(1,5):\n",
    "    s = a*i\n",
    "    sum1 = sum1 +int(s)\n",
    "print(sum1)\n",
    "    \n"
   ]
  },
  {
   "cell_type": "markdown",
   "metadata": {},
   "source": [
    "We are having to 2 files , 1.txt and 2.txt there is some content in the file and what i want is i want to have the lines from the first file and corresponding lines from the second file to be printed together "
   ]
  },
  {
   "cell_type": "code",
   "execution_count": 14,
   "metadata": {},
   "outputs": [],
   "source": [
    "with open(\"1.txt\",\"x\") as f:\n",
    "    f.writelines([\"today is \\n\",\" Saturday \\n,\",\" Doing File Handling \\n\"])"
   ]
  },
  {
   "cell_type": "code",
   "execution_count": 15,
   "metadata": {},
   "outputs": [],
   "source": [
    "with open(\"2.txt\",\"x\") as f:\n",
    "    f.writelines([\"We are \\n\",\"glad \\n\",\"That we are almost done \\n\"])"
   ]
  },
  {
   "cell_type": "code",
   "execution_count": 16,
   "metadata": {},
   "outputs": [],
   "source": [
    "with open(\"1.txt\") as f:\n",
    "    a = f.readlines()\n",
    "with open(\"2.txt\") as f:\n",
    "    b = f.readlines()\n"
   ]
  },
  {
   "cell_type": "code",
   "execution_count": 17,
   "metadata": {},
   "outputs": [
    {
     "data": {
      "text/plain": [
       "['today is \\n', ' Saturday \\n', ', Doing File Handling \\n']"
      ]
     },
     "execution_count": 17,
     "metadata": {},
     "output_type": "execute_result"
    }
   ],
   "source": [
    "a"
   ]
  },
  {
   "cell_type": "code",
   "execution_count": 18,
   "metadata": {},
   "outputs": [
    {
     "data": {
      "text/plain": [
       "['We are \\n', 'glad \\n', 'That we are almost done \\n']"
      ]
     },
     "execution_count": 18,
     "metadata": {},
     "output_type": "execute_result"
    }
   ],
   "source": [
    "b"
   ]
  },
  {
   "cell_type": "code",
   "execution_count": 20,
   "metadata": {},
   "outputs": [
    {
     "data": {
      "text/plain": [
       "{'today is \\n': 'We are \\n',\n",
       " ' Saturday \\n': 'glad \\n',\n",
       " ', Doing File Handling \\n': 'That we are almost done \\n'}"
      ]
     },
     "execution_count": 20,
     "metadata": {},
     "output_type": "execute_result"
    }
   ],
   "source": [
    "d = {}\n",
    "for i in a:\n",
    "    for j in b:\n",
    "        if a.index(i)==b.index(j):\n",
    "            d[i]=j\n",
    "d            "
   ]
  },
  {
   "cell_type": "code",
   "execution_count": 21,
   "metadata": {},
   "outputs": [
    {
     "data": {
      "text/plain": [
       "{'today is \\n': 'We are \\n',\n",
       " ' Saturday \\n': 'glad \\n',\n",
       " ', Doing File Handling \\n': 'That we are almost done \\n'}"
      ]
     },
     "execution_count": 21,
     "metadata": {},
     "output_type": "execute_result"
    }
   ],
   "source": [
    "dict(zip(a,b))"
   ]
  },
  {
   "cell_type": "code",
   "execution_count": 34,
   "metadata": {},
   "outputs": [],
   "source": [
    "import numpy as np "
   ]
  },
  {
   "cell_type": "code",
   "execution_count": 39,
   "metadata": {},
   "outputs": [
    {
     "ename": "TypeError",
     "evalue": "Cannot interpret 'nan' as a data type",
     "output_type": "error",
     "traceback": [
      "\u001b[1;31m---------------------------------------------------------------------------\u001b[0m",
      "\u001b[1;31mTypeError\u001b[0m                                 Traceback (most recent call last)",
      "\u001b[1;32m<ipython-input-39-238c36b5380b>\u001b[0m in \u001b[0;36m<module>\u001b[1;34m\u001b[0m\n\u001b[1;32m----> 1\u001b[1;33m \u001b[0ma\u001b[0m \u001b[1;33m=\u001b[0m \u001b[0mnp\u001b[0m\u001b[1;33m.\u001b[0m\u001b[0marray\u001b[0m\u001b[1;33m(\u001b[0m\u001b[1;33m(\u001b[0m\u001b[1;36m3\u001b[0m\u001b[1;33m,\u001b[0m\u001b[1;36m3\u001b[0m\u001b[1;33m)\u001b[0m\u001b[1;33m,\u001b[0m\u001b[0mnp\u001b[0m\u001b[1;33m.\u001b[0m\u001b[0mnan\u001b[0m\u001b[1;33m)\u001b[0m\u001b[1;33m\u001b[0m\u001b[1;33m\u001b[0m\u001b[0m\n\u001b[0m",
      "\u001b[1;31mTypeError\u001b[0m: Cannot interpret 'nan' as a data type"
     ]
    }
   ],
   "source": [
    "a = np.array((3,3),np.nan)"
   ]
  }
 ],
 "metadata": {
  "kernelspec": {
   "display_name": "Python 3",
   "language": "python",
   "name": "python3"
  },
  "language_info": {
   "codemirror_mode": {
    "name": "ipython",
    "version": 3
   },
   "file_extension": ".py",
   "mimetype": "text/x-python",
   "name": "python",
   "nbconvert_exporter": "python",
   "pygments_lexer": "ipython3",
   "version": "3.7.6"
  }
 },
 "nbformat": 4,
 "nbformat_minor": 4
}
