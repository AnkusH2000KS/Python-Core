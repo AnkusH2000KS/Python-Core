{
 "cells": [
  {
   "cell_type": "raw",
   "id": "fe10b91a",
   "metadata": {},
   "source": [
    "1.Create a class and make two methods in this class. In first \n",
    "method print a table of any random number and in second \n",
    "method print a list. Take user input."
   ]
  },
  {
   "cell_type": "code",
   "execution_count": null,
   "id": "b071fdbb",
   "metadata": {},
   "outputs": [],
   "source": [
    "class x:\n",
    "    def t(self):\n",
    "        t=int(input('Enter Any Number  '))\n",
    "        for i in range(1, 11):\n",
    "            print(t*i)       \n",
    "        \n",
    "    def y(self):\n",
    "        print([1,2,3,4,5,6])\n",
    "\n",
    "a = x()\n",
    "a.t()\n",
    "a.y()\n",
    "\n",
    "    "
   ]
  },
  {
   "cell_type": "raw",
   "id": "b5286d03",
   "metadata": {},
   "source": [
    "2. Create a class and make three methods in this class. In Frist \n",
    "method use __init__ function and print (“Honesty is the best \n",
    "policy”), in second method print a tuple with the help of while \n",
    "loop, and in third method find the exponent. Take user input as \n",
    "per your requirement. Create two objects in this class."
   ]
  },
  {
   "cell_type": "code",
   "execution_count": 3,
   "id": "80660852",
   "metadata": {},
   "outputs": [
    {
     "ename": "TypeError",
     "evalue": "ankush.__init__() takes 0 positional arguments but 1 was given",
     "output_type": "error",
     "traceback": [
      "\u001b[1;31m---------------------------------------------------------------------------\u001b[0m",
      "\u001b[1;31mTypeError\u001b[0m                                 Traceback (most recent call last)",
      "Input \u001b[1;32mIn [3]\u001b[0m, in \u001b[0;36m<cell line: 13>\u001b[1;34m()\u001b[0m\n\u001b[0;32m      9\u001b[0m         b \u001b[38;5;241m=\u001b[39m \u001b[38;5;28mint\u001b[39m(\u001b[38;5;28minput\u001b[39m(\u001b[38;5;124m'\u001b[39m\u001b[38;5;124mEnter Any Number \u001b[39m\u001b[38;5;124m'\u001b[39m))\n\u001b[0;32m     10\u001b[0m         \u001b[38;5;28mself\u001b[39m\u001b[38;5;241m.\u001b[39mc \u001b[38;5;241m=\u001b[39m a\u001b[38;5;241m*\u001b[39mb\n\u001b[1;32m---> 13\u001b[0m d \u001b[38;5;241m=\u001b[39m \u001b[43mexp\u001b[49m\u001b[43m(\u001b[49m\u001b[43m)\u001b[49m\n\u001b[0;32m     14\u001b[0m \u001b[38;5;28mprint\u001b[39m(d\u001b[38;5;241m.\u001b[39mc)\n",
      "\u001b[1;31mTypeError\u001b[0m: ankush.__init__() takes 0 positional arguments but 1 was given"
     ]
    }
   ],
   "source": [
    "class ankush():\n",
    "    def __init__():\n",
    "        def p(self):\n",
    "            print('Honesty is the best policy')\n",
    "    \n",
    "class exp(ankush):\n",
    "    def c(self):\n",
    "        a = int(input('Enter Any Number '))\n",
    "        b = int(input('Enter Any Number '))\n",
    "        self.c = a//b\n",
    "         \n",
    "    \n",
    "d = exp()\n",
    "print(d.c)\n",
    "\n"
   ]
  },
  {
   "cell_type": "raw",
   "id": "42036ffe",
   "metadata": {},
   "source": [
    "3. Create two classes, first class inherited by the second class, \n",
    "create two methods in first class as per your choice, and create \n",
    "two methods in second class, in first method print any \n",
    "statement, in second method do multiplication. Use __init__ \n",
    "function and super(). Function. Take arguments as per your \n",
    "requirement."
   ]
  },
  {
   "cell_type": "code",
   "execution_count": null,
   "id": "27b4412a",
   "metadata": {},
   "outputs": [],
   "source": [
    "class ankush():\n",
    "    def h(self):\n",
    "        print('Hellow')\n",
    "    \n",
    "class mul(ankush):\n",
    "    def __init__(self):\n",
    "        super(). h()\n",
    "        a = int(input('Value of a  '))\n",
    "        b = int(input('Value of b  '))\n",
    "        self.c = a*b\n",
    "    \n",
    "d = mul()\n",
    "print(d.c)\n",
    "\n"
   ]
  },
  {
   "cell_type": "raw",
   "id": "e49d6ca6",
   "metadata": {},
   "source": [
    "4. Create classes and do a programme which shows multiple \n",
    "inheritance. Create methods in this classes as per your choice."
   ]
  },
  {
   "cell_type": "code",
   "execution_count": 8,
   "id": "12076cae",
   "metadata": {},
   "outputs": [
    {
     "name": "stdout",
     "output_type": "stream",
     "text": [
      "My name is AnkusH Kumar\n",
      "I like Black Colour\n",
      "Honesty in the best policy\n"
     ]
    }
   ],
   "source": [
    "class AnkusH:\n",
    "    def x1(self):\n",
    "        print('My name is AnkusH Kumar')\n",
    "class colour(AnkusH):\n",
    "    def x2(self):\n",
    "        print('I like Black Colour')\n",
    "class policy(colour):\n",
    "    def x3(self):\n",
    "        print('Honesty in the best policy')\n",
    "\n",
    "ob = policy()\n",
    "ob.x1()\n",
    "ob.x2()\n",
    "ob.x3()\n"
   ]
  },
  {
   "cell_type": "raw",
   "id": "47e96a8e",
   "metadata": {},
   "source": [
    "5. Create classes and do a programme which shows multilevel \n",
    "inheritance. Create methods in this classes as per your choice"
   ]
  },
  {
   "cell_type": "code",
   "execution_count": null,
   "id": "f9720553",
   "metadata": {},
   "outputs": [],
   "source": [
    "\n",
    "class AnkusH:\n",
    "    def x1(self):\n",
    "        print('My name is AnkusH Kumar')\n",
    "class colour:\n",
    "    def x2(self):\n",
    "        print('I like Black Colour')\n",
    "class policy:\n",
    "    def x3(self):\n",
    "        print('Honesty in the best policy')\n",
    "class Company:\n",
    "    def x4(self):\n",
    "        print('laptop with HP Brand')\n",
    "class course(AnkusH,colour,policy,Company):\n",
    "    def x5(self):\n",
    "        print('My course is DATA SCIENCE')\n",
    "        \n",
    "ob = course()\n",
    "\n",
    "\n",
    "ob.x1()\n",
    "ob.x2()\n",
    "ob.x3()\n",
    "ob.x4()\n",
    "ob.x5()\n",
    "\n"
   ]
  },
  {
   "cell_type": "code",
   "execution_count": 25,
   "id": "441fd8e1",
   "metadata": {},
   "outputs": [
    {
     "name": "stdout",
     "output_type": "stream",
     "text": [
      "Enter Age  19\n",
      "Eligile\n",
      "Thank You\n",
      "Go\n"
     ]
    }
   ],
   "source": [
    "try:\n",
    "    a = int(input('Enter Age  '))\n",
    "    if a<18:\n",
    "        print('Not Eligible')\n",
    "    if a>=18:\n",
    "        print('Eligile')\n",
    "except:\n",
    "    print('Write in Number')\n",
    "else:\n",
    "    print('Thank You')\n",
    "finally:\n",
    "    print('Go')\n",
    "    "
   ]
  },
  {
   "cell_type": "code",
   "execution_count": null,
   "id": "06c37100",
   "metadata": {},
   "outputs": [
    {
     "name": "stdout",
     "output_type": "stream",
     "text": [
      "Hellow You are here to vote\n",
      "Please Write your age to confirm your age \n",
      "\n"
     ]
    }
   ],
   "source": [
    "z = open(\"New\",\"r\")\n",
    "print(z.read())\n",
    "try:\n",
    "    n = int(input(\"Enter Your Age  \"))\n",
    "    if n<=18:\n",
    "        print('Not Eligible')\n",
    "    else:\n",
    "        print('Eligible')\n",
    "except ValueError:\n",
    "    print('Write in Integer')\n",
    "finally:\n",
    "    print('Done')\n",
    "    \n",
    "    "
   ]
  },
  {
   "cell_type": "code",
   "execution_count": null,
   "id": "f980eb53",
   "metadata": {},
   "outputs": [],
   "source": []
  }
 ],
 "metadata": {
  "kernelspec": {
   "display_name": "Python 3 (ipykernel)",
   "language": "python",
   "name": "python3"
  },
  "language_info": {
   "codemirror_mode": {
    "name": "ipython",
    "version": 3
   },
   "file_extension": ".py",
   "mimetype": "text/x-python",
   "name": "python",
   "nbconvert_exporter": "python",
   "pygments_lexer": "ipython3",
   "version": "3.10.2"
  }
 },
 "nbformat": 4,
 "nbformat_minor": 5
}
