{
 "cells": [
  {
   "cell_type": "raw",
   "id": "663b17bc",
   "metadata": {},
   "source": [
    " Exception Handling - when an error occurs ,or exception as we call it, python will normally sto pand generate an error \n",
    "message. these exceptions can be handled using following statement\\\n",
    "\n",
    "try: Try block lets you test a block of code for errors.\n",
    "except: The excepts block lets you handle the error\n",
    "else: The else let you execute code when there is no errors\n",
    "finally: Finally blocks lets you execute code, regarding of the results of try- and except block.\n"
   ]
  },
  {
   "cell_type": "code",
   "execution_count": 1,
   "id": "ce4dc0ed",
   "metadata": {},
   "outputs": [
    {
     "name": "stdout",
     "output_type": "stream",
     "text": [
      "An error occur\n"
     ]
    }
   ],
   "source": [
    "try:\n",
    "    print(x)\n",
    "except:\n",
    "    print('An error occur')"
   ]
  },
  {
   "cell_type": "code",
   "execution_count": 15,
   "id": "582c6193",
   "metadata": {},
   "outputs": [
    {
     "name": "stdout",
     "output_type": "stream",
     "text": [
      "Put right Integer\n",
      "Have a Nice Day\n"
     ]
    }
   ],
   "source": [
    "try:\n",
    "    x = 9\n",
    "    y = 0\n",
    "    z = x/y\n",
    "    print(z)\n",
    "except ZeroDivisionError:\n",
    "    print('Put right Integer')\n",
    "finally:\n",
    "    print('Have a Nice Day')\n",
    "  "
   ]
  },
  {
   "cell_type": "code",
   "execution_count": 16,
   "id": "100d48f8",
   "metadata": {},
   "outputs": [
    {
     "name": "stdout",
     "output_type": "stream",
     "text": [
      "5.0\n",
      "Have a Nice Day\n"
     ]
    }
   ],
   "source": [
    "try:\n",
    "    x = 10\n",
    "    y = 2\n",
    "    z = x/y\n",
    "    print(z)\n",
    "except ZeroDivisionError:\n",
    "    print('Put right Integer')\n",
    "finally:\n",
    "    print('Have a Nice Day')\n",
    "  "
   ]
  },
  {
   "cell_type": "code",
   "execution_count": 19,
   "id": "1d7e5e6c",
   "metadata": {},
   "outputs": [
    {
     "name": "stdout",
     "output_type": "stream",
     "text": [
      "Put Right Integer\n",
      "Thank You\n"
     ]
    }
   ],
   "source": [
    "try:\n",
    "    x = 3\n",
    "    y = 'Hellow'\n",
    "    z = x + y\n",
    "    print(z)\n",
    "except TypeError:\n",
    "    print('Put Right Integer')\n",
    "finally:\n",
    "    print('Thank You')\n",
    "    "
   ]
  },
  {
   "cell_type": "code",
   "execution_count": 26,
   "id": "57ffbca1",
   "metadata": {},
   "outputs": [
    {
     "name": "stdout",
     "output_type": "stream",
     "text": [
      "12\n",
      "Thank You\n"
     ]
    }
   ],
   "source": [
    "try:\n",
    "    x = 3\n",
    "    y = 9\n",
    "    z = x + y\n",
    "    print(z)\n",
    "except TypeError:\n",
    "    print('Put Right Integer')\n",
    "finally:\n",
    "    print('Thank You')\n",
    "    "
   ]
  },
  {
   "cell_type": "code",
   "execution_count": 25,
   "id": "1e4a6118",
   "metadata": {},
   "outputs": [
    {
     "name": "stdout",
     "output_type": "stream",
     "text": [
      "Honesty\n",
      "Hellow\n"
     ]
    }
   ],
   "source": [
    "try:\n",
    "    print('Honesty')\n",
    "except:\n",
    "    print('Every Thing is good')\n",
    "else:\n",
    "    print('Hellow')"
   ]
  },
  {
   "cell_type": "raw",
   "id": "8c1dcad7",
   "metadata": {},
   "source": [
    "Else: you can use the else error keyword to define a block code to be executed if no error were raised"
   ]
  },
  {
   "cell_type": "code",
   "execution_count": 30,
   "id": "ec519492",
   "metadata": {},
   "outputs": [
    {
     "name": "stdout",
     "output_type": "stream",
     "text": [
      "Honesty\n",
      "Hellow\n"
     ]
    }
   ],
   "source": [
    "try:\n",
    "    print('Honesty')\n",
    "except:\n",
    "    print('Every Thing is good')\n",
    "else:\n",
    "    print('Hellow')\n"
   ]
  },
  {
   "cell_type": "code",
   "execution_count": 31,
   "id": "14c686c8",
   "metadata": {},
   "outputs": [
    {
     "name": "stdout",
     "output_type": "stream",
     "text": [
      "Honesty\n",
      "Hellow\n",
      "Thank You\n"
     ]
    }
   ],
   "source": [
    "try:\n",
    "    print('Honesty')\n",
    "except:\n",
    "    print('Every Thing is good')\n",
    "else:\n",
    "    print('Hellow')\n",
    "finally:\n",
    "    print('Thank You')"
   ]
  },
  {
   "cell_type": "code",
   "execution_count": null,
   "id": "e64d5a1d",
   "metadata": {},
   "outputs": [],
   "source": [
    "try:\n",
    "    a = int(input('Enter Age  '))\n",
    "    if a<18:\n",
    "        print('Not Eligible')\n",
    "    if a>=18:\n",
    "        print('Eligile')\n",
    "except:\n",
    "    print('Write in Number')\n",
    "else:\n",
    "    print('Thank You')\n",
    "finally:\n",
    "    print('Go')\n",
    "    "
   ]
  },
  {
   "cell_type": "raw",
   "id": "8b6c85b6",
   "metadata": {},
   "source": [
    "Raise an exception\n",
    "As a Developer you can choose to throw a exceptions if a condition occurs.\n",
    "To throw (or raise) an exception, use the raise keyword."
   ]
  },
  {
   "cell_type": "code",
   "execution_count": null,
   "id": "2b99bf76",
   "metadata": {},
   "outputs": [],
   "source": [
    "x = -1\n",
    "if x<0:\n",
    "    raise Exception('Sorry, No number excepted below zero')"
   ]
  },
  {
   "cell_type": "code",
   "execution_count": null,
   "id": "e56834ea",
   "metadata": {},
   "outputs": [
    {
     "name": "stdout",
     "output_type": "stream",
     "text": [
      "Hellow You are here to vote\n",
      "Please Write your age to confirm your age \n",
      "\n"
     ]
    }
   ],
   "source": [
    "z = open(\"New\",\"r\")\n",
    "print(z.read())\n",
    "try:\n",
    "    n = int(input(\"Enter Number  \"))\n",
    "    if n<=18:\n",
    "        print('Not Eligible')\n",
    "    else:\n",
    "        print('Eligible')\n",
    "except ValueError:\n",
    "    print('Write in Integer')\n",
    "finally:\n",
    "    print('Done')\n",
    "    "
   ]
  },
  {
   "cell_type": "code",
   "execution_count": null,
   "id": "a35963a2",
   "metadata": {},
   "outputs": [],
   "source": []
  },
  {
   "cell_type": "code",
   "execution_count": null,
   "id": "2fc5b01f",
   "metadata": {},
   "outputs": [],
   "source": []
  }
 ],
 "metadata": {
  "kernelspec": {
   "display_name": "Python 3 (ipykernel)",
   "language": "python",
   "name": "python3"
  },
  "language_info": {
   "codemirror_mode": {
    "name": "ipython",
    "version": 3
   },
   "file_extension": ".py",
   "mimetype": "text/x-python",
   "name": "python",
   "nbconvert_exporter": "python",
   "pygments_lexer": "ipython3",
   "version": "3.10.2"
  }
 },
 "nbformat": 4,
 "nbformat_minor": 5
}
