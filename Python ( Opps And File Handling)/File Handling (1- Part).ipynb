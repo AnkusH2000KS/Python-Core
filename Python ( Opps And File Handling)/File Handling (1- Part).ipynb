{
 "cells": [
  {
   "cell_type": "raw",
   "id": "ba0f960e",
   "metadata": {},
   "source": [
    "FILE HANDLING - is an important part of any web application.\n",
    "\n",
    "'r'- read - open a file for reading. error if file is not exist\n",
    "'a'- append - open a file for appending, creates a file if it does not exists\n",
    "'w'- write - open a file for writing, create a file if does not exists \n",
    "'x'- create the specific file, returns an error if file does not exists."
   ]
  },
  {
   "cell_type": "code",
   "execution_count": 1,
   "id": "767b8996",
   "metadata": {},
   "outputs": [
    {
     "name": "stdout",
     "output_type": "stream",
     "text": [
      "Hellow Guys \n",
      "Chalo Padai kare\n"
     ]
    }
   ],
   "source": [
    "file = open(\"handle.txt\",\"r\")\n",
    "print(file.read())"
   ]
  },
  {
   "cell_type": "code",
   "execution_count": 2,
   "id": "9042069c",
   "metadata": {},
   "outputs": [
    {
     "name": "stdout",
     "output_type": "stream",
     "text": [
      "Hellow Guys \n",
      "Chalo Padai kare\n"
     ]
    }
   ],
   "source": [
    "file = open(\"C:\\\\Users\\\\ankush\\\\OneDrive\\\\Documents\\\\Python programming\\\\My Files Py\\\\handle.txt\",\"r\")\n",
    "print(file.read())"
   ]
  },
  {
   "cell_type": "code",
   "execution_count": 24,
   "id": "195404fe",
   "metadata": {},
   "outputs": [
    {
     "name": "stdout",
     "output_type": "stream",
     "text": [
      "Hellow Guys \n",
      "Chalo Padai karo  python programming\n"
     ]
    }
   ],
   "source": [
    "z = open(\"handle.txt\",\"a\")\n",
    "z.write(\"  python programming\")\n",
    "z = open(\"handle.txt\",\"r\")\n",
    "print(z.read())\n",
    "z.close()"
   ]
  },
  {
   "cell_type": "code",
   "execution_count": 26,
   "id": "695a1424",
   "metadata": {},
   "outputs": [
    {
     "name": "stdout",
     "output_type": "stream",
     "text": [
      "  python programming\n"
     ]
    }
   ],
   "source": [
    "z = open(\"not.txt\",\"a\")\n",
    "z.write(\"  python programming\")\n",
    "z = open(\"not.txt\",\"r\")z\n",
    "print(z.read())\n",
    "z.close()"
   ]
  },
  {
   "cell_type": "code",
   "execution_count": 27,
   "id": "76e8f9a4",
   "metadata": {},
   "outputs": [],
   "source": [
    "z = open(\"h.py\",\"w\")\n",
    "z.write(\"Write program\")\n",
    "z.close()"
   ]
  },
  {
   "cell_type": "code",
   "execution_count": 31,
   "id": "48f0eb3a",
   "metadata": {},
   "outputs": [
    {
     "name": "stdout",
     "output_type": "stream",
     "text": [
      "\n"
     ]
    }
   ],
   "source": [
    "z = open(\"zx.py\",\"x\")\n",
    "z = open(\"zx.py\",\"r\")\n",
    "print(z.read())"
   ]
  },
  {
   "cell_type": "code",
   "execution_count": 37,
   "id": "9883e92b",
   "metadata": {},
   "outputs": [
    {
     "name": "stdout",
     "output_type": "stream",
     "text": [
      "Hellow......\n"
     ]
    }
   ],
   "source": [
    "z = open(\"zx.py\",\"w\")\n",
    "z.write(\"Hellow......\")\n",
    "z.close()\n",
    "z = open(\"zx.py\",\"r\")\n",
    "print(z.read())"
   ]
  },
  {
   "cell_type": "code",
   "execution_count": null,
   "id": "c047d8d8",
   "metadata": {},
   "outputs": [],
   "source": [
    "z = open(\"New\",\"r\")\n",
    "print(z.read())\n",
    "try:\n",
    "    n = int(input(\"Enter Number  \"))\n",
    "    if n<=18:\n",
    "        print('Yes')\n",
    "    else:\n",
    "        print('No')\n",
    "finally:\n",
    "    print('Done}')\n",
    "    "
   ]
  },
  {
   "cell_type": "code",
   "execution_count": null,
   "id": "89f11bc0",
   "metadata": {},
   "outputs": [],
   "source": []
  }
 ],
 "metadata": {
  "kernelspec": {
   "display_name": "Python 3 (ipykernel)",
   "language": "python",
   "name": "python3"
  },
  "language_info": {
   "codemirror_mode": {
    "name": "ipython",
    "version": 3
   },
   "file_extension": ".py",
   "mimetype": "text/x-python",
   "name": "python",
   "nbconvert_exporter": "python",
   "pygments_lexer": "ipython3",
   "version": "3.10.2"
  }
 },
 "nbformat": 4,
 "nbformat_minor": 5
}
