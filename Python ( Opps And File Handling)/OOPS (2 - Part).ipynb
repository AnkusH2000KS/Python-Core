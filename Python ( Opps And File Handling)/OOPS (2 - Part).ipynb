{
 "cells": [
  {
   "cell_type": "raw",
   "id": "b347a7ac",
   "metadata": {},
   "source": [
    "\n",
    "### init function '''\n",
    "\n",
    " To understand the meaning of classes we have to understand the function.\n",
    "All classses have a function called __init__(),which is always executed when the class is being initiated.\n",
    "use the __init__() function to assingn values to object properties , or other operations that are neccessary to do when the  object is being created. \n",
    " \n",
    "\n",
    " ### Self parameter '''\n",
    " \n",
    "# The self parameter is a reference to the current instance of the class, and is used to acces variables that belongs to the class.\n",
    "It does not have to be name self , you can call it whatever you like, but it has to be the first parameter of any function of a class'''"
   ]
  },
  {
   "cell_type": "code",
   "execution_count": 1,
   "id": "8955762a",
   "metadata": {},
   "outputs": [
    {
     "name": "stdout",
     "output_type": "stream",
     "text": [
      "Ankush\n",
      "21\n"
     ]
    }
   ],
   "source": [
    "class person:\n",
    "    def __init__(self,name,age):\n",
    "        self.name = name\n",
    "        self.age = age\n",
    "        \n",
    "p1 = person('Ankush','21')\n",
    "print(p1.name)\n",
    "print(p1.age)"
   ]
  },
  {
   "cell_type": "code",
   "execution_count": 2,
   "id": "44049fec",
   "metadata": {},
   "outputs": [
    {
     "name": "stdout",
     "output_type": "stream",
     "text": [
      "Hellow Delhi\n",
      "200\n"
     ]
    }
   ],
   "source": [
    "class x():\n",
    "    def __init__(self,a,b):\n",
    "        self.a = a\n",
    "        self.b = b\n",
    "        self.mul = a*b \n",
    "    def y(self):\n",
    "        print('Hellow Delhi')\n",
    "\n",
    "a1=x(10,20)\n",
    "a1.y()\n",
    "print(a1.mul)"
   ]
  },
  {
   "cell_type": "code",
   "execution_count": 4,
   "id": "f124d6cb",
   "metadata": {},
   "outputs": [
    {
     "name": "stdout",
     "output_type": "stream",
     "text": [
      "100000000000000000000\n",
      "2\n"
     ]
    }
   ],
   "source": [
    "class x():\n",
    "    def __init__(self,a,b):\n",
    "        self.a = a\n",
    "        self.b = b\n",
    "        self.exp = a**b \n",
    "    \n",
    "    def z(self,x,y):\n",
    "        self.x = x\n",
    "        self.y =  y\n",
    "        self.mod = x%y\n",
    "        \n",
    "    def y(self):\n",
    "        print('Good Morning India')   \n",
    "        \n",
    "        \n",
    "\n",
    "a1=x(10,20)\n",
    "print(a1.exp)\n",
    "\n",
    "a1.z(2,4)\n",
    "print(a1.mod)\n",
    "a1.z(1,2)\n",
    "\n",
    "\n"
   ]
  },
  {
   "cell_type": "code",
   "execution_count": 41,
   "id": "c502798d",
   "metadata": {},
   "outputs": [
    {
     "name": "stdout",
     "output_type": "stream",
     "text": [
      "4096\n",
      "Good Morning India\n",
      "2\n"
     ]
    }
   ],
   "source": [
    "class x():\n",
    "    def __init__(self,a,b):\n",
    "        self.a = a\n",
    "        self.b = b\n",
    "        self.exp = a**b \n",
    "    \n",
    "    def LOL(self):\n",
    "        print('Good Morning India')   \n",
    "        \n",
    "    def z(self,x,y):\n",
    "        self.x = x\n",
    "        self.y =  y\n",
    "        self.mod = x%y\n",
    "        \n",
    "a1=x(4,6)\n",
    "print(a1.exp)\n",
    "a1.LOL()\n",
    "a1.z(2,4)\n",
    "print(a1.mod)\n"
   ]
  },
  {
   "cell_type": "code",
   "execution_count": 6,
   "id": "ecf1823b",
   "metadata": {},
   "outputs": [
    {
     "name": "stdout",
     "output_type": "stream",
     "text": [
      "23\n",
      "[1, 2, 3, 4, 5, 6, 7, 8, 9, 10]\n",
      "30\n"
     ]
    }
   ],
   "source": [
    "class python1:\n",
    "    def __init__(self,x,y):\n",
    "        self.x = x\n",
    "        self.y = y\n",
    "        self.flow_div= x//y\n",
    "        \n",
    "    def ls(self):\n",
    "        print([1,2,3,4,5,6,7,8,9,10])        \n",
    "    \n",
    "    def add(self,a,b):\n",
    "        self.a = a\n",
    "        self.b = b\n",
    "        self.add = a + b\n",
    "        \n",
    "\n",
    "N = python1(12313,531)\n",
    "print(N.flow_div)\n",
    "N.ls()\n",
    "N.add(10,20)\n",
    "print(N.add)"
   ]
  },
  {
   "cell_type": "code",
   "execution_count": 12,
   "id": "2927976e",
   "metadata": {},
   "outputs": [
    {
     "name": "stdout",
     "output_type": "stream",
     "text": [
      "2827\n",
      "[1, 2, 3, 4, 5, 6, 7, 8, 9, 10]\n",
      "300\n",
      "900\n",
      "AnkusH kumar\n"
     ]
    }
   ],
   "source": [
    "class python1:\n",
    "    def __init__(self,x,y):\n",
    "        self.x = x\n",
    "        self.y = y\n",
    "        self.F_div= x//y\n",
    "        \n",
    "    def ls(self):\n",
    "        print([1,2,3,4,5,6,7,8,9,10])        \n",
    "    \n",
    "    def add(self,a,b):\n",
    "        self.a = a\n",
    "        self.b = b\n",
    "        self.add = a + b\n",
    "    \n",
    "    def sub(self,a,b):\n",
    "        self.a = a\n",
    "        self.b = b\n",
    "        self.sub = a - b\n",
    "        \n",
    "    def name(self,first,secound):\n",
    "        self.first = first\n",
    "        self.secound = secound\n",
    "        self.full_name = first + secound\n",
    "     \n",
    "N=python1(67858,24)\n",
    "print(N.F_div)\n",
    "N.ls()\n",
    "N.add(100,200)\n",
    "print(N.add)\n",
    "N.sub(1000,100)\n",
    "print(N.sub)\n",
    "N.name('AnkusH ','kumar')\n",
    "print(N.full_name)"
   ]
  },
  {
   "cell_type": "code",
   "execution_count": 3,
   "id": "9c013ce8",
   "metadata": {},
   "outputs": [
    {
     "name": "stdout",
     "output_type": "stream",
     "text": [
      "Ankush\n",
      "30\n"
     ]
    }
   ],
   "source": [
    "class person:\n",
    "\tdef __init__(self,name,age):\n",
    "\t\tself.name = name\n",
    "\t\tself.age = age\n",
    "\tdef x(self):\n",
    "\t\tprint('My name is  ' + self.name)\n",
    "\n",
    "p1 = person('Ankush','21')\n",
    "p1.age = 30\n",
    "print(p1.name)\n",
    "print(p1.age)\n"
   ]
  },
  {
   "cell_type": "code",
   "execution_count": 4,
   "id": "7fe1f99c",
   "metadata": {},
   "outputs": [
    {
     "name": "stdout",
     "output_type": "stream",
     "text": [
      "Shams\n",
      "21\n"
     ]
    }
   ],
   "source": [
    "class person:\n",
    "\tdef __init__(self,name,age):\n",
    "\t\tself.name = name\n",
    "\t\tself.age = age\n",
    "\tdef x(self):\n",
    "\t\tprint('My name is  ' + self.name)\n",
    "\n",
    "p1 = person('Ankush','21')\n",
    "p1.name = 'Shams'\n",
    "print(p1.name)\n",
    "print(p1.age)\n"
   ]
  },
  {
   "cell_type": "code",
   "execution_count": 27,
   "id": "411e02a1",
   "metadata": {},
   "outputs": [
    {
     "name": "stdout",
     "output_type": "stream",
     "text": [
      "Ankush Kumar\n",
      "My name is Ankush Kumar\n",
      "My Age is 21\n"
     ]
    }
   ],
   "source": [
    "class person:\n",
    "    def __init__(self,name,age):\n",
    "        self.name = name\n",
    "        self.age = age\n",
    "    def x(self):\n",
    "        print('My name is '+ self.name)\n",
    "    def y(self):    \n",
    "        print(\"My Age is \" + self.age)\n",
    "\n",
    "p1 = person('Ankush Kumar','21')\n",
    "print(p1.name)\n",
    "p1.x()\n",
    "p1.y()"
   ]
  },
  {
   "cell_type": "code",
   "execution_count": 9,
   "id": "d7bdc480",
   "metadata": {},
   "outputs": [
    {
     "name": "stdout",
     "output_type": "stream",
     "text": [
      "Ankush Kumar \n"
     ]
    }
   ],
   "source": [
    "print(p1.name)"
   ]
  },
  {
   "cell_type": "code",
   "execution_count": 22,
   "id": "6e474b89",
   "metadata": {},
   "outputs": [
    {
     "name": "stdout",
     "output_type": "stream",
     "text": [
      "16\n",
      "Good Morning India\n"
     ]
    }
   ],
   "source": [
    "class Function:\n",
    "    def __init__(self,a,b):\n",
    "        self.a = a\n",
    "        self.b = b\n",
    "        self.exp = a**b\n",
    "        \n",
    "    def India(self):\n",
    "        print('Good Morning India')\n",
    "F1 = Function(2,4)\n",
    "print(F1.exp)\n",
    "F1.India()\n"
   ]
  },
  {
   "cell_type": "code",
   "execution_count": 25,
   "id": "a6f1d4a1",
   "metadata": {},
   "outputs": [
    {
     "name": "stdout",
     "output_type": "stream",
     "text": [
      "5\n",
      "Good Morning India\n",
      "40\n"
     ]
    }
   ],
   "source": [
    "class Function:\n",
    "    def __init__(self,a,b):\n",
    "        self.a = a\n",
    "        self.b = b\n",
    "        self.Flow_Division = a//b\n",
    "        \n",
    "    def India(self):\n",
    "        print('Good Morning India')\n",
    "\n",
    "    def add(self,x,y):\n",
    "        self.x = x\n",
    "        self.y = y\n",
    "        self.add = x + y\n",
    "        \n",
    "F1 = Function(22,4)\n",
    "print(F1.Flow_Division)\n",
    "F1.India()\n",
    "F1.add(20,20)\n",
    "print(F1.add)\n"
   ]
  },
  {
   "cell_type": "code",
   "execution_count": 63,
   "id": "a2783592",
   "metadata": {},
   "outputs": [
    {
     "name": "stdout",
     "output_type": "stream",
     "text": [
      "Enter Any Number  2\n",
      "Enter Any Number  4\n",
      "6\n",
      "Hellow\n"
     ]
    }
   ],
   "source": [
    "class x:\n",
    "    def __init__(self):\n",
    "        a = int(input('Enter Any Number  '))\n",
    "        b = int(input('Enter Any Number  '))\n",
    "        self.c = a + b\n",
    "        \n",
    "    def ankush(self):\n",
    "        print('Hellow')\n",
    "a1 = x()\n",
    "print(a1.c)\n",
    "a1.ankush()"
   ]
  },
  {
   "cell_type": "code",
   "execution_count": 1,
   "id": "99eeb5ac",
   "metadata": {},
   "outputs": [
    {
     "name": "stdout",
     "output_type": "stream",
     "text": [
      "Honda\n",
      "2000\n",
      "2001\n",
      "This Car is Awesome\n",
      "Honda\n",
      "2000\n",
      "2001\n",
      "pink\n"
     ]
    }
   ],
   "source": [
    "class car:\n",
    "    def __init__(self,make,model,year):\n",
    "        self.make = make\n",
    "        self.model = model\n",
    "        self.year = year\n",
    "    \n",
    "    def Q(self):\n",
    "        return('This Car is Awesome')\n",
    "    \n",
    "class electric(car):\n",
    "    def __init__(self,make,model,year,color):\n",
    "        super().__init__(make,model,year)\n",
    "        self.color = color\n",
    "        print(make)\n",
    "        print(model)\n",
    "        print(year)\n",
    "z = electric('Honda',2000,2001,'pink')\n",
    "print(z.Q())\n",
    "print(z.make)\n",
    "print(z.model)\n",
    "print(z.year)\n",
    "print(z.color)"
   ]
  },
  {
   "cell_type": "code",
   "execution_count": null,
   "id": "887a8f20",
   "metadata": {},
   "outputs": [],
   "source": []
  },
  {
   "cell_type": "code",
   "execution_count": null,
   "id": "adbab3c0",
   "metadata": {},
   "outputs": [],
   "source": []
  }
 ],
 "metadata": {
  "kernelspec": {
   "display_name": "Python 3 (ipykernel)",
   "language": "python",
   "name": "python3"
  },
  "language_info": {
   "codemirror_mode": {
    "name": "ipython",
    "version": 3
   },
   "file_extension": ".py",
   "mimetype": "text/x-python",
   "name": "python",
   "nbconvert_exporter": "python",
   "pygments_lexer": "ipython3",
   "version": "3.10.2"
  }
 },
 "nbformat": 4,
 "nbformat_minor": 5
}
