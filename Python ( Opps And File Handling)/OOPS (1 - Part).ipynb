{
 "cells": [
  {
   "cell_type": "code",
   "execution_count": 2,
   "id": "e5cf4ace",
   "metadata": {},
   "outputs": [],
   "source": [
    "### OOPS object oriented programming\n"
   ]
  },
  {
   "cell_type": "code",
   "execution_count": 5,
   "id": "0f723938",
   "metadata": {},
   "outputs": [],
   "source": [
    "##class\n",
    "##attributes\n",
    "##inheritance\n",
    "##polymorphiem\n",
    "##data abstractions\n",
    "##encapsulations"
   ]
  },
  {
   "cell_type": "code",
   "execution_count": 14,
   "id": "e57d3acf",
   "metadata": {},
   "outputs": [
    {
     "name": "stdout",
     "output_type": "stream",
     "text": [
      "5\n",
      "5\n"
     ]
    }
   ],
   "source": [
    "class x:\n",
    "    i = 5\n",
    "p = x()\n",
    "print(p.i) \n",
    "t = x()\n",
    "print(t.i)"
   ]
  },
  {
   "cell_type": "code",
   "execution_count": 15,
   "id": "ee9b0973",
   "metadata": {},
   "outputs": [
    {
     "name": "stdout",
     "output_type": "stream",
     "text": [
      "13\n"
     ]
    }
   ],
   "source": [
    "class x :\n",
    "    a = 6\n",
    "    b = 7\n",
    "    z = a+b\n",
    "f = x()\n",
    "print(f.z)"
   ]
  },
  {
   "cell_type": "code",
   "execution_count": 16,
   "id": "0e98f116",
   "metadata": {},
   "outputs": [],
   "source": [
    "class x:\n",
    "    def y():\n",
    "        z = a + b\n",
    "        print(z)"
   ]
  },
  {
   "cell_type": "code",
   "execution_count": 12,
   "id": "6e61b67c",
   "metadata": {},
   "outputs": [
    {
     "name": "stdout",
     "output_type": "stream",
     "text": [
      "Hellow\n"
     ]
    }
   ],
   "source": [
    "class x:\n",
    "    def z(self):\n",
    "        print(\"Hellow\")\n",
    "e = x()\n",
    "e.z()\n",
    "\n",
    "\n"
   ]
  },
  {
   "cell_type": "code",
   "execution_count": 31,
   "id": "2d735104",
   "metadata": {},
   "outputs": [
    {
     "name": "stdout",
     "output_type": "stream",
     "text": [
      "Hi\n",
      "My Name is Ankush\n",
      "Thank You\n"
     ]
    }
   ],
   "source": [
    "class A:\n",
    "    def First(self):\n",
    "        print('Hi')\n",
    "    def Secound(self):\n",
    "        print('My Name is Ankush')\n",
    "    def Third(self):\n",
    "        print('Thank You')\n",
    "        \n",
    "O = A()\n",
    "O.First()\n",
    "\n",
    "O = A()\n",
    "O.Secound()\n",
    "\n",
    "O = A()\n",
    "O.Third()\n",
    "\n"
   ]
  },
  {
   "cell_type": "code",
   "execution_count": 17,
   "id": "b5dd23e1",
   "metadata": {},
   "outputs": [
    {
     "name": "stdout",
     "output_type": "stream",
     "text": [
      "Hi\n"
     ]
    }
   ],
   "source": [
    "O.First()"
   ]
  },
  {
   "cell_type": "code",
   "execution_count": 27,
   "id": "af047318",
   "metadata": {},
   "outputs": [
    {
     "name": "stdout",
     "output_type": "stream",
     "text": [
      "My Name is Ankush\n"
     ]
    }
   ],
   "source": [
    "O.Secound()"
   ]
  },
  {
   "cell_type": "code",
   "execution_count": 22,
   "id": "5bf4e73f",
   "metadata": {},
   "outputs": [
    {
     "name": "stdout",
     "output_type": "stream",
     "text": [
      "Thank You\n"
     ]
    }
   ],
   "source": [
    "O.Third()"
   ]
  },
  {
   "cell_type": "code",
   "execution_count": null,
   "id": "3a605314",
   "metadata": {},
   "outputs": [],
   "source": [
    "class A:\n",
    "    def First(self):\n",
    "        print('Hi')\n",
    "    def Secound(self):\n",
    "        print('My Name is Ankush')\n",
    "    def Third(self):\n",
    "        print('Thank You')\n",
    "        \n",
    "O = A()\n",
    "O.First()\n",
    "\n",
    "O = A()\n",
    "O.Secound()\n",
    "\n",
    "O = A()\n",
    "O.Third()\n",
    "\n"
   ]
  }
 ],
 "metadata": {
  "kernelspec": {
   "display_name": "Python 3 (ipykernel)",
   "language": "python",
   "name": "python3"
  },
  "language_info": {
   "codemirror_mode": {
    "name": "ipython",
    "version": 3
   },
   "file_extension": ".py",
   "mimetype": "text/x-python",
   "name": "python",
   "nbconvert_exporter": "python",
   "pygments_lexer": "ipython3",
   "version": "3.10.2"
  }
 },
 "nbformat": 4,
 "nbformat_minor": 5
}
