{
 "cells": [
  {
   "cell_type": "raw",
   "id": "13d33a58",
   "metadata": {},
   "source": [
    "ENCAPSULATION\n",
    "describe the concept of bulding data"
   ]
  },
  {
   "cell_type": "code",
   "execution_count": 19,
   "id": "6663fbac",
   "metadata": {},
   "outputs": [
    {
     "name": "stdout",
     "output_type": "stream",
     "text": [
      "Name : Ankush KS       Salary : 1200000\n",
      "Ankush KS  is working on  Data Scientist\n"
     ]
    }
   ],
   "source": [
    "class Employee():\n",
    "    def __init__(self,name,salary,project):\n",
    "        self.name = name\n",
    "        self.salary = salary\n",
    "        self.project = project\n",
    "    \n",
    "    def show(self):\n",
    "        print('Name :',self.name,'    ','Salary :',self.salary)\n",
    "        \n",
    "    def work(self):\n",
    "        print(self.name, 'is working on ', self.project)\n",
    "\n",
    "emp=Employee('Ankush KS ',1200000,'Data Scientist')\n",
    "emp.show()\n",
    "emp.work()"
   ]
  },
  {
   "cell_type": "raw",
   "id": "4bffa731",
   "metadata": {},
   "source": [
    "POLYMORPHISM\n",
    "poly and shape\n",
    "one task can be performed in different ways"
   ]
  },
  {
   "cell_type": "code",
   "execution_count": 23,
   "id": "92b7d63b",
   "metadata": {},
   "outputs": [
    {
     "name": "stdout",
     "output_type": "stream",
     "text": [
      "Parrot udh sakta hai Bhai\n",
      "Parrot Ni swim karta\n",
      "Penguin Ni udh sakta hai Bhai\n",
      "Penguin karle ga \n"
     ]
    }
   ],
   "source": [
    "class parrot:\n",
    "    def fly(self):\n",
    "        print('Parrot udh sakta hai Bhai')\n",
    "    def swim(self):\n",
    "        print('Parrot Ni swim karta')\n",
    "class penguin:\n",
    "    def fly(self):\n",
    "        print('Penguin Ni udh sakta hai Bhai')\n",
    "    def swim(self):\n",
    "        print('Penguin karle ga ')\n",
    "def flying_test(self):\n",
    "    self.fly()\n",
    "    self.swim()\n",
    "\n",
    "bird = parrot()\n",
    "peggy = penguin()\n",
    "\n",
    "flying_test(bird)\n",
    "flying_test(peggy)\n",
    "    "
   ]
  },
  {
   "cell_type": "code",
   "execution_count": 30,
   "id": "f8fdbb75",
   "metadata": {},
   "outputs": [
    {
     "name": "stdout",
     "output_type": "stream",
     "text": [
      "New Delhi\n",
      "Hindi English\n",
      "Washington Dc.\n",
      "English\n"
     ]
    }
   ],
   "source": [
    "class India():\n",
    "    def capital(self):\n",
    "        print('New Delhi')\n",
    "    def language(self):\n",
    "        print('Hindi','English')\n",
    "class USA():\n",
    "    def capital(self):\n",
    "        print('Washington Dc.')\n",
    "    def language(self):\n",
    "        print('English')\n",
    "ind = India()\n",
    "usa = USA()\n",
    "for country in (ind,usa):\n",
    "    country.capital()\n",
    "    country.language()"
   ]
  },
  {
   "cell_type": "code",
   "execution_count": 75,
   "id": "51fb7eb7",
   "metadata": {},
   "outputs": [
    {
     "name": "stdout",
     "output_type": "stream",
     "text": [
      "(1, 2, 3, 4, 5)\n",
      "Hello Guys\n",
      "6\n",
      "5\n"
     ]
    }
   ],
   "source": [
    "class ankush:\n",
    "    def add(self,a,b):\n",
    "        self.a = a\n",
    "        self.b = b\n",
    "        self.c = a + b\n",
    "        \n",
    "    def sub(self,x,y):\n",
    "        self.x = x\n",
    "        self.y = y\n",
    "        self.z = x - y\n",
    "class kumar:\n",
    "    def add(self,a,b):\n",
    "        print((1,2,3,4,5))\n",
    "    \n",
    "    def sub(self,x,y):\n",
    "        print('Hello Guys')\n",
    "a = ankush()\n",
    "k = kumar()\n",
    "\n",
    "for i in (a,k):\n",
    "    i.add(2,4)\n",
    "    i.sub(10,5)\n",
    "print(a.c)\n",
    "print(a.z)\n",
    "  "
   ]
  },
  {
   "cell_type": "code",
   "execution_count": null,
   "id": "21636cff",
   "metadata": {},
   "outputs": [],
   "source": []
  }
 ],
 "metadata": {
  "kernelspec": {
   "display_name": "Python 3 (ipykernel)",
   "language": "python",
   "name": "python3"
  },
  "language_info": {
   "codemirror_mode": {
    "name": "ipython",
    "version": 3
   },
   "file_extension": ".py",
   "mimetype": "text/x-python",
   "name": "python",
   "nbconvert_exporter": "python",
   "pygments_lexer": "ipython3",
   "version": "3.10.2"
  }
 },
 "nbformat": 4,
 "nbformat_minor": 5
}
