{
 "cells": [
  {
   "cell_type": "code",
   "execution_count": 2,
   "id": "bdb37c03",
   "metadata": {},
   "outputs": [
    {
     "name": "stdout",
     "output_type": "stream",
     "text": [
      "Apple is good for health\n",
      "Honesty is the best policy\n"
     ]
    }
   ],
   "source": [
    "class parent():\n",
    "    def first(self):\n",
    "        print('Apple is good for health')\n",
    "class child(parent):\n",
    "    def secound(self):\n",
    "        print('Honesty is the best policy')\n",
    "ob = child()\n",
    "ob.first()\n",
    "ob.secound()"
   ]
  },
  {
   "cell_type": "code",
   "execution_count": 11,
   "id": "8a38b734",
   "metadata": {},
   "outputs": [
    {
     "name": "stdout",
     "output_type": "stream",
     "text": [
      "Honda\n",
      "2000\n",
      "2001\n",
      "This Car is Awesome\n",
      "Honda\n",
      "2000\n",
      "2001\n",
      "pink\n"
     ]
    }
   ],
   "source": [
    "class car:\n",
    "    def __init__(self,make,model,year):\n",
    "        self.make = make\n",
    "        self.model = model\n",
    "        self.year = year\n",
    "    \n",
    "    def Q(self):\n",
    "        return('This Car is Awesome')\n",
    "    \n",
    "class electric(car):\n",
    "    def __init__(self,make,model,year,color):\n",
    "        super().__init__(make,model,year)\n",
    "        self.color = color\n",
    "        print(make)\n",
    "        print(model)\n",
    "        print(year)\n",
    "z = electric('Honda',2000,2001,'pink')\n",
    "print(z.Q())\n",
    "print(z.make)\n",
    "print(z.model)\n",
    "print(z.year)\n",
    "print(z.color)"
   ]
  },
  {
   "cell_type": "code",
   "execution_count": 18,
   "id": "0f5cd036",
   "metadata": {},
   "outputs": [
    {
     "name": "stdout",
     "output_type": "stream",
     "text": [
      "20\n",
      "-10\n"
     ]
    }
   ],
   "source": [
    "class ankush():\n",
    "    def mul(self,a,b):\n",
    "        self.a = a\n",
    "        self.b = b\n",
    "        self.c = a*b\n",
    "    \n",
    "class sub(ankush):\n",
    "    def __init__(self,a,b,x,y):\n",
    "        super().mul(a,b)\n",
    "        self.x = x\n",
    "        self.y = y\n",
    "        self.sub = x - y\n",
    "d = sub(10,2,30,40)\n",
    "print(d.c)\n",
    "print(d.sub)\n"
   ]
  },
  {
   "cell_type": "code",
   "execution_count": 77,
   "id": "3885659d",
   "metadata": {},
   "outputs": [
    {
     "name": "stdout",
     "output_type": "stream",
     "text": [
      "Enter Any Number 13\n",
      "Enter Any Number 2\n",
      "[1, 2, 3, 4, 5, 6]\n",
      "169\n"
     ]
    }
   ],
   "source": [
    "class ankush():\n",
    "    def exp(self):\n",
    "        a = int(input('Enter Any Number '))\n",
    "        b = int(input('Enter Any Number '))\n",
    "        self.c = a**b\n",
    "    \n",
    "class sub(ankush):\n",
    "    def __init__(self):\n",
    "        super(). exp()\n",
    "        ls =  [1,2,3,4,5,6]\n",
    "        print(ls)\n",
    "    \n",
    "d = sub()\n",
    "print(d.c)\n",
    "\n"
   ]
  },
  {
   "cell_type": "code",
   "execution_count": 80,
   "id": "1a9e4774",
   "metadata": {},
   "outputs": [
    {
     "name": "stdout",
     "output_type": "stream",
     "text": [
      "Honesty in the best policy\n",
      "I like Black Colour\n",
      "We are good people\n"
     ]
    }
   ],
   "source": [
    "class parent:\n",
    "    def x1(self):\n",
    "        print('We are good people')\n",
    "class child_1(parent):\n",
    "    def x2(self):\n",
    "        print('I like Black Colour')\n",
    "class child_2(child_1):\n",
    "    def x3(self):\n",
    "        print('Honesty in the best policy')\n",
    "\n",
    "ob = child_2()\n",
    "ob.x3()\n",
    "ob.x2()\n",
    "ob.x1()\n"
   ]
  },
  {
   "cell_type": "code",
   "execution_count": 10,
   "id": "b6752f6b",
   "metadata": {},
   "outputs": [
    {
     "name": "stdout",
     "output_type": "stream",
     "text": [
      "Hellow Delhi\n",
      "Good Morning India\n",
      "Honesty in the best policy\n"
     ]
    }
   ],
   "source": [
    "class parent:\n",
    "    def x1(self):\n",
    "        print('Hellow Delhi')\n",
    "class parent2:\n",
    "    def x2(self):\n",
    "        print('Good Morning India')\n",
    "class child(parent,parent2):\n",
    "    def x3(self):\n",
    "        print('Honesty in the best policy')\n",
    "\n",
    "ob = child()\n",
    "ob.x1()\n",
    "ob.x2()\n",
    "ob.x3()\n"
   ]
  },
  {
   "cell_type": "code",
   "execution_count": 14,
   "id": "41e536ba",
   "metadata": {},
   "outputs": [
    {
     "name": "stdout",
     "output_type": "stream",
     "text": [
      "My name is AnkusH Kumar\n",
      "I like Black Colour\n",
      "Honesty in the best policy\n",
      "laptop with HP Brand\n",
      "My course is DATA SCIENCE\n"
     ]
    }
   ],
   "source": [
    "class AnkusH:\n",
    "    def x1(self):\n",
    "        print('My name is AnkusH Kumar')\n",
    "class colour:\n",
    "    def x2(self):\n",
    "        print('I like Black Colour')\n",
    "class policy:\n",
    "    def x3(self):\n",
    "        print('Honesty in the best policy')\n",
    "class Company:\n",
    "    def x4(self):\n",
    "        print('laptop with HP Brand')\n",
    "class course(AnkusH,colour,policy,Company):\n",
    "    def x5(self):\n",
    "        print('My course is DATA SCIENCE')\n",
    "        \n",
    "ob = course()\n",
    "ob.x1()\n",
    "ob.x2()\n",
    "ob.x3()\n",
    "ob.x4()\n",
    "ob.x5()\n"
   ]
  }
 ],
 "metadata": {
  "kernelspec": {
   "display_name": "Python 3 (ipykernel)",
   "language": "python",
   "name": "python3"
  },
  "language_info": {
   "codemirror_mode": {
    "name": "ipython",
    "version": 3
   },
   "file_extension": ".py",
   "mimetype": "text/x-python",
   "name": "python",
   "nbconvert_exporter": "python",
   "pygments_lexer": "ipython3",
   "version": "3.10.2"
  }
 },
 "nbformat": 4,
 "nbformat_minor": 5
}
