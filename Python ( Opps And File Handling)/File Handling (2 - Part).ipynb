{
 "cells": [
  {
   "cell_type": "raw",
   "id": "01b1fed0",
   "metadata": {},
   "source": [
    "File Formating"
   ]
  },
  {
   "cell_type": "code",
   "execution_count": 8,
   "id": "765c2ee8",
   "metadata": {},
   "outputs": [
    {
     "name": "stdout",
     "output_type": "stream",
     "text": [
      "Hellow Guys \n",
      "Chalo Padai karo  \n",
      "python programming\n",
      "MySQl\n",
      "Excel\n",
      "\n"
     ]
    }
   ],
   "source": [
    "c = open(\"handle.txt\",\"r\")\n",
    "print(c.read())"
   ]
  },
  {
   "cell_type": "code",
   "execution_count": 17,
   "id": "6dd2e782",
   "metadata": {},
   "outputs": [
    {
     "name": "stdout",
     "output_type": "stream",
     "text": [
      "Hello\n"
     ]
    }
   ],
   "source": [
    "c = open(\"handle.txt\",\"r\")\n",
    "print(c.read(5))"
   ]
  },
  {
   "cell_type": "code",
   "execution_count": 28,
   "id": "fae6e7ff",
   "metadata": {},
   "outputs": [
    {
     "name": "stdout",
     "output_type": "stream",
     "text": [
      "Hellow Guys \n",
      "\n",
      "Chalo Padai karo  \n",
      "\n",
      "python programming\n",
      "\n",
      "MySQl\n",
      "\n",
      "Excel\n",
      "\n"
     ]
    }
   ],
   "source": [
    "c = open(\"handle.txt\",\"r\")\n",
    "print(c.readline())\n",
    "print(c.readline())\n",
    "print(c.readline())\n",
    "print(c.readline())\n",
    "print(c.readline())\n"
   ]
  },
  {
   "cell_type": "code",
   "execution_count": 31,
   "id": "bc350545",
   "metadata": {},
   "outputs": [
    {
     "name": "stdout",
     "output_type": "stream",
     "text": [
      "Hellow Guys \n",
      "\n",
      "Chalo Padai karo  \n",
      "\n",
      "python programming\n",
      "\n",
      "MySQl\n",
      "\n",
      "Excel\n",
      "\n"
     ]
    }
   ],
   "source": [
    "file = open(\"handle.txt\",\"r\")\n",
    "for i in file:\n",
    "    print(i)"
   ]
  },
  {
   "cell_type": "code",
   "execution_count": 35,
   "id": "491b082c",
   "metadata": {},
   "outputs": [
    {
     "name": "stdout",
     "output_type": "stream",
     "text": [
      "Hellow Guys \n",
      "Chalo Padai karo  \n",
      "python programming\n",
      "MySQl\n",
      "Excel\n",
      "Python is important for Machine Learning Python is important for Machine Learning\n"
     ]
    }
   ],
   "source": [
    "z = open(\"handle.txt\",\"a\")\n",
    "z.write(\"Python is important for Machine Learning\")\n",
    "z = open(\"handle.txt\",\"r\")\n",
    "print(z.read())"
   ]
  },
  {
   "cell_type": "code",
   "execution_count": 37,
   "id": "239b53e1",
   "metadata": {},
   "outputs": [
    {
     "name": "stdout",
     "output_type": "stream",
     "text": [
      "Hellow Guys \n",
      "Chalo Padai karo  \n",
      "python programming\n",
      "MySQl\n",
      "Excel\n",
      "Python is important for Machine Learning \n"
     ]
    }
   ],
   "source": [
    "z = open(\"handle.txt\",\"r\")\n",
    "print(z.read())"
   ]
  },
  {
   "cell_type": "code",
   "execution_count": 38,
   "id": "ef0ef56b",
   "metadata": {},
   "outputs": [
    {
     "name": "stdout",
     "output_type": "stream",
     "text": [
      "Hellow......Python is important for Machine Learning\n"
     ]
    }
   ],
   "source": [
    "z = open(\"zx.py\",\"a\")\n",
    "z.write(\"Python is important for Machine Learning\")\n",
    "z = open(\"zx.py\",\"r\")\n",
    "print(z.read())"
   ]
  },
  {
   "cell_type": "raw",
   "id": "b242a853",
   "metadata": {},
   "source": [
    "use os.remove to delete a file"
   ]
  },
  {
   "cell_type": "code",
   "execution_count": 43,
   "id": "ad8fa795",
   "metadata": {},
   "outputs": [],
   "source": [
    "import os"
   ]
  },
  {
   "cell_type": "code",
   "execution_count": 41,
   "id": "bfe50436",
   "metadata": {},
   "outputs": [],
   "source": [
    "os.remove(\"not.txt\")"
   ]
  },
  {
   "cell_type": "code",
   "execution_count": 42,
   "id": "658e0468",
   "metadata": {},
   "outputs": [],
   "source": [
    "os.remove(\"work.xlsx\")"
   ]
  },
  {
   "cell_type": "code",
   "execution_count": 44,
   "id": "b4c99005",
   "metadata": {},
   "outputs": [
    {
     "name": "stdout",
     "output_type": "stream",
     "text": [
      "File Does not exists\n"
     ]
    }
   ],
   "source": [
    "import os\n",
    "if os.path.exists(\"not.txt\"):\n",
    "    os.remove(\"not.txt\")\n",
    "else:\n",
    "    print(\"File Does not exists\")"
   ]
  },
  {
   "cell_type": "raw",
   "id": "099b3270",
   "metadata": {},
   "source": [
    "To remove a folder\n",
    "use os.rmdir(\") to remove\n",
    "It only remove empty folder"
   ]
  },
  {
   "cell_type": "code",
   "execution_count": 47,
   "id": "364bc111",
   "metadata": {},
   "outputs": [],
   "source": [
    "import os\n",
    "os.rmdir(\"R\")"
   ]
  },
  {
   "cell_type": "code",
   "execution_count": 49,
   "id": "0408c9c7",
   "metadata": {},
   "outputs": [
    {
     "name": "stdout",
     "output_type": "stream",
     "text": [
      "Folder Does not exists\n"
     ]
    }
   ],
   "source": [
    "import os\n",
    "if os.path.exists(\"R\"):\n",
    "    os.remove(\"R\")\n",
    "else:\n",
    "    print(\"Folder Does not exists\")"
   ]
  },
  {
   "cell_type": "raw",
   "id": "2d91e215",
   "metadata": {},
   "source": [
    "cd stands for change directory\n",
    "cd.. \"come back one by one\"\n",
    "cd/.. \"we can come on direct c prompt\"\n",
    "pushd D: change the directory to D (D Drive)\n"
   ]
  },
  {
   "cell_type": "code",
   "execution_count": null,
   "id": "4cd4bac3",
   "metadata": {},
   "outputs": [],
   "source": [
    "z = open(\"New\",\"r\")\n",
    "print(z.New())"
   ]
  },
  {
   "cell_type": "code",
   "execution_count": null,
   "id": "704efe2d",
   "metadata": {},
   "outputs": [],
   "source": [
    "z = open(\"New\",\"r\")\n",
    "print(z.read())\n",
    "try:\n",
    "    n = int(input(\"Enter Your Age  \"))\n",
    "    if n<=18:\n",
    "        print('Not Eligible')\n",
    "    else:\n",
    "        print('Eligible')\n",
    "except ValueError:\n",
    "    print('Not Allowed , Only Numeric ')\n",
    "finally:\n",
    "    print('Thank You')\n",
    "    "
   ]
  },
  {
   "cell_type": "code",
   "execution_count": null,
   "id": "6c43892a",
   "metadata": {},
   "outputs": [],
   "source": [
    "z = open(\"New\",\"r\")\n",
    "print(z.read())\n",
    "try:\n",
    "    n = int(input(\"Enter Any Number  \"))\n",
    "    if n%2==0:\n",
    "        print('Even')\n",
    "    else:\n",
    "        print('Odd')\n",
    "except ValueError:\n",
    "    print('Not Allowed , Only Numeric ')\n",
    "finally:\n",
    "    print('Please study')\n",
    "   \n",
    "    \n",
    "    "
   ]
  },
  {
   "cell_type": "code",
   "execution_count": null,
   "id": "c0ccb391",
   "metadata": {},
   "outputs": [],
   "source": [
    " t=int(input('Enter Any Number  '))\n",
    "    for i in range(1, 11):\n",
    "        print(t*i)     "
   ]
  },
  {
   "cell_type": "code",
   "execution_count": null,
   "id": "d45f7871",
   "metadata": {},
   "outputs": [],
   "source": []
  }
 ],
 "metadata": {
  "kernelspec": {
   "display_name": "Python 3 (ipykernel)",
   "language": "python",
   "name": "python3"
  },
  "language_info": {
   "codemirror_mode": {
    "name": "ipython",
    "version": 3
   },
   "file_extension": ".py",
   "mimetype": "text/x-python",
   "name": "python",
   "nbconvert_exporter": "python",
   "pygments_lexer": "ipython3",
   "version": "3.10.2"
  }
 },
 "nbformat": 4,
 "nbformat_minor": 5
}
